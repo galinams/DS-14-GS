{
 "cells": [
  {
   "cell_type": "markdown",
   "metadata": {},
   "source": [
    "# INTRODUCTION TO REGRESSION ANALYSIS"
   ]
  },
  {
   "cell_type": "markdown",
   "metadata": {},
   "source": [
    "# DO WORK\n",
    "When you come to class:\n",
    "- Run ```git pull```\n",
    "- Open jupyter notebook in the DC-DC-14 folder\n",
    "- Open DS-DC-14_06_intro_to_regression_analysis (remember to copy and rename to avoid merge conflict)\n",
    "- run ```conda install seaborn``` \n",
    "  - if you haven't already"
   ]
  },
  {
   "cell_type": "markdown",
   "metadata": {},
   "source": [
    "# LEARNING OBJECTIVES\n",
    "\n",
    "After this lesson, you will be able to:\n",
    "\n",
    "- Define data modeling and simple linear regression\n",
    "- Build a linear regression model using a dataset that meets the linearity assumption using the sci-kit learn library\n",
    "- Understand and identify multicollinearity in a multiple regression.\n"
   ]
  },
  {
   "cell_type": "markdown",
   "metadata": {},
   "source": [
    "# STUDENT PRE-WORK\n",
    "\n",
    "Before this lesson, you should already be able to:\n",
    "\n",
    "- Effectively show correlations between an independent variable x and a dependent variable y\n",
    "- Be familiar with the get_dummies function in pandas\n",
    "- Understand the difference between vectors, matrices, Series, and DataFrames\n",
    "- Understand the concepts of outliers and distance.\n",
    "- Be able to interpret p values and confidence intervals\n"
   ]
  },
  {
   "cell_type": "markdown",
   "metadata": {},
   "source": [
    "## POSSIBLE CONCERNS\n",
    "**7 days until we pick our datasets and questions? Will we be ready??!**\n",
    "\n",
    "- 7 days (minus prep time) to have 3 ideas; You don't have to pick one just yet\n",
    "  - That will be by lesson 14 (about 4 weeks from now), but I encourage you to get a headstart\n",
    "- By the end of today's class you would have gone through the data science workflow once aside from model evaluation. From here on out we will cover special cases, refine our understanding of the process, and improve our skills with our toolkit.\n",
    "\n",
    "**We don't know what models are available, how can we choose data?**\n",
    "- If you are looking at predictive analytics, all models follow a similar scheme. X predicts Y where X is one or more explanatory variables and Y is one or more outcomes. You can resolve the specifics later. Even if you know all the possible models you would have trouble predicting which ones you would end up with at the end of your project.\n",
    "- Generally, model selection is much simpler than the research design, which is just a process of twisting a question to fit this kind of X predicts Y format.\n",
    "\n",
    "**What if I don't want to focus on predictive analytics?**\n",
    "- Come talk to John and I\n",
    "- **Causal/Impact Analysis**: You probably don't have enough time in the class to get this right unless you redo a well known experiment or study using their data\n",
    "- **Text/Image data**: This is predictive, we'll help you get a head start\n",
    "- **Webscraping**: This can be predictive, we'll help you get a head start and encourage you to respect legal boundaries\n",
    "- **Webapp**: This can be predictive, we'll help you get a head start\n",
    "- **Unsupervised learning**: Maybe. It's hard to get a concrete direction with kind of project since it resembles exploratory data analysis and we require a bit more than just exploratory data analysis\n",
    "- **Optimization**: This would be really cool and something I'm fond of, but we don't cover it in class and I would have to clear it with some GA staff.\n",
    "- Specialized ML topics such as Market Basket Analysis, Sentiment Analysis, Recommendation Engines, Anomaly Detection, etc: Generally, are in the clear, but we can only help in a limited capacity\n",
    "\n",
    "**What are good criteria for picking a project**\n",
    "- Find something that has enough data, a few thousand rows of whatever quantity you are predicting (120 rows as an absolute minimum)\n",
    "- Find something that you think you'll love\n",
    "  - Even for portfolios \n",
    "    - It's easy to tell during an interview when someone was bored with their work\n",
    "    - Interviewer bias: It's easy to mistake passion for skill (skill might be less important anyway)\n",
    "    \n",
    "**I still can't get started**\n",
    "- http://www.kdnuggets.com/2015/09/questions-data-science-can-answer.html\n",
    "- https://www.kaggle.com/wiki/DataScienceUseCases\n",
    "- https://www.kaggle.com/wiki/PastSolutions"
   ]
  },
  {
   "cell_type": "markdown",
   "metadata": {},
   "source": [
    "## Where are we in the data science workflow?\n",
    "\n",
    "- Data has been **acquired** and **parsed**.\n",
    "\n",
    "- Today we’ll **refine** the data and **build** models.\n",
    "\n",
    "- We’ll also use plots to **represent** the results."
   ]
  },
  {
   "cell_type": "markdown",
   "metadata": {},
   "source": [
    "# DATA MODELING\n",
    "\n",
    "In general while modeling we work with **Y**, our **outcomes**, and **X** our **features/predictors**\n",
    "\n",
    "All the models we will use follow this pattern:\n",
    "\n",
    "$$Y = f(X) + \\epsilon$$\n",
    "\n",
    "$f$ is the model, which takes a a set of values in X and predicts one or more outcomes in Y\n",
    "\n",
    "$\\epsilon$ Represents the error, our whatever our model fails to explain. The distance between our predictions and data"
   ]
  },
  {
   "cell_type": "markdown",
   "metadata": {},
   "source": [
    "# SIMPLE LINEAR REGRESSION (10 mins)\n",
    "Objective: Define Linear Regression\n",
    "\n",
    "It starts with a simple correlation\n",
    "\n",
    "A linear regression is an explanation of a continuous variable given a series of independent variables. In it's simplest form, a linear regression reminds us of a basic algebraic function - a line of best fit:\n",
    "\n",
    "$$y = mx + b$$"
   ]
  },
  {
   "cell_type": "markdown",
   "metadata": {},
   "source": [
    "However, the power of a linear regression is that we can use linear algebra to explain multiple x's together in order to explain y:\n",
    "\n",
    "$$y = \\alpha + \\beta X + \\epsilon$$\n",
    "\n",
    "We used vector notation above, the big $X$ just means\n",
    "\n",
    "$$y = \\alpha + \\beta_1 x_1 + \\beta_2 x_2 + ... + \\epsilon$$\n",
    "\n",
    "$\\alpha$ is a constant that gives use the value of $y$ when $x$ is 0\n",
    "\n",
    "$\\beta$ is the slope that tells us how much $y$ increases for a unit increase in $X$\n",
    "\n",
    "$\\epsilon$ is the error term that tells us how far off from our prediction is from the y value\n",
    "\n",
    "**Our terminology is now:**\n",
    "\n",
    "Given a matrix X, their relative coefficients beta, and a y-intercept alpha, explain a dependent vector, y.\n",
    "\n",
    "or\n",
    "\n",
    "Given a set of features, their regression coefficients, and a constant, can we predict the outcome y?"
   ]
  },
  {
   "cell_type": "markdown",
   "metadata": {},
   "source": [
    "##### When should we use linear regression?\n",
    "- The data is normally distributed (but doesn't have to be)\n",
    "  - Our estimation becomes weaker when values are not normally distributed\n",
    "- The Xs significantly explain y (have low p-values)\n",
    "- The Xs are uncorrelated with each other (low multicollinearity)\n",
    "- We think the associations between y and X are linear or can be transformed to be linear (dependent on problem)\n",
    "  - There is some tolerance for outliers, we want the typical case to be linear, but there may be some exception that we can drop"
   ]
  },
  {
   "cell_type": "markdown",
   "metadata": {},
   "source": [
    "## KNOWLEDGE CHECK\n",
    "\n",
    "We want to see if we can predict the hourly temperate based on the hour of the day and the angle of the sun relative to the equator (Note: this angle changes VERY slowly through-out the year). Can we do a reasonable job using linear regression?"
   ]
  },
  {
   "cell_type": "markdown",
   "metadata": {},
   "source": [
    "# CODEALONG: REGRESSING AND NORMAL DISTRIBUTIONS \n",
    "\n",
    "Objective: Demonstrate how transformations can allow us to run linear models\n",
    "(10 mins)\n",
    "\n",
    "For example, let's look at explaining the relationship between an animal's body weight, and their brain weight."
   ]
  },
  {
   "cell_type": "code",
   "execution_count": 1,
   "metadata": {
    "collapsed": false
   },
   "outputs": [],
   "source": [
    "# Import libraries\n",
    "import numpy as np\n",
    "import pandas as pd\n",
    "from matplotlib import pyplot as plt\n",
    "import matplotlib\n",
    "import seaborn as sns\n",
    "\n",
    "%matplotlib inline \n",
    "# Larger plots by default\n",
    "matplotlib.rcParams['figure.figsize'] = (13.0, 10.0)"
   ]
  },
  {
   "cell_type": "code",
   "execution_count": 73,
   "metadata": {
    "collapsed": true
   },
   "outputs": [],
   "source": [
    "# Read in the mammal dataset, and drop missing data.\n",
    "mammals = pd.read_csv('assets/dataset/msleep/msleep.csv')"
   ]
  },
  {
   "cell_type": "code",
   "execution_count": 23,
   "metadata": {
    "collapsed": false
   },
   "outputs": [],
   "source": [
    "#Subset mammals to exclude missing rows and make a new copy of the DataFrame\n",
    "mammals1 = mammals[mammals.isnull() == False]\n",
    "# Look at the counterpart of isnull() we can just get .notnull() "
   ]
  },
  {
   "cell_type": "code",
   "execution_count": 3,
   "metadata": {
    "collapsed": false
   },
   "outputs": [
    {
     "data": {
      "text/plain": [
       "<matplotlib.axes._subplots.AxesSubplot at 0x1175fda10>"
      ]
     },
     "execution_count": 3,
     "metadata": {},
     "output_type": "execute_result"
    },
    {
     "data": {
      "image/png": "[encoded data removed]",
      "text/plain": [
       "<matplotlib.figure.Figure at 0x1175ed410>"
      ]
     },
     "metadata": {},
     "output_type": "display_data"
    }
   ],
   "source": [
    "#Create a matplotlib scatter plot with bodywt and brainwt\n",
    "mammals.plot(kind='scatter', x='bodywt', y='brainwt')"
   ]
  },
  {
   "cell_type": "code",
   "execution_count": 24,
   "metadata": {
    "collapsed": false
   },
   "outputs": [
    {
     "data": {
      "text/plain": [
       "name             0\n",
       "genus            0\n",
       "vore             7\n",
       "order            0\n",
       "conservation    29\n",
       "sleep_total      0\n",
       "sleep_rem       22\n",
       "sleep_cycle     51\n",
       "awake            0\n",
       "brainwt         27\n",
       "bodywt           0\n",
       "dtype: int64"
      ]
     },
     "execution_count": 24,
     "metadata": {},
     "output_type": "execute_result"
    }
   ],
   "source": [
    "mammals1.isnull().sum()"
   ]
  },
  {
   "cell_type": "markdown",
   "metadata": {},
   "source": [
    "In the plot, it's apparent that there is a relationship, but it doesn't look very strong and it does not seem very linear. Using the seaborn library, we can plot the linear regression fit with these two variables:"
   ]
  },
  {
   "cell_type": "code",
   "execution_count": 4,
   "metadata": {
    "collapsed": false
   },
   "outputs": [
    {
     "data": {
      "text/plain": [
       "<seaborn.axisgrid.FacetGrid at 0x103dc0c90>"
      ]
     },
     "execution_count": 4,
     "metadata": {},
     "output_type": "execute_result"
    },
    {
     "data": {
      "image/png": "[encoded data removed]",
      "text/plain": [
       "<matplotlib.figure.Figure at 0x1171ee410>"
      ]
     },
     "metadata": {},
     "output_type": "display_data"
    }
   ],
   "source": [
    "# Generate a plot of a single variable linear model of brain weight given body weightusing seaborn:\n",
    "sns.lmplot('bodywt', 'brainwt', mammals)"
   ]
  },
  {
   "cell_type": "markdown",
   "metadata": {},
   "source": [
    "**What's on the chart?**\n",
    "\n",
    "- The blue line is a line of best fit that tries to minimize the distance from each point\n",
    "- The light blue shading shows a 95% confidence interval for the best fit\n",
    "- In other words we are 95% confident that the best line to summarize the relationship falls in the shaded region"
   ]
  },
  {
   "cell_type": "markdown",
   "metadata": {},
   "source": [
    "**What is lmplot doing?**\n",
    "- The lmplot() function returns a straight line. That is why it is a linear solution. If we had multiple variables, the solution would be a linear plane (a line in multiple dimensions).\n",
    "\n",
    "- The linear solution does explain a portion of the data well, but because both \"bodywt\" and \"brainwt\" are log-log distributions, outliers effect the weight of the solution poorly. We can see this from the wide and inconsistently shaped confidence intervals that seaborn's lmplot generates.\n",
    "\n",
    "**What is a log-log relationship?**\n",
    "- It's when two variables are related through percentage change. In this case a unit percentage change in bodywt leads to a quantifiable percentage change in brainwt.\n",
    "\n",
    "**What is a log?**\n",
    "- It's a mathematical way of expressing magnitude. The logs of 10, 100, and 1000 are 1, 2 and 3. This also has a lot to do with percentages 1000% of 10 is 100, 1000% of 100 is 1000, and so forth. Google it! Here's a picture of a log: [log](https://upload.wikimedia.org/wikipedia/commons/4/4c/Cut_Log_with_Bowling_Ball_Pattern_on_Forest_Floor.JPG)\n",
    "\n",
    "**How do we know this is a log-log relationship?**\n",
    "- We had a hunch and inspected the chart ahead of time.\n",
    "- You can guess by looking at the proportion of data points near certain values, there are exponentially more point near 10 than near 1000"
   ]
  },
  {
   "cell_type": "code",
   "execution_count": 5,
   "metadata": {
    "collapsed": false
   },
   "outputs": [
    {
     "data": {
      "text/plain": [
       "<seaborn.axisgrid.JointGrid at 0x1174281d0>"
      ]
     },
     "execution_count": 5,
     "metadata": {},
     "output_type": "execute_result"
    },
    {
     "data": {
      "image/png": "[encoded data removed]",
      "text/plain": [
       "<matplotlib.figure.Figure at 0x117428250>"
      ]
     },
     "metadata": {},
     "output_type": "display_data"
    }
   ],
   "source": [
    "# Use seaborn to create a jointplot that combines histograms, a scatter plot, and a regression line\n",
    "sns.jointplot('bodywt', 'brainwt', mammals, kind='reg')"
   ]
  },
  {
   "cell_type": "markdown",
   "metadata": {},
   "source": [
    "## KNOWLEDGE CHECK\n",
    "\n",
    "- How much does brain weight increase for a 5000 unit increase in body weight?\n",
    "- What is the skewness of the the distributions like? Negative? Neutral? Positive?\n",
    "- We have a high correlation, .93, do you trust this?"
   ]
  },
  {
   "cell_type": "markdown",
   "metadata": {},
   "source": [
    "##### Because both values are a log-log distribution, some math properties allow us to transform them into normal distributions. Then, we can solve for the linear regression!"
   ]
  },
  {
   "cell_type": "code",
   "execution_count": 8,
   "metadata": {
    "collapsed": false
   },
   "outputs": [
    {
     "data": {
      "text/html": [
       "<div>\n",
       "<table border=\"1\" class=\"dataframe\">\n",
       "  <thead>\n",
       "    <tr style=\"text-align: right;\">\n",
       "      <th></th>\n",
       "      <th>name</th>\n",
       "      <th>genus</th>\n",
       "      <th>vore</th>\n",
       "      <th>order</th>\n",
       "      <th>conservation</th>\n",
       "      <th>sleep_total</th>\n",
       "      <th>sleep_rem</th>\n",
       "      <th>sleep_cycle</th>\n",
       "      <th>awake</th>\n",
       "      <th>brainwt</th>\n",
       "      <th>bodywt</th>\n",
       "    </tr>\n",
       "  </thead>\n",
       "  <tbody>\n",
       "    <tr>\n",
       "      <th>0</th>\n",
       "      <td>Cheetah</td>\n",
       "      <td>Acinonyx</td>\n",
       "      <td>carni</td>\n",
       "      <td>Carnivora</td>\n",
       "      <td>lc</td>\n",
       "      <td>12.1</td>\n",
       "      <td>NaN</td>\n",
       "      <td>NaN</td>\n",
       "      <td>11.9</td>\n",
       "      <td>NaN</td>\n",
       "      <td>50.000</td>\n",
       "    </tr>\n",
       "    <tr>\n",
       "      <th>1</th>\n",
       "      <td>Owl monkey</td>\n",
       "      <td>Aotus</td>\n",
       "      <td>omni</td>\n",
       "      <td>Primates</td>\n",
       "      <td>NaN</td>\n",
       "      <td>17.0</td>\n",
       "      <td>1.8</td>\n",
       "      <td>NaN</td>\n",
       "      <td>7.0</td>\n",
       "      <td>0.01550</td>\n",
       "      <td>0.480</td>\n",
       "    </tr>\n",
       "    <tr>\n",
       "      <th>2</th>\n",
       "      <td>Mountain beaver</td>\n",
       "      <td>Aplodontia</td>\n",
       "      <td>herbi</td>\n",
       "      <td>Rodentia</td>\n",
       "      <td>nt</td>\n",
       "      <td>14.4</td>\n",
       "      <td>2.4</td>\n",
       "      <td>NaN</td>\n",
       "      <td>9.6</td>\n",
       "      <td>NaN</td>\n",
       "      <td>1.350</td>\n",
       "    </tr>\n",
       "    <tr>\n",
       "      <th>3</th>\n",
       "      <td>Greater short-tailed shrew</td>\n",
       "      <td>Blarina</td>\n",
       "      <td>omni</td>\n",
       "      <td>Soricomorpha</td>\n",
       "      <td>lc</td>\n",
       "      <td>14.9</td>\n",
       "      <td>2.3</td>\n",
       "      <td>0.133333</td>\n",
       "      <td>9.1</td>\n",
       "      <td>0.00029</td>\n",
       "      <td>0.019</td>\n",
       "    </tr>\n",
       "    <tr>\n",
       "      <th>4</th>\n",
       "      <td>Cow</td>\n",
       "      <td>Bos</td>\n",
       "      <td>herbi</td>\n",
       "      <td>Artiodactyla</td>\n",
       "      <td>domesticated</td>\n",
       "      <td>4.0</td>\n",
       "      <td>0.7</td>\n",
       "      <td>0.666667</td>\n",
       "      <td>20.0</td>\n",
       "      <td>0.42300</td>\n",
       "      <td>600.000</td>\n",
       "    </tr>\n",
       "  </tbody>\n",
       "</table>\n",
       "</div>"
      ],
      "text/plain": [
       "                         name       genus   vore         order  conservation  \\\n",
       "0                     Cheetah    Acinonyx  carni     Carnivora            lc   \n",
       "1                  Owl monkey       Aotus   omni      Primates           NaN   \n",
       "2             Mountain beaver  Aplodontia  herbi      Rodentia            nt   \n",
       "3  Greater short-tailed shrew     Blarina   omni  Soricomorpha            lc   \n",
       "4                         Cow         Bos  herbi  Artiodactyla  domesticated   \n",
       "\n",
       "   sleep_total  sleep_rem  sleep_cycle  awake  brainwt   bodywt  \n",
       "0         12.1        NaN          NaN   11.9      NaN   50.000  \n",
       "1         17.0        1.8          NaN    7.0  0.01550    0.480  \n",
       "2         14.4        2.4          NaN    9.6      NaN    1.350  \n",
       "3         14.9        2.3     0.133333    9.1  0.00029    0.019  \n",
       "4          4.0        0.7     0.666667   20.0  0.42300  600.000  "
      ]
     },
     "execution_count": 8,
     "metadata": {},
     "output_type": "execute_result"
    }
   ],
   "source": [
    "mammals.head()"
   ]
  },
  {
   "cell_type": "code",
   "execution_count": 74,
   "metadata": {
    "collapsed": false
   },
   "outputs": [
    {
     "data": {
      "text/plain": [
       "<seaborn.axisgrid.FacetGrid at 0x11f380f50>"
      ]
     },
     "execution_count": 74,
     "metadata": {},
     "output_type": "execute_result"
    },
    {
     "data": {
      "image/png": "[encoded data removed]",
      "text/plain": [
       "<matplotlib.figure.Figure at 0x11f46f850>"
      ]
     },
     "metadata": {},
     "output_type": "display_data"
    }
   ],
   "source": [
    "# Create a new data set that converts all numeric variables (bodywt, brainwt) into log10\n",
    "log_mammals = mammals[['bodywt', 'brainwt', 'sleep_total']].apply(np.log10)\n",
    "\n",
    "# apply takes any function and runs it on every value vector/column in the DataFrame\n",
    "# There's a similar method for Series!\n",
    "\n",
    "# Generate a plot of a single variable linear model of brain weight given body weightusing seaborn:\n",
    "sns.lmplot('bodywt', 'brainwt', log_mammals)"
   ]
  },
  {
   "cell_type": "code",
   "execution_count": 10,
   "metadata": {
    "collapsed": true
   },
   "outputs": [],
   "source": [
    "log_mammals = mammals[['bodywt', 'brainwt']].apply(np.log10)"
   ]
  },
  {
   "cell_type": "code",
   "execution_count": 11,
   "metadata": {
    "collapsed": false
   },
   "outputs": [
    {
     "data": {
      "text/html": [
       "<div>\n",
       "<table border=\"1\" class=\"dataframe\">\n",
       "  <thead>\n",
       "    <tr style=\"text-align: right;\">\n",
       "      <th></th>\n",
       "      <th>bodywt</th>\n",
       "      <th>brainwt</th>\n",
       "    </tr>\n",
       "  </thead>\n",
       "  <tbody>\n",
       "    <tr>\n",
       "      <th>0</th>\n",
       "      <td>1.698970</td>\n",
       "      <td>NaN</td>\n",
       "    </tr>\n",
       "    <tr>\n",
       "      <th>1</th>\n",
       "      <td>-0.318759</td>\n",
       "      <td>-1.809668</td>\n",
       "    </tr>\n",
       "    <tr>\n",
       "      <th>2</th>\n",
       "      <td>0.130334</td>\n",
       "      <td>NaN</td>\n",
       "    </tr>\n",
       "    <tr>\n",
       "      <th>3</th>\n",
       "      <td>-1.721246</td>\n",
       "      <td>-3.537602</td>\n",
       "    </tr>\n",
       "    <tr>\n",
       "      <th>4</th>\n",
       "      <td>2.778151</td>\n",
       "      <td>-0.373660</td>\n",
       "    </tr>\n",
       "  </tbody>\n",
       "</table>\n",
       "</div>"
      ],
      "text/plain": [
       "     bodywt   brainwt\n",
       "0  1.698970       NaN\n",
       "1 -0.318759 -1.809668\n",
       "2  0.130334       NaN\n",
       "3 -1.721246 -3.537602\n",
       "4  2.778151 -0.373660"
      ]
     },
     "execution_count": 11,
     "metadata": {},
     "output_type": "execute_result"
    }
   ],
   "source": [
    "log_mammals.head()"
   ]
  },
  {
   "cell_type": "code",
   "execution_count": 13,
   "metadata": {
    "collapsed": false
   },
   "outputs": [
    {
     "data": {
      "text/plain": [
       "<seaborn.axisgrid.JointGrid at 0x11ac9b1d0>"
      ]
     },
     "execution_count": 13,
     "metadata": {},
     "output_type": "execute_result"
    },
    {
     "data": {
      "image/png": "[encoded data removed]",
      "text/plain": [
       "<matplotlib.figure.Figure at 0x11ac9b210>"
      ]
     },
     "metadata": {},
     "output_type": "display_data"
    }
   ],
   "source": [
    "#Plot another jointplot to look at the new distributions\n",
    "sns.jointplot('bodywt', 'brainwt', log_mammals, kind='reg')"
   ]
  },
  {
   "cell_type": "markdown",
   "metadata": {},
   "source": [
    "##### This is WAY better\n",
    "- Notice the narrow confidence interval\n",
    "- No major outliers either\n",
    "\n",
    "##### Aren't we changing our data though?\n",
    "Sort of, but it's a simple mathematical relationship that we can always change back. It's important that we correctly interperet the relationship, but the integrity is preserved\n",
    "$$x = log(10^X)$$\n",
    "$$x = 10^{log(X)}$$\n",
    "\n",
    "##### Can a model figure this out for us?\n",
    "\n",
    "- Some can\n",
    "- However, they are more sophisticated and harder to interperet so there's a trade-off you have to make between being able to read your associations and having accurate predictions\n",
    "- A more common approach in machine learning is to throw in several transformations and have the models pick which transformation to keep\n",
    "- This same approach is generally frowned upon in causal work because it makes your coefficients innaccurate"
   ]
  },
  {
   "cell_type": "markdown",
   "metadata": {},
   "source": [
    "## KNOWLEDGE CHECK: Class Challenge\n",
    "\n",
    "How in the world do interpret that plot? What is the relationship between body weight and brain weight? \n",
    "\n",
    "Even though we changed the way the data was shaped, this is still a linear result: it's just linear in the log10 of the data, instead of in the data's natural state."
   ]
  },
  {
   "cell_type": "markdown",
   "metadata": {},
   "source": [
    "# PAIR PROGRAMMING: USING SEABORN TO GENERATE SIMPLE LINEAR MODEL PLOTS \n",
    "Objective: Practice using apply with DataFrames and explore log transforms\n",
    "(10 mins)\n",
    "\n",
    "Update and complete the code below to use lmplot and display correlations between body weight and two dependent variables: sleep_rem and awake."
   ]
  },
  {
   "cell_type": "code",
   "execution_count": 33,
   "metadata": {
    "collapsed": false
   },
   "outputs": [
    {
     "data": {
      "text/plain": [
       "<seaborn.axisgrid.FacetGrid at 0x11f0ed090>"
      ]
     },
     "execution_count": 33,
     "metadata": {},
     "output_type": "execute_result"
    },
    {
     "data": {
      "image/png": "[encoded data removed]",
      "text/plain": [
       "<matplotlib.figure.Figure at 0x11c556f50>"
      ]
     },
     "metadata": {},
     "output_type": "display_data"
    },
    {
     "data": {
      "image/png": "[encoded data removed]",
      "text/plain": [
       "<matplotlib.figure.Figure at 0x11be9fc90>"
      ]
     },
     "metadata": {},
     "output_type": "display_data"
    },
    {
     "data": {
      "image/png": "[encoded data removed]",
      "text/plain": [
       "<matplotlib.figure.Figure at 0x11ecb9590>"
      ]
     },
     "metadata": {},
     "output_type": "display_data"
    },
    {
     "data": {
      "image/png": "[encoded data removed]",
      "text/plain": [
       "<matplotlib.figure.Figure at 0x11ef76210>"
      ]
     },
     "metadata": {},
     "output_type": "display_data"
    },
    {
     "data": {
      "image/png": "[encoded data removed]",
      "text/plain": [
       "<matplotlib.figure.Figure at 0x11f01e510>"
      ]
     },
     "metadata": {},
     "output_type": "display_data"
    },
    {
     "data": {
      "image/png": "[encoded data removed]",
      "text/plain": [
       "<matplotlib.figure.Figure at 0x11f0e4fd0>"
      ]
     },
     "metadata": {},
     "output_type": "display_data"
    },
    {
     "data": {
      "image/png": "[encoded data removed]",
      "text/plain": [
       "<matplotlib.figure.Figure at 0x11f187850>"
      ]
     },
     "metadata": {},
     "output_type": "display_data"
    },
    {
     "data": {
      "image/png": "[encoded data removed]",
      "text/plain": [
       "<matplotlib.figure.Figure at 0x11f0f6dd0>"
      ]
     },
     "metadata": {},
     "output_type": "display_data"
    }
   ],
   "source": [
    "log_columns = ['bodywt', 'brainwt', 'sleep_rem', 'awake']  # any others?\n",
    "log_mammals = mammals.copy() # This is just to make sure that log_mammals does not modify mammals\n",
    "log_mammals[log_columns] = log_mammals[log_columns].apply(np.log10)\n",
    "\n",
    "# Complete below for sleep_rem and awake as a y, with variables you've already used as x.\n",
    "sns.jointplot('bodywt', 'sleep_rem', mammals, kind='reg')\n",
    "sns.jointplot('bodywt', 'sleep_rem', log_mammals, kind='reg')\n",
    "sns.lmplot('bodywt', 'awake', mammals)\n",
    "sns.lmplot('bodywt', 'awake', log_mammals)\n",
    "sns.lmplot('brainwt', 'sleep_rem', mammals)\n",
    "sns.lmplot('brainwt', 'sleep_rem', log_mammals)\n",
    "sns.lmplot('brainwt', 'awake', mammals)\n",
    "sns.lmplot('brainwt', 'awake', log_mammals)"
   ]
  },
  {
   "cell_type": "code",
   "execution_count": 25,
   "metadata": {
    "collapsed": false
   },
   "outputs": [
    {
     "data": {
      "text/html": [
       "<div>\n",
       "<table border=\"1\" class=\"dataframe\">\n",
       "  <thead>\n",
       "    <tr style=\"text-align: right;\">\n",
       "      <th></th>\n",
       "      <th>name</th>\n",
       "      <th>genus</th>\n",
       "      <th>vore</th>\n",
       "      <th>order</th>\n",
       "      <th>conservation</th>\n",
       "      <th>sleep_total</th>\n",
       "      <th>sleep_rem</th>\n",
       "      <th>sleep_cycle</th>\n",
       "      <th>awake</th>\n",
       "      <th>brainwt</th>\n",
       "      <th>bodywt</th>\n",
       "    </tr>\n",
       "  </thead>\n",
       "  <tbody>\n",
       "    <tr>\n",
       "      <th>0</th>\n",
       "      <td>Cheetah</td>\n",
       "      <td>Acinonyx</td>\n",
       "      <td>carni</td>\n",
       "      <td>Carnivora</td>\n",
       "      <td>lc</td>\n",
       "      <td>12.1</td>\n",
       "      <td>NaN</td>\n",
       "      <td>NaN</td>\n",
       "      <td>11.9</td>\n",
       "      <td>NaN</td>\n",
       "      <td>50.0</td>\n",
       "    </tr>\n",
       "  </tbody>\n",
       "</table>\n",
       "</div>"
      ],
      "text/plain": [
       "      name     genus   vore      order conservation  sleep_total  sleep_rem  \\\n",
       "0  Cheetah  Acinonyx  carni  Carnivora           lc         12.1        NaN   \n",
       "\n",
       "   sleep_cycle  awake  brainwt  bodywt  \n",
       "0          NaN   11.9      NaN    50.0  "
      ]
     },
     "execution_count": 25,
     "metadata": {},
     "output_type": "execute_result"
    }
   ],
   "source": [
    "mammals.head(1)"
   ]
  },
  {
   "cell_type": "markdown",
   "metadata": {},
   "source": [
    "# SIMPLE REGRESSION ANALYSIS IN SKLEARN (10 mins)"
   ]
  },
  {
   "cell_type": "markdown",
   "metadata": {},
   "source": [
    "#### Defining model objects\n",
    "\n",
    "When modeling with sklearn, you'll use the following base principals.\n",
    "\n",
    "- All sklearn estimators/models follow the same pattern of fit and predict \n",
    "  - This allows you to easily change estimators without changing much code.\n",
    "- All estimators take a matrix/DataFrame, X, with a few variations that we'll cover in class\n",
    "- Many estimators also take a vector, y, when working on a supervised machine learning problem. \n",
    "- Regressions are supervised learning because we have an outcome, y, given X.\n",
    "- All estimators have parameters that modify the behavior of the estimator. In machine learning terms, we call these hyper-parameters."
   ]
  },
  {
   "cell_type": "markdown",
   "metadata": {},
   "source": [
    "**Generate an instance of an estimator class**\n",
    "\n",
    "estimator = base_models.AnySKLearnObject()\n",
    "\n",
    "**Fit your data**\n",
    "\n",
    "estimator.fit(X, y)\n",
    "\n",
    "**Score it with the default scoring method (recommended to use the metrics module in the future)**\n",
    "\n",
    "estimator.score(X, y)\n",
    "\n",
    "**Predict a new set of data**\n",
    "\n",
    "estimator.predict(new_X)\n",
    "\n",
    "**Transform a new X if changes were made to the original X while fitting**\n",
    "\n",
    "estimator.transform(new_X)"
   ]
  },
  {
   "cell_type": "markdown",
   "metadata": {},
   "source": [
    "For today, our LinearRegression() does not have a transform function... but some do! We will not be using it today.\n",
    "\n",
    "With this information, we can build a simple process for linear regressions that take advantage of a feature_selection function and the linear regression estimator, as well as get familiar with how to implement parameters."
   ]
  },
  {
   "cell_type": "markdown",
   "metadata": {},
   "source": [
    "## KNOWLEDGE CHECK\n",
    "\n",
    "Look at the .fit() method. What does it do? Do we always need to pass it a y column/outcome? "
   ]
  },
  {
   "cell_type": "markdown",
   "metadata": {},
   "source": [
    "# CODEALONG: SIGNIFICANCE IS KEY \n",
    "Objective: Get exposed to sklearn syntax and expand our Python knowledge (20 mins)\n",
    "\n",
    "With the sklearn library, we can generate an sklearn model object and explore important evaluation values for linear regression."
   ]
  },
  {
   "cell_type": "code",
   "execution_count": 34,
   "metadata": {
    "collapsed": true
   },
   "outputs": [],
   "source": [
    "# Import sklearn\n",
    "from sklearn import feature_selection, linear_model"
   ]
  },
  {
   "cell_type": "code",
   "execution_count": 39,
   "metadata": {
    "collapsed": false
   },
   "outputs": [
    {
     "data": {
      "text/plain": [
       "name             0\n",
       "genus            0\n",
       "vore             7\n",
       "order            0\n",
       "conservation    29\n",
       "sleep_total      0\n",
       "sleep_rem       22\n",
       "sleep_cycle     51\n",
       "awake            0\n",
       "brainwt         27\n",
       "bodywt           0\n",
       "dtype: int64"
      ]
     },
     "execution_count": 39,
     "metadata": {},
     "output_type": "execute_result"
    }
   ],
   "source": [
    "mammals.isnull().sum()"
   ]
  },
  {
   "cell_type": "code",
   "execution_count": 46,
   "metadata": {
    "collapsed": false
   },
   "outputs": [],
   "source": [
    "mammals = mammals.dropna(subset=['conservation', 'sleep_rem', 'sleep_cycle', 'brainwt', 'vore'])"
   ]
  },
  {
   "cell_type": "code",
   "execution_count": 47,
   "metadata": {
    "collapsed": true
   },
   "outputs": [],
   "source": [
    "# Create a DataFrame, X, with bodywt and Series, y, with brainwt\n",
    "X = mammals[['bodywt']]\n",
    "y = mammals['brainwt']"
   ]
  },
  {
   "cell_type": "code",
   "execution_count": 48,
   "metadata": {
    "collapsed": true
   },
   "outputs": [],
   "source": [
    "# Initialize a linear regression object\n",
    "lm = linear_model.LinearRegression()"
   ]
  },
  {
   "cell_type": "code",
   "execution_count": 49,
   "metadata": {
    "collapsed": false
   },
   "outputs": [
    {
     "data": {
      "text/plain": [
       "LinearRegression(copy_X=True, fit_intercept=True, n_jobs=1, normalize=False)"
      ]
     },
     "execution_count": 49,
     "metadata": {},
     "output_type": "execute_result"
    }
   ],
   "source": [
    "# Fit the linear regression object so we have estimates of coefficients\n",
    "lm.fit(X, y)"
   ]
  },
  {
   "cell_type": "code",
   "execution_count": 50,
   "metadata": {
    "collapsed": false
   },
   "outputs": [
    {
     "data": {
      "text/plain": [
       "array([  3.65317503e-10])"
      ]
     },
     "execution_count": 50,
     "metadata": {},
     "output_type": "execute_result"
    }
   ],
   "source": [
    "# Get the pvalue of X given y. Ignore f-stat for now.\n",
    "feature_selection.f_regression(X, y)[1]\n",
    "# What? Why is that so hard? \n",
    "# As I've mentioned machine learning doesn't often spend much time looking at individual relationships\n",
    "# So sklearn appropriately doesn't give a shortcut of p-values\n",
    "# It just happens that we have an extra function to compute p-values as an extension of previous lessons"
   ]
  },
  {
   "cell_type": "code",
   "execution_count": 52,
   "metadata": {
    "collapsed": false
   },
   "outputs": [
    {
     "data": {
      "text/plain": [
       "array([ 0.00092211])"
      ]
     },
     "execution_count": 52,
     "metadata": {},
     "output_type": "execute_result"
    }
   ],
   "source": [
    "# Get coefficients\n",
    "lm.coef_"
   ]
  },
  {
   "cell_type": "code",
   "execution_count": 53,
   "metadata": {
    "collapsed": false
   },
   "outputs": [
    {
     "data": {
      "text/plain": [
       "0.012321330710493433"
      ]
     },
     "execution_count": 53,
     "metadata": {},
     "output_type": "execute_result"
    }
   ],
   "source": [
    "# Get the constant/coefficient?\n",
    "lm.intercept_"
   ]
  },
  {
   "cell_type": "markdown",
   "metadata": {},
   "source": [
    "**Did you notice how those commands had an underscore at the end?**\n",
    "- This is a convention in sklearn for parameters that have been estimated by the algorithm\n",
    "- These are NOT hyper-parameters"
   ]
  },
  {
   "cell_type": "code",
   "execution_count": 54,
   "metadata": {
    "collapsed": false
   },
   "outputs": [
    {
     "data": {
      "text/plain": [
       "0.89278383794454741"
      ]
     },
     "execution_count": 54,
     "metadata": {},
     "output_type": "execute_result"
    }
   ],
   "source": [
    "# Print the model R-squared\n",
    "lm.score(X, y)"
   ]
  },
  {
   "cell_type": "markdown",
   "metadata": {},
   "source": [
    "R-squared also know as the coefficient of determination is one type of evaluation method. It roughly asks \"What percentage of variation in our data can we explain using our model?\"\n",
    "\n",
    "(We won't go into it until later, but here are some notes on what it means, you may need to reread it 4 or 5 times.)\n",
    "\n",
    "$$R^2 = \\frac{SS_{reg}}{SS_{tot}} = \\frac{\\sum{(\\hat{y}_i - \\bar{y})^2}}{\\sum{(y_i - \\bar{y})^2}}$$\n",
    "\n",
    "You can also ask \"what percent of variation in our data is left unexplained?\"\n",
    "$$\\frac{SS_{res}}{SS_{tot}}$$\n",
    "\n",
    "It should be apparent that R-squared can also be written as:\n",
    "$$R^2 = \\frac{SS_{res}}{SS_{tot}} = \\frac{\\sum{(y_i - \\hat{y}_i)^2}}{\\sum{(y_i - \\bar{y})^2}}$$\n",
    "\n",
    "Let's break these down (we will take a closer look in another class)\n",
    "\n",
    "The residual sum of squares measures total distance between our predictions and the actual values in the data.\n",
    "\n",
    "$$SS_{res} = \\sum{(y_i - \\hat{y}_i)^2}$$\n",
    "\n",
    "The regression sum of squares measures the dispersion of our predictions, kind of like the variance or standard deviation.\n",
    "\n",
    "$$SS_{reg} = \\sum{(\\hat{y}_i - \\bar{y})^2}$$\n",
    "\n",
    "The total sum of squares measure the dispersion of our outcome variable, again, a lot like variance of standard deviation\n",
    "$$SS_{tot} = \\sum{(y_i - \\bar{y})^2}$$\n",
    "\n",
    "**What do the y's mean?**\n",
    "\n",
    "$y_i$ refers to a single row in the outcome variable\n",
    "\n",
    "$\\hat{y}$ refers to a 'prediction' for y_i\n",
    "\n",
    "$\\bar{y}$ you should already know that this refers to the mean of outcome variable\n"
   ]
  },
  {
   "cell_type": "code",
   "execution_count": 55,
   "metadata": {
    "collapsed": true
   },
   "outputs": [],
   "source": [
    "# While we are at it, let's also calculate the residuals\n",
    "residuals = (y - lm.predict(X)).values"
   ]
  },
  {
   "cell_type": "code",
   "execution_count": 56,
   "metadata": {
    "collapsed": false
   },
   "outputs": [
    {
     "name": "stderr",
     "output_type": "stream",
     "text": [
      "/Users/amrutag/anaconda/lib/python2.7/site-packages/numpy/lib/function_base.py:564: VisibleDeprecationWarning: using a non-integer number instead of an integer will result in an error in the future\n",
      "  n = np.zeros(bins, ntype)\n",
      "/Users/amrutag/anaconda/lib/python2.7/site-packages/numpy/lib/function_base.py:611: VisibleDeprecationWarning: using a non-integer number instead of an integer will result in an error in the future\n",
      "  n += np.bincount(indices, weights=tmp_w, minlength=bins).astype(ntype)\n"
     ]
    },
    {
     "data": {
      "text/plain": [
       "(array([  1.,   1.,  15.,   2.,   1.]),\n",
       " array([-0.14258498, -0.0816157 , -0.02064642,  0.04032285,  0.10129213,\n",
       "         0.1622614 ]),\n",
       " <a list of 5 Patch objects>)"
      ]
     },
     "execution_count": 56,
     "metadata": {},
     "output_type": "execute_result"
    },
    {
     "data": {
      "image/png": "[encoded data removed]",
      "text/plain": [
       "<matplotlib.figure.Figure at 0x11ddc9b10>"
      ]
     },
     "metadata": {},
     "output_type": "display_data"
    }
   ],
   "source": [
    "# Let's also plot the residuals\n",
    "plt.figure()\n",
    "plt.hist(residuals, bins=np.ceil(np.sqrt(len(y))))"
   ]
  },
  {
   "cell_type": "markdown",
   "metadata": {},
   "source": [
    "## KNOWLEDGE CHECK\n",
    "- Approximately, what's our worst prediction? \n",
    "- How far off are we? What units are we using?"
   ]
  },
  {
   "cell_type": "markdown",
   "metadata": {},
   "source": [
    "## We are going to do that procedure many times, so let's make a Python function\n",
    "\n",
    "**When should I write functions?**\n",
    "- When you will repeat a procedure several times\n",
    "  - Saves time typing\n",
    "  - Prevents errors and typos\n",
    "  - DRY principle: Don't repeat yourself\n",
    "- When you need to make a piece of code easy to change\n",
    "  - Say we wanted to add another metric to our function?\n",
    "  - It's hard to go back and change something in 10 places\n",
    "  - When you write a function you only need to change it in one place\n",
    "  - Single Responsibility Principle: Every code block should have one responsibility, rephrased as every code block should have one reason to change.\n",
    "\n",
    "Hint: Don't anticipate these too much, just rewrite some code to make things easier if you notice that the code will soon make things difficult"
   ]
  },
  {
   "cell_type": "code",
   "execution_count": 57,
   "metadata": {
    "collapsed": true
   },
   "outputs": [],
   "source": [
    "def get_linear_model_metrics(X, y, algo):\n",
    "    # Get the pvalue of X given y. Ignore f-stat for now.\n",
    "    pvals = feature_selection.f_regression(X, y)[1]\n",
    "    # Start with an empty linear regression object\n",
    "    # .fit() runs the linear regression function on X and y\n",
    "    algo.fit(X,y)\n",
    "    residuals = (y-algo.predict(X)).values\n",
    "\n",
    "    # Print the necessary values\n",
    "    print 'P Values:', pvals\n",
    "    print 'Coefficients:', algo.coef_\n",
    "    print 'y-intercept:', algo.intercept_\n",
    "    print 'R-Squared:', algo.score(X,y)\n",
    "    plt.figure()\n",
    "    plt.hist(residuals, bins=np.ceil(np.sqrt(len(y))))\n",
    "\n",
    "    # Keep the model\n",
    "    return algo"
   ]
  },
  {
   "cell_type": "code",
   "execution_count": 58,
   "metadata": {
    "collapsed": false
   },
   "outputs": [
    {
     "name": "stdout",
     "output_type": "stream",
     "text": [
      "P Values: [  3.65317503e-10]\n",
      "Coefficients: [ 0.00092211]\n",
      "y-intercept: 0.0123213307105\n",
      "R-Squared: 0.892783837945\n"
     ]
    },
    {
     "data": {
      "image/png": "[encoded data removed]",
      "text/plain": [
       "<matplotlib.figure.Figure at 0x11d30bdd0>"
      ]
     },
     "metadata": {},
     "output_type": "display_data"
    }
   ],
   "source": [
    "X = mammals[['bodywt']]\n",
    "y = mammals['brainwt']\n",
    "lm = linear_model.LinearRegression()\n",
    "lm = get_linear_model_metrics(X, y, lm)"
   ]
  },
  {
   "cell_type": "code",
   "execution_count": 59,
   "metadata": {
    "collapsed": false
   },
   "outputs": [
    {
     "data": {
      "text/plain": [
       "LinearRegression(copy_X=True, fit_intercept=True, n_jobs=1, normalize=False)"
      ]
     },
     "execution_count": 59,
     "metadata": {},
     "output_type": "execute_result"
    }
   ],
   "source": [
    "lm"
   ]
  },
  {
   "cell_type": "markdown",
   "metadata": {},
   "source": [
    "## KNOWLEDGE CHECK: What does our ouput tell us?\n",
    "\n",
    "- The relationship between bodywt and brainwt isn't random (p value approaching 0)\n",
    "- The model explains, roughly, 87% of the variance of the dataset (the largest errors being in the large brain and body sizes)\n",
    "- With this current model, brainwt is roughly bodywt * 0.00096395\n",
    "- The residuals, or error in the prediction, is not normal, with outliers on the right. A better result with will show a more normally distributed error."
   ]
  },
  {
   "cell_type": "markdown",
   "metadata": {},
   "source": [
    "#### Evaluating Fit, Evaluating [Common] Sense\n",
    "\n",
    "Although we know there is a better solution to the model, we should evaluate some other sense things first relative to our domain knowledge and some statistics we may be aware of. \n",
    "\n",
    "For example, given this model, what is an animal's brainwt if their bodywt is 0?"
   ]
  },
  {
   "cell_type": "code",
   "execution_count": 60,
   "metadata": {
    "collapsed": false
   },
   "outputs": [
    {
     "name": "stdout",
     "output_type": "stream",
     "text": [
      "[ 0.01232133]\n"
     ]
    },
    {
     "name": "stderr",
     "output_type": "stream",
     "text": [
      "/Users/amrutag/anaconda/lib/python2.7/site-packages/sklearn/utils/validation.py:386: DeprecationWarning: Passing 1d arrays as data is deprecated in 0.17 and willraise ValueError in 0.19. Reshape your data either using X.reshape(-1, 1) if your data has a single feature or X.reshape(1, -1) if it contains a single sample.\n",
      "  DeprecationWarning)\n"
     ]
    }
   ],
   "source": [
    "# Run a prediction for a bodywt of 0\n",
    "print lm.predict([0])"
   ]
  },
  {
   "cell_type": "markdown",
   "metadata": {},
   "source": [
    "## KNOWLEDGE CHECK: What would we expect an animal's brainwt to be if their bodywt is 0?"
   ]
  },
  {
   "cell_type": "markdown",
   "metadata": {},
   "source": [
    "Consider it a test to the model. If an animal's body weights nothing, we expect their brain to be nonexistent. That given, we can improve the model by telling sklearn's LinearRegression object we do not want to fit a y intercept."
   ]
  },
  {
   "cell_type": "code",
   "execution_count": 61,
   "metadata": {
    "collapsed": false
   },
   "outputs": [
    {
     "name": "stdout",
     "output_type": "stream",
     "text": [
      "P Values: [  3.65317503e-10]\n",
      "Coefficients: [ 0.00094816]\n",
      "y-intercept: 0.0\n",
      "R-Squared: 0.88811036829\n",
      "[ 0.]\n"
     ]
    },
    {
     "data": {
      "image/png": "[encoded data removed]",
      "text/plain": [
       "<matplotlib.figure.Figure at 0x11ded4490>"
      ]
     },
     "metadata": {},
     "output_type": "display_data"
    }
   ],
   "source": [
    "lm = linear_model.LinearRegression(fit_intercept=False)\n",
    "lm = get_linear_model_metrics(X, y, lm)\n",
    "print lm.predict([[0]])"
   ]
  },
  {
   "cell_type": "markdown",
   "metadata": {},
   "source": [
    "Now, the model fits where brainwt = 0, bodywt = 0.\n",
    "\n",
    "Because we start at 0, the large outliers have a greater effect, so the coefficient has increased.\n",
    "\n",
    "Fitting the this linear assumption also explains slightly less of the variance."
   ]
  },
  {
   "cell_type": "markdown",
   "metadata": {},
   "source": [
    "## KNOWLEDGE CHECK: \n",
    "- Is this a better or worse model? \n",
    "- Why?"
   ]
  },
  {
   "cell_type": "markdown",
   "metadata": {},
   "source": [
    "# BREAK"
   ]
  },
  {
   "cell_type": "markdown",
   "metadata": {},
   "source": [
    "# PAIR PROGRAMMING: USING THE LINEAR REGRESSION OBJECT \n",
    "Objective: Practice Python and sklearn (we will see a lot more of both)\n",
    "(15 mins)\n",
    "\n",
    "We learned earlier that the the data in its current state does not allow for the best linear regression fit. With a partner, generate two more models using the log-transformed data to see how this transform changes the model's performance. Complete the following code to update X and y to match the log-transformed data. Complete the loop by setting the list to be one True and one False."
   ]
  },
  {
   "cell_type": "code",
   "execution_count": 76,
   "metadata": {
    "collapsed": false
   },
   "outputs": [
    {
     "data": {
      "text/html": [
       "<div>\n",
       "<table border=\"1\" class=\"dataframe\">\n",
       "  <thead>\n",
       "    <tr style=\"text-align: right;\">\n",
       "      <th></th>\n",
       "      <th>bodywt</th>\n",
       "      <th>brainwt</th>\n",
       "      <th>sleep_total</th>\n",
       "    </tr>\n",
       "  </thead>\n",
       "  <tbody>\n",
       "    <tr>\n",
       "      <th>0</th>\n",
       "      <td>1.698970</td>\n",
       "      <td>NaN</td>\n",
       "      <td>1.082785</td>\n",
       "    </tr>\n",
       "    <tr>\n",
       "      <th>1</th>\n",
       "      <td>-0.318759</td>\n",
       "      <td>-1.809668</td>\n",
       "      <td>1.230449</td>\n",
       "    </tr>\n",
       "    <tr>\n",
       "      <th>2</th>\n",
       "      <td>0.130334</td>\n",
       "      <td>NaN</td>\n",
       "      <td>1.158362</td>\n",
       "    </tr>\n",
       "    <tr>\n",
       "      <th>3</th>\n",
       "      <td>-1.721246</td>\n",
       "      <td>-3.537602</td>\n",
       "      <td>1.173186</td>\n",
       "    </tr>\n",
       "    <tr>\n",
       "      <th>4</th>\n",
       "      <td>2.778151</td>\n",
       "      <td>-0.373660</td>\n",
       "      <td>0.602060</td>\n",
       "    </tr>\n",
       "  </tbody>\n",
       "</table>\n",
       "</div>"
      ],
      "text/plain": [
       "     bodywt   brainwt  sleep_total\n",
       "0  1.698970       NaN     1.082785\n",
       "1 -0.318759 -1.809668     1.230449\n",
       "2  0.130334       NaN     1.158362\n",
       "3 -1.721246 -3.537602     1.173186\n",
       "4  2.778151 -0.373660     0.602060"
      ]
     },
     "execution_count": 76,
     "metadata": {},
     "output_type": "execute_result"
    }
   ],
   "source": [
    "log_mammals.head()"
   ]
  },
  {
   "cell_type": "code",
   "execution_count": 77,
   "metadata": {
    "collapsed": false
   },
   "outputs": [
    {
     "name": "stdout",
     "output_type": "stream",
     "text": [
      "y-intercept: True\n",
      "P Values: [  3.86236106e-08]\n",
      "Coefficients: [[-0.1039344]]\n",
      "y-intercept: [ 1.00142217]\n",
      "R-Squared: 0.431377503272\n",
      "\n",
      "y-intercept: False\n",
      "P Values: [  3.86236106e-08]\n",
      "Coefficients: [[ 0.09382033]]\n",
      "y-intercept: 0.0\n",
      "R-Squared: -19.1210386974\n"
     ]
    },
    {
     "name": "stderr",
     "output_type": "stream",
     "text": [
      "/Users/amrutag/anaconda/lib/python2.7/site-packages/sklearn/utils/validation.py:515: DataConversionWarning: A column-vector y was passed when a 1d array was expected. Please change the shape of y to (n_samples, ), for example using ravel().\n",
      "  y = column_or_1d(y, warn=True)\n",
      "/Users/amrutag/anaconda/lib/python2.7/site-packages/sklearn/utils/validation.py:515: DataConversionWarning: A column-vector y was passed when a 1d array was expected. Please change the shape of y to (n_samples, ), for example using ravel().\n",
      "  y = column_or_1d(y, warn=True)\n"
     ]
    },
    {
     "name": "stdout",
     "output_type": "stream",
     "text": [
      "\n"
     ]
    },
    {
     "data": {
      "image/png": "[encoded data removed]",
      "text/plain": [
       "<matplotlib.figure.Figure at 0x11f128110>"
      ]
     },
     "metadata": {},
     "output_type": "display_data"
    },
    {
     "data": {
      "image/png": "[encoded data removed]",
      "text/plain": [
       "<matplotlib.figure.Figure at 0x11f1a8790>"
      ]
     },
     "metadata": {},
     "output_type": "display_data"
    }
   ],
   "source": [
    "log_mammals = log_mammals.dropna(subset=['sleep_total', 'brainwt'])\n",
    "X = log_mammals[['bodywt']]\n",
    "y = log_mammals[['sleep_total']]\n",
    "loop = [True, False]\n",
    "for boolean in loop:\n",
    "    print 'y-intercept:', boolean\n",
    "    lm = linear_model.LinearRegression(fit_intercept=boolean)\n",
    "    get_linear_model_metrics(X, y, lm)\n",
    "    print"
   ]
  },
  {
   "cell_type": "code",
   "execution_count": 62,
   "metadata": {
    "collapsed": false
   },
   "outputs": [
    {
     "data": {
      "text/html": [
       "<div>\n",
       "<table border=\"1\" class=\"dataframe\">\n",
       "  <thead>\n",
       "    <tr style=\"text-align: right;\">\n",
       "      <th></th>\n",
       "      <th>name</th>\n",
       "      <th>genus</th>\n",
       "      <th>vore</th>\n",
       "      <th>order</th>\n",
       "      <th>conservation</th>\n",
       "      <th>sleep_total</th>\n",
       "      <th>sleep_rem</th>\n",
       "      <th>sleep_cycle</th>\n",
       "      <th>awake</th>\n",
       "      <th>brainwt</th>\n",
       "      <th>bodywt</th>\n",
       "    </tr>\n",
       "  </thead>\n",
       "  <tbody>\n",
       "    <tr>\n",
       "      <th>3</th>\n",
       "      <td>Greater short-tailed shrew</td>\n",
       "      <td>Blarina</td>\n",
       "      <td>omni</td>\n",
       "      <td>Soricomorpha</td>\n",
       "      <td>lc</td>\n",
       "      <td>14.9</td>\n",
       "      <td>2.3</td>\n",
       "      <td>0.133333</td>\n",
       "      <td>9.1</td>\n",
       "      <td>0.00029</td>\n",
       "      <td>0.019</td>\n",
       "    </tr>\n",
       "  </tbody>\n",
       "</table>\n",
       "</div>"
      ],
      "text/plain": [
       "                         name    genus  vore         order conservation  \\\n",
       "3  Greater short-tailed shrew  Blarina  omni  Soricomorpha           lc   \n",
       "\n",
       "   sleep_total  sleep_rem  sleep_cycle  awake  brainwt  bodywt  \n",
       "3         14.9        2.3     0.133333    9.1  0.00029   0.019  "
      ]
     },
     "execution_count": 62,
     "metadata": {},
     "output_type": "execute_result"
    }
   ],
   "source": [
    "mammals.head(1)"
   ]
  },
  {
   "cell_type": "markdown",
   "metadata": {},
   "source": [
    "## KNOWLEDGE CHECK \n",
    "- Out of the four, which model performed the best? The worst? Why?"
   ]
  },
  {
   "cell_type": "markdown",
   "metadata": {},
   "source": [
    "#### REAL WORLD APPLICATION: INTERPRETING AND PRESENTING MODEL RESULTS\n",
    "I don't have to explain why correct intepretation of a model is important and why it is important to present your results, but I can warn you of a common situation.\n",
    "\n",
    "It should be clear that reading a model can be somewhat complicated especially if it has many transformations in it. You will often need to discuss the model with someone else before making a more formal presentation. Even if they are fully capable of interpreting a model, that person will often ask \"What does this mean?\"\n",
    "\n",
    "Resist the temptation to guess and resist make interpretations on the spot, you'll probably make a mistake and have the more awkward job of correcting yourself later. \n",
    "\n",
    "Either work out interpretations ahead of time on a piece of paper or say that you haven't yet had a chance to carefully consider certain aspects of the model and would feel better working it out on paper."
   ]
  },
  {
   "cell_type": "markdown",
   "metadata": {},
   "source": [
    "# INDEPENDENT PRACTICE: BASE LINEAR REGRESSION CLASSES \n",
    "Objective: See how sklearn simplifies model selection and check understanding of previous syntax\n",
    "(10 minutes)"
   ]
  },
  {
   "cell_type": "markdown",
   "metadata": {},
   "source": [
    "We'll go into further detail on other regression techniques, but for now, experiment with the model evaluation function we have (get_linear_model_metrics) with the following sklearn estimator classes to show how easy it is to implement different estimators:\n",
    "\n",
    "- linear_model.Lasso()\n",
    "- linear_model.Ridge()\n",
    "- linear_model.ElasticNet()\n",
    "\n",
    "Re-run the fit predict procedure that we've done using the new classes rather than linear_model.LinearRegression"
   ]
  },
  {
   "cell_type": "markdown",
   "metadata": {},
   "source": [
    "## KNOWLEDGE CHECK\n",
    "- Did the implementation run without error? \n",
    "- What were the r-squared outputs for each estimator?"
   ]
  },
  {
   "cell_type": "markdown",
   "metadata": {},
   "source": [
    "# BREAK"
   ]
  },
  {
   "cell_type": "markdown",
   "metadata": {},
   "source": [
    "# MULTIPLE REGRESSION ANALYSIS\n",
    "Objective: Define Multiple Regression, multicolinearity, and explore the effects of multicolinearity\n",
    " (10 minutes)"
   ]
  },
  {
   "cell_type": "markdown",
   "metadata": {},
   "source": [
    "In the previous example, one variable explained the variance of another; however, more often than not, we will need multiple variables. \n",
    "\n",
    "- For example, a house's price may be best measured by square feet, but a lot of other variables play a vital role: bedrooms, bathrooms, location, appliances, etc. \n",
    "\n",
    "- For a linear regression, we want these variables to be largely independent of each other, but all of them should help explain the y variable.\n",
    "\n",
    "We'll work with bike-share data to showcase what this means and to explain a concept called multicollinearity."
   ]
  },
  {
   "cell_type": "code",
   "execution_count": 78,
   "metadata": {
    "collapsed": false
   },
   "outputs": [
    {
     "data": {
      "text/html": [
       "<div>\n",
       "<table border=\"1\" class=\"dataframe\">\n",
       "  <thead>\n",
       "    <tr style=\"text-align: right;\">\n",
       "      <th></th>\n",
       "      <th>instant</th>\n",
       "      <th>season</th>\n",
       "      <th>yr</th>\n",
       "      <th>mnth</th>\n",
       "      <th>hr</th>\n",
       "      <th>holiday</th>\n",
       "      <th>weekday</th>\n",
       "      <th>workingday</th>\n",
       "      <th>weathersit</th>\n",
       "      <th>temp</th>\n",
       "      <th>atemp</th>\n",
       "      <th>hum</th>\n",
       "      <th>windspeed</th>\n",
       "      <th>casual</th>\n",
       "      <th>registered</th>\n",
       "      <th>cnt</th>\n",
       "    </tr>\n",
       "  </thead>\n",
       "  <tbody>\n",
       "    <tr>\n",
       "      <th>count</th>\n",
       "      <td>17379.0000</td>\n",
       "      <td>17379.000000</td>\n",
       "      <td>17379.000000</td>\n",
       "      <td>17379.000000</td>\n",
       "      <td>17379.000000</td>\n",
       "      <td>17379.000000</td>\n",
       "      <td>17379.000000</td>\n",
       "      <td>17379.000000</td>\n",
       "      <td>17379.000000</td>\n",
       "      <td>17379.000000</td>\n",
       "      <td>17379.000000</td>\n",
       "      <td>17379.000000</td>\n",
       "      <td>17379.000000</td>\n",
       "      <td>17379.000000</td>\n",
       "      <td>17379.000000</td>\n",
       "      <td>17379.000000</td>\n",
       "    </tr>\n",
       "    <tr>\n",
       "      <th>mean</th>\n",
       "      <td>8690.0000</td>\n",
       "      <td>2.501640</td>\n",
       "      <td>0.502561</td>\n",
       "      <td>6.537775</td>\n",
       "      <td>11.546752</td>\n",
       "      <td>0.028770</td>\n",
       "      <td>3.003683</td>\n",
       "      <td>0.682721</td>\n",
       "      <td>1.425283</td>\n",
       "      <td>0.496987</td>\n",
       "      <td>0.475775</td>\n",
       "      <td>0.627229</td>\n",
       "      <td>0.190098</td>\n",
       "      <td>35.676218</td>\n",
       "      <td>153.786869</td>\n",
       "      <td>189.463088</td>\n",
       "    </tr>\n",
       "    <tr>\n",
       "      <th>std</th>\n",
       "      <td>5017.0295</td>\n",
       "      <td>1.106918</td>\n",
       "      <td>0.500008</td>\n",
       "      <td>3.438776</td>\n",
       "      <td>6.914405</td>\n",
       "      <td>0.167165</td>\n",
       "      <td>2.005771</td>\n",
       "      <td>0.465431</td>\n",
       "      <td>0.639357</td>\n",
       "      <td>0.192556</td>\n",
       "      <td>0.171850</td>\n",
       "      <td>0.192930</td>\n",
       "      <td>0.122340</td>\n",
       "      <td>49.305030</td>\n",
       "      <td>151.357286</td>\n",
       "      <td>181.387599</td>\n",
       "    </tr>\n",
       "    <tr>\n",
       "      <th>min</th>\n",
       "      <td>1.0000</td>\n",
       "      <td>1.000000</td>\n",
       "      <td>0.000000</td>\n",
       "      <td>1.000000</td>\n",
       "      <td>0.000000</td>\n",
       "      <td>0.000000</td>\n",
       "      <td>0.000000</td>\n",
       "      <td>0.000000</td>\n",
       "      <td>1.000000</td>\n",
       "      <td>0.020000</td>\n",
       "      <td>0.000000</td>\n",
       "      <td>0.000000</td>\n",
       "      <td>0.000000</td>\n",
       "      <td>0.000000</td>\n",
       "      <td>0.000000</td>\n",
       "      <td>1.000000</td>\n",
       "    </tr>\n",
       "    <tr>\n",
       "      <th>25%</th>\n",
       "      <td>4345.5000</td>\n",
       "      <td>2.000000</td>\n",
       "      <td>0.000000</td>\n",
       "      <td>4.000000</td>\n",
       "      <td>6.000000</td>\n",
       "      <td>0.000000</td>\n",
       "      <td>1.000000</td>\n",
       "      <td>0.000000</td>\n",
       "      <td>1.000000</td>\n",
       "      <td>0.340000</td>\n",
       "      <td>0.333300</td>\n",
       "      <td>0.480000</td>\n",
       "      <td>0.104500</td>\n",
       "      <td>4.000000</td>\n",
       "      <td>34.000000</td>\n",
       "      <td>40.000000</td>\n",
       "    </tr>\n",
       "    <tr>\n",
       "      <th>50%</th>\n",
       "      <td>8690.0000</td>\n",
       "      <td>3.000000</td>\n",
       "      <td>1.000000</td>\n",
       "      <td>7.000000</td>\n",
       "      <td>12.000000</td>\n",
       "      <td>0.000000</td>\n",
       "      <td>3.000000</td>\n",
       "      <td>1.000000</td>\n",
       "      <td>1.000000</td>\n",
       "      <td>0.500000</td>\n",
       "      <td>0.484800</td>\n",
       "      <td>0.630000</td>\n",
       "      <td>0.194000</td>\n",
       "      <td>17.000000</td>\n",
       "      <td>115.000000</td>\n",
       "      <td>142.000000</td>\n",
       "    </tr>\n",
       "    <tr>\n",
       "      <th>75%</th>\n",
       "      <td>13034.5000</td>\n",
       "      <td>3.000000</td>\n",
       "      <td>1.000000</td>\n",
       "      <td>10.000000</td>\n",
       "      <td>18.000000</td>\n",
       "      <td>0.000000</td>\n",
       "      <td>5.000000</td>\n",
       "      <td>1.000000</td>\n",
       "      <td>2.000000</td>\n",
       "      <td>0.660000</td>\n",
       "      <td>0.621200</td>\n",
       "      <td>0.780000</td>\n",
       "      <td>0.253700</td>\n",
       "      <td>48.000000</td>\n",
       "      <td>220.000000</td>\n",
       "      <td>281.000000</td>\n",
       "    </tr>\n",
       "    <tr>\n",
       "      <th>max</th>\n",
       "      <td>17379.0000</td>\n",
       "      <td>4.000000</td>\n",
       "      <td>1.000000</td>\n",
       "      <td>12.000000</td>\n",
       "      <td>23.000000</td>\n",
       "      <td>1.000000</td>\n",
       "      <td>6.000000</td>\n",
       "      <td>1.000000</td>\n",
       "      <td>4.000000</td>\n",
       "      <td>1.000000</td>\n",
       "      <td>1.000000</td>\n",
       "      <td>1.000000</td>\n",
       "      <td>0.850700</td>\n",
       "      <td>367.000000</td>\n",
       "      <td>886.000000</td>\n",
       "      <td>977.000000</td>\n",
       "    </tr>\n",
       "  </tbody>\n",
       "</table>\n",
       "</div>"
      ],
      "text/plain": [
       "          instant        season            yr          mnth            hr  \\\n",
       "count  17379.0000  17379.000000  17379.000000  17379.000000  17379.000000   \n",
       "mean    8690.0000      2.501640      0.502561      6.537775     11.546752   \n",
       "std     5017.0295      1.106918      0.500008      3.438776      6.914405   \n",
       "min        1.0000      1.000000      0.000000      1.000000      0.000000   \n",
       "25%     4345.5000      2.000000      0.000000      4.000000      6.000000   \n",
       "50%     8690.0000      3.000000      1.000000      7.000000     12.000000   \n",
       "75%    13034.5000      3.000000      1.000000     10.000000     18.000000   \n",
       "max    17379.0000      4.000000      1.000000     12.000000     23.000000   \n",
       "\n",
       "            holiday       weekday    workingday    weathersit          temp  \\\n",
       "count  17379.000000  17379.000000  17379.000000  17379.000000  17379.000000   \n",
       "mean       0.028770      3.003683      0.682721      1.425283      0.496987   \n",
       "std        0.167165      2.005771      0.465431      0.639357      0.192556   \n",
       "min        0.000000      0.000000      0.000000      1.000000      0.020000   \n",
       "25%        0.000000      1.000000      0.000000      1.000000      0.340000   \n",
       "50%        0.000000      3.000000      1.000000      1.000000      0.500000   \n",
       "75%        0.000000      5.000000      1.000000      2.000000      0.660000   \n",
       "max        1.000000      6.000000      1.000000      4.000000      1.000000   \n",
       "\n",
       "              atemp           hum     windspeed        casual    registered  \\\n",
       "count  17379.000000  17379.000000  17379.000000  17379.000000  17379.000000   \n",
       "mean       0.475775      0.627229      0.190098     35.676218    153.786869   \n",
       "std        0.171850      0.192930      0.122340     49.305030    151.357286   \n",
       "min        0.000000      0.000000      0.000000      0.000000      0.000000   \n",
       "25%        0.333300      0.480000      0.104500      4.000000     34.000000   \n",
       "50%        0.484800      0.630000      0.194000     17.000000    115.000000   \n",
       "75%        0.621200      0.780000      0.253700     48.000000    220.000000   \n",
       "max        1.000000      1.000000      0.850700    367.000000    886.000000   \n",
       "\n",
       "                cnt  \n",
       "count  17379.000000  \n",
       "mean     189.463088  \n",
       "std      181.387599  \n",
       "min        1.000000  \n",
       "25%       40.000000  \n",
       "50%      142.000000  \n",
       "75%      281.000000  \n",
       "max      977.000000  "
      ]
     },
     "execution_count": 78,
     "metadata": {},
     "output_type": "execute_result"
    }
   ],
   "source": [
    "bike_data = pd.read_csv('assets/dataset/bikeshare/bikeshare.csv')\n",
    "bike_data.describe()"
   ]
  },
  {
   "cell_type": "markdown",
   "metadata": {},
   "source": [
    "**What is Multicollinearity?**\n",
    "\n",
    "With the bike share data, let's compare three data points: actual temperature, \"feel\" temperature, and guest ridership. Our data is already normalized between 0 and 1, so we'll start off with the correlations and modeling."
   ]
  },
  {
   "cell_type": "code",
   "execution_count": 79,
   "metadata": {
    "collapsed": false
   },
   "outputs": [
    {
     "name": "stdout",
     "output_type": "stream",
     "text": [
      "            temp     atemp    casual\n",
      "temp    1.000000  0.987672  0.459616\n",
      "atemp   0.987672  1.000000  0.454080\n",
      "casual  0.459616  0.454080  1.000000\n",
      "Axes(0.125,0.125;0.62x0.775)\n"
     ]
    },
    {
     "data": {
      "image/png": "[encoded data removed]",
      "text/plain": [
       "<matplotlib.figure.Figure at 0x11ec5d1d0>"
      ]
     },
     "metadata": {},
     "output_type": "display_data"
    }
   ],
   "source": [
    "cmap = sns.diverging_palette(220, 10, as_cmap=True)\n",
    "correlations = bike_data[['temp', 'atemp', 'casual']].corr()\n",
    "print correlations\n",
    "print sns.heatmap(correlations, cmap=cmap)"
   ]
  },
  {
   "cell_type": "markdown",
   "metadata": {},
   "source": [
    "## KNOWLEDGE CHECK:\n",
    "- What is the between actual temperature and feel temperature like?\n",
    "- Is either temperature variable correlated with casual ridership?"
   ]
  },
  {
   "cell_type": "markdown",
   "metadata": {},
   "source": [
    "Including both of these fields in a model could introduce a pain point of multicollinearity, where it's more difficult for a model to determine which feature is effecting the predicted value.\n",
    "\n",
    "We can measure this effect in the coefficients:"
   ]
  },
  {
   "cell_type": "code",
   "execution_count": 80,
   "metadata": {
    "collapsed": false
   },
   "outputs": [
    {
     "name": "stdout",
     "output_type": "stream",
     "text": [
      "temp\n",
      "P Values: [ 0.]\n",
      "Coefficients: [ 117.68705779]\n",
      "y-intercept: -22.812739188\n",
      "R-Squared: 0.21124654163\n",
      "\n",
      "atemp\n",
      "P Values: [ 0.]\n",
      "Coefficients: [ 130.27875081]\n",
      "y-intercept: -26.3071675481\n",
      "R-Squared: 0.206188705733\n",
      "\n",
      "temp, atemp\n",
      "P Values: [ 0.  0.]\n",
      "Coefficients: [ 116.34021588    1.52795677]\n",
      "y-intercept: -22.8703398286\n",
      "R-Squared: 0.21124723661\n",
      "\n"
     ]
    },
    {
     "data": {
      "image/png": "[encoded data removed]",
      "text/plain": [
       "<matplotlib.figure.Figure at 0x11f478490>"
      ]
     },
     "metadata": {},
     "output_type": "display_data"
    },
    {
     "data": {
      "image/png": "[encoded data removed]",
      "text/plain": [
       "<matplotlib.figure.Figure at 0x11f48ff90>"
      ]
     },
     "metadata": {},
     "output_type": "display_data"
    },
    {
     "data": {
      "image/png": "[encoded data removed]",
      "text/plain": [
       "<matplotlib.figure.Figure at 0x1207b0310>"
      ]
     },
     "metadata": {},
     "output_type": "display_data"
    }
   ],
   "source": [
    "y = bike_data['casual']\n",
    "x_sets = (\n",
    "    ['temp'],\n",
    "    ['atemp'],\n",
    "    ['temp', 'atemp'],\n",
    ")\n",
    "\n",
    "for x in x_sets:\n",
    "    print ', '.join(x) # Create a comma separated string to display our variables\n",
    "    get_linear_model_metrics(bike_data[x], y, linear_model.LinearRegression())\n",
    "    #Add a line in between results\n",
    "    print"
   ]
  },
  {
   "cell_type": "markdown",
   "metadata": {},
   "source": [
    "Even though the 2-variable model temp + atemp has a higher explanation of variance than two variables on their own, and both variables are considered significant (p values approaching 0), we can see that together, their coefficients are wildly different. This can introduce error in how we explain models.\n",
    "\n",
    "What happens if we use a second variable that isn't highly correlated with temperature, like humidity?"
   ]
  },
  {
   "cell_type": "markdown",
   "metadata": {},
   "source": [
    "While temperature's coefficient is higher, the logical output still makes sense: for guest riders we expected a positive relationship with temperature and a negative relationship with humidity, and our model suggests it as well."
   ]
  },
  {
   "cell_type": "markdown",
   "metadata": {},
   "source": [
    "## KNOWLEDGE CHECK\n",
    "- What is multicollinearity? \n",
    "- Why might this cause problems in a model?"
   ]
  },
  {
   "cell_type": "markdown",
   "metadata": {},
   "source": [
    "# PAIR PROGRAMMING: MULTICOLLINEARITY WITH DUMMY VARIABLES\n",
    "Objective: Practice reasoning about multicolinearity\n",
    "\n",
    " (15 mins)"
   ]
  },
  {
   "cell_type": "markdown",
   "metadata": {},
   "source": [
    "There can be a similar effect from a feature set that is a singular matrix, which is when there is a clear relationship in the matrix (for example, the sum of all rows = 1).\n",
    "\n",
    "**What's a singular matrix?**\n",
    "- https://en.wikipedia.org/wiki/Invertible_matrix\n",
    "- In essence it is a linear problem that has no solution. We cannot solve for x if we cannot invert A, which is roughly equivalent to dividing by A: Ax=B\n",
    "\n",
    "Run through the following code on your own. What happens to the coefficients when you include all weather situations instead of just including all except one?"
   ]
  },
  {
   "cell_type": "code",
   "execution_count": 86,
   "metadata": {
    "collapsed": false
   },
   "outputs": [
    {
     "data": {
      "text/html": [
       "<div>\n",
       "<table border=\"1\" class=\"dataframe\">\n",
       "  <thead>\n",
       "    <tr style=\"text-align: right;\">\n",
       "      <th></th>\n",
       "      <th>1</th>\n",
       "      <th>2</th>\n",
       "      <th>3</th>\n",
       "      <th>4</th>\n",
       "    </tr>\n",
       "  </thead>\n",
       "  <tbody>\n",
       "    <tr>\n",
       "      <th>17374</th>\n",
       "      <td>0.0</td>\n",
       "      <td>1.0</td>\n",
       "      <td>0.0</td>\n",
       "      <td>0.0</td>\n",
       "    </tr>\n",
       "    <tr>\n",
       "      <th>17375</th>\n",
       "      <td>0.0</td>\n",
       "      <td>1.0</td>\n",
       "      <td>0.0</td>\n",
       "      <td>0.0</td>\n",
       "    </tr>\n",
       "    <tr>\n",
       "      <th>17376</th>\n",
       "      <td>1.0</td>\n",
       "      <td>0.0</td>\n",
       "      <td>0.0</td>\n",
       "      <td>0.0</td>\n",
       "    </tr>\n",
       "    <tr>\n",
       "      <th>17377</th>\n",
       "      <td>1.0</td>\n",
       "      <td>0.0</td>\n",
       "      <td>0.0</td>\n",
       "      <td>0.0</td>\n",
       "    </tr>\n",
       "    <tr>\n",
       "      <th>17378</th>\n",
       "      <td>1.0</td>\n",
       "      <td>0.0</td>\n",
       "      <td>0.0</td>\n",
       "      <td>0.0</td>\n",
       "    </tr>\n",
       "  </tbody>\n",
       "</table>\n",
       "</div>"
      ],
      "text/plain": [
       "         1    2    3    4\n",
       "17374  0.0  1.0  0.0  0.0\n",
       "17375  0.0  1.0  0.0  0.0\n",
       "17376  1.0  0.0  0.0  0.0\n",
       "17377  1.0  0.0  0.0  0.0\n",
       "17378  1.0  0.0  0.0  0.0"
      ]
     },
     "execution_count": 86,
     "metadata": {},
     "output_type": "execute_result"
    }
   ],
   "source": [
    "weather.tail()"
   ]
  },
  {
   "cell_type": "code",
   "execution_count": 89,
   "metadata": {
    "collapsed": false
   },
   "outputs": [
    {
     "name": "stdout",
     "output_type": "stream",
     "text": [
      "P Values: [  3.75616929e-73   3.43170021e-22   1.57718666e-55   2.46181288e-01]\n",
      "Coefficients: [  5.33996323e+12   5.33996323e+12   5.33996323e+12   5.33996323e+12]\n",
      "y-intercept: -5.33996323254e+12\n",
      "R-Squared: 0.0233906300439\n",
      "\n",
      "P Values: [  3.43170021e-22   1.57718666e-55   2.46181288e-01]\n",
      "Coefficients: [-10.95014016 -24.48975764 -37.87876398]\n",
      "y-intercept: 40.5454306493\n",
      "R-Squared: 0.0233906873841\n"
     ]
    },
    {
     "data": {
      "text/plain": [
       "LinearRegression(copy_X=True, fit_intercept=True, n_jobs=1, normalize=False)"
      ]
     },
     "execution_count": 89,
     "metadata": {},
     "output_type": "execute_result"
    },
    {
     "data": {
      "image/png": "[encoded data removed]",
      "text/plain": [
       "<matplotlib.figure.Figure at 0x11c67e290>"
      ]
     },
     "metadata": {},
     "output_type": "display_data"
    },
    {
     "data": {
      "image/png": "[encoded data removed]",
      "text/plain": [
       "<matplotlib.figure.Figure at 0x11c569190>"
      ]
     },
     "metadata": {},
     "output_type": "display_data"
    }
   ],
   "source": [
    "lm = linear_model.LinearRegression()\n",
    "weather = pd.get_dummies(bike_data.weathersit)\n",
    "get_linear_model_metrics(weather[[1, 2, 3, 4]], y, lm)\n",
    "print\n",
    "\n",
    "#Drop the least significant, weather situation  = 4\n",
    "get_linear_model_metrics(weather[[2, 3, 4]], y, lm)"
   ]
  },
  {
   "cell_type": "markdown",
   "metadata": {},
   "source": [
    "This model makes more sense, because we can more easily explain the variables compared to the one we left out. For example, this suggests that a clear day (weathersit:1) on average brings in about 38 more riders hourly than a day with heavy snow. In fact, since the weather situations \"degrade\" in quality (1 is the nicest day, 4 is the worst), the coefficients now reflect that well. However at this point, there is still a lot of work to do, because weather on its own fails to explain ridership well."
   ]
  },
  {
   "cell_type": "markdown",
   "metadata": {},
   "source": [
    "# PAIR PROGRAMMING: COMBINING FEATURES INTO A BETTER MODEL\n",
    "Objective: Expand Pandas knowledge and identify potential associations to use in the next exercise\n",
    " (15 mins)\n",
    "    \n",
    "With a partner, complete this code together and visualize the correlations of all the numerical features built into the data set.\n",
    "\n",
    "We want to:\n",
    "\n",
    "- Add the three significant weather situations into our current model\n",
    "- Find two more features that are not correlated with current features, but could be strong indicators for predicting guest riders.\n"
   ]
  },
  {
   "cell_type": "code",
   "execution_count": 93,
   "metadata": {
    "collapsed": false
   },
   "outputs": [],
   "source": [
    "lm = linear_model.LinearRegression()\n",
    "# We haven't seen the join method yet take 5 minutes to look at the documentation and try something\n",
    "# I'll give the answer shortly\n",
    "bikemodel_data = bike_data.join(weather) # add in the three weather situations"
   ]
  },
  {
   "cell_type": "code",
   "execution_count": 94,
   "metadata": {
    "collapsed": false
   },
   "outputs": [
    {
     "data": {
      "text/html": [
       "<div>\n",
       "<table border=\"1\" class=\"dataframe\">\n",
       "  <thead>\n",
       "    <tr style=\"text-align: right;\">\n",
       "      <th></th>\n",
       "      <th>instant</th>\n",
       "      <th>dteday</th>\n",
       "      <th>season</th>\n",
       "      <th>yr</th>\n",
       "      <th>mnth</th>\n",
       "      <th>hr</th>\n",
       "      <th>holiday</th>\n",
       "      <th>weekday</th>\n",
       "      <th>workingday</th>\n",
       "      <th>weathersit</th>\n",
       "      <th>...</th>\n",
       "      <th>atemp</th>\n",
       "      <th>hum</th>\n",
       "      <th>windspeed</th>\n",
       "      <th>casual</th>\n",
       "      <th>registered</th>\n",
       "      <th>cnt</th>\n",
       "      <th>1</th>\n",
       "      <th>2</th>\n",
       "      <th>3</th>\n",
       "      <th>4</th>\n",
       "    </tr>\n",
       "  </thead>\n",
       "  <tbody>\n",
       "    <tr>\n",
       "      <th>0</th>\n",
       "      <td>1</td>\n",
       "      <td>2011-01-01</td>\n",
       "      <td>1</td>\n",
       "      <td>0</td>\n",
       "      <td>1</td>\n",
       "      <td>0</td>\n",
       "      <td>0</td>\n",
       "      <td>6</td>\n",
       "      <td>0</td>\n",
       "      <td>1</td>\n",
       "      <td>...</td>\n",
       "      <td>0.2879</td>\n",
       "      <td>0.81</td>\n",
       "      <td>0.0</td>\n",
       "      <td>3</td>\n",
       "      <td>13</td>\n",
       "      <td>16</td>\n",
       "      <td>1.0</td>\n",
       "      <td>0.0</td>\n",
       "      <td>0.0</td>\n",
       "      <td>0.0</td>\n",
       "    </tr>\n",
       "    <tr>\n",
       "      <th>1</th>\n",
       "      <td>2</td>\n",
       "      <td>2011-01-01</td>\n",
       "      <td>1</td>\n",
       "      <td>0</td>\n",
       "      <td>1</td>\n",
       "      <td>1</td>\n",
       "      <td>0</td>\n",
       "      <td>6</td>\n",
       "      <td>0</td>\n",
       "      <td>1</td>\n",
       "      <td>...</td>\n",
       "      <td>0.2727</td>\n",
       "      <td>0.80</td>\n",
       "      <td>0.0</td>\n",
       "      <td>8</td>\n",
       "      <td>32</td>\n",
       "      <td>40</td>\n",
       "      <td>1.0</td>\n",
       "      <td>0.0</td>\n",
       "      <td>0.0</td>\n",
       "      <td>0.0</td>\n",
       "    </tr>\n",
       "    <tr>\n",
       "      <th>2</th>\n",
       "      <td>3</td>\n",
       "      <td>2011-01-01</td>\n",
       "      <td>1</td>\n",
       "      <td>0</td>\n",
       "      <td>1</td>\n",
       "      <td>2</td>\n",
       "      <td>0</td>\n",
       "      <td>6</td>\n",
       "      <td>0</td>\n",
       "      <td>1</td>\n",
       "      <td>...</td>\n",
       "      <td>0.2727</td>\n",
       "      <td>0.80</td>\n",
       "      <td>0.0</td>\n",
       "      <td>5</td>\n",
       "      <td>27</td>\n",
       "      <td>32</td>\n",
       "      <td>1.0</td>\n",
       "      <td>0.0</td>\n",
       "      <td>0.0</td>\n",
       "      <td>0.0</td>\n",
       "    </tr>\n",
       "    <tr>\n",
       "      <th>3</th>\n",
       "      <td>4</td>\n",
       "      <td>2011-01-01</td>\n",
       "      <td>1</td>\n",
       "      <td>0</td>\n",
       "      <td>1</td>\n",
       "      <td>3</td>\n",
       "      <td>0</td>\n",
       "      <td>6</td>\n",
       "      <td>0</td>\n",
       "      <td>1</td>\n",
       "      <td>...</td>\n",
       "      <td>0.2879</td>\n",
       "      <td>0.75</td>\n",
       "      <td>0.0</td>\n",
       "      <td>3</td>\n",
       "      <td>10</td>\n",
       "      <td>13</td>\n",
       "      <td>1.0</td>\n",
       "      <td>0.0</td>\n",
       "      <td>0.0</td>\n",
       "      <td>0.0</td>\n",
       "    </tr>\n",
       "    <tr>\n",
       "      <th>4</th>\n",
       "      <td>5</td>\n",
       "      <td>2011-01-01</td>\n",
       "      <td>1</td>\n",
       "      <td>0</td>\n",
       "      <td>1</td>\n",
       "      <td>4</td>\n",
       "      <td>0</td>\n",
       "      <td>6</td>\n",
       "      <td>0</td>\n",
       "      <td>1</td>\n",
       "      <td>...</td>\n",
       "      <td>0.2879</td>\n",
       "      <td>0.75</td>\n",
       "      <td>0.0</td>\n",
       "      <td>0</td>\n",
       "      <td>1</td>\n",
       "      <td>1</td>\n",
       "      <td>1.0</td>\n",
       "      <td>0.0</td>\n",
       "      <td>0.0</td>\n",
       "      <td>0.0</td>\n",
       "    </tr>\n",
       "  </tbody>\n",
       "</table>\n",
       "<p>5 rows × 21 columns</p>\n",
       "</div>"
      ],
      "text/plain": [
       "   instant      dteday  season  yr  mnth  hr  holiday  weekday  workingday  \\\n",
       "0        1  2011-01-01       1   0     1   0        0        6           0   \n",
       "1        2  2011-01-01       1   0     1   1        0        6           0   \n",
       "2        3  2011-01-01       1   0     1   2        0        6           0   \n",
       "3        4  2011-01-01       1   0     1   3        0        6           0   \n",
       "4        5  2011-01-01       1   0     1   4        0        6           0   \n",
       "\n",
       "   weathersit ...    atemp   hum  windspeed  casual  registered  cnt    1  \\\n",
       "0           1 ...   0.2879  0.81        0.0       3          13   16  1.0   \n",
       "1           1 ...   0.2727  0.80        0.0       8          32   40  1.0   \n",
       "2           1 ...   0.2727  0.80        0.0       5          27   32  1.0   \n",
       "3           1 ...   0.2879  0.75        0.0       3          10   13  1.0   \n",
       "4           1 ...   0.2879  0.75        0.0       0           1    1  1.0   \n",
       "\n",
       "     2    3    4  \n",
       "0  0.0  0.0  0.0  \n",
       "1  0.0  0.0  0.0  \n",
       "2  0.0  0.0  0.0  \n",
       "3  0.0  0.0  0.0  \n",
       "4  0.0  0.0  0.0  \n",
       "\n",
       "[5 rows x 21 columns]"
      ]
     },
     "execution_count": 94,
     "metadata": {},
     "output_type": "execute_result"
    }
   ],
   "source": [
    "bikemodel_data.head()"
   ]
  },
  {
   "cell_type": "code",
   "execution_count": 104,
   "metadata": {
    "collapsed": false
   },
   "outputs": [
    {
     "name": "stdout",
     "output_type": "stream",
     "text": [
      "            1         2         3         4       cnt\n",
      "1    1.000000 -0.822961 -0.412414 -0.018174  0.117478\n",
      "2   -0.822961  1.000000 -0.177417 -0.007818 -0.046902\n",
      "3   -0.412414 -0.177417  1.000000 -0.003918 -0.128034\n",
      "4   -0.018174 -0.007818 -0.003918  1.000000 -0.008340\n",
      "cnt  0.117478 -0.046902 -0.128034 -0.008340  1.000000\n",
      "Axes(0.125,0.125;0.62x0.775)\n"
     ]
    },
    {
     "data": {
      "image/png": "[encoded data removed]",
      "text/plain": [
       "<matplotlib.figure.Figure at 0x11ddd21d0>"
      ]
     },
     "metadata": {},
     "output_type": "display_data"
    }
   ],
   "source": [
    "cmap = sns.diverging_palette(220, 10, as_cmap=True)\n",
    "correlations = bikemodel_data[[1, 2, 3, 'cnt']].corr()\n",
    "print correlations\n",
    "print sns.heatmap(correlations, cmap=cmap)\n",
    "\n"
   ]
  },
  {
   "cell_type": "code",
   "execution_count": 106,
   "metadata": {
    "collapsed": false
   },
   "outputs": [
    {
     "name": "stdout",
     "output_type": "stream",
     "text": [
      "P Values: [  3.75616929e-73   3.43170021e-22   1.57718666e-55]\n",
      "Coefficients: [ 37.87876398  26.92862383  13.38900634]\n",
      "y-intercept: 2.66666666667\n",
      "R-Squared: 0.0233906873841\n"
     ]
    },
    {
     "data": {
      "text/plain": [
       "LinearRegression(copy_X=True, fit_intercept=True, n_jobs=1, normalize=False)"
      ]
     },
     "execution_count": 106,
     "metadata": {},
     "output_type": "execute_result"
    },
    {
     "data": {
      "image/png": "[encoded data removed]",
      "text/plain": [
       "<matplotlib.figure.Figure at 0x11f4d2350>"
      ]
     },
     "metadata": {},
     "output_type": "display_data"
    }
   ],
   "source": [
    "columns_to_keep = [1,2,3] #[which_variables?]\n",
    "final_feature_set = bikemodel_data[columns_to_keep]\n",
    "\n",
    "get_linear_model_metrics(final_feature_set, y, lm)"
   ]
  },
  {
   "cell_type": "markdown",
   "metadata": {},
   "source": [
    "## KNOWLEDGE CHECK\n",
    "- Were you able to add all three conditions into the model? \n",
    "- Did you come up with two additional predictive features?"
   ]
  },
  {
   "cell_type": "markdown",
   "metadata": {},
   "source": [
    "# PAIR PROGRAMMING: BUILDING MODELS FOR OTHER Y VARIABLES\n",
    "(25 minutes)"
   ]
  },
  {
   "cell_type": "markdown",
   "metadata": {},
   "source": [
    "We've completely a model together that explains casual guest riders. It's now your turn to build another model, but using a different y variable: registered riders.\n",
    "\n",
    "**Pay attention to:**\n",
    "\n",
    "- the distribution of riders (should we rescale the data?)\n",
    "- checking correlations with variables and registered riders\n",
    "- having a feature space (our matrix) with low multicollinearity\n",
    "- model complexity vs explanation of variance: at what point do features in a model stop improving r-squared?\n",
    "- the linear assumption -- given all feature values being 0, should we have no ridership? negative ridership? positive ridership?\n",
    "\n",
    "**Bonus**\n",
    "\n",
    "- Which variables would make sense to dummy (because they are categorical, not continuous)?\n",
    "- What features might explain ridership but aren't included in the data set?\n",
    "- Is there a way to build these using pandas and the features available?\n",
    "\n",
    "**Outcomes** \n",
    "\n",
    "If your model at least improves upon the original model and the explanatory effects (coefficients) make sense, consider this a complete task. If your model has an r-squared above .4, this a relatively effective model for the data available. Kudos!"
   ]
  },
  {
   "cell_type": "markdown",
   "metadata": {},
   "source": [
    "# Conclusion\n",
    "\n",
    "- How do you dummy a categorical variable?\n",
    "- How do you avoid a singular matrix?\n",
    "- What is a single linear regression?\n",
    "- What makes multi-variable regressions more useful?\n",
    "- What challenges do they introduce?"
   ]
  },
  {
   "cell_type": "markdown",
   "metadata": {},
   "source": [
    "# UPCOMING WORK\n",
    "- Project: Final Project, Deliverable 1 DUE (Week 4 : Lesson 8)\n",
    "  - https://github.com/ga-students/DS-DC-14/blob/master/projects/final-projects/01-lightning-talk/final-project-1-rubric.md\n",
    "- The Unit 3 Project is now posted DUE Lesson 9\n",
    "  - https://github.com/ga-students/DS-DC-14/blob/master/projects/unit-projects/project-3/readme.md"
   ]
  },
  {
   "cell_type": "markdown",
   "metadata": {},
   "source": [
    "# EXIT TICKET: INTRODUCTION TO REGRESSION ANALYSIS\n",
    "http://goo.gl/forms/gG5qAw9QljgkHC2q1"
   ]
  }
 ],
 "metadata": {
  "kernelspec": {
   "display_name": "Python [Root]",
   "language": "python",
   "name": "Python [Root]"
  },
  "language_info": {
   "codemirror_mode": {
    "name": "ipython",
    "version": 2
   },
   "file_extension": ".py",
   "mimetype": "text/x-python",
   "name": "python",
   "nbconvert_exporter": "python",
   "pygments_lexer": "ipython2",
   "version": "2.7.12"
  }
 },
 "nbformat": 4,
 "nbformat_minor": 0
}
