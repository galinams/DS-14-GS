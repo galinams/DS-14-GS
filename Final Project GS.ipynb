{
 "cells": [
  {
   "cell_type": "markdown",
   "metadata": {},
   "source": [
    "## Final Project: Notebook"
   ]
  },
  {
   "cell_type": "code",
   "execution_count": 3,
   "metadata": {
    "collapsed": true
   },
   "outputs": [],
   "source": [
    "import scipy as sp\n",
    "import numpy as np\n",
    "import pandas as pd\n",
    "import json\n",
    "from sklearn import cross_validation\n",
    "from sklearn import grid_search\n",
    "from sklearn import ensemble\n",
    "from sklearn import metrics\n",
    "\n",
    "import seaborn as sns\n",
    "import matplotlib.pyplot as plt\n",
    "sns.set(style=\"whitegrid\", font_scale=1.5)\n",
    "%matplotlib inline"
   ]
  },
  {
   "cell_type": "markdown",
   "metadata": {},
   "source": [
    "## Acquire the Data"
   ]
  },
  {
   "cell_type": "code",
   "execution_count": 4,
   "metadata": {
    "collapsed": true
   },
   "outputs": [],
   "source": [
    "# The original train dataset is 37M rows\n",
    "# Will sample it down to 1 percent so I am able to process it on my computer\n",
    "from dask import dataframe\n",
    "from dask.diagnostics import ProgressBar"
   ]
  },
  {
   "cell_type": "code",
   "execution_count": 5,
   "metadata": {
    "collapsed": false
   },
   "outputs": [],
   "source": [
    "dd = dataframe.read_csv('train/train.csv/train.csv', blocksize=100000000)"
   ]
  },
  {
   "cell_type": "code",
   "execution_count": 6,
   "metadata": {
    "collapsed": false
   },
   "outputs": [
    {
     "name": "stdout",
     "output_type": "stream",
     "text": [
      "[########################################] | 100% Completed |  3min 16.9s\n"
     ]
    }
   ],
   "source": [
    "with ProgressBar():\n",
    "    data = dd.sample(.01).compute()"
   ]
  },
  {
   "cell_type": "code",
   "execution_count": 7,
   "metadata": {
    "collapsed": false
   },
   "outputs": [
    {
     "data": {
      "text/html": [
       "<div>\n",
       "<table border=\"1\" class=\"dataframe\">\n",
       "  <thead>\n",
       "    <tr style=\"text-align: right;\">\n",
       "      <th></th>\n",
       "      <th>date_time</th>\n",
       "      <th>site_name</th>\n",
       "      <th>posa_continent</th>\n",
       "      <th>user_location_country</th>\n",
       "      <th>user_location_region</th>\n",
       "      <th>user_location_city</th>\n",
       "      <th>orig_destination_distance</th>\n",
       "      <th>user_id</th>\n",
       "      <th>is_mobile</th>\n",
       "      <th>is_package</th>\n",
       "      <th>...</th>\n",
       "      <th>srch_children_cnt</th>\n",
       "      <th>srch_rm_cnt</th>\n",
       "      <th>srch_destination_id</th>\n",
       "      <th>srch_destination_type_id</th>\n",
       "      <th>is_booking</th>\n",
       "      <th>cnt</th>\n",
       "      <th>hotel_continent</th>\n",
       "      <th>hotel_country</th>\n",
       "      <th>hotel_market</th>\n",
       "      <th>hotel_cluster</th>\n",
       "    </tr>\n",
       "  </thead>\n",
       "  <tbody>\n",
       "    <tr>\n",
       "      <th>162685</th>\n",
       "      <td>2014-07-23 08:41:08</td>\n",
       "      <td>2</td>\n",
       "      <td>3</td>\n",
       "      <td>66</td>\n",
       "      <td>442</td>\n",
       "      <td>47956</td>\n",
       "      <td>1192.1126</td>\n",
       "      <td>614194</td>\n",
       "      <td>0</td>\n",
       "      <td>1</td>\n",
       "      <td>...</td>\n",
       "      <td>0.0</td>\n",
       "      <td>1.0</td>\n",
       "      <td>8287.0</td>\n",
       "      <td>1.0</td>\n",
       "      <td>1.0</td>\n",
       "      <td>1.0</td>\n",
       "      <td>2.0</td>\n",
       "      <td>198.0</td>\n",
       "      <td>397.0</td>\n",
       "      <td>55.0</td>\n",
       "    </tr>\n",
       "    <tr>\n",
       "      <th>782512</th>\n",
       "      <td>2014-12-04 11:00:53</td>\n",
       "      <td>11</td>\n",
       "      <td>3</td>\n",
       "      <td>205</td>\n",
       "      <td>354</td>\n",
       "      <td>55763</td>\n",
       "      <td>33.4043</td>\n",
       "      <td>196587</td>\n",
       "      <td>0</td>\n",
       "      <td>0</td>\n",
       "      <td>...</td>\n",
       "      <td>0.0</td>\n",
       "      <td>1.0</td>\n",
       "      <td>4474.0</td>\n",
       "      <td>3.0</td>\n",
       "      <td>0.0</td>\n",
       "      <td>1.0</td>\n",
       "      <td>2.0</td>\n",
       "      <td>198.0</td>\n",
       "      <td>397.0</td>\n",
       "      <td>19.0</td>\n",
       "    </tr>\n",
       "    <tr>\n",
       "      <th>339113</th>\n",
       "      <td>2014-06-10 12:27:38</td>\n",
       "      <td>37</td>\n",
       "      <td>1</td>\n",
       "      <td>69</td>\n",
       "      <td>990</td>\n",
       "      <td>12811</td>\n",
       "      <td>NaN</td>\n",
       "      <td>1167705</td>\n",
       "      <td>0</td>\n",
       "      <td>0</td>\n",
       "      <td>...</td>\n",
       "      <td>0.0</td>\n",
       "      <td>1.0</td>\n",
       "      <td>12267.0</td>\n",
       "      <td>6.0</td>\n",
       "      <td>0.0</td>\n",
       "      <td>1.0</td>\n",
       "      <td>2.0</td>\n",
       "      <td>50.0</td>\n",
       "      <td>1230.0</td>\n",
       "      <td>83.0</td>\n",
       "    </tr>\n",
       "    <tr>\n",
       "      <th>99462</th>\n",
       "      <td>2014-09-01 09:50:53</td>\n",
       "      <td>2</td>\n",
       "      <td>3</td>\n",
       "      <td>66</td>\n",
       "      <td>363</td>\n",
       "      <td>51253</td>\n",
       "      <td>7863.2806</td>\n",
       "      <td>388180</td>\n",
       "      <td>0</td>\n",
       "      <td>0</td>\n",
       "      <td>...</td>\n",
       "      <td>0.0</td>\n",
       "      <td>1.0</td>\n",
       "      <td>1795.0</td>\n",
       "      <td>1.0</td>\n",
       "      <td>0.0</td>\n",
       "      <td>1.0</td>\n",
       "      <td>3.0</td>\n",
       "      <td>99.0</td>\n",
       "      <td>1312.0</td>\n",
       "      <td>67.0</td>\n",
       "    </tr>\n",
       "    <tr>\n",
       "      <th>674015</th>\n",
       "      <td>2014-04-15 16:30:22</td>\n",
       "      <td>37</td>\n",
       "      <td>1</td>\n",
       "      <td>69</td>\n",
       "      <td>560</td>\n",
       "      <td>4288</td>\n",
       "      <td>NaN</td>\n",
       "      <td>1043120</td>\n",
       "      <td>0</td>\n",
       "      <td>0</td>\n",
       "      <td>...</td>\n",
       "      <td>0.0</td>\n",
       "      <td>3.0</td>\n",
       "      <td>3404.0</td>\n",
       "      <td>6.0</td>\n",
       "      <td>0.0</td>\n",
       "      <td>1.0</td>\n",
       "      <td>6.0</td>\n",
       "      <td>70.0</td>\n",
       "      <td>306.0</td>\n",
       "      <td>75.0</td>\n",
       "    </tr>\n",
       "  </tbody>\n",
       "</table>\n",
       "<p>5 rows × 24 columns</p>\n",
       "</div>"
      ],
      "text/plain": [
       "                  date_time  site_name  posa_continent  user_location_country  \\\n",
       "162685  2014-07-23 08:41:08          2               3                     66   \n",
       "782512  2014-12-04 11:00:53         11               3                    205   \n",
       "339113  2014-06-10 12:27:38         37               1                     69   \n",
       "99462   2014-09-01 09:50:53          2               3                     66   \n",
       "674015  2014-04-15 16:30:22         37               1                     69   \n",
       "\n",
       "        user_location_region  user_location_city  orig_destination_distance  \\\n",
       "162685                   442               47956                  1192.1126   \n",
       "782512                   354               55763                    33.4043   \n",
       "339113                   990               12811                        NaN   \n",
       "99462                    363               51253                  7863.2806   \n",
       "674015                   560                4288                        NaN   \n",
       "\n",
       "        user_id  is_mobile  is_package      ...        srch_children_cnt  \\\n",
       "162685   614194          0           1      ...                      0.0   \n",
       "782512   196587          0           0      ...                      0.0   \n",
       "339113  1167705          0           0      ...                      0.0   \n",
       "99462    388180          0           0      ...                      0.0   \n",
       "674015  1043120          0           0      ...                      0.0   \n",
       "\n",
       "       srch_rm_cnt srch_destination_id  srch_destination_type_id  is_booking  \\\n",
       "162685         1.0              8287.0                       1.0         1.0   \n",
       "782512         1.0              4474.0                       3.0         0.0   \n",
       "339113         1.0             12267.0                       6.0         0.0   \n",
       "99462          1.0              1795.0                       1.0         0.0   \n",
       "674015         3.0              3404.0                       6.0         0.0   \n",
       "\n",
       "        cnt  hotel_continent  hotel_country  hotel_market  hotel_cluster  \n",
       "162685  1.0              2.0          198.0         397.0           55.0  \n",
       "782512  1.0              2.0          198.0         397.0           19.0  \n",
       "339113  1.0              2.0           50.0        1230.0           83.0  \n",
       "99462   1.0              3.0           99.0        1312.0           67.0  \n",
       "674015  1.0              6.0           70.0         306.0           75.0  \n",
       "\n",
       "[5 rows x 24 columns]"
      ]
     },
     "execution_count": 7,
     "metadata": {},
     "output_type": "execute_result"
    }
   ],
   "source": [
    "#Preview the dataset\n",
    "pd.DataFrame(data).head()"
   ]
  },
  {
   "cell_type": "markdown",
   "metadata": {},
   "source": [
    "## Parse, Mine, and Refine the data"
   ]
  },
  {
   "cell_type": "code",
   "execution_count": 8,
   "metadata": {
    "collapsed": false
   },
   "outputs": [
    {
     "name": "stdout",
     "output_type": "stream",
     "text": [
      "(376707, 24)\n"
     ]
    }
   ],
   "source": [
    "print data.shape"
   ]
  },
  {
   "cell_type": "code",
   "execution_count": 9,
   "metadata": {
    "collapsed": false
   },
   "outputs": [
    {
     "name": "stdout",
     "output_type": "stream",
     "text": [
      "<class 'pandas.core.frame.DataFrame'>\n",
      "Int64Index: 376707 entries, 162685 to 132628\n",
      "Data columns (total 24 columns):\n",
      "date_time                    376707 non-null object\n",
      "site_name                    376707 non-null int64\n",
      "posa_continent               376707 non-null int64\n",
      "user_location_country        376707 non-null int64\n",
      "user_location_region         376707 non-null int64\n",
      "user_location_city           376707 non-null int64\n",
      "orig_destination_distance    241877 non-null float64\n",
      "user_id                      376707 non-null int64\n",
      "is_mobile                    376707 non-null int64\n",
      "is_package                   376707 non-null int64\n",
      "channel                      376707 non-null int64\n",
      "srch_ci                      376242 non-null object\n",
      "srch_co                      376242 non-null object\n",
      "srch_adults_cnt              376707 non-null float64\n",
      "srch_children_cnt            376707 non-null float64\n",
      "srch_rm_cnt                  376707 non-null float64\n",
      "srch_destination_id          376707 non-null float64\n",
      "srch_destination_type_id     376707 non-null float64\n",
      "is_booking                   376707 non-null float64\n",
      "cnt                          376707 non-null float64\n",
      "hotel_continent              376707 non-null float64\n",
      "hotel_country                376707 non-null float64\n",
      "hotel_market                 376707 non-null float64\n",
      "hotel_cluster                376707 non-null float64\n",
      "dtypes: float64(12), int64(9), object(3)\n",
      "memory usage: 71.9+ MB\n"
     ]
    }
   ],
   "source": [
    "data.info()"
   ]
  },
  {
   "cell_type": "code",
   "execution_count": 10,
   "metadata": {
    "collapsed": false
   },
   "outputs": [
    {
     "data": {
      "text/plain": [
       "Index([u'date_time', u'site_name', u'posa_continent', u'user_location_country',\n",
       "       u'user_location_region', u'user_location_city',\n",
       "       u'orig_destination_distance', u'user_id', u'is_mobile', u'is_package',\n",
       "       u'channel', u'srch_ci', u'srch_co', u'srch_adults_cnt',\n",
       "       u'srch_children_cnt', u'srch_rm_cnt', u'srch_destination_id',\n",
       "       u'srch_destination_type_id', u'is_booking', u'cnt', u'hotel_continent',\n",
       "       u'hotel_country', u'hotel_market', u'hotel_cluster'],\n",
       "      dtype='object')"
      ]
     },
     "execution_count": 10,
     "metadata": {},
     "output_type": "execute_result"
    }
   ],
   "source": [
    "data.columns"
   ]
  },
  {
   "cell_type": "code",
   "execution_count": 11,
   "metadata": {
    "collapsed": false
   },
   "outputs": [
    {
     "data": {
      "text/plain": [
       "date_time                         0\n",
       "site_name                         0\n",
       "posa_continent                    0\n",
       "user_location_country             0\n",
       "user_location_region              0\n",
       "user_location_city                0\n",
       "orig_destination_distance    134830\n",
       "user_id                           0\n",
       "is_mobile                         0\n",
       "is_package                        0\n",
       "channel                           0\n",
       "srch_ci                         465\n",
       "srch_co                         465\n",
       "srch_adults_cnt                   0\n",
       "srch_children_cnt                 0\n",
       "srch_rm_cnt                       0\n",
       "srch_destination_id               0\n",
       "srch_destination_type_id          0\n",
       "is_booking                        0\n",
       "cnt                               0\n",
       "hotel_continent                   0\n",
       "hotel_country                     0\n",
       "hotel_market                      0\n",
       "hotel_cluster                     0\n",
       "dtype: int64"
      ]
     },
     "execution_count": 11,
     "metadata": {},
     "output_type": "execute_result"
    }
   ],
   "source": [
    "#Check for missing values; looks like origin to destination distance, check in and check out dates have missing values\n",
    "data.isnull().sum()"
   ]
  },
  {
   "cell_type": "markdown",
   "metadata": {},
   "source": [
    "### Create first version of dataframe"
   ]
  },
  {
   "cell_type": "code",
   "execution_count": 12,
   "metadata": {
    "collapsed": true
   },
   "outputs": [],
   "source": [
    "# I decided to create two versions of the dataset: one will add the bookings window and length of stay colums, \n",
    "# the second one will keep the distance column.\n",
    "# Drop columns, keep the search check out column and drop the half empty distance column\n",
    "df2= data.drop(['user_id','srch_adults_cnt','srch_rm_cnt', 'cnt','site_name', 'orig_destination_distance'], axis=1)"
   ]
  },
  {
   "cell_type": "code",
   "execution_count": 13,
   "metadata": {
    "collapsed": false
   },
   "outputs": [],
   "source": [
    "#Drop missing values\n",
    "df2 = df2.dropna(axis=0,subset=['srch_ci','srch_co'])"
   ]
  },
  {
   "cell_type": "code",
   "execution_count": 14,
   "metadata": {
    "collapsed": true
   },
   "outputs": [],
   "source": [
    "#convert check in date column into datetime format\n",
    "df2['srch_ci'] = pd.to_datetime(df2['srch_ci'],format='%Y-%m-%d')"
   ]
  },
  {
   "cell_type": "code",
   "execution_count": 15,
   "metadata": {
    "collapsed": true
   },
   "outputs": [],
   "source": [
    "#convert check out date column into datetime format\n",
    "df2['srch_co'] = pd.to_datetime(df2['srch_co'],format='%Y-%m-%d')"
   ]
  },
  {
   "cell_type": "code",
   "execution_count": 16,
   "metadata": {
    "collapsed": true
   },
   "outputs": [],
   "source": [
    "#convert date_time column into datetime format\n",
    "df2['date_time'] = pd.to_datetime(df2['date_time'],format='%Y-%m-%d')"
   ]
  },
  {
   "cell_type": "code",
   "execution_count": 17,
   "metadata": {
    "collapsed": false
   },
   "outputs": [],
   "source": [
    "# create new column with booking window calculation\n",
    "df2['bw'] = df2['srch_ci']-df2['date_time']"
   ]
  },
  {
   "cell_type": "code",
   "execution_count": 18,
   "metadata": {
    "collapsed": true
   },
   "outputs": [],
   "source": [
    "# create new column with length of stay calculation\n",
    "df2['LOS'] = df2['srch_co']-df2['srch_ci']"
   ]
  },
  {
   "cell_type": "code",
   "execution_count": 19,
   "metadata": {
    "collapsed": false
   },
   "outputs": [
    {
     "data": {
      "text/html": [
       "<div>\n",
       "<table border=\"1\" class=\"dataframe\">\n",
       "  <thead>\n",
       "    <tr style=\"text-align: right;\">\n",
       "      <th></th>\n",
       "      <th>date_time</th>\n",
       "      <th>posa_continent</th>\n",
       "      <th>user_location_country</th>\n",
       "      <th>user_location_region</th>\n",
       "      <th>user_location_city</th>\n",
       "      <th>is_mobile</th>\n",
       "      <th>is_package</th>\n",
       "      <th>channel</th>\n",
       "      <th>srch_ci</th>\n",
       "      <th>srch_co</th>\n",
       "      <th>srch_children_cnt</th>\n",
       "      <th>srch_destination_id</th>\n",
       "      <th>srch_destination_type_id</th>\n",
       "      <th>is_booking</th>\n",
       "      <th>hotel_continent</th>\n",
       "      <th>hotel_country</th>\n",
       "      <th>hotel_market</th>\n",
       "      <th>hotel_cluster</th>\n",
       "      <th>bw</th>\n",
       "      <th>LOS</th>\n",
       "    </tr>\n",
       "  </thead>\n",
       "  <tbody>\n",
       "    <tr>\n",
       "      <th>162685</th>\n",
       "      <td>2014-07-23 08:41:08</td>\n",
       "      <td>3</td>\n",
       "      <td>66</td>\n",
       "      <td>442</td>\n",
       "      <td>47956</td>\n",
       "      <td>0</td>\n",
       "      <td>1</td>\n",
       "      <td>9</td>\n",
       "      <td>2014-09-25</td>\n",
       "      <td>2014-09-28</td>\n",
       "      <td>0.0</td>\n",
       "      <td>8287.0</td>\n",
       "      <td>1.0</td>\n",
       "      <td>1.0</td>\n",
       "      <td>2.0</td>\n",
       "      <td>198.0</td>\n",
       "      <td>397.0</td>\n",
       "      <td>55.0</td>\n",
       "      <td>63 days 15:18:52</td>\n",
       "      <td>3 days</td>\n",
       "    </tr>\n",
       "    <tr>\n",
       "      <th>782512</th>\n",
       "      <td>2014-12-04 11:00:53</td>\n",
       "      <td>3</td>\n",
       "      <td>205</td>\n",
       "      <td>354</td>\n",
       "      <td>55763</td>\n",
       "      <td>0</td>\n",
       "      <td>0</td>\n",
       "      <td>5</td>\n",
       "      <td>2014-12-24</td>\n",
       "      <td>2014-12-25</td>\n",
       "      <td>0.0</td>\n",
       "      <td>4474.0</td>\n",
       "      <td>3.0</td>\n",
       "      <td>0.0</td>\n",
       "      <td>2.0</td>\n",
       "      <td>198.0</td>\n",
       "      <td>397.0</td>\n",
       "      <td>19.0</td>\n",
       "      <td>19 days 12:59:07</td>\n",
       "      <td>1 days</td>\n",
       "    </tr>\n",
       "    <tr>\n",
       "      <th>339113</th>\n",
       "      <td>2014-06-10 12:27:38</td>\n",
       "      <td>1</td>\n",
       "      <td>69</td>\n",
       "      <td>990</td>\n",
       "      <td>12811</td>\n",
       "      <td>0</td>\n",
       "      <td>0</td>\n",
       "      <td>9</td>\n",
       "      <td>2014-06-16</td>\n",
       "      <td>2014-06-20</td>\n",
       "      <td>0.0</td>\n",
       "      <td>12267.0</td>\n",
       "      <td>6.0</td>\n",
       "      <td>0.0</td>\n",
       "      <td>2.0</td>\n",
       "      <td>50.0</td>\n",
       "      <td>1230.0</td>\n",
       "      <td>83.0</td>\n",
       "      <td>5 days 11:32:22</td>\n",
       "      <td>4 days</td>\n",
       "    </tr>\n",
       "    <tr>\n",
       "      <th>99462</th>\n",
       "      <td>2014-09-01 09:50:53</td>\n",
       "      <td>3</td>\n",
       "      <td>66</td>\n",
       "      <td>363</td>\n",
       "      <td>51253</td>\n",
       "      <td>0</td>\n",
       "      <td>0</td>\n",
       "      <td>9</td>\n",
       "      <td>2014-09-13</td>\n",
       "      <td>2014-09-14</td>\n",
       "      <td>0.0</td>\n",
       "      <td>1795.0</td>\n",
       "      <td>1.0</td>\n",
       "      <td>0.0</td>\n",
       "      <td>3.0</td>\n",
       "      <td>99.0</td>\n",
       "      <td>1312.0</td>\n",
       "      <td>67.0</td>\n",
       "      <td>11 days 14:09:07</td>\n",
       "      <td>1 days</td>\n",
       "    </tr>\n",
       "    <tr>\n",
       "      <th>674015</th>\n",
       "      <td>2014-04-15 16:30:22</td>\n",
       "      <td>1</td>\n",
       "      <td>69</td>\n",
       "      <td>560</td>\n",
       "      <td>4288</td>\n",
       "      <td>0</td>\n",
       "      <td>0</td>\n",
       "      <td>5</td>\n",
       "      <td>2014-06-16</td>\n",
       "      <td>2014-06-20</td>\n",
       "      <td>0.0</td>\n",
       "      <td>3404.0</td>\n",
       "      <td>6.0</td>\n",
       "      <td>0.0</td>\n",
       "      <td>6.0</td>\n",
       "      <td>70.0</td>\n",
       "      <td>306.0</td>\n",
       "      <td>75.0</td>\n",
       "      <td>61 days 07:29:38</td>\n",
       "      <td>4 days</td>\n",
       "    </tr>\n",
       "  </tbody>\n",
       "</table>\n",
       "</div>"
      ],
      "text/plain": [
       "                 date_time  posa_continent  user_location_country  \\\n",
       "162685 2014-07-23 08:41:08               3                     66   \n",
       "782512 2014-12-04 11:00:53               3                    205   \n",
       "339113 2014-06-10 12:27:38               1                     69   \n",
       "99462  2014-09-01 09:50:53               3                     66   \n",
       "674015 2014-04-15 16:30:22               1                     69   \n",
       "\n",
       "        user_location_region  user_location_city  is_mobile  is_package  \\\n",
       "162685                   442               47956          0           1   \n",
       "782512                   354               55763          0           0   \n",
       "339113                   990               12811          0           0   \n",
       "99462                    363               51253          0           0   \n",
       "674015                   560                4288          0           0   \n",
       "\n",
       "        channel    srch_ci    srch_co  srch_children_cnt  srch_destination_id  \\\n",
       "162685        9 2014-09-25 2014-09-28                0.0               8287.0   \n",
       "782512        5 2014-12-24 2014-12-25                0.0               4474.0   \n",
       "339113        9 2014-06-16 2014-06-20                0.0              12267.0   \n",
       "99462         9 2014-09-13 2014-09-14                0.0               1795.0   \n",
       "674015        5 2014-06-16 2014-06-20                0.0               3404.0   \n",
       "\n",
       "        srch_destination_type_id  is_booking  hotel_continent  hotel_country  \\\n",
       "162685                       1.0         1.0              2.0          198.0   \n",
       "782512                       3.0         0.0              2.0          198.0   \n",
       "339113                       6.0         0.0              2.0           50.0   \n",
       "99462                        1.0         0.0              3.0           99.0   \n",
       "674015                       6.0         0.0              6.0           70.0   \n",
       "\n",
       "        hotel_market  hotel_cluster               bw    LOS  \n",
       "162685         397.0           55.0 63 days 15:18:52 3 days  \n",
       "782512         397.0           19.0 19 days 12:59:07 1 days  \n",
       "339113        1230.0           83.0  5 days 11:32:22 4 days  \n",
       "99462         1312.0           67.0 11 days 14:09:07 1 days  \n",
       "674015         306.0           75.0 61 days 07:29:38 4 days  "
      ]
     },
     "execution_count": 19,
     "metadata": {},
     "output_type": "execute_result"
    }
   ],
   "source": [
    "# check new columns\n",
    "df2.head()"
   ]
  },
  {
   "cell_type": "code",
   "execution_count": 20,
   "metadata": {
    "collapsed": false
   },
   "outputs": [
    {
     "data": {
      "text/plain": [
       "162685    63\n",
       "782512    19\n",
       "339113     5\n",
       "99462     11\n",
       "674015    61\n",
       "Name: bw, dtype: int64"
      ]
     },
     "execution_count": 20,
     "metadata": {},
     "output_type": "execute_result"
    }
   ],
   "source": [
    "# convert to number format booking window and length of stay columns\n",
    "df2.bw.dt.days.head()"
   ]
  },
  {
   "cell_type": "code",
   "execution_count": 21,
   "metadata": {
    "collapsed": true
   },
   "outputs": [],
   "source": [
    "df2['bw']=df2.bw.dt.days"
   ]
  },
  {
   "cell_type": "code",
   "execution_count": 22,
   "metadata": {
    "collapsed": false
   },
   "outputs": [],
   "source": [
    "df2['LOS']=df2.LOS.dt.days"
   ]
  },
  {
   "cell_type": "markdown",
   "metadata": {},
   "source": [
    "### Create second dataframe"
   ]
  },
  {
   "cell_type": "code",
   "execution_count": 24,
   "metadata": {
    "collapsed": true
   },
   "outputs": [],
   "source": [
    "# Drop unnecessary columns\n",
    "df1 = data.drop(['user_id','srch_co','srch_adults_cnt','srch_rm_cnt', 'cnt','site_name',], axis=1)"
   ]
  },
  {
   "cell_type": "code",
   "execution_count": 25,
   "metadata": {
    "collapsed": false
   },
   "outputs": [],
   "source": [
    "#Drop missing values\n",
    "df1 = df1.dropna(axis=0,subset=['srch_ci','orig_destination_distance'])"
   ]
  },
  {
   "cell_type": "code",
   "execution_count": 26,
   "metadata": {
    "collapsed": false
   },
   "outputs": [
    {
     "data": {
      "text/plain": [
       "0L"
      ]
     },
     "execution_count": 26,
     "metadata": {},
     "output_type": "execute_result"
    }
   ],
   "source": [
    "#check for missing values again\n",
    "df1.isnull().sum().sum()"
   ]
  },
  {
   "cell_type": "code",
   "execution_count": 27,
   "metadata": {
    "collapsed": false
   },
   "outputs": [
    {
     "data": {
      "text/plain": [
       "(241605, 18)"
      ]
     },
     "execution_count": 27,
     "metadata": {},
     "output_type": "execute_result"
    }
   ],
   "source": [
    "df1.shape"
   ]
  },
  {
   "cell_type": "markdown",
   "metadata": {},
   "source": [
    "## Perform exploratory data analysis"
   ]
  },
  {
   "cell_type": "code",
   "execution_count": 28,
   "metadata": {
    "collapsed": false
   },
   "outputs": [
    {
     "data": {
      "text/html": [
       "<div>\n",
       "<table border=\"1\" class=\"dataframe\">\n",
       "  <thead>\n",
       "    <tr style=\"text-align: right;\">\n",
       "      <th></th>\n",
       "      <th>posa_continent</th>\n",
       "      <th>user_location_country</th>\n",
       "      <th>user_location_region</th>\n",
       "      <th>user_location_city</th>\n",
       "      <th>orig_destination_distance</th>\n",
       "      <th>is_mobile</th>\n",
       "      <th>is_package</th>\n",
       "      <th>channel</th>\n",
       "      <th>srch_children_cnt</th>\n",
       "      <th>srch_destination_id</th>\n",
       "      <th>srch_destination_type_id</th>\n",
       "      <th>is_booking</th>\n",
       "      <th>hotel_continent</th>\n",
       "      <th>hotel_country</th>\n",
       "      <th>hotel_market</th>\n",
       "      <th>hotel_cluster</th>\n",
       "    </tr>\n",
       "  </thead>\n",
       "  <tbody>\n",
       "    <tr>\n",
       "      <th>count</th>\n",
       "      <td>241605.000000</td>\n",
       "      <td>241605.00000</td>\n",
       "      <td>241605.000000</td>\n",
       "      <td>241605.000000</td>\n",
       "      <td>241605.000000</td>\n",
       "      <td>241605.000000</td>\n",
       "      <td>241605.000000</td>\n",
       "      <td>241605.000000</td>\n",
       "      <td>241605.000000</td>\n",
       "      <td>241605.000000</td>\n",
       "      <td>241605.000000</td>\n",
       "      <td>241605.000000</td>\n",
       "      <td>241605.000000</td>\n",
       "      <td>241605.000000</td>\n",
       "      <td>241605.000000</td>\n",
       "      <td>241605.000000</td>\n",
       "    </tr>\n",
       "    <tr>\n",
       "      <th>mean</th>\n",
       "      <td>2.902887</td>\n",
       "      <td>87.78750</td>\n",
       "      <td>311.813236</td>\n",
       "      <td>28108.869233</td>\n",
       "      <td>1968.588822</td>\n",
       "      <td>0.136036</td>\n",
       "      <td>0.244246</td>\n",
       "      <td>6.007674</td>\n",
       "      <td>0.352083</td>\n",
       "      <td>14377.571118</td>\n",
       "      <td>2.624035</td>\n",
       "      <td>0.082436</td>\n",
       "      <td>2.891567</td>\n",
       "      <td>73.986975</td>\n",
       "      <td>621.067296</td>\n",
       "      <td>49.788891</td>\n",
       "    </tr>\n",
       "    <tr>\n",
       "      <th>std</th>\n",
       "      <td>0.539105</td>\n",
       "      <td>54.48369</td>\n",
       "      <td>144.740950</td>\n",
       "      <td>16569.024768</td>\n",
       "      <td>2230.313580</td>\n",
       "      <td>0.342828</td>\n",
       "      <td>0.429640</td>\n",
       "      <td>3.728256</td>\n",
       "      <td>0.757640</td>\n",
       "      <td>10779.470828</td>\n",
       "      <td>2.165187</td>\n",
       "      <td>0.275029</td>\n",
       "      <td>1.496237</td>\n",
       "      <td>53.495520</td>\n",
       "      <td>475.599103</td>\n",
       "      <td>29.139832</td>\n",
       "    </tr>\n",
       "    <tr>\n",
       "      <th>min</th>\n",
       "      <td>0.000000</td>\n",
       "      <td>0.00000</td>\n",
       "      <td>135.000000</td>\n",
       "      <td>0.000000</td>\n",
       "      <td>0.005600</td>\n",
       "      <td>0.000000</td>\n",
       "      <td>0.000000</td>\n",
       "      <td>0.000000</td>\n",
       "      <td>0.000000</td>\n",
       "      <td>4.000000</td>\n",
       "      <td>1.000000</td>\n",
       "      <td>0.000000</td>\n",
       "      <td>0.000000</td>\n",
       "      <td>0.000000</td>\n",
       "      <td>0.000000</td>\n",
       "      <td>0.000000</td>\n",
       "    </tr>\n",
       "    <tr>\n",
       "      <th>25%</th>\n",
       "      <td>3.000000</td>\n",
       "      <td>66.00000</td>\n",
       "      <td>174.000000</td>\n",
       "      <td>14656.000000</td>\n",
       "      <td>311.800700</td>\n",
       "      <td>0.000000</td>\n",
       "      <td>0.000000</td>\n",
       "      <td>2.000000</td>\n",
       "      <td>0.000000</td>\n",
       "      <td>8267.000000</td>\n",
       "      <td>1.000000</td>\n",
       "      <td>0.000000</td>\n",
       "      <td>2.000000</td>\n",
       "      <td>50.000000</td>\n",
       "      <td>245.000000</td>\n",
       "      <td>25.000000</td>\n",
       "    </tr>\n",
       "    <tr>\n",
       "      <th>50%</th>\n",
       "      <td>3.000000</td>\n",
       "      <td>66.00000</td>\n",
       "      <td>321.000000</td>\n",
       "      <td>27655.000000</td>\n",
       "      <td>1138.178000</td>\n",
       "      <td>0.000000</td>\n",
       "      <td>0.000000</td>\n",
       "      <td>9.000000</td>\n",
       "      <td>0.000000</td>\n",
       "      <td>11319.000000</td>\n",
       "      <td>1.000000</td>\n",
       "      <td>0.000000</td>\n",
       "      <td>2.000000</td>\n",
       "      <td>50.000000</td>\n",
       "      <td>628.000000</td>\n",
       "      <td>48.000000</td>\n",
       "    </tr>\n",
       "    <tr>\n",
       "      <th>75%</th>\n",
       "      <td>3.000000</td>\n",
       "      <td>66.00000</td>\n",
       "      <td>363.000000</td>\n",
       "      <td>43175.000000</td>\n",
       "      <td>2554.396100</td>\n",
       "      <td>0.000000</td>\n",
       "      <td>0.000000</td>\n",
       "      <td>9.000000</td>\n",
       "      <td>0.000000</td>\n",
       "      <td>17859.000000</td>\n",
       "      <td>5.000000</td>\n",
       "      <td>0.000000</td>\n",
       "      <td>4.000000</td>\n",
       "      <td>77.000000</td>\n",
       "      <td>701.000000</td>\n",
       "      <td>73.000000</td>\n",
       "    </tr>\n",
       "    <tr>\n",
       "      <th>max</th>\n",
       "      <td>4.000000</td>\n",
       "      <td>215.00000</td>\n",
       "      <td>1021.000000</td>\n",
       "      <td>56507.000000</td>\n",
       "      <td>11794.745400</td>\n",
       "      <td>1.000000</td>\n",
       "      <td>1.000000</td>\n",
       "      <td>10.000000</td>\n",
       "      <td>9.000000</td>\n",
       "      <td>65047.000000</td>\n",
       "      <td>9.000000</td>\n",
       "      <td>1.000000</td>\n",
       "      <td>6.000000</td>\n",
       "      <td>212.000000</td>\n",
       "      <td>2117.000000</td>\n",
       "      <td>99.000000</td>\n",
       "    </tr>\n",
       "  </tbody>\n",
       "</table>\n",
       "</div>"
      ],
      "text/plain": [
       "       posa_continent  user_location_country  user_location_region  \\\n",
       "count   241605.000000           241605.00000         241605.000000   \n",
       "mean         2.902887               87.78750            311.813236   \n",
       "std          0.539105               54.48369            144.740950   \n",
       "min          0.000000                0.00000            135.000000   \n",
       "25%          3.000000               66.00000            174.000000   \n",
       "50%          3.000000               66.00000            321.000000   \n",
       "75%          3.000000               66.00000            363.000000   \n",
       "max          4.000000              215.00000           1021.000000   \n",
       "\n",
       "       user_location_city  orig_destination_distance      is_mobile  \\\n",
       "count       241605.000000              241605.000000  241605.000000   \n",
       "mean         28108.869233                1968.588822       0.136036   \n",
       "std          16569.024768                2230.313580       0.342828   \n",
       "min              0.000000                   0.005600       0.000000   \n",
       "25%          14656.000000                 311.800700       0.000000   \n",
       "50%          27655.000000                1138.178000       0.000000   \n",
       "75%          43175.000000                2554.396100       0.000000   \n",
       "max          56507.000000               11794.745400       1.000000   \n",
       "\n",
       "          is_package        channel  srch_children_cnt  srch_destination_id  \\\n",
       "count  241605.000000  241605.000000      241605.000000        241605.000000   \n",
       "mean        0.244246       6.007674           0.352083         14377.571118   \n",
       "std         0.429640       3.728256           0.757640         10779.470828   \n",
       "min         0.000000       0.000000           0.000000             4.000000   \n",
       "25%         0.000000       2.000000           0.000000          8267.000000   \n",
       "50%         0.000000       9.000000           0.000000         11319.000000   \n",
       "75%         0.000000       9.000000           0.000000         17859.000000   \n",
       "max         1.000000      10.000000           9.000000         65047.000000   \n",
       "\n",
       "       srch_destination_type_id     is_booking  hotel_continent  \\\n",
       "count             241605.000000  241605.000000    241605.000000   \n",
       "mean                   2.624035       0.082436         2.891567   \n",
       "std                    2.165187       0.275029         1.496237   \n",
       "min                    1.000000       0.000000         0.000000   \n",
       "25%                    1.000000       0.000000         2.000000   \n",
       "50%                    1.000000       0.000000         2.000000   \n",
       "75%                    5.000000       0.000000         4.000000   \n",
       "max                    9.000000       1.000000         6.000000   \n",
       "\n",
       "       hotel_country   hotel_market  hotel_cluster  \n",
       "count  241605.000000  241605.000000  241605.000000  \n",
       "mean       73.986975     621.067296      49.788891  \n",
       "std        53.495520     475.599103      29.139832  \n",
       "min         0.000000       0.000000       0.000000  \n",
       "25%        50.000000     245.000000      25.000000  \n",
       "50%        50.000000     628.000000      48.000000  \n",
       "75%        77.000000     701.000000      73.000000  \n",
       "max       212.000000    2117.000000      99.000000  "
      ]
     },
     "execution_count": 28,
     "metadata": {},
     "output_type": "execute_result"
    }
   ],
   "source": [
    "# Dataset statistics\n",
    "df1.describe()"
   ]
  },
  {
   "cell_type": "code",
   "execution_count": 29,
   "metadata": {
    "collapsed": false
   },
   "outputs": [
    {
     "name": "stdout",
     "output_type": "stream",
     "text": [
      "0.136036091968\n"
     ]
    },
    {
     "data": {
      "image/png": "[encoded data removed]",
      "text/plain": [
       "<matplotlib.figure.Figure at 0xc02c860>"
      ]
     },
     "metadata": {},
     "output_type": "display_data"
    }
   ],
   "source": [
    "# Of all inqueires how many were connected via mobile device. Looks like only about 13 percent of all inqueries\n",
    "# searched via mobile device\n",
    "df1[['is_mobile']].plot(kind='hist')\n",
    "\n",
    "print df1['is_mobile'].mean()"
   ]
  },
  {
   "cell_type": "code",
   "execution_count": 32,
   "metadata": {
    "collapsed": false
   },
   "outputs": [
    {
     "data": {
      "text/plain": [
       "0    208738\n",
       "1     32867\n",
       "Name: is_mobile, dtype: int64"
      ]
     },
     "execution_count": 32,
     "metadata": {},
     "output_type": "execute_result"
    }
   ],
   "source": [
    "# 13 per cent accounted for 32867 mobile inqueries\n",
    "df1['is_mobile'].value_counts()"
   ]
  },
  {
   "cell_type": "code",
   "execution_count": 30,
   "metadata": {
    "collapsed": false
   },
   "outputs": [],
   "source": [
    "# Get group by counts for bookings by is_mobile\n",
    "df_by_mobile = pd.DataFrame()\n",
    "df_by_mobile['mobile'] = df1[df1['is_mobile']==1]['is_booking'].value_counts(normalize=True)\n",
    "df_by_mobile['other'] = df1[df1['is_mobile']==0]['is_booking'].value_counts(normalize=True)\n"
   ]
  },
  {
   "cell_type": "code",
   "execution_count": 31,
   "metadata": {
    "collapsed": false
   },
   "outputs": [
    {
     "name": "stdout",
     "output_type": "stream",
     "text": [
      "0.102374855651\n"
     ]
    },
    {
     "data": {
      "image/png": "[encoded data removed]",
      "text/plain": [
       "<matplotlib.figure.Figure at 0x55887898>"
      ]
     },
     "metadata": {},
     "output_type": "display_data"
    }
   ],
   "source": [
    "# Of all inquiries plot bookings and connection via mobile device\n",
    "# Normalized data shows that compared to desktop searches, mobile  booking rate was lower\n",
    "df_by_mobile.plot(kind='bar', title=\"Bookings by mobile access\")\n",
    "print df1[df1['is_booking']==1]['is_mobile'].mean()"
   ]
  },
  {
   "cell_type": "code",
   "execution_count": 33,
   "metadata": {
    "collapsed": false
   },
   "outputs": [
    {
     "data": {
      "text/plain": [
       "<matplotlib.axes._subplots.AxesSubplot at 0x5587ada0>"
      ]
     },
     "execution_count": 33,
     "metadata": {},
     "output_type": "execute_result"
    },
    {
     "data": {
      "image/png": "[encoded data removed]",
      "text/plain": [
       "<matplotlib.figure.Figure at 0x5588b0b8>"
      ]
     },
     "metadata": {},
     "output_type": "display_data"
    }
   ],
   "source": [
    "# of all mobile inqueiries how many resulted in a booking\n",
    "sns.countplot('is_mobile',data=df1[df1['is_booking']==1])"
   ]
  },
  {
   "cell_type": "code",
   "execution_count": 34,
   "metadata": {
    "collapsed": false
   },
   "outputs": [
    {
     "data": {
      "text/plain": [
       "<matplotlib.axes._subplots.AxesSubplot at 0x76fdea20>"
      ]
     },
     "execution_count": 34,
     "metadata": {},
     "output_type": "execute_result"
    },
    {
     "data": {
      "image/png": "[encoded data removed]",
      "text/plain": [
       "<matplotlib.figure.Figure at 0x5e1f9320>"
      ]
     },
     "metadata": {},
     "output_type": "display_data"
    }
   ],
   "source": [
    "# All bookings by user continent and mobile access\n",
    "# Users from continent 3 have more bookings both via mobile and desktop devices compared to other continents\n",
    "sns.countplot('posa_continent', data=df1[df1['is_booking']==1], hue='is_mobile')"
   ]
  },
  {
   "cell_type": "code",
   "execution_count": 35,
   "metadata": {
    "collapsed": true
   },
   "outputs": [],
   "source": [
    "# subset inqueries that resulted in a booking\n",
    "bookings = df1[df1['is_booking']==1]"
   ]
  },
  {
   "cell_type": "code",
   "execution_count": 36,
   "metadata": {
    "collapsed": true
   },
   "outputs": [],
   "source": [
    "# subset data that was accessed through mobile device\n",
    "mobile = df1[df1['is_mobile']==1]"
   ]
  },
  {
   "cell_type": "code",
   "execution_count": 37,
   "metadata": {
    "collapsed": false
   },
   "outputs": [
    {
     "data": {
      "text/plain": [
       "(19917, 18)"
      ]
     },
     "execution_count": 37,
     "metadata": {},
     "output_type": "execute_result"
    }
   ],
   "source": [
    "bookings.shape"
   ]
  },
  {
   "cell_type": "code",
   "execution_count": 38,
   "metadata": {
    "collapsed": false
   },
   "outputs": [
    {
     "data": {
      "text/plain": [
       "<matplotlib.axes._subplots.AxesSubplot at 0x4c83b710>"
      ]
     },
     "execution_count": 38,
     "metadata": {},
     "output_type": "execute_result"
    },
    {
     "data": {
      "image/png": "[encoded data removed]",
      "text/plain": [
       "<matplotlib.figure.Figure at 0x76fbd7f0>"
      ]
     },
     "metadata": {},
     "output_type": "display_data"
    }
   ],
   "source": [
    "# Plot bookings by user location country and by hotel country\n",
    "# Users from country id 66 book the most\n",
    "fig, (axis1,axis2) = plt.subplots(2,1,figsize=(20,10))\n",
    "sns.countplot('user_location_country', data=bookings, ax=axis1,palette=\"Set2\")\n",
    "sns.countplot('hotel_country',data=bookings,ax=axis2, palette=\"Set2\")"
   ]
  },
  {
   "cell_type": "code",
   "execution_count": 39,
   "metadata": {
    "collapsed": false
   },
   "outputs": [
    {
     "data": {
      "text/plain": [
       "50.0     13002\n",
       "198.0     1668\n",
       "8.0        604\n",
       "105.0      506\n",
       "70.0       370\n",
       "Name: hotel_country, dtype: int64"
      ]
     },
     "execution_count": 39,
     "metadata": {},
     "output_type": "execute_result"
    }
   ],
   "source": [
    "# Top 5 contries with most booked hotels\n",
    "bookings.hotel_country.value_counts()[:5,]"
   ]
  },
  {
   "cell_type": "code",
   "execution_count": 40,
   "metadata": {
    "collapsed": false
   },
   "outputs": [
    {
     "data": {
      "text/plain": [
       "50.0     141060\n",
       "8.0       15208\n",
       "198.0     14232\n",
       "105.0      7505\n",
       "70.0       5281\n",
       "Name: hotel_country, dtype: int64"
      ]
     },
     "execution_count": 40,
     "metadata": {},
     "output_type": "execute_result"
    }
   ],
   "source": [
    "# Top 5 contries with most searched hotels\n",
    "df1.hotel_country.value_counts()[:5,]"
   ]
  },
  {
   "cell_type": "code",
   "execution_count": 41,
   "metadata": {
    "collapsed": false
   },
   "outputs": [
    {
     "data": {
      "text/plain": [
       "<matplotlib.axes._subplots.AxesSubplot at 0x558688d0>"
      ]
     },
     "execution_count": 41,
     "metadata": {},
     "output_type": "execute_result"
    },
    {
     "data": {
      "image/png": "[encoded data removed]",
      "text/plain": [
       "<matplotlib.figure.Figure at 0x4f6f2320>"
      ]
     },
     "metadata": {},
     "output_type": "display_data"
    }
   ],
   "source": [
    "# Compare bookings from user continent and hotel continent\n",
    "# Again users from continent 3 (probably North America) book the most, and hotels on continent number 2 are the most booked.\n",
    "fig, (axis1,axis2) = plt.subplots(2,1,figsize=(20,10))\n",
    "sns.countplot('posa_continent', data=bookings, ax=axis1,palette=\"Set2\")\n",
    "sns.countplot('hotel_continent',data=bookings,ax=axis2, palette=\"Set2\")"
   ]
  },
  {
   "cell_type": "code",
   "execution_count": 42,
   "metadata": {
    "collapsed": false
   },
   "outputs": [
    {
     "data": {
      "text/plain": [
       "<matplotlib.axes._subplots.AxesSubplot at 0x5588d780>"
      ]
     },
     "execution_count": 42,
     "metadata": {},
     "output_type": "execute_result"
    },
    {
     "data": {
      "image/png": "[encoded data removed]",
      "text/plain": [
       "<matplotlib.figure.Figure at 0x4f729828>"
      ]
     },
     "metadata": {},
     "output_type": "display_data"
    }
   ],
   "source": [
    "# Plot booked hotel clusters\n",
    "bookings[\"hotel_cluster\"].value_counts().plot(kind='bar',figsize=(15,5),cmap='summer')"
   ]
  },
  {
   "cell_type": "code",
   "execution_count": 43,
   "metadata": {
    "collapsed": false
   },
   "outputs": [
    {
     "data": {
      "text/plain": [
       "<matplotlib.axes._subplots.AxesSubplot at 0x642da0f0>"
      ]
     },
     "execution_count": 43,
     "metadata": {},
     "output_type": "execute_result"
    },
    {
     "data": {
      "image/png": "[encoded data removed]",
      "text/plain": [
       "<matplotlib.figure.Figure at 0x642ec9b0>"
      ]
     },
     "metadata": {},
     "output_type": "display_data"
    }
   ],
   "source": [
    "# Plot all searched hotel clusters\n",
    "df1[\"hotel_cluster\"].value_counts().plot(kind='bar', figsize=(15,5))"
   ]
  },
  {
   "cell_type": "code",
   "execution_count": 44,
   "metadata": {
    "collapsed": false
   },
   "outputs": [
    {
     "name": "stdout",
     "output_type": "stream",
     "text": [
      "Top 5 searched hotel clusters\n"
     ]
    },
    {
     "data": {
      "text/plain": [
       "91.0    8481\n",
       "48.0    5646\n",
       "41.0    5456\n",
       "65.0    5305\n",
       "18.0    4270\n",
       "Name: hotel_cluster, dtype: int64"
      ]
     },
     "execution_count": 44,
     "metadata": {},
     "output_type": "execute_result"
    }
   ],
   "source": [
    "# Look for top 5 most searched and most booked hotel clusters. 3 out of 5 hotel clusters are most booked and searched.\n",
    "# Not all hotel clusters that are in most searched appear in the top 5 for searched via mobile device -- can explore more.\n",
    "print \"Top 5 searched hotel clusters\" \n",
    "df1.hotel_cluster.value_counts()[:5,]\n"
   ]
  },
  {
   "cell_type": "code",
   "execution_count": 45,
   "metadata": {
    "collapsed": false
   },
   "outputs": [
    {
     "name": "stdout",
     "output_type": "stream",
     "text": [
      "Top 5 booked hotel clusters\n"
     ]
    },
    {
     "data": {
      "text/plain": [
       "91.0    1018\n",
       "48.0     659\n",
       "42.0     586\n",
       "28.0     493\n",
       "18.0     450\n",
       "Name: hotel_cluster, dtype: int64"
      ]
     },
     "execution_count": 45,
     "metadata": {},
     "output_type": "execute_result"
    }
   ],
   "source": [
    "print \"Top 5 booked hotel clusters\" \n",
    "bookings.hotel_cluster.value_counts()[:5,]"
   ]
  },
  {
   "cell_type": "code",
   "execution_count": 43,
   "metadata": {
    "collapsed": false
   },
   "outputs": [
    {
     "name": "stdout",
     "output_type": "stream",
     "text": [
      "Top 5 searched hotel clusters via mobile device\n"
     ]
    },
    {
     "data": {
      "text/plain": [
       "91.0    1171\n",
       "65.0     976\n",
       "41.0     799\n",
       "48.0     769\n",
       "42.0     584\n",
       "Name: hotel_cluster, dtype: int64"
      ]
     },
     "execution_count": 43,
     "metadata": {},
     "output_type": "execute_result"
    }
   ],
   "source": [
    "print \"Top 5 searched hotel clusters via mobile device\"\n",
    "mobile.hotel_cluster.value_counts()[:5,]"
   ]
  },
  {
   "cell_type": "code",
   "execution_count": 46,
   "metadata": {
    "collapsed": false
   },
   "outputs": [
    {
     "data": {
      "text/plain": [
       "<matplotlib.axes._subplots.AxesSubplot at 0x4f624d30>"
      ]
     },
     "execution_count": 46,
     "metadata": {},
     "output_type": "execute_result"
    },
    {
     "data": {
      "image/png": "[encoded data removed]",
      "text/plain": [
       "<matplotlib.figure.Figure at 0x76fb3550>"
      ]
     },
     "metadata": {},
     "output_type": "display_data"
    }
   ],
   "source": [
    "#How many inquries were for a package\n",
    "sns.countplot('is_package',data=df1)"
   ]
  },
  {
   "cell_type": "code",
   "execution_count": 47,
   "metadata": {
    "collapsed": false
   },
   "outputs": [
    {
     "data": {
      "text/plain": [
       "<matplotlib.axes._subplots.AxesSubplot at 0x5d8ce908>"
      ]
     },
     "execution_count": 47,
     "metadata": {},
     "output_type": "execute_result"
    },
    {
     "data": {
      "image/png": "[encoded data removed]",
      "text/plain": [
       "<matplotlib.figure.Figure at 0x5d8c56d8>"
      ]
     },
     "metadata": {},
     "output_type": "display_data"
    }
   ],
   "source": [
    "# Most popular channel number 9\n",
    "sns.countplot('channel', data=df1)"
   ]
  },
  {
   "cell_type": "code",
   "execution_count": null,
   "metadata": {
    "collapsed": true
   },
   "outputs": [],
   "source": [
    "sns.lmplot(x='orig_destination_distance', y='is_booking', data=df1)"
   ]
  },
  {
   "cell_type": "code",
   "execution_count": 49,
   "metadata": {
    "collapsed": false
   },
   "outputs": [],
   "source": [
    "#convert check in date column into datetime format\n",
    "df1['srch_ci'] = pd.to_datetime(df1['srch_ci'],format='%Y-%m-%d')"
   ]
  },
  {
   "cell_type": "code",
   "execution_count": 50,
   "metadata": {
    "collapsed": false
   },
   "outputs": [
    {
     "data": {
      "text/plain": [
       "162685   2014-09-25\n",
       "782512   2014-12-24\n",
       "99462    2014-09-13\n",
       "78166    2013-10-17\n",
       "708064   2014-11-14\n",
       "Name: srch_ci, dtype: datetime64[ns]"
      ]
     },
     "execution_count": 50,
     "metadata": {},
     "output_type": "execute_result"
    }
   ],
   "source": [
    "df1.srch_ci.head()"
   ]
  },
  {
   "cell_type": "code",
   "execution_count": 52,
   "metadata": {
    "collapsed": true
   },
   "outputs": [],
   "source": [
    "#convert date_time  column into datetime format\n",
    "df1['date_time'] = pd.to_datetime(df1['date_time'])"
   ]
  },
  {
   "cell_type": "code",
   "execution_count": 53,
   "metadata": {
    "collapsed": false
   },
   "outputs": [
    {
     "data": {
      "text/plain": [
       "162685   2014-07-23 08:41:08\n",
       "782512   2014-12-04 11:00:53\n",
       "99462    2014-09-01 09:50:53\n",
       "78166    2013-10-17 09:59:58\n",
       "708064   2014-02-18 11:06:09\n",
       "Name: date_time, dtype: datetime64[ns]"
      ]
     },
     "execution_count": 53,
     "metadata": {},
     "output_type": "execute_result"
    }
   ],
   "source": [
    "df1.date_time.head()"
   ]
  },
  {
   "cell_type": "code",
   "execution_count": 54,
   "metadata": {
    "collapsed": true
   },
   "outputs": [],
   "source": [
    "# reindex to check in date\n",
    "df1.set_index('srch_ci', inplace=True)"
   ]
  },
  {
   "cell_type": "code",
   "execution_count": 55,
   "metadata": {
    "collapsed": false
   },
   "outputs": [
    {
     "data": {
      "text/plain": [
       "DatetimeIndex(['2014-09-25', '2014-12-24', '2014-09-13', '2013-10-17',\n",
       "               '2014-11-14', '2013-05-21', '2013-01-28', '2014-03-28',\n",
       "               '2014-06-24', '2013-07-13',\n",
       "               ...\n",
       "               '2014-10-20', '2015-01-18', '2014-04-11', '2014-01-06',\n",
       "               '2014-12-02', '2014-03-15', '2015-01-04', '2014-11-27',\n",
       "               '2013-07-11', '2014-06-03'],\n",
       "              dtype='datetime64[ns]', name=u'srch_ci', length=241605, freq=None)"
      ]
     },
     "execution_count": 55,
     "metadata": {},
     "output_type": "execute_result"
    }
   ],
   "source": [
    "df1.index"
   ]
  },
  {
   "cell_type": "code",
   "execution_count": 56,
   "metadata": {
    "collapsed": true
   },
   "outputs": [],
   "source": [
    "# create two columns for check in year and check in month\n",
    "df1['ci_Year'] = df1.index.year\n",
    "df1['ci_Month'] = df1.index.month"
   ]
  },
  {
   "cell_type": "code",
   "execution_count": 57,
   "metadata": {
    "collapsed": false
   },
   "outputs": [
    {
     "data": {
      "text/html": [
       "<div>\n",
       "<table border=\"1\" class=\"dataframe\">\n",
       "  <thead>\n",
       "    <tr style=\"text-align: right;\">\n",
       "      <th></th>\n",
       "      <th>date_time</th>\n",
       "      <th>posa_continent</th>\n",
       "      <th>user_location_country</th>\n",
       "      <th>user_location_region</th>\n",
       "      <th>user_location_city</th>\n",
       "      <th>orig_destination_distance</th>\n",
       "      <th>is_mobile</th>\n",
       "      <th>is_package</th>\n",
       "      <th>channel</th>\n",
       "      <th>srch_children_cnt</th>\n",
       "      <th>srch_destination_id</th>\n",
       "      <th>srch_destination_type_id</th>\n",
       "      <th>is_booking</th>\n",
       "      <th>hotel_continent</th>\n",
       "      <th>hotel_country</th>\n",
       "      <th>hotel_market</th>\n",
       "      <th>hotel_cluster</th>\n",
       "      <th>ci_Year</th>\n",
       "      <th>ci_Month</th>\n",
       "    </tr>\n",
       "    <tr>\n",
       "      <th>srch_ci</th>\n",
       "      <th></th>\n",
       "      <th></th>\n",
       "      <th></th>\n",
       "      <th></th>\n",
       "      <th></th>\n",
       "      <th></th>\n",
       "      <th></th>\n",
       "      <th></th>\n",
       "      <th></th>\n",
       "      <th></th>\n",
       "      <th></th>\n",
       "      <th></th>\n",
       "      <th></th>\n",
       "      <th></th>\n",
       "      <th></th>\n",
       "      <th></th>\n",
       "      <th></th>\n",
       "      <th></th>\n",
       "      <th></th>\n",
       "    </tr>\n",
       "  </thead>\n",
       "  <tbody>\n",
       "    <tr>\n",
       "      <th>2014-05-01</th>\n",
       "      <td>2014-04-20 15:59:53</td>\n",
       "      <td>3</td>\n",
       "      <td>66</td>\n",
       "      <td>311</td>\n",
       "      <td>31592</td>\n",
       "      <td>119.6947</td>\n",
       "      <td>0</td>\n",
       "      <td>1</td>\n",
       "      <td>9</td>\n",
       "      <td>0.0</td>\n",
       "      <td>5662.0</td>\n",
       "      <td>1.0</td>\n",
       "      <td>0.0</td>\n",
       "      <td>2.0</td>\n",
       "      <td>50.0</td>\n",
       "      <td>577.0</td>\n",
       "      <td>89.0</td>\n",
       "      <td>2014</td>\n",
       "      <td>5</td>\n",
       "    </tr>\n",
       "    <tr>\n",
       "      <th>2014-05-01</th>\n",
       "      <td>2014-02-28 15:47:01</td>\n",
       "      <td>1</td>\n",
       "      <td>46</td>\n",
       "      <td>430</td>\n",
       "      <td>28602</td>\n",
       "      <td>504.7198</td>\n",
       "      <td>0</td>\n",
       "      <td>0</td>\n",
       "      <td>5</td>\n",
       "      <td>1.0</td>\n",
       "      <td>8253.0</td>\n",
       "      <td>1.0</td>\n",
       "      <td>0.0</td>\n",
       "      <td>6.0</td>\n",
       "      <td>70.0</td>\n",
       "      <td>19.0</td>\n",
       "      <td>21.0</td>\n",
       "      <td>2014</td>\n",
       "      <td>5</td>\n",
       "    </tr>\n",
       "    <tr>\n",
       "      <th>2014-05-01</th>\n",
       "      <td>2014-04-11 09:07:07</td>\n",
       "      <td>3</td>\n",
       "      <td>66</td>\n",
       "      <td>311</td>\n",
       "      <td>28451</td>\n",
       "      <td>120.1903</td>\n",
       "      <td>0</td>\n",
       "      <td>0</td>\n",
       "      <td>9</td>\n",
       "      <td>0.0</td>\n",
       "      <td>5662.0</td>\n",
       "      <td>1.0</td>\n",
       "      <td>0.0</td>\n",
       "      <td>2.0</td>\n",
       "      <td>50.0</td>\n",
       "      <td>577.0</td>\n",
       "      <td>40.0</td>\n",
       "      <td>2014</td>\n",
       "      <td>5</td>\n",
       "    </tr>\n",
       "    <tr>\n",
       "      <th>2014-05-01</th>\n",
       "      <td>2014-04-27 09:47:29</td>\n",
       "      <td>3</td>\n",
       "      <td>66</td>\n",
       "      <td>442</td>\n",
       "      <td>28620</td>\n",
       "      <td>452.7242</td>\n",
       "      <td>0</td>\n",
       "      <td>0</td>\n",
       "      <td>0</td>\n",
       "      <td>0.0</td>\n",
       "      <td>1435.0</td>\n",
       "      <td>3.0</td>\n",
       "      <td>0.0</td>\n",
       "      <td>2.0</td>\n",
       "      <td>50.0</td>\n",
       "      <td>931.0</td>\n",
       "      <td>40.0</td>\n",
       "      <td>2014</td>\n",
       "      <td>5</td>\n",
       "    </tr>\n",
       "    <tr>\n",
       "      <th>2014-05-01</th>\n",
       "      <td>2014-04-02 21:34:30</td>\n",
       "      <td>3</td>\n",
       "      <td>66</td>\n",
       "      <td>153</td>\n",
       "      <td>23511</td>\n",
       "      <td>1878.8907</td>\n",
       "      <td>0</td>\n",
       "      <td>0</td>\n",
       "      <td>2</td>\n",
       "      <td>0.0</td>\n",
       "      <td>26022.0</td>\n",
       "      <td>6.0</td>\n",
       "      <td>0.0</td>\n",
       "      <td>2.0</td>\n",
       "      <td>198.0</td>\n",
       "      <td>397.0</td>\n",
       "      <td>50.0</td>\n",
       "      <td>2014</td>\n",
       "      <td>5</td>\n",
       "    </tr>\n",
       "  </tbody>\n",
       "</table>\n",
       "</div>"
      ],
      "text/plain": [
       "                     date_time  posa_continent  user_location_country  \\\n",
       "srch_ci                                                                 \n",
       "2014-05-01 2014-04-20 15:59:53               3                     66   \n",
       "2014-05-01 2014-02-28 15:47:01               1                     46   \n",
       "2014-05-01 2014-04-11 09:07:07               3                     66   \n",
       "2014-05-01 2014-04-27 09:47:29               3                     66   \n",
       "2014-05-01 2014-04-02 21:34:30               3                     66   \n",
       "\n",
       "            user_location_region  user_location_city  \\\n",
       "srch_ci                                                \n",
       "2014-05-01                   311               31592   \n",
       "2014-05-01                   430               28602   \n",
       "2014-05-01                   311               28451   \n",
       "2014-05-01                   442               28620   \n",
       "2014-05-01                   153               23511   \n",
       "\n",
       "            orig_destination_distance  is_mobile  is_package  channel  \\\n",
       "srch_ci                                                                 \n",
       "2014-05-01                   119.6947          0           1        9   \n",
       "2014-05-01                   504.7198          0           0        5   \n",
       "2014-05-01                   120.1903          0           0        9   \n",
       "2014-05-01                   452.7242          0           0        0   \n",
       "2014-05-01                  1878.8907          0           0        2   \n",
       "\n",
       "            srch_children_cnt  srch_destination_id  srch_destination_type_id  \\\n",
       "srch_ci                                                                        \n",
       "2014-05-01                0.0               5662.0                       1.0   \n",
       "2014-05-01                1.0               8253.0                       1.0   \n",
       "2014-05-01                0.0               5662.0                       1.0   \n",
       "2014-05-01                0.0               1435.0                       3.0   \n",
       "2014-05-01                0.0              26022.0                       6.0   \n",
       "\n",
       "            is_booking  hotel_continent  hotel_country  hotel_market  \\\n",
       "srch_ci                                                                \n",
       "2014-05-01         0.0              2.0           50.0         577.0   \n",
       "2014-05-01         0.0              6.0           70.0          19.0   \n",
       "2014-05-01         0.0              2.0           50.0         577.0   \n",
       "2014-05-01         0.0              2.0           50.0         931.0   \n",
       "2014-05-01         0.0              2.0          198.0         397.0   \n",
       "\n",
       "            hotel_cluster  ci_Year  ci_Month  \n",
       "srch_ci                                       \n",
       "2014-05-01           89.0     2014         5  \n",
       "2014-05-01           21.0     2014         5  \n",
       "2014-05-01           40.0     2014         5  \n",
       "2014-05-01           40.0     2014         5  \n",
       "2014-05-01           50.0     2014         5  "
      ]
     },
     "execution_count": 57,
     "metadata": {},
     "output_type": "execute_result"
    }
   ],
   "source": [
    "# check if can filter data by year or month\n",
    "df1['2014-05-01'][:5]"
   ]
  },
  {
   "cell_type": "code",
   "execution_count": 58,
   "metadata": {
    "collapsed": false
   },
   "outputs": [],
   "source": [
    "# subset updated dataset again to get only records for bookings\n",
    "df1_bookings = df1[df1.is_booking==1]\n"
   ]
  },
  {
   "cell_type": "code",
   "execution_count": 59,
   "metadata": {
    "collapsed": false
   },
   "outputs": [
    {
     "data": {
      "text/plain": [
       "<matplotlib.axes._subplots.AxesSubplot at 0x68762518>"
      ]
     },
     "execution_count": 59,
     "metadata": {},
     "output_type": "execute_result"
    },
    {
     "data": {
      "image/png": "[encoded data removed]",
      "text/plain": [
       "<matplotlib.figure.Figure at 0x6ceac0b8>"
      ]
     },
     "metadata": {},
     "output_type": "display_data"
    }
   ],
   "source": [
    "# Plot bookings by month and by year. There are differences across months and check in year -- can explore further.\n",
    "fig, (axis1,axis2) = plt.subplots(1,2, figsize=(15,5))\n",
    "sns.countplot('ci_Month', data=df1_bookings, ax=axis1, palette=\"Set2\")\n",
    "sns.countplot('ci_Year', data=df1_bookings,ax=axis2, palette=\"Set2\")"
   ]
  },
  {
   "cell_type": "code",
   "execution_count": 60,
   "metadata": {
    "collapsed": false
   },
   "outputs": [
    {
     "data": {
      "text/plain": [
       "ci_Year\n",
       "2013     6173.0\n",
       "2014    12586.0\n",
       "2015     1158.0\n",
       "2016        0.0\n",
       "Name: is_booking, dtype: float64"
      ]
     },
     "execution_count": 60,
     "metadata": {},
     "output_type": "execute_result"
    }
   ],
   "source": [
    "# Number of bookings by check in year\n",
    "df1.groupby('ci_Year')['is_booking'].sum()"
   ]
  },
  {
   "cell_type": "code",
   "execution_count": 61,
   "metadata": {
    "collapsed": false
   },
   "outputs": [
    {
     "data": {
      "text/plain": [
       "ci_Month\n",
       "1     1121.0\n",
       "2      994.0\n",
       "3     1351.0\n",
       "4     1412.0\n",
       "5     1624.0\n",
       "6     1762.0\n",
       "7     1957.0\n",
       "8     2158.0\n",
       "9     1828.0\n",
       "10    1857.0\n",
       "11    1814.0\n",
       "12    2039.0\n",
       "Name: is_booking, dtype: float64"
      ]
     },
     "execution_count": 61,
     "metadata": {},
     "output_type": "execute_result"
    }
   ],
   "source": [
    "# Number of bookings by check in month\n",
    "df1.groupby('ci_Month')['is_booking'].sum()"
   ]
  },
  {
   "cell_type": "code",
   "execution_count": 62,
   "metadata": {
    "collapsed": false
   },
   "outputs": [
    {
     "data": {
      "text/plain": [
       "<matplotlib.axes._subplots.AxesSubplot at 0x66eb14a8>"
      ]
     },
     "execution_count": 62,
     "metadata": {},
     "output_type": "execute_result"
    },
    {
     "data": {
      "image/png": "[encoded data removed]",
      "text/plain": [
       "<matplotlib.figure.Figure at 0x6cea3208>"
      ]
     },
     "metadata": {},
     "output_type": "display_data"
    }
   ],
   "source": [
    "#Plot booking rate by check in date - percentage of all people who search hotels how many booked\n",
    "df1[['is_booking']].resample('M').mean().plot()"
   ]
  },
  {
   "cell_type": "code",
   "execution_count": 63,
   "metadata": {
    "collapsed": false
   },
   "outputs": [
    {
     "data": {
      "text/plain": [
       "<matplotlib.axes._subplots.AxesSubplot at 0x6cea3860>"
      ]
     },
     "execution_count": 63,
     "metadata": {},
     "output_type": "execute_result"
    },
    {
     "data": {
      "image/png": "[encoded data removed]",
      "text/plain": [
       "<matplotlib.figure.Figure at 0x6ceac4e0>"
      ]
     },
     "metadata": {},
     "output_type": "display_data"
    }
   ],
   "source": [
    "# Plot the total number of people who booked out of those who searched by check in date\n",
    "df1[['is_booking']].resample('M').sum().plot()"
   ]
  },
  {
   "cell_type": "code",
   "execution_count": 64,
   "metadata": {
    "collapsed": true
   },
   "outputs": [],
   "source": [
    "# Reindex to date_time column\n",
    "df1.set_index('date_time', inplace=True)"
   ]
  },
  {
   "cell_type": "code",
   "execution_count": 65,
   "metadata": {
    "collapsed": false
   },
   "outputs": [
    {
     "data": {
      "text/plain": [
       "<matplotlib.axes._subplots.AxesSubplot at 0x59a5dd68>"
      ]
     },
     "execution_count": 65,
     "metadata": {},
     "output_type": "execute_result"
    },
    {
     "data": {
      "image/png": "[encoded data removed]",
      "text/plain": [
       "<matplotlib.figure.Figure at 0x63d547f0>"
      ]
     },
     "metadata": {},
     "output_type": "display_data"
    }
   ],
   "source": [
    "# Plot bookings and booking rate by search date\n",
    "fig1= plt.figure(figsize=(15,5))\n",
    "ax11= fig1.add_subplot(121)\n",
    "df1[['is_booking']].resample('M').sum().plot(ax=ax11)\n",
    "ax22= fig1.add_subplot(122)\n",
    "df1[['is_booking']].resample('M').mean().plot(ax=ax22)"
   ]
  },
  {
   "cell_type": "code",
   "execution_count": 66,
   "metadata": {
    "collapsed": false
   },
   "outputs": [
    {
     "data": {
      "text/plain": [
       "dtype('<M8[ns]')"
      ]
     },
     "execution_count": 66,
     "metadata": {},
     "output_type": "execute_result"
    }
   ],
   "source": [
    "df1.index.dtype"
   ]
  },
  {
   "cell_type": "code",
   "execution_count": 67,
   "metadata": {
    "collapsed": false
   },
   "outputs": [],
   "source": [
    "# Subset data for the most searched/booked hotel cluster\n",
    "tophotel=df1[df1.hotel_cluster==91.0]"
   ]
  },
  {
   "cell_type": "code",
   "execution_count": 68,
   "metadata": {
    "collapsed": false
   },
   "outputs": [
    {
     "data": {
      "text/plain": [
       "<matplotlib.axes._subplots.AxesSubplot at 0x493e5080>"
      ]
     },
     "execution_count": 68,
     "metadata": {},
     "output_type": "execute_result"
    },
    {
     "data": {
      "image/png": "[encoded data removed]",
      "text/plain": [
       "<matplotlib.figure.Figure at 0x46312eb8>"
      ]
     },
     "metadata": {},
     "output_type": "display_data"
    }
   ],
   "source": [
    "# Plot booking rate and number of bookings for the top hotel cluster by search date\n",
    "fig1= plt.figure(figsize=(15,5))\n",
    "ax11= fig1.add_subplot(121)\n",
    "tophotel[['is_booking']].resample('M').sum().plot(ax=ax11)\n",
    "ax22= fig1.add_subplot(122)\n",
    "tophotel[['is_booking']].resample('M').mean().plot(ax=ax22)"
   ]
  },
  {
   "cell_type": "markdown",
   "metadata": {},
   "source": [
    "## Model for is_mobile"
   ]
  },
  {
   "cell_type": "code",
   "execution_count": null,
   "metadata": {
    "collapsed": true
   },
   "outputs": [],
   "source": [
    "# Look into relationship between searches via mobile device and bookings"
   ]
  },
  {
   "cell_type": "code",
   "execution_count": 69,
   "metadata": {
    "collapsed": false
   },
   "outputs": [
    {
     "data": {
      "text/html": [
       "<div>\n",
       "<table border=\"1\" class=\"dataframe\">\n",
       "  <thead>\n",
       "    <tr style=\"text-align: right;\">\n",
       "      <th></th>\n",
       "      <th>posa_continent</th>\n",
       "      <th>user_location_country</th>\n",
       "      <th>user_location_region</th>\n",
       "      <th>user_location_city</th>\n",
       "      <th>orig_destination_distance</th>\n",
       "      <th>is_package</th>\n",
       "      <th>channel</th>\n",
       "      <th>srch_children_cnt</th>\n",
       "      <th>srch_destination_id</th>\n",
       "      <th>srch_destination_type_id</th>\n",
       "      <th>is_booking</th>\n",
       "      <th>hotel_continent</th>\n",
       "      <th>hotel_country</th>\n",
       "      <th>hotel_market</th>\n",
       "      <th>hotel_cluster</th>\n",
       "      <th>ci_Year</th>\n",
       "      <th>ci_Month</th>\n",
       "    </tr>\n",
       "    <tr>\n",
       "      <th>is_mobile</th>\n",
       "      <th></th>\n",
       "      <th></th>\n",
       "      <th></th>\n",
       "      <th></th>\n",
       "      <th></th>\n",
       "      <th></th>\n",
       "      <th></th>\n",
       "      <th></th>\n",
       "      <th></th>\n",
       "      <th></th>\n",
       "      <th></th>\n",
       "      <th></th>\n",
       "      <th></th>\n",
       "      <th></th>\n",
       "      <th></th>\n",
       "      <th></th>\n",
       "      <th></th>\n",
       "    </tr>\n",
       "  </thead>\n",
       "  <tbody>\n",
       "    <tr>\n",
       "      <th>0</th>\n",
       "      <td>2.898524</td>\n",
       "      <td>87.905020</td>\n",
       "      <td>312.434554</td>\n",
       "      <td>28144.513572</td>\n",
       "      <td>2018.581479</td>\n",
       "      <td>0.236426</td>\n",
       "      <td>6.068914</td>\n",
       "      <td>0.344374</td>\n",
       "      <td>14411.855316</td>\n",
       "      <td>2.637953</td>\n",
       "      <td>0.085648</td>\n",
       "      <td>2.912139</td>\n",
       "      <td>74.652833</td>\n",
       "      <td>619.885756</td>\n",
       "      <td>49.706421</td>\n",
       "      <td>2013.841754</td>\n",
       "      <td>7.114593</td>\n",
       "    </tr>\n",
       "    <tr>\n",
       "      <th>1</th>\n",
       "      <td>2.930599</td>\n",
       "      <td>87.041135</td>\n",
       "      <td>307.867253</td>\n",
       "      <td>27882.492378</td>\n",
       "      <td>1651.085937</td>\n",
       "      <td>0.293912</td>\n",
       "      <td>5.618736</td>\n",
       "      <td>0.401041</td>\n",
       "      <td>14159.832507</td>\n",
       "      <td>2.535644</td>\n",
       "      <td>0.062038</td>\n",
       "      <td>2.760915</td>\n",
       "      <td>69.758116</td>\n",
       "      <td>628.571242</td>\n",
       "      <td>50.312654</td>\n",
       "      <td>2013.885752</td>\n",
       "      <td>7.192168</td>\n",
       "    </tr>\n",
       "  </tbody>\n",
       "</table>\n",
       "</div>"
      ],
      "text/plain": [
       "           posa_continent  user_location_country  user_location_region  \\\n",
       "is_mobile                                                                \n",
       "0                2.898524              87.905020            312.434554   \n",
       "1                2.930599              87.041135            307.867253   \n",
       "\n",
       "           user_location_city  orig_destination_distance  is_package  \\\n",
       "is_mobile                                                              \n",
       "0                28144.513572                2018.581479    0.236426   \n",
       "1                27882.492378                1651.085937    0.293912   \n",
       "\n",
       "            channel  srch_children_cnt  srch_destination_id  \\\n",
       "is_mobile                                                     \n",
       "0          6.068914           0.344374         14411.855316   \n",
       "1          5.618736           0.401041         14159.832507   \n",
       "\n",
       "           srch_destination_type_id  is_booking  hotel_continent  \\\n",
       "is_mobile                                                          \n",
       "0                          2.637953    0.085648         2.912139   \n",
       "1                          2.535644    0.062038         2.760915   \n",
       "\n",
       "           hotel_country  hotel_market  hotel_cluster      ci_Year  ci_Month  \n",
       "is_mobile                                                                     \n",
       "0              74.652833    619.885756      49.706421  2013.841754  7.114593  \n",
       "1              69.758116    628.571242      50.312654  2013.885752  7.192168  "
      ]
     },
     "execution_count": 69,
     "metadata": {},
     "output_type": "execute_result"
    }
   ],
   "source": [
    "# check for means groupped by is_mobile; there is difference in means for origin to destination distance variable and bookings\n",
    "df1.groupby('is_mobile').mean()"
   ]
  },
  {
   "cell_type": "code",
   "execution_count": 70,
   "metadata": {
    "collapsed": false
   },
   "outputs": [
    {
     "data": {
      "text/plain": [
       "0.08243620785993667"
      ]
     },
     "execution_count": 70,
     "metadata": {},
     "output_type": "execute_result"
    }
   ],
   "source": [
    "\n",
    "df1.is_booking.mean()"
   ]
  },
  {
   "cell_type": "code",
   "execution_count": 71,
   "metadata": {
    "collapsed": false
   },
   "outputs": [
    {
     "data": {
      "text/plain": [
       "0.13603609196829536"
      ]
     },
     "execution_count": 71,
     "metadata": {},
     "output_type": "execute_result"
    }
   ],
   "source": [
    "# How many searches are made trhough mobile device - approx. 13%\n",
    "df1.is_mobile.mean()"
   ]
  },
  {
   "cell_type": "code",
   "execution_count": 72,
   "metadata": {
    "collapsed": true
   },
   "outputs": [],
   "source": [
    "# Create a StandardScaler instance to normalize\n",
    "from sklearn.preprocessing import StandardScaler\n",
    "scaler = StandardScaler()"
   ]
  },
  {
   "cell_type": "code",
   "execution_count": 74,
   "metadata": {
    "collapsed": true
   },
   "outputs": [],
   "source": [
    "# First, I will try a basic model with is_booking as outcome and is_mobile as predictor\n",
    "# Do train_test_split\n",
    "from sklearn.cross_validation import train_test_split\n",
    "X = df1[['is_mobile']]\n",
    "y = df1['is_booking']\n",
    "\n",
    "X_train, X_test, y_train, y_test = cross_validation.train_test_split(X, y, random_state=1)"
   ]
  },
  {
   "cell_type": "code",
   "execution_count": 75,
   "metadata": {
    "collapsed": false
   },
   "outputs": [
    {
     "name": "stdout",
     "output_type": "stream",
     "text": [
      "Means:  [ 0.13634984]\n",
      "Standard Deviations:  [ 0.34315967]\n"
     ]
    }
   ],
   "source": [
    "# Fit standard scaler on the training data only\n",
    "scaler.fit(X_train)\n",
    "print 'Means: ', scaler.mean_\n",
    "print 'Standard Deviations: ', scaler.scale_"
   ]
  },
  {
   "cell_type": "code",
   "execution_count": 76,
   "metadata": {
    "collapsed": false
   },
   "outputs": [],
   "source": [
    "# Apply the scaling to training data\n",
    "X_train_scaled = scaler.transform(X_train)"
   ]
  },
  {
   "cell_type": "code",
   "execution_count": 77,
   "metadata": {
    "collapsed": false
   },
   "outputs": [],
   "source": [
    " # Apply the scaling to testing data\n",
    "X_test_scaled = scaler.transform(X_test)"
   ]
  },
  {
   "cell_type": "code",
   "execution_count": 78,
   "metadata": {
    "collapsed": false
   },
   "outputs": [
    {
     "name": "stdout",
     "output_type": "stream",
     "text": [
      "[[-0.12107299]]\n"
     ]
    }
   ],
   "source": [
    "# Fit a logistic model because I am predicting a binary variable (click=0, booking=1)\n",
    "# Looks like there is a negative relationship with the outcome if user is searching via mobile device\n",
    "from sklearn import linear_model\n",
    "logit_simple = linear_model.LogisticRegression(C=1e9).fit(X_train_scaled, y_train)\n",
    "\n",
    "print logit_simple.coef_"
   ]
  },
  {
   "cell_type": "code",
   "execution_count": 79,
   "metadata": {
    "collapsed": false
   },
   "outputs": [
    {
     "name": "stdout",
     "output_type": "stream",
     "text": [
      "0.917495847199\n",
      "0.917767623589\n"
     ]
    }
   ],
   "source": [
    "print metrics.accuracy_score(y_train, logit_simple.predict(X_train_scaled))\n",
    "print metrics.accuracy_score(y_test, logit_simple.predict(X_test_scaled))"
   ]
  },
  {
   "cell_type": "code",
   "execution_count": 80,
   "metadata": {
    "collapsed": true
   },
   "outputs": [],
   "source": [
    "y_pred = logit_simple.predict(X_test_scaled)\n",
    "y_pred_proba = logit_simple.predict_proba(X_test_scaled)"
   ]
  },
  {
   "cell_type": "code",
   "execution_count": 82,
   "metadata": {
    "collapsed": false
   },
   "outputs": [
    {
     "data": {
      "text/plain": [
       "count    60402.000000\n",
       "mean         0.082232\n",
       "std          0.274721\n",
       "min          0.000000\n",
       "25%          0.000000\n",
       "50%          0.000000\n",
       "75%          0.000000\n",
       "max          1.000000\n",
       "Name: is_booking, dtype: float64"
      ]
     },
     "execution_count": 82,
     "metadata": {},
     "output_type": "execute_result"
    }
   ],
   "source": [
    "y_test.describe()"
   ]
  },
  {
   "cell_type": "code",
   "execution_count": 83,
   "metadata": {
    "collapsed": false
   },
   "outputs": [
    {
     "data": {
      "text/plain": [
       "array([[55435,     0],\n",
       "       [ 4967,     0]])"
      ]
     },
     "execution_count": 83,
     "metadata": {},
     "output_type": "execute_result"
    }
   ],
   "source": [
    "# model is just predictig that all mobile searches will result with a click\n",
    "metrics.confusion_matrix(y_test, y_pred)"
   ]
  },
  {
   "cell_type": "code",
   "execution_count": 375,
   "metadata": {
    "collapsed": true
   },
   "outputs": [],
   "source": [
    "# Build more complicated model adding origin to destination distance and is_package variable\n",
    "X = df1[['orig_destination_distance','is_package','is_mobile']]\n",
    "y = df1['is_booking']\n",
    "\n",
    "X_train, X_test, y_train, y_test = cross_validation.train_test_split(X, y, random_state=5)"
   ]
  },
  {
   "cell_type": "code",
   "execution_count": 376,
   "metadata": {
    "collapsed": false
   },
   "outputs": [
    {
     "name": "stdout",
     "output_type": "stream",
     "text": [
      "Means:  [  1.97287463e+03   2.44328184e-01   1.36167723e-01]\n",
      "Standard Deviations:  [  2.23106648e+03   4.29688169e-01   3.42966579e-01]\n"
     ]
    }
   ],
   "source": [
    "scaler.fit(X_train)\n",
    "print 'Means: ', scaler.mean_\n",
    "print 'Standard Deviations: ', scaler.scale_"
   ]
  },
  {
   "cell_type": "code",
   "execution_count": 377,
   "metadata": {
    "collapsed": true
   },
   "outputs": [],
   "source": [
    "# Apply scaling to training and testing data\n",
    "X_train_scaled = scaler.transform(X_train)\n",
    "X_test_scaled = scaler.transform(X_test)\n"
   ]
  },
  {
   "cell_type": "code",
   "execution_count": 378,
   "metadata": {
    "collapsed": false
   },
   "outputs": [
    {
     "name": "stdout",
     "output_type": "stream",
     "text": [
      "[[-0.14103022 -0.34507872 -0.10665983]]\n"
     ]
    }
   ],
   "source": [
    "# Fit a new logistic regression model\n",
    "logit = linear_model.LogisticRegression().fit(X_train_scaled,y_train)\n",
    "\n",
    "print logit.coef_"
   ]
  },
  {
   "cell_type": "code",
   "execution_count": 371,
   "metadata": {
    "collapsed": false
   },
   "outputs": [
    {
     "name": "stdout",
     "output_type": "stream",
     "text": [
      "0.917981490373\n",
      "0.916310718188\n"
     ]
    }
   ],
   "source": [
    "print metrics.accuracy_score(y_train, logit.predict(X_train_scaled))\n",
    "print metrics.accuracy_score(y_test, logit.predict(X_test_scaled))"
   ]
  },
  {
   "cell_type": "code",
   "execution_count": 379,
   "metadata": {
    "collapsed": true
   },
   "outputs": [],
   "source": [
    "y_pred = logit.predict(X_test_scaled)\n",
    "y_pred_proba = logit.predict_proba(X_test_scaled)"
   ]
  },
  {
   "cell_type": "code",
   "execution_count": 380,
   "metadata": {
    "collapsed": false
   },
   "outputs": [
    {
     "data": {
      "text/plain": [
       "array([[ 0.91931317,  0.08068683],\n",
       "       [ 0.92159552,  0.07840448],\n",
       "       [ 0.91619626,  0.08380374],\n",
       "       [ 0.89828791,  0.10171209],\n",
       "       [ 0.9145413 ,  0.0854587 ]])"
      ]
     },
     "execution_count": 380,
     "metadata": {},
     "output_type": "execute_result"
    }
   ],
   "source": [
    "y_pred_proba[:5]"
   ]
  },
  {
   "cell_type": "code",
   "execution_count": 381,
   "metadata": {
    "collapsed": false
   },
   "outputs": [
    {
     "data": {
      "text/plain": [
       "array([[55347,     0],\n",
       "       [ 5055,     0]])"
      ]
     },
     "execution_count": 381,
     "metadata": {},
     "output_type": "execute_result"
    }
   ],
   "source": [
    "# Again model is predicting all mobile searches will result in a click\n",
    "metrics.confusion_matrix(y_test, y_pred)"
   ]
  },
  {
   "cell_type": "code",
   "execution_count": 382,
   "metadata": {
    "collapsed": false
   },
   "outputs": [
    {
     "data": {
      "text/plain": [
       "0.59589043798609886"
      ]
     },
     "execution_count": 382,
     "metadata": {},
     "output_type": "execute_result"
    }
   ],
   "source": [
    "# AUC score improved slightly from previous run (from approx. 0.56 to 0.595) with the addition of new variables.\n",
    "# I tested running the model with and without is_mobile variable. Although the is_mobile variable does not have a sizable\n",
    "# impact on bookings, it did make small difference predicting the booking outcome.\n",
    "metrics.roc_auc_score(y_test, y_pred_proba[:,1])"
   ]
  },
  {
   "cell_type": "code",
   "execution_count": 383,
   "metadata": {
    "collapsed": true
   },
   "outputs": [],
   "source": [
    "fpr, tpr, thresholds = metrics.roc_curve(y_test, y_pred_proba[:,1])"
   ]
  },
  {
   "cell_type": "code",
   "execution_count": 384,
   "metadata": {
    "collapsed": false
   },
   "outputs": [
    {
     "data": {
      "text/plain": [
       "[<matplotlib.lines.Line2D at 0x57b57128>]"
      ]
     },
     "execution_count": 384,
     "metadata": {},
     "output_type": "execute_result"
    },
    {
     "data": {
      "image/png": "[encoded data removed]",
      "text/plain": [
       "<matplotlib.figure.Figure at 0xc5dbba8>"
      ]
     },
     "metadata": {},
     "output_type": "display_data"
    }
   ],
   "source": [
    "# AUC curve plot improved a little.\n",
    "plt.figure()\n",
    "plt.plot(fpr, tpr)"
   ]
  },
  {
   "cell_type": "markdown",
   "metadata": {},
   "source": [
    "## Predicting Hotel Cluster"
   ]
  },
  {
   "cell_type": "markdown",
   "metadata": {},
   "source": [
    "### Logistic regression"
   ]
  },
  {
   "cell_type": "code",
   "execution_count": 117,
   "metadata": {
    "collapsed": false
   },
   "outputs": [
    {
     "data": {
      "text/plain": [
       "Index([u'posa_continent', u'user_location_country', u'user_location_region',\n",
       "       u'user_location_city', u'orig_destination_distance', u'is_mobile',\n",
       "       u'is_package', u'channel', u'srch_children_cnt', u'srch_destination_id',\n",
       "       u'srch_destination_type_id', u'is_booking', u'hotel_continent',\n",
       "       u'hotel_country', u'hotel_market', u'hotel_cluster', u'ci_Year',\n",
       "       u'ci_Month'],\n",
       "      dtype='object')"
      ]
     },
     "execution_count": 117,
     "metadata": {},
     "output_type": "execute_result"
    }
   ],
   "source": [
    "# Since the outcome is class (hotel cluste), it is appropriate to use logistic regression.\n",
    "# I fit logisitc regression on both df1 and df2 datasets. \n",
    "df1.columns"
   ]
  },
  {
   "cell_type": "code",
   "execution_count": 312,
   "metadata": {
    "collapsed": false
   },
   "outputs": [
    {
     "data": {
      "text/plain": [
       "user_location_country       -0.017823\n",
       "user_location_region         0.009491\n",
       "user_location_city          -0.002622\n",
       "orig_destination_distance    0.007690\n",
       "is_mobile                    0.007132\n",
       "is_package                   0.044908\n",
       "channel                      0.002850\n",
       "srch_children_cnt            0.011556\n",
       "srch_destination_id         -0.016413\n",
       "srch_destination_type_id    -0.034978\n",
       "is_booking                  -0.026262\n",
       "hotel_continent              0.002333\n",
       "hotel_market                 0.024345\n",
       "hotel_cluster                1.000000\n",
       "ci_Year                      0.008727\n",
       "ci_Month                     0.001544\n",
       "hotel_country_0.0           -0.033132\n",
       "hotel_country_1.0            0.002803\n",
       "hotel_country_2.0           -0.000392\n",
       "hotel_country_3.0            0.001950\n",
       "hotel_country_4.0            0.000088\n",
       "hotel_country_5.0            0.015099\n",
       "hotel_country_7.0           -0.011074\n",
       "hotel_country_8.0            0.073188\n",
       "hotel_country_9.0            0.003143\n",
       "hotel_country_10.0           0.002578\n",
       "hotel_country_11.0          -0.011218\n",
       "hotel_country_12.0          -0.013516\n",
       "hotel_country_13.0           0.003586\n",
       "hotel_country_14.0           0.002535\n",
       "                               ...   \n",
       "hotel_country_186.0          0.009084\n",
       "hotel_country_187.0          0.002738\n",
       "hotel_country_188.0         -0.002837\n",
       "hotel_country_189.0         -0.002090\n",
       "hotel_country_190.0         -0.001115\n",
       "hotel_country_191.0          0.001496\n",
       "hotel_country_192.0          0.005081\n",
       "hotel_country_193.0          0.014713\n",
       "hotel_country_194.0          0.008046\n",
       "hotel_country_196.0          0.008770\n",
       "hotel_country_197.0          0.003049\n",
       "hotel_country_198.0         -0.037047\n",
       "hotel_country_199.0         -0.002552\n",
       "hotel_country_200.0          0.001275\n",
       "hotel_country_201.0          0.000092\n",
       "hotel_country_202.0         -0.003129\n",
       "hotel_country_203.0          0.007701\n",
       "hotel_country_204.0         -0.027781\n",
       "hotel_country_205.0          0.000783\n",
       "hotel_country_206.0          0.000754\n",
       "hotel_country_207.0          0.002738\n",
       "hotel_country_208.0          0.010625\n",
       "hotel_country_210.0         -0.001547\n",
       "hotel_country_211.0          0.001965\n",
       "hotel_country_212.0         -0.001240\n",
       "posa_continent_0             0.002444\n",
       "posa_continent_1            -0.013488\n",
       "posa_continent_2            -0.003436\n",
       "posa_continent_3             0.006066\n",
       "posa_continent_4             0.007121\n",
       "Name: hotel_cluster, dtype: float64"
      ]
     },
     "execution_count": 312,
     "metadata": {},
     "output_type": "execute_result"
    }
   ],
   "source": [
    "# Check for variable correlations with the hotel cluster. \n",
    "# Below coefficients do not look like there is a linear relationship with any of the variables.\n",
    "# But I will still go ahead and try out the logistic model.\n",
    "df1.corr()['hotel_cluster']"
   ]
  },
  {
   "cell_type": "code",
   "execution_count": 118,
   "metadata": {
    "collapsed": true
   },
   "outputs": [],
   "source": [
    "# I started fitting the model with only numeric features such as origin to destination distance, is_package, is_mobile, \n",
    "# year, month and recorded the results in the end of this section. After not having any luck with\n",
    "# the existing numeric features, I decided to create dummies for hotel_country variable.\n",
    "df1 = pd.get_dummies(df1,columns=['hotel_country'])"
   ]
  },
  {
   "cell_type": "code",
   "execution_count": 119,
   "metadata": {
    "collapsed": true
   },
   "outputs": [],
   "source": [
    "df1 = pd.get_dummies(df1,columns=['posa_continent'])"
   ]
  },
  {
   "cell_type": "code",
   "execution_count": 120,
   "metadata": {
    "collapsed": true
   },
   "outputs": [],
   "source": [
    "# On several runs of the model, I used the below list to exclude features rather \n",
    "# than including each of 198 hotel countries into the features.\n",
    "not_included = ['hotel_cluster','posa_continent','user_location_country','user_location_region',\n",
    "                'user_location_city','channel','srch_destination_id','srch_destination_type_id',\n",
    "              'hotel_continent', 'hotel_market','is_booking','is_mobile']"
   ]
  },
  {
   "cell_type": "code",
   "execution_count": 121,
   "metadata": {
    "collapsed": false
   },
   "outputs": [],
   "source": [
    "# This model had the highest accuracy score in testing set.\n",
    "X = df1[['orig_destination_distance','srch_children_cnt','ci_Year','ci_Month','is_package','is_mobile','hotel_country_50.0',\n",
    "        'hotel_country_198.0','hotel_country_8.0', 'hotel_country_105.0','hotel_country_70.0', \n",
    "        'posa_continent_2','posa_continent_3','posa_continent_4']]\n",
    "y = df1['hotel_cluster']\n",
    "\n",
    "X_train, X_test, y_train, y_test = cross_validation.train_test_split(X, y, random_state=1)"
   ]
  },
  {
   "cell_type": "code",
   "execution_count": 122,
   "metadata": {
    "collapsed": true
   },
   "outputs": [],
   "source": [
    "logit = linear_model.LogisticRegression(C=1e9).fit(X_train,y_train)"
   ]
  },
  {
   "cell_type": "code",
   "execution_count": 123,
   "metadata": {
    "collapsed": false
   },
   "outputs": [
    {
     "name": "stdout",
     "output_type": "stream",
     "text": [
      "             precision    recall  f1-score   support\n",
      "\n",
      "        0.0       0.05      0.04      0.05       734\n",
      "        1.0       0.06      0.40      0.10       830\n",
      "        2.0       0.00      0.00      0.00       600\n",
      "        3.0       0.00      0.00      0.00       280\n",
      "        4.0       0.00      0.00      0.00       661\n",
      "        5.0       0.00      0.00      0.00       858\n",
      "        6.0       0.00      0.00      0.00       633\n",
      "        7.0       0.00      0.00      0.00       455\n",
      "        8.0       0.09      0.37      0.15       471\n",
      "        9.0       0.00      0.00      0.00       797\n",
      "       10.0       0.00      0.00      0.00       668\n",
      "       11.0       0.00      0.00      0.00       415\n",
      "       12.0       0.00      0.00      0.00       190\n",
      "       13.0       0.00      0.00      0.00       662\n",
      "       14.0       0.00      0.00      0.00       293\n",
      "       15.0       0.00      0.00      0.00       470\n",
      "       16.0       0.00      0.00      0.00       864\n",
      "       17.0       0.00      0.00      0.00       609\n",
      "       18.0       0.00      0.00      0.00      1044\n",
      "       19.0       0.00      0.00      0.00       531\n",
      "       20.0       0.00      0.00      0.00       379\n",
      "       21.0       0.00      0.00      0.00       940\n",
      "       22.0       0.25      0.00      0.00       460\n",
      "       23.0       0.00      0.00      0.00       470\n",
      "       24.0       0.00      0.00      0.00       315\n",
      "       25.0       0.07      0.07      0.07       772\n",
      "       26.0       0.01      0.00      0.00       701\n",
      "       27.0       0.08      0.01      0.03       135\n",
      "       28.0       0.00      0.00      0.00       953\n",
      "       29.0       0.00      0.00      0.00       432\n",
      "       30.0       0.02      0.01      0.01       571\n",
      "       31.0       0.00      0.00      0.00       478\n",
      "       32.0       0.00      0.00      0.00       539\n",
      "       33.0       0.00      0.00      0.00       718\n",
      "       34.0       0.00      0.00      0.00       566\n",
      "       35.0       0.00      0.00      0.00       186\n",
      "       36.0       0.00      0.00      0.00       423\n",
      "       37.0       0.00      0.00      0.00       845\n",
      "       38.0       0.00      0.00      0.00       324\n",
      "       39.0       0.00      0.00      0.00       708\n",
      "       40.0       0.00      0.00      0.00       726\n",
      "       41.0       0.05      0.09      0.07      1358\n",
      "       42.0       0.00      0.00      0.00      1065\n",
      "       43.0       0.00      0.00      0.00       373\n",
      "       44.0       0.00      0.00      0.00       394\n",
      "       45.0       0.00      0.00      0.00       471\n",
      "       46.0       0.05      0.13      0.07       497\n",
      "       47.0       0.00      0.00      0.00       788\n",
      "       48.0       0.00      0.00      0.00      1399\n",
      "       49.0       0.00      0.00      0.00       414\n",
      "       50.0       0.00      0.00      0.00       928\n",
      "       51.0       0.00      0.00      0.00       680\n",
      "       52.0       0.10      0.20      0.13       677\n",
      "       53.0       0.00      0.00      0.00       168\n",
      "       54.0       0.00      0.00      0.00       516\n",
      "       55.0       0.05      0.05      0.05       791\n",
      "       56.0       0.00      0.00      0.00       686\n",
      "       57.0       0.00      0.00      0.00       224\n",
      "       58.0       0.03      0.10      0.05       565\n",
      "       59.0       0.00      0.00      0.00       819\n",
      "       60.0       0.00      0.00      0.00       298\n",
      "       61.0       0.00      0.00      0.00       440\n",
      "       62.0       0.00      0.00      0.00       555\n",
      "       63.0       0.00      0.00      0.00       351\n",
      "       64.0       0.05      0.34      0.08       780\n",
      "       65.0       0.18      0.78      0.29      1347\n",
      "       66.0       0.00      0.00      0.00       535\n",
      "       67.0       0.00      0.00      0.00       271\n",
      "       68.0       0.00      0.00      0.00       874\n",
      "       69.0       0.00      0.00      0.00       607\n",
      "       70.0       0.04      0.03      0.03       949\n",
      "       71.0       0.13      0.00      0.01       402\n",
      "       72.0       0.00      0.00      0.00       857\n",
      "       73.0       0.00      0.00      0.00       620\n",
      "       74.0       0.00      0.00      0.00        82\n",
      "       75.0       0.00      0.00      0.00       243\n",
      "       76.0       0.00      0.00      0.00       448\n",
      "       77.0       0.00      0.00      0.00       719\n",
      "       78.0       0.00      0.00      0.00       433\n",
      "       79.0       0.00      0.00      0.00       562\n",
      "       80.0       0.08      0.02      0.03       386\n",
      "       81.0       0.00      0.00      0.00       319\n",
      "       82.0       0.04      0.19      0.07       515\n",
      "       83.0       0.00      0.00      0.00       952\n",
      "       84.0       0.00      0.00      0.00       507\n",
      "       85.0       0.03      0.00      0.00       366\n",
      "       86.0       0.00      0.00      0.00       286\n",
      "       87.0       0.00      0.00      0.00       543\n",
      "       88.0       0.00      0.00      0.00       222\n",
      "       89.0       0.00      0.00      0.00       390\n",
      "       90.0       0.00      0.00      0.00       642\n",
      "       91.0       0.06      0.80      0.12      2125\n",
      "       92.0       0.00      0.00      0.00       442\n",
      "       93.0       0.00      0.00      0.00       376\n",
      "       94.0       0.00      0.00      0.00       563\n",
      "       95.0       0.04      0.12      0.06       977\n",
      "       96.0       0.00      0.00      0.00       663\n",
      "       97.0       0.00      0.00      0.00       632\n",
      "       98.0       0.03      0.00      0.00       977\n",
      "       99.0       0.00      0.00      0.00       627\n",
      "\n",
      "avg / total       0.02      0.07      0.02     60402\n",
      "\n"
     ]
    },
    {
     "name": "stderr",
     "output_type": "stream",
     "text": [
      "c:\\Users\\korol_000\\Anaconda2\\lib\\site-packages\\sklearn\\metrics\\classification.py:1074: UndefinedMetricWarning: Precision and F-score are ill-defined and being set to 0.0 in labels with no predicted samples.\n",
      "  'precision', 'predicted', average, warn_for)\n"
     ]
    }
   ],
   "source": [
    "y_pred = logit.predict(X_test)\n",
    "y_pred_proba = logit.predict_proba(X_test)\n",
    "print metrics.classification_report(y_test, y_pred)"
   ]
  },
  {
   "cell_type": "code",
   "execution_count": 124,
   "metadata": {
    "collapsed": false
   },
   "outputs": [
    {
     "name": "stdout",
     "output_type": "stream",
     "text": [
      "0.0714723266171\n",
      "0.0708089136121\n",
      "[[  9.32050597e-05   2.67481860e-01  -2.94919091e-03  -2.29925771e-02\n",
      "    1.17962638e+00   1.50667715e-01   9.16424290e-01  -3.25235774e-01\n",
      "    2.09938482e-01  -2.45629875e-01  -1.84785164e-01  -1.10760516e-02\n",
      "    4.22538171e-01  -6.68076888e-02]\n",
      " [  6.37158951e-05  -3.57748402e-01  -3.77032441e-03  -1.43694346e-02\n",
      "    1.06252044e+00  -6.68335316e-02   3.81506113e+00  -3.62787763e-01\n",
      "   -5.87492011e-01  -2.29989022e-01  -1.80831898e-01  -1.50206225e-02\n",
      "   -3.13384292e-02   1.48201693e-01]\n",
      " [  3.32738613e-05  -5.27730293e-02  -1.85933171e-03  -9.45105608e-03\n",
      "   -1.89166638e-01  -1.14190201e-01  -1.04311855e+00  -1.94645546e-02\n",
      "   -2.66819558e-01   4.81987427e-02   2.37502167e-01  -2.26915833e-02\n",
      "   -4.41871126e-01   1.03838527e-01]\n",
      " [  3.13016295e-05   1.15676286e-01  -2.21006676e-03  -1.23848166e-02\n",
      "   -1.32940723e-01   4.31371227e-02  -7.90563602e-01  -3.41585065e-01\n",
      "   -7.41928802e-01   1.78556762e-01  -9.80148933e-02   8.51644702e-02\n",
      "   -4.51141384e-01  -5.45614124e-01]\n",
      " [ -1.26029598e-04  -3.48325781e-02  -2.49515313e-03   1.22394326e-02\n",
      "   -4.67346338e-01  -3.16315425e-02   7.65043369e-01   7.79793201e-01\n",
      "   -3.53980469e-01  -1.43434060e-01  -1.77045622e-02   5.56548784e-02\n",
      "    1.82453992e-01  -2.70210184e-02]\n",
      " [  2.93357407e-05  -3.94042664e-02  -1.76995847e-03   4.81510196e-03\n",
      "   -4.11742152e-01  -3.74718694e-02  -8.15995157e-01  -1.68278034e-01\n",
      "   -2.77992004e-01  -1.02150352e-01   6.19310052e-02   5.13271391e-02\n",
      "   -2.53451563e-01  -1.11705123e-01]\n",
      " [ -1.02657555e-04  -4.94183665e-03  -2.12007637e-03  -1.49251286e-02\n",
      "   -1.38613968e-02   5.97050009e-04   1.68840721e-03   8.46026041e-03\n",
      "   -5.05442867e-03  -5.19250319e-04   1.78721324e-04   8.38618712e-05\n",
      "    1.59522723e-03   2.96215512e-04]\n",
      " [ -2.09807486e-04  -1.03679500e-01  -2.23819532e-03  -1.37983233e-02\n",
      "   -9.66146217e-01  -3.06514880e-01   3.17345096e-01   1.60999123e-01\n",
      "   -1.60621581e-01  -1.04402929e-02  -4.83645900e-02  -1.35369479e-02\n",
      "    2.35291441e-02  -3.47348651e-02]\n",
      " [  7.53269219e-05   1.45154844e-01  -2.33081712e-03   7.46921783e-03\n",
      "   -6.60294381e-02  -4.66979855e-02  -1.65304151e+00  -1.04391000e+00\n",
      "   -1.75224422e+00   2.20573450e+00  -8.04230762e-01   5.32420270e-02\n",
      "   -1.03666719e-01  -3.63731157e-01]\n",
      " [  9.35258308e-05  -1.04412536e-01  -2.42027169e-03   7.78097940e-03\n",
      "    5.97054641e-02  -3.51727595e-02   1.97175689e-01   1.33470926e+00\n",
      "   -1.07313214e+00   4.17192639e-01  -4.73897346e-02  -2.07059527e-03\n",
      "    7.22624824e-02   4.95276996e-01]]\n"
     ]
    }
   ],
   "source": [
    "print metrics.accuracy_score(y_train, logit.predict(X_train))\n",
    "print metrics.accuracy_score(y_test, logit.predict(X_test))\n",
    "print logit.coef_[:10]"
   ]
  },
  {
   "cell_type": "code",
   "execution_count": 225,
   "metadata": {
    "collapsed": true
   },
   "outputs": [],
   "source": [
    "# After fitting a logistic model on only numeric features, I decided to try stochastic gradient descent.\n",
    "# However, accuracy scores were low, so I switched back to logistic regression. \n",
    "logloss = linear_model.SGDClassifier(loss='log', penalty='l1', alpha=1).fit(X_train, y_train)"
   ]
  },
  {
   "cell_type": "code",
   "execution_count": 226,
   "metadata": {
    "collapsed": false
   },
   "outputs": [
    {
     "name": "stdout",
     "output_type": "stream",
     "text": [
      "0.0185547090648\n",
      "0.0202215928852\n",
      "[[ -408.54725776     0.             0.         ...,     0.             0.\n",
      "      0.        ]\n",
      " [-4235.23679967     0.             0.         ...,     0.             0.\n",
      "      0.        ]\n",
      " [  135.28299055     0.             0.         ...,     0.             0.\n",
      "      0.        ]\n",
      " ..., \n",
      " [-1038.86955165     0.             0.         ...,     0.             0.\n",
      "      0.        ]\n",
      " [-3162.37308637     0.             0.         ...,     0.             0.\n",
      "      0.        ]\n",
      " [-1442.26432366     0.             0.         ...,     0.             0.\n",
      "      0.        ]]\n"
     ]
    }
   ],
   "source": [
    "print metrics.accuracy_score(y_train, logloss.predict(X_train))\n",
    "print metrics.accuracy_score(y_test, logloss.predict(X_test))\n",
    "print logloss.coef_[:10]\n"
   ]
  },
  {
   "cell_type": "markdown",
   "metadata": {
    "collapsed": true
   },
   "source": [
    "### Records of accuracy scores for different feature combinations in the first dataframe"
   ]
  },
  {
   "cell_type": "code",
   "execution_count": null,
   "metadata": {
    "collapsed": false
   },
   "outputs": [],
   "source": [
    "# X = df1[['ci_Year','srch_children_cnt', 'orig_destination_distance', 'ci_Month']]\n",
    "# print metrics.accuracy_score(y_train, logloss.predict(X_train))\n",
    "# print metrics.accuracy_score(y_test, logloss.predict(X_test))\n",
    "# 0.026404990615\n",
    "# 0.0255378347493"
   ]
  },
  {
   "cell_type": "code",
   "execution_count": null,
   "metadata": {
    "collapsed": true
   },
   "outputs": [],
   "source": [
    "# X = df1[['ci_Year', 'orig_destination_distance', 'ci_Month']]\n",
    "# print metrics.accuracy_score(y_train, logloss.predict(X_train))\n",
    "# print metrics.accuracy_score(y_test, logloss.predict(X_test))\n",
    "# 0.0167660373192\n",
    "# 0.0171411536742"
   ]
  },
  {
   "cell_type": "code",
   "execution_count": null,
   "metadata": {
    "collapsed": true
   },
   "outputs": [],
   "source": [
    "# X = df1[['ci_Year', 'orig_destination_distance', 'ci_Month', 'srch_children_cnt', 'is_package', 'is_booking']]\n",
    "# print metrics.accuracy_score(y_train, logloss.predict(X_train))\n",
    "# print metrics.accuracy_score(y_test, logloss.predict(X_test))\n",
    "# 0.0111460748592\n",
    "# 0.0106987297329"
   ]
  },
  {
   "cell_type": "code",
   "execution_count": null,
   "metadata": {
    "collapsed": true
   },
   "outputs": [],
   "source": [
    "# X = df1[['ci_Year', 'orig_destination_distance', 'ci_Month', 'srch_children_cnt', 'is_package']]\n",
    "# print metrics.accuracy_score(y_train, logloss.predict(X_train))\n",
    "# print metrics.accuracy_score(y_test, logloss.predict(X_test))\n",
    "# 0.0300264988407\n",
    "# 0.0300591245591"
   ]
  },
  {
   "cell_type": "code",
   "execution_count": null,
   "metadata": {
    "collapsed": true
   },
   "outputs": [],
   "source": [
    "# X = df1[['ci_Year', 'orig_destination_distance', 'ci_Month', 'srch_children_cnt', 'is_package','is_mobile']]\n",
    "# print metrics.accuracy_score(y_train, logloss.predict(X_train))\n",
    "# print metrics.accuracy_score(y_test, logloss.predict(X_test))\n",
    "# 0.0342718339406\n",
    "# 0.0336860933075"
   ]
  },
  {
   "cell_type": "code",
   "execution_count": null,
   "metadata": {
    "collapsed": true
   },
   "outputs": [],
   "source": [
    "# not_included = ['hotel_cluster','posa_continent','user_location_country','user_location_region',\n",
    "                #'user_location_city','channel','srch_destination_id','srch_destination_type_id',\n",
    "               # 'hotel_continent', 'hotel_market']\n",
    "# print metrics.accuracy_score(y_train, logloss.predict(X_train))\n",
    "# print metrics.accuracy_score(y_test, logloss.predict(X_test))\n",
    "# 0.0324886827868\n",
    "# 0.0326095957338"
   ]
  },
  {
   "cell_type": "code",
   "execution_count": null,
   "metadata": {
    "collapsed": true
   },
   "outputs": [],
   "source": [
    "# not_included = ['hotel_cluster','posa_continent','user_location_country','user_location_region',\n",
    "                #'user_location_city','channel','srch_destination_id','srch_destination_type_id',\n",
    "               #'hotel_continent', 'hotel_market','is_booking']\n",
    "# print metrics.accuracy_score(y_train, logloss.predict(X_train))\n",
    "# print metrics.accuracy_score(y_test, logloss.predict(X_test))\n",
    "# 0.0329910566413\n",
    "# 0.0322949272122"
   ]
  },
  {
   "cell_type": "code",
   "execution_count": null,
   "metadata": {
    "collapsed": true
   },
   "outputs": [],
   "source": [
    "# not_included = ['hotel_cluster','posa_continent','user_location_country','user_location_region',\n",
    "               # 'user_location_city','channel','srch_destination_id','srch_destination_type_id',\n",
    "              # 'hotel_continent', 'hotel_market','is_booking','is_mobile']\n",
    "# print metrics.accuracy_score(y_train, logloss.predict(X_train))\n",
    "# print metrics.accuracy_score(y_test, logloss.predict(X_test))\n",
    "# 0.0229435795517\n",
    "# 0.024262599162"
   ]
  },
  {
   "cell_type": "code",
   "execution_count": null,
   "metadata": {
    "collapsed": true
   },
   "outputs": [],
   "source": [
    "# not_included = ['hotel_cluster','posa_continent','user_location_country','user_location_region',\n",
    "               # 'user_location_city','channel','srch_destination_id','srch_destination_type_id',\n",
    "              # 'hotel_continent', 'hotel_market','is_booking','is_package']\n",
    "# print metrics.accuracy_score(y_train, logloss.predict(X_train))\n",
    "# print metrics.accuracy_score(y_test, logloss.predict(X_test))\n",
    "# 0.0185547090648\n",
    "# 0.0202215928852"
   ]
  },
  {
   "cell_type": "code",
   "execution_count": null,
   "metadata": {
    "collapsed": true
   },
   "outputs": [],
   "source": [
    "# X = df1[['orig_destination_distance','srch_children_cnt','ci_Year','ci_Month','is_package']]\n",
    "# print metrics.accuracy_score(y_train, logit.predict(X_train))\n",
    "# print metrics.accuracy_score(y_test, logit.predict(X_test))\n",
    "# print logit.coef_[:10]\n",
    "# 0.0553770564204\n",
    "# 0.0551497987778"
   ]
  },
  {
   "cell_type": "code",
   "execution_count": null,
   "metadata": {
    "collapsed": true
   },
   "outputs": [],
   "source": [
    "# X = df1[['orig_destination_distance','srch_children_cnt','ci_Year','ci_Month','is_package', 'is_mobile']]\n",
    "# print metrics.accuracy_score(y_train, logit.predict(X_train))\n",
    "# print metrics.accuracy_score(y_test, logit.predict(X_test))\n",
    "# print logit.coef_[:10]\n",
    "# 0.0555978800927\n",
    "# 0.0552657292857"
   ]
  },
  {
   "cell_type": "code",
   "execution_count": null,
   "metadata": {
    "collapsed": true
   },
   "outputs": [],
   "source": [
    "# X = df1[['orig_destination_distance','srch_children_cnt','ci_Year','ci_Month','is_package','is_mobile','hotel_country_50.0']]\n",
    "# print metrics.accuracy_score(y_train, logit.predict(X_train))\n",
    "# print metrics.accuracy_score(y_test, logit.predict(X_test))\n",
    "# print logit.coef_[:10]\n",
    "# 0.0645688417798\n",
    "# 0.0643083089051"
   ]
  },
  {
   "cell_type": "code",
   "execution_count": null,
   "metadata": {
    "collapsed": true
   },
   "outputs": [],
   "source": [
    "# X = df1[['orig_destination_distance','srch_children_cnt','ci_Year','ci_Month','is_package','is_mobile','hotel_country_50.0',\n",
    "#      'hotel_country_198.0','hotel_country_8.0','hotel_country_105.0','hotel_country_105.0','hotel_country_70.0']]\n",
    "# print metrics.accuracy_score(y_train, logit.predict(X_train))\n",
    "# print metrics.accuracy_score(y_test, logit.predict(X_test))\n",
    "# print logit.coef_[:10]\n",
    "# 0.0705476427073\n",
    "# 0.0691111442341"
   ]
  },
  {
   "cell_type": "code",
   "execution_count": null,
   "metadata": {
    "collapsed": true
   },
   "outputs": [],
   "source": [
    "# X = df1[['orig_destination_distance','srch_children_cnt','ci_Year','ci_Month','is_package','is_mobile','hotel_country_50.0',\n",
    "#        'hotel_country_198.0','hotel_country_8.0','hotel_country_105.0','hotel_country_105.0','hotel_country_70.0', \n",
    "#        'posa_continent_2','posa_continent_3','posa_continent_4']]\n",
    "# print metrics.accuracy_score(y_train, logit.predict(X_train))\n",
    "# print metrics.accuracy_score(y_test, logit.predict(X_test))\n",
    "# print logit.coef_[:10]\n",
    "# 0.0710886607044\n",
    "# 0.0703366953181"
   ]
  },
  {
   "cell_type": "markdown",
   "metadata": {},
   "source": [
    "### Logistic regression on second dataframe"
   ]
  },
  {
   "cell_type": "code",
   "execution_count": 102,
   "metadata": {
    "collapsed": false
   },
   "outputs": [
    {
     "data": {
      "text/plain": [
       "Index([u'date_time', u'posa_continent', u'user_location_country',\n",
       "       u'user_location_region', u'user_location_city', u'is_mobile',\n",
       "       u'is_package', u'channel', u'srch_ci', u'srch_co', u'srch_children_cnt',\n",
       "       u'srch_destination_id', u'srch_destination_type_id', u'is_booking',\n",
       "       u'hotel_continent', u'hotel_country', u'hotel_market', u'hotel_cluster',\n",
       "       u'bw', u'LOS'],\n",
       "      dtype='object')"
      ]
     },
     "execution_count": 102,
     "metadata": {},
     "output_type": "execute_result"
    }
   ],
   "source": [
    "# Second dataframe has two additional columns for length of stay and booking window\n",
    "df2.columns"
   ]
  },
  {
   "cell_type": "code",
   "execution_count": 282,
   "metadata": {
    "collapsed": true
   },
   "outputs": [],
   "source": [
    "X = df2[['bw','LOS','is_mobile', 'is_package']]\n",
    "y = df2['hotel_cluster']\n",
    "X_train, X_test, y_train, y_test = cross_validation.train_test_split(X, y, random_state=5)"
   ]
  },
  {
   "cell_type": "code",
   "execution_count": 283,
   "metadata": {
    "collapsed": true
   },
   "outputs": [],
   "source": [
    "# I used stochastic gradient descent model and l1 type regularization\n",
    "logloss = linear_model.SGDClassifier(loss='log', penalty='l1', alpha=1).fit(X_train, y_train)"
   ]
  },
  {
   "cell_type": "code",
   "execution_count": 284,
   "metadata": {
    "collapsed": false
   },
   "outputs": [
    {
     "data": {
      "text/plain": [
       "array([[ -6.18222778e+01,   0.00000000e+00,   0.00000000e+00,\n",
       "          0.00000000e+00],\n",
       "       [ -5.30920704e+01,   0.00000000e+00,   0.00000000e+00,\n",
       "          0.00000000e+00],\n",
       "       [ -2.24548836e-02,   0.00000000e+00,   0.00000000e+00,\n",
       "          0.00000000e+00],\n",
       "       [ -3.90798790e-02,   0.00000000e+00,   0.00000000e+00,\n",
       "          0.00000000e+00],\n",
       "       [ -3.02565178e-02,   0.00000000e+00,   0.00000000e+00,\n",
       "          0.00000000e+00],\n",
       "       [ -1.09579003e+01,   0.00000000e+00,   0.00000000e+00,\n",
       "          0.00000000e+00],\n",
       "       [ -2.02789799e+01,   0.00000000e+00,   0.00000000e+00,\n",
       "          0.00000000e+00],\n",
       "       [ -3.33091810e-02,   0.00000000e+00,   0.00000000e+00,\n",
       "          0.00000000e+00],\n",
       "       [ -2.56808575e-02,   0.00000000e+00,   0.00000000e+00,\n",
       "          0.00000000e+00],\n",
       "       [ -1.03661261e+01,   0.00000000e+00,   0.00000000e+00,\n",
       "          0.00000000e+00],\n",
       "       [ -3.38402671e-02,   0.00000000e+00,   0.00000000e+00,\n",
       "          0.00000000e+00],\n",
       "       [ -6.77475392e+00,   0.00000000e+00,   0.00000000e+00,\n",
       "          0.00000000e+00],\n",
       "       [ -2.80409197e-02,   0.00000000e+00,   0.00000000e+00,\n",
       "          0.00000000e+00],\n",
       "       [ -3.53751531e-02,   0.00000000e+00,   0.00000000e+00,\n",
       "          0.00000000e+00],\n",
       "       [ -3.19166111e-02,   0.00000000e+00,   0.00000000e+00,\n",
       "          0.00000000e+00],\n",
       "       [ -2.79882644e-02,   0.00000000e+00,   0.00000000e+00,\n",
       "          0.00000000e+00],\n",
       "       [ -5.19024559e+01,   0.00000000e+00,   0.00000000e+00,\n",
       "          0.00000000e+00],\n",
       "       [ -2.74326314e-02,   0.00000000e+00,   0.00000000e+00,\n",
       "          0.00000000e+00],\n",
       "       [ -2.14759853e-02,   0.00000000e+00,   0.00000000e+00,\n",
       "          0.00000000e+00],\n",
       "       [ -7.05331974e+00,   0.00000000e+00,   0.00000000e+00,\n",
       "          0.00000000e+00],\n",
       "       [ -3.21884790e-02,   0.00000000e+00,   0.00000000e+00,\n",
       "          0.00000000e+00],\n",
       "       [ -2.42206650e-02,   0.00000000e+00,   0.00000000e+00,\n",
       "          0.00000000e+00],\n",
       "       [ -7.09714280e+00,   0.00000000e+00,   0.00000000e+00,\n",
       "          0.00000000e+00],\n",
       "       [ -4.64805152e-02,   0.00000000e+00,   0.00000000e+00,\n",
       "          0.00000000e+00],\n",
       "       [ -3.81095483e-02,   0.00000000e+00,   0.00000000e+00,\n",
       "          0.00000000e+00],\n",
       "       [ -1.01447902e+01,   0.00000000e+00,   0.00000000e+00,\n",
       "          0.00000000e+00],\n",
       "       [ -3.14706543e-02,   0.00000000e+00,   0.00000000e+00,\n",
       "          0.00000000e+00],\n",
       "       [ -3.54234437e-02,   0.00000000e+00,   0.00000000e+00,\n",
       "          0.00000000e+00],\n",
       "       [ -1.64546865e+01,   0.00000000e+00,   0.00000000e+00,\n",
       "          0.00000000e+00],\n",
       "       [ -2.44728642e-02,   0.00000000e+00,   0.00000000e+00,\n",
       "          0.00000000e+00],\n",
       "       [ -1.68594351e+01,   0.00000000e+00,   0.00000000e+00,\n",
       "          0.00000000e+00],\n",
       "       [ -1.09722075e+00,   0.00000000e+00,   0.00000000e+00,\n",
       "          0.00000000e+00],\n",
       "       [ -2.22913044e+01,   0.00000000e+00,   0.00000000e+00,\n",
       "          0.00000000e+00],\n",
       "       [ -3.62807464e-02,   0.00000000e+00,   0.00000000e+00,\n",
       "          0.00000000e+00],\n",
       "       [ -2.93133718e-02,   0.00000000e+00,   0.00000000e+00,\n",
       "          0.00000000e+00],\n",
       "       [ -3.40732191e-02,   0.00000000e+00,   0.00000000e+00,\n",
       "          0.00000000e+00],\n",
       "       [ -2.04192894e-02,   0.00000000e+00,   0.00000000e+00,\n",
       "          0.00000000e+00],\n",
       "       [ -2.97095897e+00,   0.00000000e+00,   0.00000000e+00,\n",
       "          0.00000000e+00],\n",
       "       [ -2.91005635e+01,   0.00000000e+00,   0.00000000e+00,\n",
       "          0.00000000e+00],\n",
       "       [ -1.27704988e+01,   0.00000000e+00,   0.00000000e+00,\n",
       "          0.00000000e+00],\n",
       "       [ -4.91309487e+01,   0.00000000e+00,   0.00000000e+00,\n",
       "          0.00000000e+00],\n",
       "       [ -1.96304773e-02,   0.00000000e+00,   0.00000000e+00,\n",
       "          0.00000000e+00],\n",
       "       [ -3.01482998e+01,   0.00000000e+00,   0.00000000e+00,\n",
       "          0.00000000e+00],\n",
       "       [ -2.75531078e-02,   0.00000000e+00,   0.00000000e+00,\n",
       "          0.00000000e+00],\n",
       "       [ -2.34793914e-02,   0.00000000e+00,   0.00000000e+00,\n",
       "          0.00000000e+00],\n",
       "       [ -1.51097676e+01,   0.00000000e+00,   0.00000000e+00,\n",
       "          0.00000000e+00],\n",
       "       [ -1.70434675e-02,   0.00000000e+00,   0.00000000e+00,\n",
       "          0.00000000e+00],\n",
       "       [ -2.31307933e+01,   0.00000000e+00,   0.00000000e+00,\n",
       "          0.00000000e+00],\n",
       "       [ -2.68844610e-02,   0.00000000e+00,   0.00000000e+00,\n",
       "          0.00000000e+00],\n",
       "       [ -3.58066802e-02,   0.00000000e+00,   0.00000000e+00,\n",
       "          0.00000000e+00],\n",
       "       [ -3.68607884e+01,   0.00000000e+00,   0.00000000e+00,\n",
       "          0.00000000e+00],\n",
       "       [ -5.08246973e-02,   0.00000000e+00,   0.00000000e+00,\n",
       "          0.00000000e+00],\n",
       "       [ -1.74868966e-02,   0.00000000e+00,   0.00000000e+00,\n",
       "          0.00000000e+00],\n",
       "       [ -1.38003689e+02,   0.00000000e+00,   0.00000000e+00,\n",
       "          0.00000000e+00],\n",
       "       [ -4.26905698e+01,   0.00000000e+00,   0.00000000e+00,\n",
       "          0.00000000e+00],\n",
       "       [ -3.12090972e+01,   0.00000000e+00,   0.00000000e+00,\n",
       "          0.00000000e+00],\n",
       "       [ -3.06040637e-02,   0.00000000e+00,   0.00000000e+00,\n",
       "          0.00000000e+00],\n",
       "       [ -3.98698674e-02,   0.00000000e+00,   0.00000000e+00,\n",
       "          0.00000000e+00],\n",
       "       [ -1.12888183e+01,   0.00000000e+00,   0.00000000e+00,\n",
       "          0.00000000e+00],\n",
       "       [ -2.23493269e-02,   0.00000000e+00,   0.00000000e+00,\n",
       "          0.00000000e+00],\n",
       "       [ -4.02230175e-02,   0.00000000e+00,   0.00000000e+00,\n",
       "          0.00000000e+00],\n",
       "       [ -3.67052889e+01,   0.00000000e+00,   0.00000000e+00,\n",
       "          0.00000000e+00],\n",
       "       [ -1.94744953e-02,   0.00000000e+00,   0.00000000e+00,\n",
       "          0.00000000e+00],\n",
       "       [ -2.64236758e-02,   0.00000000e+00,   0.00000000e+00,\n",
       "          0.00000000e+00],\n",
       "       [ -1.38414939e-02,   0.00000000e+00,   0.00000000e+00,\n",
       "          0.00000000e+00],\n",
       "       [ -7.63604368e+01,   0.00000000e+00,   0.00000000e+00,\n",
       "          0.00000000e+00],\n",
       "       [ -2.40191263e-02,   0.00000000e+00,   0.00000000e+00,\n",
       "          0.00000000e+00],\n",
       "       [ -2.94004034e-02,   0.00000000e+00,   0.00000000e+00,\n",
       "          0.00000000e+00],\n",
       "       [ -2.08021833e-02,   0.00000000e+00,   0.00000000e+00,\n",
       "          0.00000000e+00],\n",
       "       [ -2.29235583e+01,   0.00000000e+00,   0.00000000e+00,\n",
       "          0.00000000e+00],\n",
       "       [ -2.46393631e-02,   0.00000000e+00,   0.00000000e+00,\n",
       "          0.00000000e+00],\n",
       "       [ -3.87398813e+00,   0.00000000e+00,   0.00000000e+00,\n",
       "          0.00000000e+00],\n",
       "       [ -3.75782490e+00,   0.00000000e+00,   0.00000000e+00,\n",
       "          0.00000000e+00],\n",
       "       [ -1.58628457e+01,   0.00000000e+00,   0.00000000e+00,\n",
       "          0.00000000e+00],\n",
       "       [ -4.25146475e+01,   0.00000000e+00,   0.00000000e+00,\n",
       "          0.00000000e+00],\n",
       "       [ -1.66907276e+01,   0.00000000e+00,   0.00000000e+00,\n",
       "          0.00000000e+00],\n",
       "       [ -3.63933213e-02,   0.00000000e+00,   0.00000000e+00,\n",
       "          0.00000000e+00],\n",
       "       [ -2.89687910e-02,   0.00000000e+00,   0.00000000e+00,\n",
       "          0.00000000e+00],\n",
       "       [ -2.24980652e-02,   0.00000000e+00,   0.00000000e+00,\n",
       "          0.00000000e+00],\n",
       "       [ -1.71827144e+01,   0.00000000e+00,   0.00000000e+00,\n",
       "          0.00000000e+00],\n",
       "       [ -2.96414732e-02,   0.00000000e+00,   0.00000000e+00,\n",
       "          0.00000000e+00],\n",
       "       [ -2.50205566e-02,   0.00000000e+00,   0.00000000e+00,\n",
       "          0.00000000e+00],\n",
       "       [ -1.12556858e+00,   0.00000000e+00,   0.00000000e+00,\n",
       "          0.00000000e+00],\n",
       "       [ -1.92806100e-02,   0.00000000e+00,   0.00000000e+00,\n",
       "          0.00000000e+00],\n",
       "       [ -2.67412444e-02,   0.00000000e+00,   0.00000000e+00,\n",
       "          0.00000000e+00],\n",
       "       [ -2.38272334e-02,   0.00000000e+00,   0.00000000e+00,\n",
       "          0.00000000e+00],\n",
       "       [ -3.20632083e+01,   0.00000000e+00,   0.00000000e+00,\n",
       "          0.00000000e+00],\n",
       "       [ -2.71702090e+01,   0.00000000e+00,   0.00000000e+00,\n",
       "          0.00000000e+00],\n",
       "       [ -2.83898582e-02,   0.00000000e+00,   0.00000000e+00,\n",
       "          0.00000000e+00],\n",
       "       [ -2.31316781e-02,   0.00000000e+00,   0.00000000e+00,\n",
       "          0.00000000e+00],\n",
       "       [ -2.16232819e-02,   0.00000000e+00,   0.00000000e+00,\n",
       "          0.00000000e+00],\n",
       "       [ -1.35959492e+01,   0.00000000e+00,   0.00000000e+00,\n",
       "          0.00000000e+00],\n",
       "       [ -3.19372125e-02,   0.00000000e+00,   0.00000000e+00,\n",
       "          0.00000000e+00],\n",
       "       [ -3.33655034e-02,   0.00000000e+00,   0.00000000e+00,\n",
       "          0.00000000e+00],\n",
       "       [ -2.11115811e+01,   0.00000000e+00,   0.00000000e+00,\n",
       "          0.00000000e+00],\n",
       "       [ -2.75069655e-02,   0.00000000e+00,   0.00000000e+00,\n",
       "          0.00000000e+00],\n",
       "       [ -3.35016925e-02,   0.00000000e+00,   0.00000000e+00,\n",
       "          0.00000000e+00],\n",
       "       [ -2.48951197e-02,   0.00000000e+00,   0.00000000e+00,\n",
       "          0.00000000e+00],\n",
       "       [ -1.95040258e-02,   0.00000000e+00,   0.00000000e+00,\n",
       "          0.00000000e+00],\n",
       "       [ -2.11391635e-02,   0.00000000e+00,   0.00000000e+00,\n",
       "          0.00000000e+00]])"
      ]
     },
     "execution_count": 284,
     "metadata": {},
     "output_type": "execute_result"
    }
   ],
   "source": [
    "# Although accuracy score was also very low, the l1 regularization shows higher coefficient for the booking window variable\n",
    "# compared to the other variables in the model.\n",
    "logloss.coef_"
   ]
  },
  {
   "cell_type": "code",
   "execution_count": 285,
   "metadata": {
    "collapsed": false
   },
   "outputs": [
    {
     "name": "stdout",
     "output_type": "stream",
     "text": [
      "0.0178520797301\n",
      "0.0177456911676\n"
     ]
    }
   ],
   "source": [
    "print metrics.accuracy_score(y_train, logloss.predict(X_train))\n",
    "print metrics.accuracy_score(y_test, logloss.predict(X_test))"
   ]
  },
  {
   "cell_type": "markdown",
   "metadata": {},
   "source": [
    "### Records of accuracy scores for different feature combinations in the second dataframe"
   ]
  },
  {
   "cell_type": "code",
   "execution_count": null,
   "metadata": {
    "collapsed": true
   },
   "outputs": [],
   "source": [
    "# X = df2[['bw','LOS','is_package']]\n",
    "# print metrics.accuracy_score(y_train, logloss.predict(X_train))\n",
    "# print metrics.accuracy_score(y_test, logloss.predict(X_test))\n",
    "\n",
    "# 0.0177457540616\n",
    "# 0.0185431308545"
   ]
  },
  {
   "cell_type": "code",
   "execution_count": null,
   "metadata": {
    "collapsed": true
   },
   "outputs": [],
   "source": [
    "# X = df2[['bw','LOS','is_mobile']]\n",
    "#\n",
    "# print metrics.accuracy_score(y_train, logloss.predict(X_train))\n",
    "# print metrics.accuracy_score(y_test, logloss.predict(X_test))\n",
    "# 0.0155448127251\n",
    "# 0.0150131311735\n",
    "#"
   ]
  },
  {
   "cell_type": "code",
   "execution_count": null,
   "metadata": {
    "collapsed": true
   },
   "outputs": [],
   "source": [
    "# X = df2[['bw','LOS','is_mobile', 'is_package']]\n",
    "# print metrics.accuracy_score(y_train, logloss.predict(X_train))\n",
    "# print metrics.accuracy_score(y_test, logloss.predict(X_test))\n",
    "# 0.0153817800335\n",
    "# 0.0150237637027\n"
   ]
  },
  {
   "cell_type": "markdown",
   "metadata": {},
   "source": [
    "## Random Forest first dataframe"
   ]
  },
  {
   "cell_type": "code",
   "execution_count": 125,
   "metadata": {
    "collapsed": false
   },
   "outputs": [
    {
     "data": {
      "text/plain": [
       "Index([u'user_location_country', u'user_location_region',\n",
       "       u'user_location_city', u'orig_destination_distance', u'is_mobile',\n",
       "       u'is_package', u'channel', u'srch_children_cnt', u'srch_destination_id',\n",
       "       u'srch_destination_type_id',\n",
       "       ...\n",
       "       u'hotel_country_207.0', u'hotel_country_208.0', u'hotel_country_210.0',\n",
       "       u'hotel_country_211.0', u'hotel_country_212.0', u'posa_continent_0',\n",
       "       u'posa_continent_1', u'posa_continent_2', u'posa_continent_3',\n",
       "       u'posa_continent_4'],\n",
       "      dtype='object', length=200)"
      ]
     },
     "execution_count": 125,
     "metadata": {},
     "output_type": "execute_result"
    }
   ],
   "source": [
    "# After getting very low accuracy scores with the stochastic gradient descent and logistic regression models,\n",
    "# I decided to try random forest.\n",
    "df1.columns"
   ]
  },
  {
   "cell_type": "code",
   "execution_count": 126,
   "metadata": {
    "collapsed": true
   },
   "outputs": [],
   "source": [
    "from sklearn import ensemble"
   ]
  },
  {
   "cell_type": "code",
   "execution_count": 127,
   "metadata": {
    "collapsed": true
   },
   "outputs": [],
   "source": [
    "target = 'hotel_cluster'"
   ]
  },
  {
   "cell_type": "code",
   "execution_count": 219,
   "metadata": {
    "collapsed": true
   },
   "outputs": [],
   "source": [
    "# Random forest model on the whole first dataframe to get baseline accuracy, which turned up to be 0.115 on testing set.\n",
    "# It was an improvement from the logistic regression results, but still low.\n",
    "X = df1.drop(target,axis=1)\n",
    "y = df1[target]\n",
    "\n",
    "X_train, X_test, y_train, y_test = cross_validation.train_test_split(X, y, test_size=0.4, random_state=42)"
   ]
  },
  {
   "cell_type": "code",
   "execution_count": 214,
   "metadata": {
    "collapsed": true
   },
   "outputs": [],
   "source": [
    "# Random forest model on the second dataframe. The accuracy score- 0.34 was even lower than the baseline accuracy.\n",
    "# I went back to test different feature variations of the first dataframe. \n",
    "X = df2[['bw','LOS','is_mobile', 'is_package']]\n",
    "y = df2['hotel_cluster']\n",
    "X_train, X_test, y_train, y_test = cross_validation.train_test_split(X, y, random_state=5)"
   ]
  },
  {
   "cell_type": "code",
   "execution_count": 223,
   "metadata": {
    "collapsed": false
   },
   "outputs": [
    {
     "data": {
      "text/html": [
       "<div>\n",
       "<table border=\"1\" class=\"dataframe\">\n",
       "  <thead>\n",
       "    <tr style=\"text-align: right;\">\n",
       "      <th></th>\n",
       "      <th>user_location_country</th>\n",
       "      <th>user_location_region</th>\n",
       "      <th>user_location_city</th>\n",
       "      <th>orig_destination_distance</th>\n",
       "      <th>is_mobile</th>\n",
       "      <th>is_package</th>\n",
       "      <th>channel</th>\n",
       "      <th>srch_children_cnt</th>\n",
       "      <th>srch_destination_id</th>\n",
       "      <th>srch_destination_type_id</th>\n",
       "      <th>...</th>\n",
       "      <th>hotel_country_207.0</th>\n",
       "      <th>hotel_country_208.0</th>\n",
       "      <th>hotel_country_210.0</th>\n",
       "      <th>hotel_country_211.0</th>\n",
       "      <th>hotel_country_212.0</th>\n",
       "      <th>posa_continent_0</th>\n",
       "      <th>posa_continent_1</th>\n",
       "      <th>posa_continent_2</th>\n",
       "      <th>posa_continent_3</th>\n",
       "      <th>posa_continent_4</th>\n",
       "    </tr>\n",
       "    <tr>\n",
       "      <th>date_time</th>\n",
       "      <th></th>\n",
       "      <th></th>\n",
       "      <th></th>\n",
       "      <th></th>\n",
       "      <th></th>\n",
       "      <th></th>\n",
       "      <th></th>\n",
       "      <th></th>\n",
       "      <th></th>\n",
       "      <th></th>\n",
       "      <th></th>\n",
       "      <th></th>\n",
       "      <th></th>\n",
       "      <th></th>\n",
       "      <th></th>\n",
       "      <th></th>\n",
       "      <th></th>\n",
       "      <th></th>\n",
       "      <th></th>\n",
       "      <th></th>\n",
       "      <th></th>\n",
       "    </tr>\n",
       "  </thead>\n",
       "  <tbody>\n",
       "    <tr>\n",
       "      <th>2014-07-23 08:41:08</th>\n",
       "      <td>66</td>\n",
       "      <td>442</td>\n",
       "      <td>47956</td>\n",
       "      <td>1192.1126</td>\n",
       "      <td>0</td>\n",
       "      <td>1</td>\n",
       "      <td>9</td>\n",
       "      <td>0.0</td>\n",
       "      <td>8287.0</td>\n",
       "      <td>1.0</td>\n",
       "      <td>...</td>\n",
       "      <td>0.0</td>\n",
       "      <td>0.0</td>\n",
       "      <td>0.0</td>\n",
       "      <td>0.0</td>\n",
       "      <td>0.0</td>\n",
       "      <td>0.0</td>\n",
       "      <td>0.0</td>\n",
       "      <td>0.0</td>\n",
       "      <td>1.0</td>\n",
       "      <td>0.0</td>\n",
       "    </tr>\n",
       "  </tbody>\n",
       "</table>\n",
       "<p>1 rows × 200 columns</p>\n",
       "</div>"
      ],
      "text/plain": [
       "                     user_location_country  user_location_region  \\\n",
       "date_time                                                          \n",
       "2014-07-23 08:41:08                     66                   442   \n",
       "\n",
       "                     user_location_city  orig_destination_distance  is_mobile  \\\n",
       "date_time                                                                       \n",
       "2014-07-23 08:41:08               47956                  1192.1126          0   \n",
       "\n",
       "                     is_package  channel  srch_children_cnt  \\\n",
       "date_time                                                     \n",
       "2014-07-23 08:41:08           1        9                0.0   \n",
       "\n",
       "                     srch_destination_id  srch_destination_type_id  \\\n",
       "date_time                                                            \n",
       "2014-07-23 08:41:08               8287.0                       1.0   \n",
       "\n",
       "                           ...         hotel_country_207.0  \\\n",
       "date_time                  ...                               \n",
       "2014-07-23 08:41:08        ...                         0.0   \n",
       "\n",
       "                     hotel_country_208.0  hotel_country_210.0  \\\n",
       "date_time                                                       \n",
       "2014-07-23 08:41:08                  0.0                  0.0   \n",
       "\n",
       "                     hotel_country_211.0  hotel_country_212.0  \\\n",
       "date_time                                                       \n",
       "2014-07-23 08:41:08                  0.0                  0.0   \n",
       "\n",
       "                     posa_continent_0  posa_continent_1  posa_continent_2  \\\n",
       "date_time                                                                   \n",
       "2014-07-23 08:41:08               0.0               0.0               0.0   \n",
       "\n",
       "                     posa_continent_3  posa_continent_4  \n",
       "date_time                                                \n",
       "2014-07-23 08:41:08               1.0               0.0  \n",
       "\n",
       "[1 rows x 200 columns]"
      ]
     },
     "execution_count": 223,
     "metadata": {},
     "output_type": "execute_result"
    }
   ],
   "source": [
    "df1['2014'][:1]"
   ]
  },
  {
   "cell_type": "code",
   "execution_count": null,
   "metadata": {
    "collapsed": true
   },
   "outputs": [],
   "source": []
  },
  {
   "cell_type": "code",
   "execution_count": 292,
   "metadata": {
    "collapsed": false
   },
   "outputs": [],
   "source": [
    "# After rerunning the model with various feature combinations, \n",
    "# I realized that variables related to hotel location yielded the highest accuracy score.\n",
    "\n",
    "features = ['hotel_continent','hotel_market','srch_destination_id'] + \\\n",
    "            filter(lambda x: x.startswith('hotel_country_'), df1.columns)\n",
    "\n",
    "X = df1[features]\n",
    "y = df1['hotel_cluster']\n",
    "\n",
    "X_train, X_test, y_train, y_test = cross_validation.train_test_split(X, y, test_size=0.4, random_state=3) "
   ]
  },
  {
   "cell_type": "code",
   "execution_count": 293,
   "metadata": {
    "collapsed": false
   },
   "outputs": [],
   "source": [
    "# Instantiate model\n",
    "rf = ensemble.RandomForestClassifier(n_estimators=50, min_samples_leaf=5).fit(X_train,y_train)\n"
   ]
  },
  {
   "cell_type": "code",
   "execution_count": 315,
   "metadata": {
    "collapsed": false
   },
   "outputs": [
    {
     "name": "stdout",
     "output_type": "stream",
     "text": [
      "Accuracy: 0.209\n",
      "Accuracy: 0.160\n"
     ]
    }
   ],
   "source": [
    "# Evaluate model on train set\n",
    "print \"Accuracy: %0.3f\" % rf.score(X_train, y_train)\n",
    "\n",
    "# Evaluate model on test set\n",
    "print \"Accuracy: %0.3f\" % rf.score(X_test, y_test)"
   ]
  },
  {
   "cell_type": "code",
   "execution_count": 316,
   "metadata": {
    "collapsed": false
   },
   "outputs": [
    {
     "data": {
      "text/plain": [
       "array([ 0.14930696,  0.14462656,  0.14680382])"
      ]
     },
     "execution_count": 316,
     "metadata": {},
     "output_type": "execute_result"
    }
   ],
   "source": [
    "cross_validation.cross_val_score(rf, X_test, y_test, cv=3)"
   ]
  },
  {
   "cell_type": "code",
   "execution_count": 132,
   "metadata": {
    "collapsed": false
   },
   "outputs": [
    {
     "name": "stdout",
     "output_type": "stream",
     "text": [
      "Best Params:\n",
      "{'n_estimators': 200}\n"
     ]
    }
   ],
   "source": [
    "# Tune the model\n",
    "# Set list of values to grid search over\n",
    "# Despite trying to update the model with the n_estimators=200, I kept receiving the memory error.\n",
    "n = [1, 2, 3, 10, 20, 30, 100, 200, 300]\n",
    "params = {'n_estimators': n}\n",
    "\n",
    "# Perform grid search using list of values\n",
    "gs = grid_search.GridSearchCV(\n",
    "    estimator=ensemble.RandomForestClassifier(min_samples_leaf=30),\n",
    "    param_grid=params)\n",
    "gs.fit(X_train, y_train)\n",
    "\n",
    "# Get best value to use\n",
    "print \"Best Params:\"\n",
    "print gs.best_params_"
   ]
  },
  {
   "cell_type": "markdown",
   "metadata": {},
   "source": [
    "### Records of accuracy scores for different feature combinations"
   ]
  },
  {
   "cell_type": "code",
   "execution_count": null,
   "metadata": {
    "collapsed": true
   },
   "outputs": [],
   "source": [
    "# X = df1['2014'][['hotel_continent','hotel_market','hotel_country_50.0',\n",
    "    #    'hotel_country_198.0','hotel_country_8.0', 'hotel_country_105.0','hotel_country_70.0',\n",
    "     #   'srch_destination_id']]\n",
    "# print \"Accuracy: %0.3f\" % rf.score(X_train, y_train)\n",
    "# print \"Accuracy: %0.3f\" % rf.score(X_test, y_test) \n",
    "# Accuracy: 0.193\n",
    "# Accuracy: 0.152"
   ]
  },
  {
   "cell_type": "code",
   "execution_count": null,
   "metadata": {
    "collapsed": true
   },
   "outputs": [],
   "source": [
    "# X = df1[['orig_destination_distance','srch_children_cnt','ci_Year','ci_Month','is_package','is_mobile','hotel_country_50.0',\n",
    " #       'hotel_country_198.0','hotel_country_8.0', 'hotel_country_105.0','hotel_country_70.0', \n",
    "#   'posa_continent_2','posa_continent_3','posa_continent_4', 'user_location_country', 'user_location_region', \n",
    "#         'srch_destination_type_id']]\n",
    "# print \"Accuracy: %0.3f\" % rf.score(X_train, y_train)\n",
    "# print \"Accuracy: %0.3f\" % rf.score(X_test, y_test)\n",
    "# Accuracy: 0.134\n",
    "# Accuracy: 0.087"
   ]
  },
  {
   "cell_type": "code",
   "execution_count": null,
   "metadata": {
    "collapsed": true
   },
   "outputs": [],
   "source": [
    "# X = df1.drop(target,axis=1)\n",
    "# print \"Accuracy: %0.3f\" % rf.score(X_train, y_train)\n",
    "# print \"Accuracy: %0.3f\" % rf.score(X_test, y_test)\n",
    "# Accuracy: 0.138\n",
    "# Accuracy: 0.115"
   ]
  },
  {
   "cell_type": "code",
   "execution_count": null,
   "metadata": {
    "collapsed": true
   },
   "outputs": [],
   "source": [
    "# X = df2[['bw','LOS','is_mobile', 'is_package']]\n",
    "# print \"Accuracy: %0.3f\" % rf.score(X_train, y_train)\n",
    "# print \"Accuracy: %0.3f\" % rf.score(X_test, y_test)\n",
    "# Accuracy: 0.060\n",
    "# Accuracy: 0.034"
   ]
  },
  {
   "cell_type": "markdown",
   "metadata": {},
   "source": [
    "## Summary of Feature Importances"
   ]
  },
  {
   "cell_type": "code",
   "execution_count": 304,
   "metadata": {
    "collapsed": true
   },
   "outputs": [],
   "source": [
    "y_pred = rf.predict(X_test)"
   ]
  },
  {
   "cell_type": "code",
   "execution_count": 300,
   "metadata": {
    "collapsed": false
   },
   "outputs": [
    {
     "data": {
      "text/plain": [
       "<matplotlib.axes._subplots.AxesSubplot at 0x61edd7f0>"
      ]
     },
     "execution_count": 300,
     "metadata": {},
     "output_type": "execute_result"
    },
    {
     "data": {
      "image/png": "[encoded data removed]",
      "text/plain": [
       "<matplotlib.figure.Figure at 0x4b33e278>"
      ]
     },
     "metadata": {},
     "output_type": "display_data"
    }
   ],
   "source": [
    "# Plot importances for all features\n",
    "features = X.columns\n",
    "feature_importances = rf.feature_importances_\n",
    "\n",
    "features_df = pd.DataFrame({'Features': features, 'Importance Score': feature_importances})\n",
    "features_df.sort_values('Importance Score', inplace=True, ascending=False)\n",
    "\n",
    "sns.barplot(y='Features', x='Importance Score', data=features_df)"
   ]
  },
  {
   "cell_type": "code",
   "execution_count": 301,
   "metadata": {
    "collapsed": true
   },
   "outputs": [],
   "source": [
    "def combine_dummies(dummy_prefixes):\n",
    "    for p in dummy_prefixes:\n",
    "        sub_keys = filter(lambda x: x.startswith(p), feature_dict)\n",
    "        sub_keys_sum = sum([feature_dict[x] for x in sub_keys])\n",
    "        for k in sub_keys: feature_dict.pop(k)\n",
    "        feature_dict[p] = sub_keys_sum\n",
    "    return feature_dict"
   ]
  },
  {
   "cell_type": "code",
   "execution_count": 302,
   "metadata": {
    "collapsed": false
   },
   "outputs": [
    {
     "name": "stdout",
     "output_type": "stream",
     "text": [
      "Accuracy: 0.160\n"
     ]
    },
    {
     "data": {
      "image/png": "[encoded data removed]",
      "text/plain": [
       "<matplotlib.figure.Figure at 0x5ba51da0>"
      ]
     },
     "metadata": {},
     "output_type": "display_data"
    }
   ],
   "source": [
    "# Plot importances with dummy features combined\n",
    "feature_names = X.columns\n",
    "feature_importances = rf.feature_importances_\n",
    "feature_dummy_prefixes = ['hotel_country']\n",
    "\n",
    "feature_dict = dict(zip(feature_names, feature_importances))\n",
    "feature_dict = combine_dummies(feature_dummy_prefixes)\n",
    "\n",
    "features_df = pd.DataFrame(feature_dict.items(), columns=['Features', 'Importance Score'])\n",
    "features_df.sort_values('Importance Score', inplace=True, ascending=False)\n",
    "\n",
    "sns.barplot(y='Features', x='Importance Score', data=features_df)\n",
    "\n",
    "# Evaluate accuracy of model on test set\n",
    "print \"Accuracy: %0.3f\" % rf.score(X_test, y_test)\n",
    "\n"
   ]
  },
  {
   "cell_type": "code",
   "execution_count": 340,
   "metadata": {
    "collapsed": false
   },
   "outputs": [],
   "source": [
    "bookings = bookings[['srch_destination_id','hotel_cluster','is_booking']]"
   ]
  },
  {
   "cell_type": "code",
   "execution_count": 345,
   "metadata": {
    "collapsed": false
   },
   "outputs": [],
   "source": [
    "booking = bookings.groupby(['srch_destination_id','hotel_cluster']).sum()"
   ]
  },
  {
   "cell_type": "code",
   "execution_count": 346,
   "metadata": {
    "collapsed": true
   },
   "outputs": [],
   "source": [
    "booking = booking.reset_index()"
   ]
  },
  {
   "cell_type": "code",
   "execution_count": null,
   "metadata": {
    "collapsed": true
   },
   "outputs": [],
   "source": []
  },
  {
   "cell_type": "code",
   "execution_count": 366,
   "metadata": {
    "collapsed": false
   },
   "outputs": [
    {
     "data": {
      "text/html": [
       "<div>\n",
       "<table border=\"1\" class=\"dataframe\">\n",
       "  <thead>\n",
       "    <tr style=\"text-align: right;\">\n",
       "      <th></th>\n",
       "      <th>hotel_cluster</th>\n",
       "      <th>is_booking</th>\n",
       "    </tr>\n",
       "  </thead>\n",
       "  <tbody>\n",
       "    <tr>\n",
       "      <th>0</th>\n",
       "      <td>99.0</td>\n",
       "      <td>1.0</td>\n",
       "    </tr>\n",
       "    <tr>\n",
       "      <th>1</th>\n",
       "      <td>7.0</td>\n",
       "      <td>2.0</td>\n",
       "    </tr>\n",
       "    <tr>\n",
       "      <th>2</th>\n",
       "      <td>43.0</td>\n",
       "      <td>1.0</td>\n",
       "    </tr>\n",
       "    <tr>\n",
       "      <th>3</th>\n",
       "      <td>48.0</td>\n",
       "      <td>3.0</td>\n",
       "    </tr>\n",
       "    <tr>\n",
       "      <th>4</th>\n",
       "      <td>91.0</td>\n",
       "      <td>1.0</td>\n",
       "    </tr>\n",
       "    <tr>\n",
       "      <th>5</th>\n",
       "      <td>76.0</td>\n",
       "      <td>1.0</td>\n",
       "    </tr>\n",
       "    <tr>\n",
       "      <th>6</th>\n",
       "      <td>64.0</td>\n",
       "      <td>1.0</td>\n",
       "    </tr>\n",
       "    <tr>\n",
       "      <th>7</th>\n",
       "      <td>75.0</td>\n",
       "      <td>1.0</td>\n",
       "    </tr>\n",
       "    <tr>\n",
       "      <th>8</th>\n",
       "      <td>3.0</td>\n",
       "      <td>1.0</td>\n",
       "    </tr>\n",
       "    <tr>\n",
       "      <th>9</th>\n",
       "      <td>23.0</td>\n",
       "      <td>2.0</td>\n",
       "    </tr>\n",
       "    <tr>\n",
       "      <th>10</th>\n",
       "      <td>42.0</td>\n",
       "      <td>1.0</td>\n",
       "    </tr>\n",
       "    <tr>\n",
       "      <th>11</th>\n",
       "      <td>72.0</td>\n",
       "      <td>1.0</td>\n",
       "    </tr>\n",
       "    <tr>\n",
       "      <th>12</th>\n",
       "      <td>91.0</td>\n",
       "      <td>2.0</td>\n",
       "    </tr>\n",
       "    <tr>\n",
       "      <th>13</th>\n",
       "      <td>5.0</td>\n",
       "      <td>1.0</td>\n",
       "    </tr>\n",
       "    <tr>\n",
       "      <th>14</th>\n",
       "      <td>13.0</td>\n",
       "      <td>1.0</td>\n",
       "    </tr>\n",
       "    <tr>\n",
       "      <th>15</th>\n",
       "      <td>47.0</td>\n",
       "      <td>1.0</td>\n",
       "    </tr>\n",
       "    <tr>\n",
       "      <th>16</th>\n",
       "      <td>75.0</td>\n",
       "      <td>1.0</td>\n",
       "    </tr>\n",
       "    <tr>\n",
       "      <th>17</th>\n",
       "      <td>78.0</td>\n",
       "      <td>2.0</td>\n",
       "    </tr>\n",
       "    <tr>\n",
       "      <th>18</th>\n",
       "      <td>15.0</td>\n",
       "      <td>2.0</td>\n",
       "    </tr>\n",
       "    <tr>\n",
       "      <th>19</th>\n",
       "      <td>42.0</td>\n",
       "      <td>1.0</td>\n",
       "    </tr>\n",
       "    <tr>\n",
       "      <th>20</th>\n",
       "      <td>50.0</td>\n",
       "      <td>1.0</td>\n",
       "    </tr>\n",
       "    <tr>\n",
       "      <th>21</th>\n",
       "      <td>91.0</td>\n",
       "      <td>2.0</td>\n",
       "    </tr>\n",
       "    <tr>\n",
       "      <th>22</th>\n",
       "      <td>94.0</td>\n",
       "      <td>1.0</td>\n",
       "    </tr>\n",
       "    <tr>\n",
       "      <th>23</th>\n",
       "      <td>50.0</td>\n",
       "      <td>1.0</td>\n",
       "    </tr>\n",
       "    <tr>\n",
       "      <th>24</th>\n",
       "      <td>43.0</td>\n",
       "      <td>1.0</td>\n",
       "    </tr>\n",
       "    <tr>\n",
       "      <th>25</th>\n",
       "      <td>7.0</td>\n",
       "      <td>1.0</td>\n",
       "    </tr>\n",
       "    <tr>\n",
       "      <th>26</th>\n",
       "      <td>43.0</td>\n",
       "      <td>1.0</td>\n",
       "    </tr>\n",
       "    <tr>\n",
       "      <th>27</th>\n",
       "      <td>14.0</td>\n",
       "      <td>1.0</td>\n",
       "    </tr>\n",
       "    <tr>\n",
       "      <th>28</th>\n",
       "      <td>15.0</td>\n",
       "      <td>2.0</td>\n",
       "    </tr>\n",
       "    <tr>\n",
       "      <th>29</th>\n",
       "      <td>28.0</td>\n",
       "      <td>1.0</td>\n",
       "    </tr>\n",
       "    <tr>\n",
       "      <th>...</th>\n",
       "      <td>...</td>\n",
       "      <td>...</td>\n",
       "    </tr>\n",
       "    <tr>\n",
       "      <th>12177</th>\n",
       "      <td>0.0</td>\n",
       "      <td>1.0</td>\n",
       "    </tr>\n",
       "    <tr>\n",
       "      <th>12178</th>\n",
       "      <td>91.0</td>\n",
       "      <td>1.0</td>\n",
       "    </tr>\n",
       "    <tr>\n",
       "      <th>12179</th>\n",
       "      <td>94.0</td>\n",
       "      <td>1.0</td>\n",
       "    </tr>\n",
       "    <tr>\n",
       "      <th>12180</th>\n",
       "      <td>73.0</td>\n",
       "      <td>2.0</td>\n",
       "    </tr>\n",
       "    <tr>\n",
       "      <th>12181</th>\n",
       "      <td>91.0</td>\n",
       "      <td>1.0</td>\n",
       "    </tr>\n",
       "    <tr>\n",
       "      <th>12182</th>\n",
       "      <td>12.0</td>\n",
       "      <td>1.0</td>\n",
       "    </tr>\n",
       "    <tr>\n",
       "      <th>12183</th>\n",
       "      <td>20.0</td>\n",
       "      <td>1.0</td>\n",
       "    </tr>\n",
       "    <tr>\n",
       "      <th>12184</th>\n",
       "      <td>11.0</td>\n",
       "      <td>1.0</td>\n",
       "    </tr>\n",
       "    <tr>\n",
       "      <th>12185</th>\n",
       "      <td>94.0</td>\n",
       "      <td>1.0</td>\n",
       "    </tr>\n",
       "    <tr>\n",
       "      <th>12186</th>\n",
       "      <td>13.0</td>\n",
       "      <td>1.0</td>\n",
       "    </tr>\n",
       "    <tr>\n",
       "      <th>12187</th>\n",
       "      <td>59.0</td>\n",
       "      <td>1.0</td>\n",
       "    </tr>\n",
       "    <tr>\n",
       "      <th>12188</th>\n",
       "      <td>76.0</td>\n",
       "      <td>1.0</td>\n",
       "    </tr>\n",
       "    <tr>\n",
       "      <th>12189</th>\n",
       "      <td>50.0</td>\n",
       "      <td>1.0</td>\n",
       "    </tr>\n",
       "    <tr>\n",
       "      <th>12190</th>\n",
       "      <td>50.0</td>\n",
       "      <td>1.0</td>\n",
       "    </tr>\n",
       "    <tr>\n",
       "      <th>12191</th>\n",
       "      <td>2.0</td>\n",
       "      <td>1.0</td>\n",
       "    </tr>\n",
       "    <tr>\n",
       "      <th>12192</th>\n",
       "      <td>59.0</td>\n",
       "      <td>1.0</td>\n",
       "    </tr>\n",
       "    <tr>\n",
       "      <th>12193</th>\n",
       "      <td>47.0</td>\n",
       "      <td>1.0</td>\n",
       "    </tr>\n",
       "    <tr>\n",
       "      <th>12194</th>\n",
       "      <td>47.0</td>\n",
       "      <td>1.0</td>\n",
       "    </tr>\n",
       "    <tr>\n",
       "      <th>12195</th>\n",
       "      <td>5.0</td>\n",
       "      <td>1.0</td>\n",
       "    </tr>\n",
       "    <tr>\n",
       "      <th>12196</th>\n",
       "      <td>50.0</td>\n",
       "      <td>1.0</td>\n",
       "    </tr>\n",
       "    <tr>\n",
       "      <th>12197</th>\n",
       "      <td>62.0</td>\n",
       "      <td>1.0</td>\n",
       "    </tr>\n",
       "    <tr>\n",
       "      <th>12198</th>\n",
       "      <td>9.0</td>\n",
       "      <td>2.0</td>\n",
       "    </tr>\n",
       "    <tr>\n",
       "      <th>12199</th>\n",
       "      <td>18.0</td>\n",
       "      <td>2.0</td>\n",
       "    </tr>\n",
       "    <tr>\n",
       "      <th>12200</th>\n",
       "      <td>32.0</td>\n",
       "      <td>1.0</td>\n",
       "    </tr>\n",
       "    <tr>\n",
       "      <th>12201</th>\n",
       "      <td>34.0</td>\n",
       "      <td>1.0</td>\n",
       "    </tr>\n",
       "    <tr>\n",
       "      <th>12202</th>\n",
       "      <td>39.0</td>\n",
       "      <td>4.0</td>\n",
       "    </tr>\n",
       "    <tr>\n",
       "      <th>12208</th>\n",
       "      <td>47.0</td>\n",
       "      <td>1.0</td>\n",
       "    </tr>\n",
       "    <tr>\n",
       "      <th>12209</th>\n",
       "      <td>47.0</td>\n",
       "      <td>1.0</td>\n",
       "    </tr>\n",
       "    <tr>\n",
       "      <th>12210</th>\n",
       "      <td>51.0</td>\n",
       "      <td>1.0</td>\n",
       "    </tr>\n",
       "    <tr>\n",
       "      <th>12211</th>\n",
       "      <td>91.0</td>\n",
       "      <td>1.0</td>\n",
       "    </tr>\n",
       "  </tbody>\n",
       "</table>\n",
       "<p>8963 rows × 2 columns</p>\n",
       "</div>"
      ],
      "text/plain": [
       "       hotel_cluster  is_booking\n",
       "0               99.0         1.0\n",
       "1                7.0         2.0\n",
       "2               43.0         1.0\n",
       "3               48.0         3.0\n",
       "4               91.0         1.0\n",
       "5               76.0         1.0\n",
       "6               64.0         1.0\n",
       "7               75.0         1.0\n",
       "8                3.0         1.0\n",
       "9               23.0         2.0\n",
       "10              42.0         1.0\n",
       "11              72.0         1.0\n",
       "12              91.0         2.0\n",
       "13               5.0         1.0\n",
       "14              13.0         1.0\n",
       "15              47.0         1.0\n",
       "16              75.0         1.0\n",
       "17              78.0         2.0\n",
       "18              15.0         2.0\n",
       "19              42.0         1.0\n",
       "20              50.0         1.0\n",
       "21              91.0         2.0\n",
       "22              94.0         1.0\n",
       "23              50.0         1.0\n",
       "24              43.0         1.0\n",
       "25               7.0         1.0\n",
       "26              43.0         1.0\n",
       "27              14.0         1.0\n",
       "28              15.0         2.0\n",
       "29              28.0         1.0\n",
       "...              ...         ...\n",
       "12177            0.0         1.0\n",
       "12178           91.0         1.0\n",
       "12179           94.0         1.0\n",
       "12180           73.0         2.0\n",
       "12181           91.0         1.0\n",
       "12182           12.0         1.0\n",
       "12183           20.0         1.0\n",
       "12184           11.0         1.0\n",
       "12185           94.0         1.0\n",
       "12186           13.0         1.0\n",
       "12187           59.0         1.0\n",
       "12188           76.0         1.0\n",
       "12189           50.0         1.0\n",
       "12190           50.0         1.0\n",
       "12191            2.0         1.0\n",
       "12192           59.0         1.0\n",
       "12193           47.0         1.0\n",
       "12194           47.0         1.0\n",
       "12195            5.0         1.0\n",
       "12196           50.0         1.0\n",
       "12197           62.0         1.0\n",
       "12198            9.0         2.0\n",
       "12199           18.0         2.0\n",
       "12200           32.0         1.0\n",
       "12201           34.0         1.0\n",
       "12202           39.0         4.0\n",
       "12208           47.0         1.0\n",
       "12209           47.0         1.0\n",
       "12210           51.0         1.0\n",
       "12211           91.0         1.0\n",
       "\n",
       "[8963 rows x 2 columns]"
      ]
     },
     "execution_count": 366,
     "metadata": {},
     "output_type": "execute_result"
    }
   ],
   "source": [
    "booking.groupby('srch_destination_id')['hotel_cluster','is_booking'].head()"
   ]
  },
  {
   "cell_type": "code",
   "execution_count": 319,
   "metadata": {
    "collapsed": true
   },
   "outputs": [],
   "source": [
    "dd1 = dataframe.read_csv('test/test.csv/test.csv', blocksize=100000000)"
   ]
  },
  {
   "cell_type": "code",
   "execution_count": 320,
   "metadata": {
    "collapsed": false
   },
   "outputs": [
    {
     "name": "stdout",
     "output_type": "stream",
     "text": [
      "[########################################] | 100% Completed | 16.3s\n"
     ]
    }
   ],
   "source": [
    "with ProgressBar():\n",
    "    data = dd1.sample(.1).compute()"
   ]
  },
  {
   "cell_type": "code",
   "execution_count": 321,
   "metadata": {
    "collapsed": false
   },
   "outputs": [
    {
     "data": {
      "text/html": [
       "<div>\n",
       "<table border=\"1\" class=\"dataframe\">\n",
       "  <thead>\n",
       "    <tr style=\"text-align: right;\">\n",
       "      <th></th>\n",
       "      <th>id</th>\n",
       "      <th>date_time</th>\n",
       "      <th>site_name</th>\n",
       "      <th>posa_continent</th>\n",
       "      <th>user_location_country</th>\n",
       "      <th>user_location_region</th>\n",
       "      <th>user_location_city</th>\n",
       "      <th>orig_destination_distance</th>\n",
       "      <th>user_id</th>\n",
       "      <th>is_mobile</th>\n",
       "      <th>...</th>\n",
       "      <th>srch_ci</th>\n",
       "      <th>srch_co</th>\n",
       "      <th>srch_adults_cnt</th>\n",
       "      <th>srch_children_cnt</th>\n",
       "      <th>srch_rm_cnt</th>\n",
       "      <th>srch_destination_id</th>\n",
       "      <th>srch_destination_type_id</th>\n",
       "      <th>hotel_continent</th>\n",
       "      <th>hotel_country</th>\n",
       "      <th>hotel_market</th>\n",
       "    </tr>\n",
       "  </thead>\n",
       "  <tbody>\n",
       "    <tr>\n",
       "      <th>402133</th>\n",
       "      <td>402133</td>\n",
       "      <td>2015-07-10 13:38:52</td>\n",
       "      <td>37</td>\n",
       "      <td>1</td>\n",
       "      <td>48</td>\n",
       "      <td>424</td>\n",
       "      <td>5957</td>\n",
       "      <td>NaN</td>\n",
       "      <td>135838</td>\n",
       "      <td>0.0</td>\n",
       "      <td>...</td>\n",
       "      <td>2015-07-12</td>\n",
       "      <td>2015-07-17</td>\n",
       "      <td>1.0</td>\n",
       "      <td>0.0</td>\n",
       "      <td>1.0</td>\n",
       "      <td>8823.0</td>\n",
       "      <td>1.0</td>\n",
       "      <td>3.0</td>\n",
       "      <td>0.0</td>\n",
       "      <td>1447.0</td>\n",
       "    </tr>\n",
       "    <tr>\n",
       "      <th>547478</th>\n",
       "      <td>547478</td>\n",
       "      <td>2015-01-17 12:52:13</td>\n",
       "      <td>30</td>\n",
       "      <td>4</td>\n",
       "      <td>195</td>\n",
       "      <td>548</td>\n",
       "      <td>8263</td>\n",
       "      <td>NaN</td>\n",
       "      <td>619224</td>\n",
       "      <td>0.0</td>\n",
       "      <td>...</td>\n",
       "      <td>2015-07-15</td>\n",
       "      <td>2015-07-20</td>\n",
       "      <td>2.0</td>\n",
       "      <td>0.0</td>\n",
       "      <td>1.0</td>\n",
       "      <td>20896.0</td>\n",
       "      <td>6.0</td>\n",
       "      <td>0.0</td>\n",
       "      <td>63.0</td>\n",
       "      <td>1258.0</td>\n",
       "    </tr>\n",
       "    <tr>\n",
       "      <th>663579</th>\n",
       "      <td>663579</td>\n",
       "      <td>2015-03-02 08:24:49</td>\n",
       "      <td>2</td>\n",
       "      <td>3</td>\n",
       "      <td>66</td>\n",
       "      <td>260</td>\n",
       "      <td>44144</td>\n",
       "      <td>NaN</td>\n",
       "      <td>1005027</td>\n",
       "      <td>1.0</td>\n",
       "      <td>...</td>\n",
       "      <td>2015-04-07</td>\n",
       "      <td>2015-04-12</td>\n",
       "      <td>2.0</td>\n",
       "      <td>0.0</td>\n",
       "      <td>1.0</td>\n",
       "      <td>12228.0</td>\n",
       "      <td>6.0</td>\n",
       "      <td>2.0</td>\n",
       "      <td>50.0</td>\n",
       "      <td>411.0</td>\n",
       "    </tr>\n",
       "    <tr>\n",
       "      <th>309635</th>\n",
       "      <td>309635</td>\n",
       "      <td>2015-09-20 15:33:50</td>\n",
       "      <td>40</td>\n",
       "      <td>3</td>\n",
       "      <td>66</td>\n",
       "      <td>403</td>\n",
       "      <td>34516</td>\n",
       "      <td>153.3662</td>\n",
       "      <td>1031427</td>\n",
       "      <td>0.0</td>\n",
       "      <td>...</td>\n",
       "      <td>2015-09-22</td>\n",
       "      <td>2015-09-23</td>\n",
       "      <td>4.0</td>\n",
       "      <td>0.0</td>\n",
       "      <td>1.0</td>\n",
       "      <td>26129.0</td>\n",
       "      <td>6.0</td>\n",
       "      <td>2.0</td>\n",
       "      <td>50.0</td>\n",
       "      <td>1250.0</td>\n",
       "    </tr>\n",
       "    <tr>\n",
       "      <th>800758</th>\n",
       "      <td>800758</td>\n",
       "      <td>2015-05-04 23:28:31</td>\n",
       "      <td>2</td>\n",
       "      <td>3</td>\n",
       "      <td>66</td>\n",
       "      <td>174</td>\n",
       "      <td>9351</td>\n",
       "      <td>806.7148</td>\n",
       "      <td>260677</td>\n",
       "      <td>0.0</td>\n",
       "      <td>...</td>\n",
       "      <td>2015-06-08</td>\n",
       "      <td>2015-06-10</td>\n",
       "      <td>1.0</td>\n",
       "      <td>0.0</td>\n",
       "      <td>1.0</td>\n",
       "      <td>8288.0</td>\n",
       "      <td>1.0</td>\n",
       "      <td>2.0</td>\n",
       "      <td>198.0</td>\n",
       "      <td>399.0</td>\n",
       "    </tr>\n",
       "  </tbody>\n",
       "</table>\n",
       "<p>5 rows × 22 columns</p>\n",
       "</div>"
      ],
      "text/plain": [
       "            id            date_time  site_name  posa_continent  \\\n",
       "402133  402133  2015-07-10 13:38:52         37               1   \n",
       "547478  547478  2015-01-17 12:52:13         30               4   \n",
       "663579  663579  2015-03-02 08:24:49          2               3   \n",
       "309635  309635  2015-09-20 15:33:50         40               3   \n",
       "800758  800758  2015-05-04 23:28:31          2               3   \n",
       "\n",
       "        user_location_country  user_location_region  user_location_city  \\\n",
       "402133                     48                   424                5957   \n",
       "547478                    195                   548                8263   \n",
       "663579                     66                   260               44144   \n",
       "309635                     66                   403               34516   \n",
       "800758                     66                   174                9351   \n",
       "\n",
       "        orig_destination_distance  user_id  is_mobile      ...       \\\n",
       "402133                        NaN   135838        0.0      ...        \n",
       "547478                        NaN   619224        0.0      ...        \n",
       "663579                        NaN  1005027        1.0      ...        \n",
       "309635                   153.3662  1031427        0.0      ...        \n",
       "800758                   806.7148   260677        0.0      ...        \n",
       "\n",
       "           srch_ci     srch_co srch_adults_cnt srch_children_cnt  srch_rm_cnt  \\\n",
       "402133  2015-07-12  2015-07-17             1.0               0.0          1.0   \n",
       "547478  2015-07-15  2015-07-20             2.0               0.0          1.0   \n",
       "663579  2015-04-07  2015-04-12             2.0               0.0          1.0   \n",
       "309635  2015-09-22  2015-09-23             4.0               0.0          1.0   \n",
       "800758  2015-06-08  2015-06-10             1.0               0.0          1.0   \n",
       "\n",
       "        srch_destination_id  srch_destination_type_id  hotel_continent  \\\n",
       "402133               8823.0                       1.0              3.0   \n",
       "547478              20896.0                       6.0              0.0   \n",
       "663579              12228.0                       6.0              2.0   \n",
       "309635              26129.0                       6.0              2.0   \n",
       "800758               8288.0                       1.0              2.0   \n",
       "\n",
       "        hotel_country  hotel_market  \n",
       "402133            0.0        1447.0  \n",
       "547478           63.0        1258.0  \n",
       "663579           50.0         411.0  \n",
       "309635           50.0        1250.0  \n",
       "800758          198.0         399.0  \n",
       "\n",
       "[5 rows x 22 columns]"
      ]
     },
     "execution_count": 321,
     "metadata": {},
     "output_type": "execute_result"
    }
   ],
   "source": [
    "pd.DataFrame(data).head()"
   ]
  },
  {
   "cell_type": "code",
   "execution_count": null,
   "metadata": {
    "collapsed": true
   },
   "outputs": [],
   "source": [
    "ferq_clusters = train_df['hotel_cluster'].value_counts()[:5]"
   ]
  },
  {
   "cell_type": "code",
   "execution_count": null,
   "metadata": {
    "collapsed": true
   },
   "outputs": [],
   "source": [
    "top_clusters  = train_df.groupby(['srch_destination_id']).apply(get_top_clusters)"
   ]
  }
 ],
 "metadata": {
  "anaconda-cloud": {},
  "kernelspec": {
   "display_name": "Python [Root]",
   "language": "python",
   "name": "Python [Root]"
  },
  "language_info": {
   "codemirror_mode": {
    "name": "ipython",
    "version": 2
   },
   "file_extension": ".py",
   "mimetype": "text/x-python",
   "name": "python",
   "nbconvert_exporter": "python",
   "pygments_lexer": "ipython2",
   "version": "2.7.12"
  }
 },
 "nbformat": 4,
 "nbformat_minor": 0
}
