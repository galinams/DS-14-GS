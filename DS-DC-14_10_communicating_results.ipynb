{
 "cells": [
  {
   "cell_type": "markdown",
   "metadata": {},
   "source": [
    "# COMMUNICATING RESULTS"
   ]
  },
  {
   "cell_type": "markdown",
   "metadata": {},
   "source": [
    "# DO WORK\n",
    "- Open up the lesson 10 notebook\n",
    "- Complete your mid-course survey if you haven't already"
   ]
  },
  {
   "cell_type": "markdown",
   "metadata": {},
   "source": [
    "# LEARNING OBJECTIVES\n",
    "\n",
    "- Explain the trade-offs between the precision and recall of a model while articulating the cost of false positives vs. false negatives\n",
    "- Describe the difference between visualization for presentations vs. exploratory data analysis\n",
    "- Identify the components of a concise, convincing report and how they relate to specific audiences/stakeholders\n",
    "\n",
    "\n"
   ]
  },
  {
   "cell_type": "markdown",
   "metadata": {},
   "source": [
    "# PRE-WORK REVIEW\n",
    "\n",
    "Understand results from a confusion matrix and measure true positive rate and false positive rate\n",
    "\n",
    "Create and interpret results from a binary classification problem\n",
    "\n",
    "Know what a decision boundary is\n"
   ]
  },
  {
   "cell_type": "markdown",
   "metadata": {},
   "source": [
    "# BACK TO THE CONFUSION MATRIX\n",
    "Objective: Review what a confusion matrix is and how to estimate one"
   ]
  },
  {
   "cell_type": "markdown",
   "metadata": {
    "collapsed": true
   },
   "source": [
    "- Confusion matrices allow for the interpretation of correct and incorrect predictions for each class label. \n",
    "  - This is particularly important if you have a lot of classes rather than just two classes\n",
    "    \n",
    "Let’s recall our confusion matrix.\n",
    "![confusion matrix](assets/images/confusion_matrix.png)\n",
    "Confusing, right? Here's the version we used that matches with Scikit-learn\n",
    "\n",
    "<table width=150px style=\"border: none\">\n",
    "<tr style=\"border: none\">\n",
    "    <td style=\"border: none; vertical-align: bottom\"></td>\n",
    "    <td style=\"\"><b>Predicted: No</b></td>\n",
    "    <td style=\"\"><b>Predicted: Yes</b></td>\n",
    "</tr>\n",
    "<tr>\n",
    "    <td><b>Actual: No</b></td>\n",
    "    <td style=\"text-align: center\">True Negatives</td>\n",
    "    <td style=\"text-align: center\">False Positives</td>\n",
    "    <td style=\"text-align: center\">N</td>\n",
    "</tr>\n",
    "<tr>\n",
    "    <td><b>Actual: Yes</b></td>\n",
    "    <td style=\"text-align: center\">False Negatives</td>\n",
    "    <td style=\"text-align: center\">True Positives</td>\n",
    "    <td style=\"text-align: center\">P</td>\n",
    "</tr>\n",
    "<tr style=\"border: none\">\n",
    "    <td style=\"border: none\"></td>\n",
    "    <td style=\"text-align: center\">No</td>\n",
    "    <td style=\"text-align: center\">Yes</td>\n",
    "</tr>\n",
    "\n",
    "</table>"
   ]
  },
  {
   "cell_type": "markdown",
   "metadata": {},
   "source": [
    "## ACTIVITY:  KNOWLEDGE CHECK\n",
    "Without looking at the previous slide, how do we calculate the following?\n",
    "- Accuracy\n",
    "- True Positive Rate\n",
    "- False Positive Rate\n",
    "- Can you guess what the True Negative Rate would be?\n",
    "\n",
    "The answer is below, try not to peek too much."
   ]
  },
  {
   "cell_type": "markdown",
   "metadata": {},
   "source": [
    "Answer:\n",
    "$$accuracy = \\frac{TP + TN}{P + N} = \\frac{TP + TN}{Total}$$\n",
    "\n",
    "$$True~Positive~Rate = \\frac{FP}{N}$$\n",
    "\n",
    "$$False~Positive~Rate = \\frac{TP}{P}$$\n",
    "\n",
    "$$True~Negative~Rate = \\frac{TN}{N} = 1 - FPR$$"
   ]
  },
  {
   "cell_type": "markdown",
   "metadata": {},
   "source": [
    "**Let's load in some data to work with today** \n",
    "\n",
    "We will revisit the iris from the KNN lesson"
   ]
  },
  {
   "cell_type": "code",
   "execution_count": 1,
   "metadata": {
    "collapsed": true
   },
   "outputs": [],
   "source": [
    "import numpy as np\n",
    "import pandas as pd\n",
    "from sklearn import cross_validation\n",
    "from sklearn import neighbors\n",
    "from sklearn import grid_search\n",
    "from sklearn import metrics\n",
    "from sklearn import linear_model\n",
    "from sklearn import dummy\n",
    "\n",
    "import seaborn as sns\n",
    "import matplotlib.pyplot as plt\n",
    "sns.set(style=\"whitegrid\", font_scale=1)\n",
    "%matplotlib inline"
   ]
  },
  {
   "cell_type": "code",
   "execution_count": null,
   "metadata": {
    "collapsed": true
   },
   "outputs": [],
   "source": []
  },
  {
   "cell_type": "code",
   "execution_count": 2,
   "metadata": {
    "collapsed": true
   },
   "outputs": [],
   "source": [
    "from sklearn import datasets\n",
    "import pandas as pd\n",
    "import numpy as np\n",
    "import seaborn as sns\n",
    "\n",
    "%matplotlib inline\n",
    "# Load in pre-packaged data from sklearn and convert to Pandas DF\n",
    "iris = datasets.load_iris()\n",
    "\n",
    "# Convert feature data to DataFrame\n",
    "irisdf = pd.DataFrame(iris.data, columns=iris.feature_names)\n",
    "\n",
    "# Convert outcome data to DataFrame\n",
    "iris_outcome = pd.DataFrame(iris.target, columns=['species'])\n",
    "\n",
    "# We need to put the outcome and data together if we want to explore it\n",
    "# They have matching indicies, so let's join them by index\n",
    "irisdf = irisdf.join(iris_outcome)\n",
    "\n",
    "# The variable names are annoying, let's change them\n",
    "irisdf.columns = ['sepal_length', 'sepal_width', 'petal_length', 'petal_width', 'species']"
   ]
  },
  {
   "cell_type": "code",
   "execution_count": 3,
   "metadata": {
    "collapsed": false
   },
   "outputs": [
    {
     "data": {
      "text/html": [
       "<div>\n",
       "<table border=\"1\" class=\"dataframe\">\n",
       "  <thead>\n",
       "    <tr style=\"text-align: right;\">\n",
       "      <th></th>\n",
       "      <th>sepal_length</th>\n",
       "      <th>sepal_width</th>\n",
       "      <th>petal_length</th>\n",
       "      <th>petal_width</th>\n",
       "      <th>species</th>\n",
       "    </tr>\n",
       "  </thead>\n",
       "  <tbody>\n",
       "    <tr>\n",
       "      <th>0</th>\n",
       "      <td>5.1</td>\n",
       "      <td>3.5</td>\n",
       "      <td>1.4</td>\n",
       "      <td>0.2</td>\n",
       "      <td>0</td>\n",
       "    </tr>\n",
       "    <tr>\n",
       "      <th>1</th>\n",
       "      <td>4.9</td>\n",
       "      <td>3.0</td>\n",
       "      <td>1.4</td>\n",
       "      <td>0.2</td>\n",
       "      <td>0</td>\n",
       "    </tr>\n",
       "    <tr>\n",
       "      <th>2</th>\n",
       "      <td>4.7</td>\n",
       "      <td>3.2</td>\n",
       "      <td>1.3</td>\n",
       "      <td>0.2</td>\n",
       "      <td>0</td>\n",
       "    </tr>\n",
       "    <tr>\n",
       "      <th>3</th>\n",
       "      <td>4.6</td>\n",
       "      <td>3.1</td>\n",
       "      <td>1.5</td>\n",
       "      <td>0.2</td>\n",
       "      <td>0</td>\n",
       "    </tr>\n",
       "    <tr>\n",
       "      <th>4</th>\n",
       "      <td>5.0</td>\n",
       "      <td>3.6</td>\n",
       "      <td>1.4</td>\n",
       "      <td>0.2</td>\n",
       "      <td>0</td>\n",
       "    </tr>\n",
       "  </tbody>\n",
       "</table>\n",
       "</div>"
      ],
      "text/plain": [
       "   sepal_length  sepal_width  petal_length  petal_width  species\n",
       "0           5.1          3.5           1.4          0.2        0\n",
       "1           4.9          3.0           1.4          0.2        0\n",
       "2           4.7          3.2           1.3          0.2        0\n",
       "3           4.6          3.1           1.5          0.2        0\n",
       "4           5.0          3.6           1.4          0.2        0"
      ]
     },
     "execution_count": 3,
     "metadata": {},
     "output_type": "execute_result"
    }
   ],
   "source": [
    "irisdf.head()"
   ]
  },
  {
   "cell_type": "code",
   "execution_count": null,
   "metadata": {
    "collapsed": true
   },
   "outputs": [],
   "source": []
  },
  {
   "cell_type": "code",
   "execution_count": 4,
   "metadata": {
    "collapsed": true
   },
   "outputs": [],
   "source": [
    "# List out the features we will use for our model\n",
    "features = ['sepal_length', 'sepal_width', 'petal_length', 'petal_width']"
   ]
  },
  {
   "cell_type": "code",
   "execution_count": null,
   "metadata": {
    "collapsed": true
   },
   "outputs": [],
   "source": []
  },
  {
   "cell_type": "code",
   "execution_count": 5,
   "metadata": {
    "collapsed": true
   },
   "outputs": [],
   "source": [
    "# Keep only classes 1 and 2 for this run\n",
    "X = irisdf[irisdf.species.isin([1,2])][features]"
   ]
  },
  {
   "cell_type": "code",
   "execution_count": 6,
   "metadata": {
    "collapsed": false
   },
   "outputs": [
    {
     "data": {
      "text/html": [
       "<div>\n",
       "<table border=\"1\" class=\"dataframe\">\n",
       "  <thead>\n",
       "    <tr style=\"text-align: right;\">\n",
       "      <th></th>\n",
       "      <th>sepal_length</th>\n",
       "      <th>sepal_width</th>\n",
       "      <th>petal_length</th>\n",
       "      <th>petal_width</th>\n",
       "    </tr>\n",
       "  </thead>\n",
       "  <tbody>\n",
       "    <tr>\n",
       "      <th>50</th>\n",
       "      <td>7.0</td>\n",
       "      <td>3.2</td>\n",
       "      <td>4.7</td>\n",
       "      <td>1.4</td>\n",
       "    </tr>\n",
       "    <tr>\n",
       "      <th>51</th>\n",
       "      <td>6.4</td>\n",
       "      <td>3.2</td>\n",
       "      <td>4.5</td>\n",
       "      <td>1.5</td>\n",
       "    </tr>\n",
       "    <tr>\n",
       "      <th>52</th>\n",
       "      <td>6.9</td>\n",
       "      <td>3.1</td>\n",
       "      <td>4.9</td>\n",
       "      <td>1.5</td>\n",
       "    </tr>\n",
       "    <tr>\n",
       "      <th>53</th>\n",
       "      <td>5.5</td>\n",
       "      <td>2.3</td>\n",
       "      <td>4.0</td>\n",
       "      <td>1.3</td>\n",
       "    </tr>\n",
       "    <tr>\n",
       "      <th>54</th>\n",
       "      <td>6.5</td>\n",
       "      <td>2.8</td>\n",
       "      <td>4.6</td>\n",
       "      <td>1.5</td>\n",
       "    </tr>\n",
       "  </tbody>\n",
       "</table>\n",
       "</div>"
      ],
      "text/plain": [
       "    sepal_length  sepal_width  petal_length  petal_width\n",
       "50           7.0          3.2           4.7          1.4\n",
       "51           6.4          3.2           4.5          1.5\n",
       "52           6.9          3.1           4.9          1.5\n",
       "53           5.5          2.3           4.0          1.3\n",
       "54           6.5          2.8           4.6          1.5"
      ]
     },
     "execution_count": 6,
     "metadata": {},
     "output_type": "execute_result"
    }
   ],
   "source": [
    "X.head()"
   ]
  },
  {
   "cell_type": "code",
   "execution_count": null,
   "metadata": {
    "collapsed": true
   },
   "outputs": [],
   "source": []
  },
  {
   "cell_type": "code",
   "execution_count": 9,
   "metadata": {
    "collapsed": false
   },
   "outputs": [],
   "source": [
    "# Keep only classes 1 and 2 for this run\n",
    "# Rename 1 and 2 to 0 and 1 so sklearn understands the classes\n",
    "y = irisdf[irisdf.species.isin([1, 2])].species.replace({1:0,2:1})"
   ]
  },
  {
   "cell_type": "code",
   "execution_count": 10,
   "metadata": {
    "collapsed": false
   },
   "outputs": [
    {
     "data": {
      "text/plain": [
       "50    0\n",
       "51    0\n",
       "52    0\n",
       "53    0\n",
       "54    0\n",
       "Name: species, dtype: int32"
      ]
     },
     "execution_count": 10,
     "metadata": {},
     "output_type": "execute_result"
    }
   ],
   "source": [
    "y.head()"
   ]
  },
  {
   "cell_type": "code",
   "execution_count": null,
   "metadata": {
    "collapsed": true
   },
   "outputs": [],
   "source": []
  },
  {
   "cell_type": "code",
   "execution_count": null,
   "metadata": {
    "collapsed": true
   },
   "outputs": [],
   "source": []
  },
  {
   "cell_type": "code",
   "execution_count": null,
   "metadata": {
    "collapsed": true
   },
   "outputs": [],
   "source": []
  },
  {
   "cell_type": "code",
   "execution_count": 20,
   "metadata": {
    "collapsed": false
   },
   "outputs": [],
   "source": [
    "# Train a logistic model using a train_test split\n",
    "X_train, X_test, y_train, y_test = cross_validation.train_test_split(X,y, random_state=42)\n",
    "logit= linear_model.LogisticRegression().fit(X_train, y_train)"
   ]
  },
  {
   "cell_type": "code",
   "execution_count": 21,
   "metadata": {
    "collapsed": false
   },
   "outputs": [
    {
     "data": {
      "text/plain": [
       "array([[-1.41070833, -1.73612193,  2.30046199,  2.21752179]])"
      ]
     },
     "execution_count": 21,
     "metadata": {},
     "output_type": "execute_result"
    }
   ],
   "source": [
    "logit.coef_"
   ]
  },
  {
   "cell_type": "code",
   "execution_count": 22,
   "metadata": {
    "collapsed": false
   },
   "outputs": [],
   "source": [
    "# Create predicted classes and probabilities\n",
    "y_pred= logit.predict(X_test)\n",
    "y_pred_proba= logit.predict_proba(X_test)"
   ]
  },
  {
   "cell_type": "code",
   "execution_count": 23,
   "metadata": {
    "collapsed": false
   },
   "outputs": [
    {
     "data": {
      "text/plain": [
       "array([[ 0.43114063,  0.56885937],\n",
       "       [ 0.12796483,  0.87203517],\n",
       "       [ 0.13117382,  0.86882618],\n",
       "       [ 0.87645423,  0.12354577],\n",
       "       [ 0.74566293,  0.25433707]])"
      ]
     },
     "execution_count": 23,
     "metadata": {},
     "output_type": "execute_result"
    }
   ],
   "source": [
    "# Preview first 5 predicted probabilities and go over what the two columns mean\n",
    "y_pred_proba[:5]"
   ]
  },
  {
   "cell_type": "code",
   "execution_count": null,
   "metadata": {
    "collapsed": true
   },
   "outputs": [],
   "source": []
  },
  {
   "cell_type": "code",
   "execution_count": 24,
   "metadata": {
    "collapsed": false
   },
   "outputs": [
    {
     "data": {
      "text/plain": [
       "array([[11,  3],\n",
       "       [ 0, 11]])"
      ]
     },
     "execution_count": 24,
     "metadata": {},
     "output_type": "execute_result"
    }
   ],
   "source": [
    "metrics.confusion_matrix(y_test,y_pred)"
   ]
  },
  {
   "cell_type": "code",
   "execution_count": null,
   "metadata": {
    "collapsed": true
   },
   "outputs": [],
   "source": []
  },
  {
   "cell_type": "code",
   "execution_count": null,
   "metadata": {
    "collapsed": true
   },
   "outputs": [],
   "source": []
  },
  {
   "cell_type": "code",
   "execution_count": null,
   "metadata": {
    "collapsed": false
   },
   "outputs": [],
   "source": [
    "# Let's get a confusion matrix for this data\n"
   ]
  },
  {
   "cell_type": "code",
   "execution_count": 25,
   "metadata": {
    "collapsed": false
   },
   "outputs": [
    {
     "data": {
      "text/plain": [
       "0.95454545454545459"
      ]
     },
     "execution_count": 25,
     "metadata": {},
     "output_type": "execute_result"
    }
   ],
   "source": [
    "# Let's get the area under the curve\n",
    "metrics.roc_auc_score(y_test, y_pred_proba[:,1])"
   ]
  },
  {
   "cell_type": "code",
   "execution_count": 28,
   "metadata": {
    "collapsed": true
   },
   "outputs": [],
   "source": [
    "fpr, tpr, thresholds = metrics.roc_curve(y_test,y_pred_proba[:,1])"
   ]
  },
  {
   "cell_type": "code",
   "execution_count": null,
   "metadata": {
    "collapsed": true
   },
   "outputs": [],
   "source": []
  },
  {
   "cell_type": "code",
   "execution_count": 29,
   "metadata": {
    "collapsed": false
   },
   "outputs": [
    {
     "data": {
      "text/plain": [
       "[<matplotlib.lines.Line2D at 0xbecbf98>]"
      ]
     },
     "execution_count": 29,
     "metadata": {},
     "output_type": "execute_result"
    },
    {
     "data": {
      "image/png": "[encoded data removed]",
      "text/plain": [
       "<matplotlib.figure.Figure at 0xbc3ac50>"
      ]
     },
     "metadata": {},
     "output_type": "display_data"
    }
   ],
   "source": [
    "plt.figure()\n",
    "plt.plot(fpr, tpr)"
   ]
  },
  {
   "cell_type": "code",
   "execution_count": null,
   "metadata": {
    "collapsed": true
   },
   "outputs": [],
   "source": []
  },
  {
   "cell_type": "code",
   "execution_count": null,
   "metadata": {
    "collapsed": true
   },
   "outputs": [],
   "source": []
  },
  {
   "cell_type": "markdown",
   "metadata": {},
   "source": [
    "### KNOWLEDGE CHECK\n",
    "\n",
    "Does that look like a good or bad AUC to have?"
   ]
  },
  {
   "cell_type": "markdown",
   "metadata": {},
   "source": [
    "# PRECISION AND RECALL\n",
    "Objective: Introduce Precision and Recall to formally replace TPR and FPR"
   ]
  },
  {
   "cell_type": "markdown",
   "metadata": {
    "collapsed": true
   },
   "source": [
    "We've indirectly spoken about precision and recall\n",
    "\n",
    "- **Recall/True Positive Rate** asks \"Given a positive example, will the classifier detect it\"\n",
    " - Consider the **True Negative Rate** which asks \"Given a negative example, will the classifier detect it\"\n",
    " - Which differs from **False Positive Rate** which asks \"Given a positive example, will the classifier get it wrong\"\n",
    " - The True Negative Rate = (1 - FPR)\n",
    " - These all relate to the **Recall/TPR - Sensitivity** trade-off that we indirectly talked about last class\n",
    " \n",
    "Notice that we ask these questions from the perspective of data that we have trained or tested on. **Knowing the actual values, how did our model do?**\n",
    "\n",
    "**What if we want to know how likely it is that a model's prediction is correct?**\n",
    "\n",
    "- **Precision** asks \"Given a positive prediction from the classifier, how likely is it to be correct ?\"\n",
    "$$\\frac{TP}{TP+FP}$$"
   ]
  },
  {
   "cell_type": "markdown",
   "metadata": {
    "collapsed": true
   },
   "source": [
    "**Recall** aims to see how well a model returns specific data (literally, checking whether the model can recall what a class label looked like).\n",
    "\n",
    "**Precision** aims to produce a high amount of relevancy (literally, checking how precise our predictions are)."
   ]
  },
  {
   "cell_type": "markdown",
   "metadata": {},
   "source": [
    "## ACTIVITY:  KNOWLEDGE CHECK\n",
    "\n",
    "If the goal of the “recall” metric is to identify specific values of a class correctly, what other metric performs a similar calculation?\n",
    "\n",
    "<!--\n",
    "True Negative Rate is just 'recall' for the negative class! Actually, when we think about this more broadly in the multi-class situation we care about how well we recall any particular class.\n",
    "-->"
   ]
  },
  {
   "cell_type": "code",
   "execution_count": 30,
   "metadata": {
    "collapsed": false
   },
   "outputs": [
    {
     "data": {
      "text/plain": [
       "array([[11,  3],\n",
       "       [ 0, 11]])"
      ]
     },
     "execution_count": 30,
     "metadata": {},
     "output_type": "execute_result"
    }
   ],
   "source": [
    "# Let's get a confusion matrix for this data\n",
    "metrics.confusion_matrix(y_test, y_pred)"
   ]
  },
  {
   "cell_type": "code",
   "execution_count": null,
   "metadata": {
    "collapsed": true
   },
   "outputs": [],
   "source": []
  },
  {
   "cell_type": "code",
   "execution_count": 31,
   "metadata": {
    "collapsed": false
   },
   "outputs": [
    {
     "name": "stdout",
     "output_type": "stream",
     "text": [
      "             precision    recall  f1-score   support\n",
      "\n",
      "          0       1.00      0.79      0.88        14\n",
      "          1       0.79      1.00      0.88        11\n",
      "\n",
      "avg / total       0.91      0.88      0.88        25\n",
      "\n"
     ]
    }
   ],
   "source": [
    "# There's a great, more general, feature called classification report\n",
    "print metrics.classification_report(y_test, y_pred)"
   ]
  },
  {
   "cell_type": "code",
   "execution_count": 36,
   "metadata": {
    "collapsed": false
   },
   "outputs": [
    {
     "name": "stdout",
     "output_type": "stream",
     "text": [
      "0.785714285714\n"
     ]
    }
   ],
   "source": [
    "precision = float(11.0/(11.0+3.0))\n",
    "print precision"
   ]
  },
  {
   "cell_type": "code",
   "execution_count": null,
   "metadata": {
    "collapsed": true
   },
   "outputs": [],
   "source": []
  },
  {
   "cell_type": "code",
   "execution_count": null,
   "metadata": {
    "collapsed": true
   },
   "outputs": [],
   "source": []
  },
  {
   "cell_type": "code",
   "execution_count": null,
   "metadata": {
    "collapsed": true
   },
   "outputs": [],
   "source": []
  },
  {
   "cell_type": "code",
   "execution_count": null,
   "metadata": {
    "collapsed": true
   },
   "outputs": [],
   "source": []
  },
  {
   "cell_type": "code",
   "execution_count": null,
   "metadata": {
    "collapsed": true
   },
   "outputs": [],
   "source": []
  },
  {
   "cell_type": "markdown",
   "metadata": {},
   "source": [
    "### KNOWLEDGE CHECK\n",
    "Calculate precision and recall from the confusion matrix and much sure your answer matches"
   ]
  },
  {
   "cell_type": "markdown",
   "metadata": {},
   "source": [
    "## THE DIFFERENCE BETWEEN PRECISION AND RECALL\n",
    "The key difference between the two is whether we attribute error to false postives or false negatives.\n",
    "\n",
    "Should our model be more pick in avoiding false positives (precision)?\n",
    "\n",
    "Or should it be more pick in avoiding false negatives (recall)?\n",
    "\n",
    "The answer should be determined by the problem you’re trying to solve.\n",
    "\n",
    "**This sounds a lot like balancing TPR and FPR?**\n",
    "\n",
    "They are very similar, but you should use precision and recall rather than TPR and FPR."
   ]
  },
  {
   "cell_type": "markdown",
   "metadata": {},
   "source": [
    "### PRECISION-RECALL TRADEOFF\n",
    "\n",
    "We can trade **Precision and Recall** in a similar manner to **Sensitivity and Specificity**. \n",
    "\n",
    "Remember:\n",
    "- Recall = Sensitivity\n",
    "- Specificity = 1 - FPR"
   ]
  },
  {
   "cell_type": "markdown",
   "metadata": {},
   "source": [
    "# MULTICLASS PROBLEMS\n",
    "Objective: Discuss how to estimate and evaluate multiclass problem at a shallow level"
   ]
  },
  {
   "cell_type": "markdown",
   "metadata": {},
   "source": [
    "**What do we do when we have more than two class labels?**\n",
    "\n",
    "- Some algorithms inherently support multiple classes:\n",
    "  - Inherently multiclass: Naive Bayes, LDA and QDA, Decision Trees, Random Forests, Nearest Neighbors, and Logistic Regression with the correct approach\n",
    "- Otherwise we split the the multiclass problem into a binary problem"
   ]
  },
  {
   "cell_type": "markdown",
   "metadata": {},
   "source": [
    "**How can we split a mutliclass problem into a set of binary problems?**\n",
    "\n",
    "Again, there are two major approaches to pay attention to.\n",
    "- One vs Rest\n",
    "- One vs One"
   ]
  },
  {
   "cell_type": "markdown",
   "metadata": {},
   "source": [
    "### One vs Rest\n",
    "\n",
    "We train a separate model for each class and predict the one with the largest probability for a given sample\n",
    "\n",
    "1. Construct a k models for k classes where the positive class is the target class and all other observations are the negative class\n",
    "2. Use all models to make predict probabilities on a new sample. \n",
    "3. Choose the class that has the highest probability"
   ]
  },
  {
   "cell_type": "markdown",
   "metadata": {},
   "source": [
    "### One vs One\n",
    "\n",
    "We train a model for each pair of classes and have them vote on which class to use.\n",
    "\n",
    "1. Train k(k-1)/2 models on k classes. That gives you k(k - 1)/2 binary classification problems\n",
    "2. Use all models to predict the class of a new sample. Each model will vote for a class\n",
    "3. Choose the class with the most number of votes"
   ]
  },
  {
   "cell_type": "markdown",
   "metadata": {},
   "source": [
    "### Which one should I use?\n",
    "\n",
    "That's not necessarily clear and both approaches perform well. Scikit-learn mostly uses One vs Rest by default with a few exceptions."
   ]
  },
  {
   "cell_type": "markdown",
   "metadata": {},
   "source": [
    "### KNOWLEDGE CHECK\n",
    "\n",
    "I've trained 4 Support Vector Machines in a One vs. Rest fashion.\n",
    "\n",
    "On a new prediction, the classifiers tell me the following probabilities\n",
    "- class 0: .19\n",
    "- class 1: .175\n",
    "- class 2: .22\n",
    "- class 3: .18\n",
    "\n",
    "What class do we predict for this sample?"
   ]
  },
  {
   "cell_type": "code",
   "execution_count": 37,
   "metadata": {
    "collapsed": false
   },
   "outputs": [],
   "source": [
    "# Create a Logistic Regression model to predict the species type\n",
    "features = ['sepal_length', 'sepal_width', 'petal_length', 'petal_width']\n",
    "X = irisdf[irisdf.species.isin([0, 1, 2])][features]\n",
    "y = irisdf[irisdf.species.isin([0, 1, 2])]['species']\n",
    "X_train, X_test, y_train, y_test = cross_validation.train_test_split(X, y, test_size=.5, random_state=5)\n",
    "logit = linear_model.LogisticRegression(multi_class='ovr').fit(X_train, y_train)"
   ]
  },
  {
   "cell_type": "code",
   "execution_count": null,
   "metadata": {
    "collapsed": true
   },
   "outputs": [],
   "source": []
  },
  {
   "cell_type": "code",
   "execution_count": 38,
   "metadata": {
    "collapsed": true
   },
   "outputs": [],
   "source": [
    "y_pred = logit.predict(X_test)\n",
    "y_pred_proba = logit.predict_proba(X_test)"
   ]
  },
  {
   "cell_type": "code",
   "execution_count": 39,
   "metadata": {
    "collapsed": false
   },
   "outputs": [
    {
     "data": {
      "text/plain": [
       "array([[  1.15101346e-01,   6.14930948e-01,   2.69967707e-01],\n",
       "       [  1.60930692e-03,   4.12766295e-01,   5.85624398e-01],\n",
       "       [  2.41680884e-03,   1.86916868e-01,   8.10666323e-01],\n",
       "       [  8.78597373e-01,   1.20545951e-01,   8.56675708e-04],\n",
       "       [  1.62488063e-03,   1.70754668e-01,   8.27620451e-01]])"
      ]
     },
     "execution_count": 39,
     "metadata": {},
     "output_type": "execute_result"
    }
   ],
   "source": [
    "y_pred_proba[:5]"
   ]
  },
  {
   "cell_type": "code",
   "execution_count": null,
   "metadata": {
    "collapsed": true
   },
   "outputs": [],
   "source": []
  },
  {
   "cell_type": "code",
   "execution_count": null,
   "metadata": {
    "collapsed": true
   },
   "outputs": [],
   "source": []
  },
  {
   "cell_type": "code",
   "execution_count": null,
   "metadata": {
    "collapsed": true
   },
   "outputs": [],
   "source": []
  },
  {
   "cell_type": "markdown",
   "metadata": {},
   "source": [
    "### EVALUATING MULTICLASS PROBLEMS\n",
    "\n",
    "Most of our metrics aside from Accuracy do not naturally extend to multiple classes.\n",
    "\n",
    "**Generally, you should focus on Accuracy when evaluating multiclass problems.**\n",
    "\n",
    "However, we can take a closer look using other metrics, but we work on a class by class basis."
   ]
  },
  {
   "cell_type": "code",
   "execution_count": 40,
   "metadata": {
    "collapsed": false
   },
   "outputs": [
    {
     "data": {
      "text/plain": [
       "array([[22,  0,  0],\n",
       "       [ 0, 21,  8],\n",
       "       [ 0,  0, 24]])"
      ]
     },
     "execution_count": 40,
     "metadata": {},
     "output_type": "execute_result"
    }
   ],
   "source": [
    "metrics.confusion_matrix(y_test, y_pred)"
   ]
  },
  {
   "cell_type": "code",
   "execution_count": null,
   "metadata": {
    "collapsed": true
   },
   "outputs": [],
   "source": []
  },
  {
   "cell_type": "code",
   "execution_count": null,
   "metadata": {
    "collapsed": false
   },
   "outputs": [],
   "source": [
    "replacement = {0:1, 1:0, 2:0}\n",
    "metrics.confusion_matrix(y_test.replace(replacement), \n",
    "                         pd.Series(y_pred).replace(replacement))"
   ]
  },
  {
   "cell_type": "code",
   "execution_count": 41,
   "metadata": {
    "collapsed": false
   },
   "outputs": [
    {
     "data": {
      "text/plain": [
       "array([[46,  0],\n",
       "       [ 8, 21]])"
      ]
     },
     "execution_count": 41,
     "metadata": {},
     "output_type": "execute_result"
    }
   ],
   "source": [
    "replacement = {0:0, 1:1, 2:0}\n",
    "metrics.confusion_matrix(y_test.replace(replacement), \n",
    "                         pd.Series(y_pred).replace(replacement))"
   ]
  },
  {
   "cell_type": "code",
   "execution_count": null,
   "metadata": {
    "collapsed": true
   },
   "outputs": [],
   "source": []
  },
  {
   "cell_type": "code",
   "execution_count": 42,
   "metadata": {
    "collapsed": false
   },
   "outputs": [
    {
     "data": {
      "text/plain": [
       "array([[43,  8],\n",
       "       [ 0, 24]])"
      ]
     },
     "execution_count": 42,
     "metadata": {},
     "output_type": "execute_result"
    }
   ],
   "source": [
    "replacement = {0:0, 1:0, 2:1}\n",
    "metrics.confusion_matrix(y_test.replace(replacement), \n",
    "                         pd.Series(y_pred).replace(replacement))"
   ]
  },
  {
   "cell_type": "code",
   "execution_count": null,
   "metadata": {
    "collapsed": true
   },
   "outputs": [],
   "source": []
  },
  {
   "cell_type": "code",
   "execution_count": 43,
   "metadata": {
    "collapsed": false
   },
   "outputs": [
    {
     "name": "stdout",
     "output_type": "stream",
     "text": [
      "0.893333333333\n"
     ]
    }
   ],
   "source": [
    "print metrics.accuracy_score(y_test, y_pred)"
   ]
  },
  {
   "cell_type": "code",
   "execution_count": null,
   "metadata": {
    "collapsed": true
   },
   "outputs": [],
   "source": []
  },
  {
   "cell_type": "code",
   "execution_count": 44,
   "metadata": {
    "collapsed": false
   },
   "outputs": [
    {
     "name": "stdout",
     "output_type": "stream",
     "text": [
      "             precision    recall  f1-score   support\n",
      "\n",
      "          0       1.00      1.00      1.00        22\n",
      "          1       1.00      0.72      0.84        29\n",
      "          2       0.75      1.00      0.86        24\n",
      "\n",
      "avg / total       0.92      0.89      0.89        75\n",
      "\n"
     ]
    }
   ],
   "source": [
    "# The simple way however is to let Sklearn summarize what we are interested in\n",
    "print metrics.classification_report(y_test, y_pred)"
   ]
  },
  {
   "cell_type": "code",
   "execution_count": null,
   "metadata": {
    "collapsed": true
   },
   "outputs": [],
   "source": []
  },
  {
   "cell_type": "markdown",
   "metadata": {},
   "source": [
    "# BREAK"
   ]
  },
  {
   "cell_type": "markdown",
   "metadata": {},
   "source": [
    "# COST BENEFIT ANALYSIS\n",
    "Objective: Learn the relevant factors in choosing a proper Precision and Recall"
   ]
  },
  {
   "cell_type": "markdown",
   "metadata": {},
   "source": [
    "## ACTIVITY: COST BENEFIT ANALYSIS\n",
    "DIRECTIONS (15 minutes)\n",
    "EXERCISE\n",
    "\n",
    "One tool that complements the confusion matrix is cost-benefit analysis, where you attach a value to correctly and incorrectly predicted data.\n",
    "\n",
    "Like the Precision-Recall trade off, there is a balancing point to the probabilities of a given position in the confusion matrix, and the cost or benefit to that position. This approach allows you to not only add a weighting system to your confusion matrix, but also to speak the language of your business stakeholders (i.e. communicate your values in dollars!).\n"
   ]
  },
  {
   "cell_type": "markdown",
   "metadata": {
    "collapsed": true
   },
   "source": [
    "### ACTIVITY: COST BENEFIT ANALYSIS\n",
    "Consider the following marketing problem:\n",
    "\n",
    "As a data scientist working on marketing spending, you've built a model that reduces user churn--the number of users who decide to stop paying for a product--through a marketing campaign. Your model generates a confusion matrix with the following probabilities (these probabilities are calculated as the value in that position over the sum of the sample):\n",
    "\n",
    "<table width=150px style=\"border: none\">\n",
    "<tr style=\"border: none\">\n",
    "    <td style=\"border: none; vertical-align: bottom\"></td>\n",
    "    <td style=\"\"><b>Predicted: No</b></td>\n",
    "    <td style=\"\"><b>Predicted: Yes</b></td>\n",
    "</tr>\n",
    "<tr>\n",
    "    <td><b>Actual: No</b></td>\n",
    "    <td style=\"text-align: center\">TN:0.5</td>\n",
    "    <td style=\"text-align: center\">FP:0.2</td>\n",
    "    <td style=\"text-align: center\">N</td>\n",
    "</tr>\n",
    "<tr>\n",
    "    <td><b>Actual: Yes</b></td>\n",
    "    <td style=\"text-align: center\">FN: 0.1</td>\n",
    "    <td style=\"text-align: center\">TP: 0.2</td>\n",
    "    <td style=\"text-align: center\">P</td>\n",
    "</tr>\n",
    "<tr style=\"border: none\">\n",
    "    <td style=\"border: none\"></td>\n",
    "    <td style=\"text-align: center\">No</td>\n",
    "    <td style=\"text-align: center\">Yes</td>\n",
    "</tr>\n",
    "\n",
    "</table>"
   ]
  },
  {
   "cell_type": "markdown",
   "metadata": {
    "collapsed": true
   },
   "source": [
    "In this case: \n",
    "The benefit of a true positive is the retention of a user (\\$10 for the month) \n",
    "The cost of a false positive is the spend of the campaign per user (-$0.05) \n",
    "The cost of a false negative (someone who could have been retained if the campaign was sent to them) is, effectively, 0 (we didn't send it... but we certainly didn't benefit!) \n",
    "The benefit of a true negative is 0: No spend on users who would have never retained.\n",
    "\n",
    "To calculate Cost-Benefit, we'll use this following function:\n",
    "\n",
    "$$(P(TP) * B(TP)) + (P(TN) * B(TN)) + (P(FP) * C(FP)) + (P(FN) * C(FN))$$\n",
    "\n",
    "which for our marketing problem, comes out to this:\n",
    "\n",
    "$$(.2 * 10) + (.5 * 0) - (.2 * .05) - (.1 * 0)$$\n",
    "\n",
    "or $1.99 per user targeted.\n"
   ]
  },
  {
   "cell_type": "markdown",
   "metadata": {
    "collapsed": true
   },
   "source": [
    "1. Think about precision, recall, and cost benefit analysis to answer the following questions:\n",
    "\n",
    "2. How would you rephrase the business problem if your model was optimizing toward precision? i.e., How might the model behave differently, and what effect would if have?\n",
    "\n",
    "3. How would you rephrase the business problem if your model was optimizing toward recall?\n",
    "\n",
    "4. What would the most ideal model look like in this case?"
   ]
  },
  {
   "cell_type": "markdown",
   "metadata": {},
   "source": [
    "# COMMUNICATING RESULTS\n",
    "Objective: Quickly review how to give a good presentation"
   ]
  },
  {
   "cell_type": "markdown",
   "metadata": {},
   "source": [
    "## WE BUILT A MODEL!  NOW WHAT?\n",
    "\n",
    "We’ve built our model, but there is still a gap between your Notebook with plots/figures and a presentation of your results.\n",
    "\n",
    "Classes so far have focused on two core concepts:\n",
    "- developing consistent practices\n",
    "- interpreting metrics to evaluate and improve model performance\n",
    "\n",
    "But what does that mean to your audience?"
   ]
  },
  {
   "cell_type": "markdown",
   "metadata": {
    "collapsed": true
   },
   "source": [
    "**Imagine how a non-technical audience might respond to the following statements:**\n",
    "\n",
    "- The predictive model I built has an accuracy of 80%.\n",
    "  - Is that good or bad?\n",
    "- Logistic regression was optimized with L2 regularization.\n",
    "  - What?\n",
    "- Gender was more important than age in the predictive model because it has a larger coefficient.\n",
    "  -  I guess that sounds right, we should focus on gender\n",
    "- Here’s the AUC chart that shows how well the model did.\n",
    "  - What?"
   ]
  },
  {
   "cell_type": "markdown",
   "metadata": {
    "collapsed": true
   },
   "source": [
    "***BASIC PRESENTATION SKILLS***\n",
    "\n",
    "Who is your audience? Are they technical? What are their concerns?\n",
    "\n",
    "Remember: in a business setting, you may be the only person who can interpret what you’ve built.\n",
    "\n",
    "Some people may be familiar with basic visualization, but you will likely have to do a lot of “hand holding”.\n",
    "\n",
    "You need to be able to efficiently explain your results in a way that makes sense to all stakeholders (technical or not).\n"
   ]
  },
  {
   "cell_type": "markdown",
   "metadata": {
    "collapsed": true
   },
   "source": [
    "Today, we’ll focus on communicating results for “simpler” problems, but this applies to any type of model you may work with.\n",
    "\n",
    "First, let’s review classification metrics, review our knowledge, and talk about how we might communicate what we know."
   ]
  },
  {
   "cell_type": "markdown",
   "metadata": {},
   "source": [
    "## SHOWING WORK\n",
    "\n",
    "We’ve spent a lot of time exploring our data and building a reasonable model that performs well.\n",
    "\n",
    "However, if we look at our visuals, they are most likely:\n",
    "\n",
    "- Statistically heavy:  Most people don’t understand histograms.\n",
    "- Overly complicated:  Scatter matrices produce too much information.\n",
    "- Poorly labeled:  Code doesn’t require adding labels, so you may not have added them."
   ]
  },
  {
   "cell_type": "markdown",
   "metadata": {},
   "source": [
    "**In order to convey important information to our audience, make sure our charts are:**\n",
    "\n",
    "- Simplified\n",
    "- Easily interpretable\n",
    "- Clearly labeled\n"
   ]
  },
  {
   "cell_type": "markdown",
   "metadata": {},
   "source": [
    "## SIMPLIFIED\n",
    "\n",
    "At most, you’ll want to include figures that either explain a variable on its own or explain that variable’s relationship with a target.\n",
    "\n",
    "If your model used a data transformation (like natural log), just visualize the original data.\n",
    "\n",
    "Try to remove any unnecessary complexity.\n"
   ]
  },
  {
   "cell_type": "markdown",
   "metadata": {},
   "source": [
    "## EASILY INTERPRETABLE\n",
    "\n",
    "Any stakeholder looking at a figure should be seeing the exact same thing you’re seeing.\n",
    "\n",
    "A good test for this is to share the visual with others less familiar with the data and see if they come to the same conclusion.\n",
    "\n",
    "How long did it take them?\n"
   ]
  },
  {
   "cell_type": "markdown",
   "metadata": {},
   "source": [
    "## CLEARLY LABELED\n",
    "\n",
    "Take the time to clearly label your axis, title your plot, and double check your scales - especially if the figures should be comparable.\n",
    "\n",
    "If you’re showing two graphs side by side, they should follow the same Y axis.\n"
   ]
  },
  {
   "cell_type": "markdown",
   "metadata": {},
   "source": [
    "## QUESTIONS TO ASK\n",
    "\n",
    "**When building visuals for another audience, ask yourself these questions:**\n",
    "\n",
    "- Who:  Who is my target audience for the visual?\n",
    "\n",
    "- What:  What do they already know about this project?  What do they need to know?\n",
    "\n",
    "- How:  How does my project affect this audience?  How might they interpret (or misinterpret) the data?"
   ]
  },
  {
   "cell_type": "markdown",
   "metadata": {},
   "source": [
    "# DEMO: VISUALIZING MODELS OVER VARIABLES\n",
    "Objective: Implant the idea of using charts to explore models, predictions, and residuals"
   ]
  },
  {
   "cell_type": "markdown",
   "metadata": {
    "collapsed": true
   },
   "source": [
    "One effective way to explain your model over particular variables is to plot the predicted values against the most explanatory variables.\n",
    "\n",
    "For example, in logistic regression, plotting the probability of a class against a variable can help explain the range of effect of the model.\n",
    "\n"
   ]
  },
  {
   "cell_type": "markdown",
   "metadata": {
    "collapsed": true
   },
   "source": [
    "We’ll use the flight delay data for all following examples.  Let’s build our first model and plot.\n",
    "\n",
    "Open the starter code from the class repo and follow along.\n"
   ]
  },
  {
   "cell_type": "code",
   "execution_count": 45,
   "metadata": {
    "collapsed": false
   },
   "outputs": [],
   "source": [
    "# read in the file and generate a quick model (assume we've done the data exploration already)\n",
    "import pandas as pd\n",
    "import sklearn.linear_model as lm\n",
    "import matplotlib.pyplot as plt\n",
    "\n",
    "df = pd.read_csv('assets/dataset/flight_delays.csv')\n",
    "\n",
    "df = df.join(pd.get_dummies(df['DAY_OF_WEEK'], prefix='dow'))\n",
    "df = df[df.DEP_DEL15.notnull()].copy()"
   ]
  },
  {
   "cell_type": "code",
   "execution_count": null,
   "metadata": {
    "collapsed": true
   },
   "outputs": [],
   "source": []
  },
  {
   "cell_type": "code",
   "execution_count": 46,
   "metadata": {
    "collapsed": true
   },
   "outputs": [],
   "source": [
    "# Build a model\n",
    "model = lm.LogisticRegression()\n",
    "features = ['dow_1', 'dow_2', 'dow_3', 'dow_4', 'dow_5', 'dow_6']\n",
    "model.fit(df[features + ['CRS_DEP_TIME']], df['DEP_DEL15'])\n",
    "\n",
    "df['probability'] = model.predict_proba(df[features + ['CRS_DEP_TIME']]).T[1]"
   ]
  },
  {
   "cell_type": "code",
   "execution_count": null,
   "metadata": {
    "collapsed": true
   },
   "outputs": [],
   "source": []
  },
  {
   "cell_type": "code",
   "execution_count": 47,
   "metadata": {
    "collapsed": false
   },
   "outputs": [
    {
     "data": {
      "text/plain": [
       "[<matplotlib.text.Text at 0x108c22b0>]"
      ]
     },
     "execution_count": 47,
     "metadata": {},
     "output_type": "execute_result"
    },
    {
     "data": {
      "image/png": "[encoded data removed]",
      "text/plain": [
       "<matplotlib.figure.Figure at 0xbf02cc0>"
      ]
     },
     "metadata": {},
     "output_type": "display_data"
    }
   ],
   "source": [
    "# Create a plot\n",
    "ax = plt.subplot(111)\n",
    "colors = ['blue', 'green', 'red', 'purple', 'orange', 'brown']\n",
    "for e, c in enumerate(colors):\n",
    "    df[df[features[e]] == 1].plot(x='CRS_DEP_TIME', y='probability', kind='scatter', color = c, ax=ax)\n",
    "\n",
    "ax.set(title='Probability of Delay\\n Based on Day of Week and Time of Day')"
   ]
  },
  {
   "cell_type": "code",
   "execution_count": null,
   "metadata": {
    "collapsed": true
   },
   "outputs": [],
   "source": []
  },
  {
   "cell_type": "markdown",
   "metadata": {
    "collapsed": true
   },
   "source": [
    "This visual can help showcase the range of effect on delays from both day of the week and time of day.\n",
    "\n",
    "Given this model, some days are more likely to have delays than others.\n",
    "\n",
    "The likelihood of delay increases as the day goes on.\n"
   ]
  },
  {
   "cell_type": "markdown",
   "metadata": {
    "collapsed": true
   },
   "source": [
    "This visual can help showcase the range of effect on delays from both day of the week and time of day.\n",
    "\n",
    "Given this model, some days are more likely to have delays than others.\n",
    "\n",
    "The likelihood of delay increases as the day goes on."
   ]
  },
  {
   "cell_type": "markdown",
   "metadata": {},
   "source": [
    "# DEMO: VISUALIZING PERFORMANCE AGAINST BASELINE"
   ]
  },
  {
   "cell_type": "markdown",
   "metadata": {
    "collapsed": true
   },
   "source": [
    "Another approach of visualization is the effect of your model against a baseline, or - even better - against previous models.\n",
    "\n",
    "Plots like this will also be useful when talking to your peers - other data scientists or analysts who are familiar with your project and interested in the progress you’ve made."
   ]
  },
  {
   "cell_type": "markdown",
   "metadata": {
    "collapsed": true
   },
   "source": [
    "For classification, we’ve practiced plotting AUC plots.  Consider the premise of each:\n",
    "AUC plots explain and represent “accuracy” as having the largest area under the curve. Good models will be high and to the left."
   ]
  },
  {
   "cell_type": "markdown",
   "metadata": {
    "collapsed": true
   },
   "source": [
    "When comparing multiple models:\n",
    "\n",
    "For AUC plots, you’ll be interested in which model has the largest area under the curve."
   ]
  },
  {
   "cell_type": "markdown",
   "metadata": {},
   "source": [
    "We’ve plotted several models for AUC: a dummy model and additional features."
   ]
  },
  {
   "cell_type": "code",
   "execution_count": 48,
   "metadata": {
    "collapsed": false
   },
   "outputs": [],
   "source": [
    "model0 = dummy.DummyClassifier()\n",
    "model0.fit(df[features[1:-1]], df.DEP_DEL15)\n",
    "df['probability_0'] = model0.predict_proba(df[features[1:-1]]).T[1]\n",
    "\n",
    "model = lm.LogisticRegression()\n",
    "model.fit(df[features[1:-1]], df.DEP_DEL15)\n",
    "df['probability_1'] = model.predict_proba(df[features[1:-1]]).T[1]"
   ]
  },
  {
   "cell_type": "code",
   "execution_count": null,
   "metadata": {
    "collapsed": true
   },
   "outputs": [],
   "source": []
  },
  {
   "cell_type": "code",
   "execution_count": 49,
   "metadata": {
    "collapsed": false
   },
   "outputs": [
    {
     "data": {
      "text/plain": [
       "[(0, 1),\n",
       " <matplotlib.text.Text at 0x12a74080>,\n",
       " (0, 1),\n",
       " <matplotlib.text.Text at 0xc0c5278>,\n",
       " <matplotlib.text.Text at 0xbb8da58>]"
      ]
     },
     "execution_count": 49,
     "metadata": {},
     "output_type": "execute_result"
    },
    {
     "data": {
      "image/png": "[encoded data removed]",
      "text/plain": [
       "<matplotlib.figure.Figure at 0x12a74710>"
      ]
     },
     "metadata": {},
     "output_type": "display_data"
    }
   ],
   "source": [
    "ax = plt.subplot(111)\n",
    "vals = metrics.roc_curve(df.DEP_DEL15, df.probability_0)\n",
    "ax.plot(vals[0], vals[1])\n",
    "vals = metrics.roc_curve(df.DEP_DEL15, df.probability_1)\n",
    "ax.plot(vals[0], vals[1])\n",
    "\n",
    "ax.set(title='Area Under the Curve for prediction delayed=1', ylabel='TRP', xlabel='FRP', xlim=(0, 1), ylim=(0, 1))"
   ]
  },
  {
   "cell_type": "code",
   "execution_count": null,
   "metadata": {
    "collapsed": true
   },
   "outputs": [],
   "source": []
  },
  {
   "cell_type": "markdown",
   "metadata": {
    "collapsed": true
   },
   "source": [
    "The model using data outperforms a baseline dummy model.\n",
    "\n",
    "By adding other features, there’s some give and take with probability as the model gets more complicated."
   ]
  },
  {
   "cell_type": "markdown",
   "metadata": {},
   "source": [
    "# BREAK"
   ]
  },
  {
   "cell_type": "markdown",
   "metadata": {},
   "source": [
    "## ACTIVITY: TRY IT OUT (15 min)\n",
    "\n",
    "Objective: Have a chance to reinforce our knowledge of the confusion matrix and related concepts\n",
    "\n",
    "In a similar approach, use the sklearn [precision_recall_curve](http://scikit-learn.org/stable/modules/generated/sklearn.metrics.precision_recall_curve.html) function to enable you to plot the precision-recall curve of the four models from above.\n",
    "Explain what is occurring when the recall is below 0.2.\n",
    "Based on this performance, is there a clear winner at different thresholds?\n",
    "\n",
    "\n",
    "Bonus:  Redo both the AUC and precision-recall curves using models that have been cross validated using kfold. How do these new figures change your expectations for performance?\n",
    "\n",
    "DELIVERABLE\n",
    "The new plots and associated answers"
   ]
  },
  {
   "cell_type": "markdown",
   "metadata": {},
   "source": [
    "# INDEPENDENT PRACTICE"
   ]
  },
  {
   "cell_type": "markdown",
   "metadata": {},
   "source": [
    "## ACTIVITY: PROJECT PRACTICE\n",
    "Objective: Review content thus far in the course, bring the material together, find weak areas, and get help in class.\n",
    "\n",
    "Using the flights data from the last example try to make it through the data science workflow in the time we have left in class.\n",
    "\n",
    "There are many ways to manipulate this data set: \n",
    "- Consider what is a proper \"categorical\" variable, and keep only what is significant. \n",
    "- You will easily have 20+ variables (start with one). Aim to have at least three visuals that clearly explain the relationship of variables you've used against the predictive survival value.\n",
    "- Generate the AUC or precision-recall curve (based on which you think makes more sense), and have a statement that defines, compared to a baseline, how your model performs and any caveats.  \n",
    "  - For example: \"My model on average performs at x rate, but the features under-perform and explain less of the data at these thresholds.\" Consider this as practice for your own project, since the steps you'll take to present your work will be relatively similar.\n",
    "  \n",
    "[Pandas super cheatsheet](http://nbviewer.jupyter.org/github/justmarkham/pandas-videos/blob/master/pandas.ipynb)\n"
   ]
  },
  {
   "cell_type": "code",
   "execution_count": 50,
   "metadata": {
    "collapsed": false
   },
   "outputs": [
    {
     "data": {
      "text/html": [
       "<div>\n",
       "<table border=\"1\" class=\"dataframe\">\n",
       "  <thead>\n",
       "    <tr style=\"text-align: right;\">\n",
       "      <th></th>\n",
       "      <th>DAY_OF_MONTH</th>\n",
       "      <th>DAY_OF_WEEK</th>\n",
       "      <th>FL_DATE</th>\n",
       "      <th>UNIQUE_CARRIER</th>\n",
       "      <th>AIRLINE_ID</th>\n",
       "      <th>CARRIER</th>\n",
       "      <th>ORIGIN_AIRPORT_ID</th>\n",
       "      <th>ORIGIN_AIRPORT_SEQ_ID</th>\n",
       "      <th>ORIGIN_CITY_MARKET_ID</th>\n",
       "      <th>DEST_AIRPORT_ID</th>\n",
       "      <th>...</th>\n",
       "      <th>dow_1</th>\n",
       "      <th>dow_2</th>\n",
       "      <th>dow_3</th>\n",
       "      <th>dow_4</th>\n",
       "      <th>dow_5</th>\n",
       "      <th>dow_6</th>\n",
       "      <th>dow_7</th>\n",
       "      <th>probability</th>\n",
       "      <th>probability_0</th>\n",
       "      <th>probability_1</th>\n",
       "    </tr>\n",
       "  </thead>\n",
       "  <tbody>\n",
       "    <tr>\n",
       "      <th>0</th>\n",
       "      <td>1</td>\n",
       "      <td>4</td>\n",
       "      <td>2015-01-01</td>\n",
       "      <td>AA</td>\n",
       "      <td>19805</td>\n",
       "      <td>AA</td>\n",
       "      <td>12478</td>\n",
       "      <td>1247802</td>\n",
       "      <td>31703</td>\n",
       "      <td>12892</td>\n",
       "      <td>...</td>\n",
       "      <td>0.0</td>\n",
       "      <td>0.0</td>\n",
       "      <td>0.0</td>\n",
       "      <td>1.0</td>\n",
       "      <td>0.0</td>\n",
       "      <td>0.0</td>\n",
       "      <td>0.0</td>\n",
       "      <td>0.129859</td>\n",
       "      <td>0</td>\n",
       "      <td>0.174364</td>\n",
       "    </tr>\n",
       "    <tr>\n",
       "      <th>1</th>\n",
       "      <td>1</td>\n",
       "      <td>4</td>\n",
       "      <td>2015-01-01</td>\n",
       "      <td>AA</td>\n",
       "      <td>19805</td>\n",
       "      <td>AA</td>\n",
       "      <td>12892</td>\n",
       "      <td>1289203</td>\n",
       "      <td>32575</td>\n",
       "      <td>12478</td>\n",
       "      <td>...</td>\n",
       "      <td>0.0</td>\n",
       "      <td>0.0</td>\n",
       "      <td>0.0</td>\n",
       "      <td>1.0</td>\n",
       "      <td>0.0</td>\n",
       "      <td>0.0</td>\n",
       "      <td>0.0</td>\n",
       "      <td>0.129859</td>\n",
       "      <td>0</td>\n",
       "      <td>0.174364</td>\n",
       "    </tr>\n",
       "    <tr>\n",
       "      <th>2</th>\n",
       "      <td>1</td>\n",
       "      <td>4</td>\n",
       "      <td>2015-01-01</td>\n",
       "      <td>AA</td>\n",
       "      <td>19805</td>\n",
       "      <td>AA</td>\n",
       "      <td>12478</td>\n",
       "      <td>1247802</td>\n",
       "      <td>31703</td>\n",
       "      <td>12892</td>\n",
       "      <td>...</td>\n",
       "      <td>0.0</td>\n",
       "      <td>0.0</td>\n",
       "      <td>0.0</td>\n",
       "      <td>1.0</td>\n",
       "      <td>0.0</td>\n",
       "      <td>0.0</td>\n",
       "      <td>0.0</td>\n",
       "      <td>0.159201</td>\n",
       "      <td>0</td>\n",
       "      <td>0.174364</td>\n",
       "    </tr>\n",
       "    <tr>\n",
       "      <th>3</th>\n",
       "      <td>1</td>\n",
       "      <td>4</td>\n",
       "      <td>2015-01-01</td>\n",
       "      <td>AA</td>\n",
       "      <td>19805</td>\n",
       "      <td>AA</td>\n",
       "      <td>12892</td>\n",
       "      <td>1289203</td>\n",
       "      <td>32575</td>\n",
       "      <td>12478</td>\n",
       "      <td>...</td>\n",
       "      <td>0.0</td>\n",
       "      <td>0.0</td>\n",
       "      <td>0.0</td>\n",
       "      <td>1.0</td>\n",
       "      <td>0.0</td>\n",
       "      <td>0.0</td>\n",
       "      <td>0.0</td>\n",
       "      <td>0.158238</td>\n",
       "      <td>0</td>\n",
       "      <td>0.174364</td>\n",
       "    </tr>\n",
       "    <tr>\n",
       "      <th>4</th>\n",
       "      <td>1</td>\n",
       "      <td>4</td>\n",
       "      <td>2015-01-01</td>\n",
       "      <td>AA</td>\n",
       "      <td>19805</td>\n",
       "      <td>AA</td>\n",
       "      <td>11298</td>\n",
       "      <td>1129803</td>\n",
       "      <td>30194</td>\n",
       "      <td>12173</td>\n",
       "      <td>...</td>\n",
       "      <td>0.0</td>\n",
       "      <td>0.0</td>\n",
       "      <td>0.0</td>\n",
       "      <td>1.0</td>\n",
       "      <td>0.0</td>\n",
       "      <td>0.0</td>\n",
       "      <td>0.0</td>\n",
       "      <td>0.166576</td>\n",
       "      <td>0</td>\n",
       "      <td>0.174364</td>\n",
       "    </tr>\n",
       "  </tbody>\n",
       "</table>\n",
       "<p>5 rows × 26 columns</p>\n",
       "</div>"
      ],
      "text/plain": [
       "   DAY_OF_MONTH  DAY_OF_WEEK     FL_DATE UNIQUE_CARRIER  AIRLINE_ID CARRIER  \\\n",
       "0             1            4  2015-01-01             AA       19805      AA   \n",
       "1             1            4  2015-01-01             AA       19805      AA   \n",
       "2             1            4  2015-01-01             AA       19805      AA   \n",
       "3             1            4  2015-01-01             AA       19805      AA   \n",
       "4             1            4  2015-01-01             AA       19805      AA   \n",
       "\n",
       "   ORIGIN_AIRPORT_ID  ORIGIN_AIRPORT_SEQ_ID  ORIGIN_CITY_MARKET_ID  \\\n",
       "0              12478                1247802                  31703   \n",
       "1              12892                1289203                  32575   \n",
       "2              12478                1247802                  31703   \n",
       "3              12892                1289203                  32575   \n",
       "4              11298                1129803                  30194   \n",
       "\n",
       "   DEST_AIRPORT_ID      ...        dow_1  dow_2  dow_3  dow_4  dow_5  dow_6  \\\n",
       "0            12892      ...          0.0    0.0    0.0    1.0    0.0    0.0   \n",
       "1            12478      ...          0.0    0.0    0.0    1.0    0.0    0.0   \n",
       "2            12892      ...          0.0    0.0    0.0    1.0    0.0    0.0   \n",
       "3            12478      ...          0.0    0.0    0.0    1.0    0.0    0.0   \n",
       "4            12173      ...          0.0    0.0    0.0    1.0    0.0    0.0   \n",
       "\n",
       "   dow_7  probability  probability_0  probability_1  \n",
       "0    0.0     0.129859              0       0.174364  \n",
       "1    0.0     0.129859              0       0.174364  \n",
       "2    0.0     0.159201              0       0.174364  \n",
       "3    0.0     0.158238              0       0.174364  \n",
       "4    0.0     0.166576              0       0.174364  \n",
       "\n",
       "[5 rows x 26 columns]"
      ]
     },
     "execution_count": 50,
     "metadata": {},
     "output_type": "execute_result"
    }
   ],
   "source": [
    "df.head()"
   ]
  },
  {
   "cell_type": "code",
   "execution_count": 67,
   "metadata": {
    "collapsed": false
   },
   "outputs": [
    {
     "data": {
      "text/plain": [
       "WN    98307\n",
       "DL    63752\n",
       "EV    48267\n",
       "OO    46946\n",
       "AA    43173\n",
       "UA    37454\n",
       "US    32552\n",
       "MQ    27670\n",
       "B6    20531\n",
       "AS    13198\n",
       "NK     8647\n",
       "F9     6745\n",
       "HA     6418\n",
       "VX     4651\n",
       "Name: UNIQUE_CARRIER, dtype: int64"
      ]
     },
     "execution_count": 67,
     "metadata": {},
     "output_type": "execute_result"
    }
   ],
   "source": [
    "df.UNIQUE_CARRIER.value_counts()"
   ]
  },
  {
   "cell_type": "code",
   "execution_count": null,
   "metadata": {
    "collapsed": true
   },
   "outputs": [],
   "source": []
  },
  {
   "cell_type": "code",
   "execution_count": null,
   "metadata": {
    "collapsed": true
   },
   "outputs": [],
   "source": []
  },
  {
   "cell_type": "code",
   "execution_count": null,
   "metadata": {
    "collapsed": true
   },
   "outputs": [],
   "source": []
  },
  {
   "cell_type": "code",
   "execution_count": null,
   "metadata": {
    "collapsed": true
   },
   "outputs": [],
   "source": []
  },
  {
   "cell_type": "code",
   "execution_count": 53,
   "metadata": {
    "collapsed": false
   },
   "outputs": [
    {
     "data": {
      "text/plain": [
       "Index([u'DAY_OF_MONTH', u'DAY_OF_WEEK', u'FL_DATE', u'UNIQUE_CARRIER',\n",
       "       u'AIRLINE_ID', u'CARRIER', u'ORIGIN_AIRPORT_ID',\n",
       "       u'ORIGIN_AIRPORT_SEQ_ID', u'ORIGIN_CITY_MARKET_ID', u'DEST_AIRPORT_ID',\n",
       "       u'DEST_AIRPORT_SEQ_ID', u'DEST_CITY_MARKET_ID', u'CRS_DEP_TIME',\n",
       "       u'DEP_TIME', u'DEP_DEL15', u'Unnamed: 15', u'dow_1', u'dow_2', u'dow_3',\n",
       "       u'dow_4', u'dow_5', u'dow_6', u'dow_7', u'probability',\n",
       "       u'probability_0', u'probability_1'],\n",
       "      dtype='object')"
      ]
     },
     "execution_count": 53,
     "metadata": {},
     "output_type": "execute_result"
    }
   ],
   "source": [
    "df.columns"
   ]
  },
  {
   "cell_type": "code",
   "execution_count": 57,
   "metadata": {
    "collapsed": true
   },
   "outputs": [],
   "source": [
    "df = df.join(pd.get_dummies(df['UNIQUE_CARRIER'], prefix='airline'))\n",
    "df = df[df.DEP_DEL15.notnull()].copy()"
   ]
  },
  {
   "cell_type": "code",
   "execution_count": 68,
   "metadata": {
    "collapsed": false
   },
   "outputs": [],
   "source": [
    "features = ['airline_WN','airline_DL','airline_EV','airline_OO','airline_AA','airline_UA']"
   ]
  },
  {
   "cell_type": "code",
   "execution_count": null,
   "metadata": {
    "collapsed": true
   },
   "outputs": [],
   "source": []
  },
  {
   "cell_type": "code",
   "execution_count": 66,
   "metadata": {
    "collapsed": false
   },
   "outputs": [
    {
     "name": "stderr",
     "output_type": "stream",
     "text": [
      "c:\\Users\\korol_000\\Anaconda2\\lib\\site-packages\\numpy\\lib\\function_base.py:3834: RuntimeWarning: Invalid value encountered in percentile\n",
      "  RuntimeWarning)\n"
     ]
    },
    {
     "data": {
      "text/html": [
       "<div>\n",
       "<table border=\"1\" class=\"dataframe\">\n",
       "  <thead>\n",
       "    <tr style=\"text-align: right;\">\n",
       "      <th></th>\n",
       "      <th>DAY_OF_MONTH</th>\n",
       "      <th>DAY_OF_WEEK</th>\n",
       "      <th>AIRLINE_ID</th>\n",
       "      <th>ORIGIN_AIRPORT_ID</th>\n",
       "      <th>ORIGIN_AIRPORT_SEQ_ID</th>\n",
       "      <th>ORIGIN_CITY_MARKET_ID</th>\n",
       "      <th>DEST_AIRPORT_ID</th>\n",
       "      <th>DEST_AIRPORT_SEQ_ID</th>\n",
       "      <th>DEST_CITY_MARKET_ID</th>\n",
       "      <th>CRS_DEP_TIME</th>\n",
       "      <th>...</th>\n",
       "      <th>airline_EV</th>\n",
       "      <th>airline_F9</th>\n",
       "      <th>airline_HA</th>\n",
       "      <th>airline_MQ</th>\n",
       "      <th>airline_NK</th>\n",
       "      <th>airline_OO</th>\n",
       "      <th>airline_UA</th>\n",
       "      <th>airline_US</th>\n",
       "      <th>airline_VX</th>\n",
       "      <th>airline_WN</th>\n",
       "    </tr>\n",
       "  </thead>\n",
       "  <tbody>\n",
       "    <tr>\n",
       "      <th>count</th>\n",
       "      <td>458311.000000</td>\n",
       "      <td>458311.000000</td>\n",
       "      <td>458311.000000</td>\n",
       "      <td>458311.000000</td>\n",
       "      <td>4.583110e+05</td>\n",
       "      <td>458311.000000</td>\n",
       "      <td>458311.000000</td>\n",
       "      <td>4.583110e+05</td>\n",
       "      <td>458311.000000</td>\n",
       "      <td>458311.000000</td>\n",
       "      <td>...</td>\n",
       "      <td>458311.000000</td>\n",
       "      <td>458311.000000</td>\n",
       "      <td>458311.000000</td>\n",
       "      <td>458311.000000</td>\n",
       "      <td>458311.000000</td>\n",
       "      <td>458311.000000</td>\n",
       "      <td>458311.000000</td>\n",
       "      <td>458311.000000</td>\n",
       "      <td>458311.000000</td>\n",
       "      <td>458311.000000</td>\n",
       "    </tr>\n",
       "    <tr>\n",
       "      <th>mean</th>\n",
       "      <td>15.803053</td>\n",
       "      <td>4.048024</td>\n",
       "      <td>19977.381106</td>\n",
       "      <td>12671.392175</td>\n",
       "      <td>1.267142e+06</td>\n",
       "      <td>31714.487246</td>\n",
       "      <td>12671.782322</td>\n",
       "      <td>1.267181e+06</td>\n",
       "      <td>31715.865238</td>\n",
       "      <td>1323.662952</td>\n",
       "      <td>...</td>\n",
       "      <td>0.105315</td>\n",
       "      <td>0.014717</td>\n",
       "      <td>0.014004</td>\n",
       "      <td>0.060374</td>\n",
       "      <td>0.018867</td>\n",
       "      <td>0.102433</td>\n",
       "      <td>0.081722</td>\n",
       "      <td>0.071026</td>\n",
       "      <td>0.010148</td>\n",
       "      <td>0.214498</td>\n",
       "    </tr>\n",
       "    <tr>\n",
       "      <th>std</th>\n",
       "      <td>8.921022</td>\n",
       "      <td>1.929048</td>\n",
       "      <td>399.158330</td>\n",
       "      <td>1519.173651</td>\n",
       "      <td>1.519171e+05</td>\n",
       "      <td>1286.064137</td>\n",
       "      <td>1519.250986</td>\n",
       "      <td>1.519248e+05</td>\n",
       "      <td>1286.731887</td>\n",
       "      <td>467.693510</td>\n",
       "      <td>...</td>\n",
       "      <td>0.306959</td>\n",
       "      <td>0.120418</td>\n",
       "      <td>0.117505</td>\n",
       "      <td>0.238178</td>\n",
       "      <td>0.136056</td>\n",
       "      <td>0.303217</td>\n",
       "      <td>0.273941</td>\n",
       "      <td>0.256869</td>\n",
       "      <td>0.100226</td>\n",
       "      <td>0.410474</td>\n",
       "    </tr>\n",
       "    <tr>\n",
       "      <th>min</th>\n",
       "      <td>1.000000</td>\n",
       "      <td>1.000000</td>\n",
       "      <td>19393.000000</td>\n",
       "      <td>10135.000000</td>\n",
       "      <td>1.013503e+06</td>\n",
       "      <td>30070.000000</td>\n",
       "      <td>10135.000000</td>\n",
       "      <td>1.013503e+06</td>\n",
       "      <td>30070.000000</td>\n",
       "      <td>5.000000</td>\n",
       "      <td>...</td>\n",
       "      <td>0.000000</td>\n",
       "      <td>0.000000</td>\n",
       "      <td>0.000000</td>\n",
       "      <td>0.000000</td>\n",
       "      <td>0.000000</td>\n",
       "      <td>0.000000</td>\n",
       "      <td>0.000000</td>\n",
       "      <td>0.000000</td>\n",
       "      <td>0.000000</td>\n",
       "      <td>0.000000</td>\n",
       "    </tr>\n",
       "    <tr>\n",
       "      <th>25%</th>\n",
       "      <td>8.000000</td>\n",
       "      <td>2.000000</td>\n",
       "      <td>19790.000000</td>\n",
       "      <td>11292.000000</td>\n",
       "      <td>1.129202e+06</td>\n",
       "      <td>30615.000000</td>\n",
       "      <td>11292.000000</td>\n",
       "      <td>1.129202e+06</td>\n",
       "      <td>30615.000000</td>\n",
       "      <td>925.000000</td>\n",
       "      <td>...</td>\n",
       "      <td>0.000000</td>\n",
       "      <td>0.000000</td>\n",
       "      <td>0.000000</td>\n",
       "      <td>0.000000</td>\n",
       "      <td>0.000000</td>\n",
       "      <td>0.000000</td>\n",
       "      <td>0.000000</td>\n",
       "      <td>0.000000</td>\n",
       "      <td>0.000000</td>\n",
       "      <td>0.000000</td>\n",
       "    </tr>\n",
       "    <tr>\n",
       "      <th>50%</th>\n",
       "      <td>16.000000</td>\n",
       "      <td>4.000000</td>\n",
       "      <td>19977.000000</td>\n",
       "      <td>12889.000000</td>\n",
       "      <td>1.288903e+06</td>\n",
       "      <td>31453.000000</td>\n",
       "      <td>12889.000000</td>\n",
       "      <td>1.288903e+06</td>\n",
       "      <td>31453.000000</td>\n",
       "      <td>1320.000000</td>\n",
       "      <td>...</td>\n",
       "      <td>0.000000</td>\n",
       "      <td>0.000000</td>\n",
       "      <td>0.000000</td>\n",
       "      <td>0.000000</td>\n",
       "      <td>0.000000</td>\n",
       "      <td>0.000000</td>\n",
       "      <td>0.000000</td>\n",
       "      <td>0.000000</td>\n",
       "      <td>0.000000</td>\n",
       "      <td>0.000000</td>\n",
       "    </tr>\n",
       "    <tr>\n",
       "      <th>75%</th>\n",
       "      <td>23.000000</td>\n",
       "      <td>6.000000</td>\n",
       "      <td>20366.000000</td>\n",
       "      <td>13930.000000</td>\n",
       "      <td>1.393003e+06</td>\n",
       "      <td>32467.000000</td>\n",
       "      <td>13930.000000</td>\n",
       "      <td>1.393003e+06</td>\n",
       "      <td>32467.000000</td>\n",
       "      <td>1720.000000</td>\n",
       "      <td>...</td>\n",
       "      <td>0.000000</td>\n",
       "      <td>0.000000</td>\n",
       "      <td>0.000000</td>\n",
       "      <td>0.000000</td>\n",
       "      <td>0.000000</td>\n",
       "      <td>0.000000</td>\n",
       "      <td>0.000000</td>\n",
       "      <td>0.000000</td>\n",
       "      <td>0.000000</td>\n",
       "      <td>0.000000</td>\n",
       "    </tr>\n",
       "    <tr>\n",
       "      <th>max</th>\n",
       "      <td>31.000000</td>\n",
       "      <td>7.000000</td>\n",
       "      <td>21171.000000</td>\n",
       "      <td>16218.000000</td>\n",
       "      <td>1.621801e+06</td>\n",
       "      <td>35991.000000</td>\n",
       "      <td>16218.000000</td>\n",
       "      <td>1.621801e+06</td>\n",
       "      <td>35991.000000</td>\n",
       "      <td>2359.000000</td>\n",
       "      <td>...</td>\n",
       "      <td>1.000000</td>\n",
       "      <td>1.000000</td>\n",
       "      <td>1.000000</td>\n",
       "      <td>1.000000</td>\n",
       "      <td>1.000000</td>\n",
       "      <td>1.000000</td>\n",
       "      <td>1.000000</td>\n",
       "      <td>1.000000</td>\n",
       "      <td>1.000000</td>\n",
       "      <td>1.000000</td>\n",
       "    </tr>\n",
       "  </tbody>\n",
       "</table>\n",
       "<p>8 rows × 37 columns</p>\n",
       "</div>"
      ],
      "text/plain": [
       "        DAY_OF_MONTH    DAY_OF_WEEK     AIRLINE_ID  ORIGIN_AIRPORT_ID  \\\n",
       "count  458311.000000  458311.000000  458311.000000      458311.000000   \n",
       "mean       15.803053       4.048024   19977.381106       12671.392175   \n",
       "std         8.921022       1.929048     399.158330        1519.173651   \n",
       "min         1.000000       1.000000   19393.000000       10135.000000   \n",
       "25%         8.000000       2.000000   19790.000000       11292.000000   \n",
       "50%        16.000000       4.000000   19977.000000       12889.000000   \n",
       "75%        23.000000       6.000000   20366.000000       13930.000000   \n",
       "max        31.000000       7.000000   21171.000000       16218.000000   \n",
       "\n",
       "       ORIGIN_AIRPORT_SEQ_ID  ORIGIN_CITY_MARKET_ID  DEST_AIRPORT_ID  \\\n",
       "count           4.583110e+05          458311.000000    458311.000000   \n",
       "mean            1.267142e+06           31714.487246     12671.782322   \n",
       "std             1.519171e+05            1286.064137      1519.250986   \n",
       "min             1.013503e+06           30070.000000     10135.000000   \n",
       "25%             1.129202e+06           30615.000000     11292.000000   \n",
       "50%             1.288903e+06           31453.000000     12889.000000   \n",
       "75%             1.393003e+06           32467.000000     13930.000000   \n",
       "max             1.621801e+06           35991.000000     16218.000000   \n",
       "\n",
       "       DEST_AIRPORT_SEQ_ID  DEST_CITY_MARKET_ID   CRS_DEP_TIME      ...        \\\n",
       "count         4.583110e+05        458311.000000  458311.000000      ...         \n",
       "mean          1.267181e+06         31715.865238    1323.662952      ...         \n",
       "std           1.519248e+05          1286.731887     467.693510      ...         \n",
       "min           1.013503e+06         30070.000000       5.000000      ...         \n",
       "25%           1.129202e+06         30615.000000     925.000000      ...         \n",
       "50%           1.288903e+06         31453.000000    1320.000000      ...         \n",
       "75%           1.393003e+06         32467.000000    1720.000000      ...         \n",
       "max           1.621801e+06         35991.000000    2359.000000      ...         \n",
       "\n",
       "          airline_EV     airline_F9     airline_HA     airline_MQ  \\\n",
       "count  458311.000000  458311.000000  458311.000000  458311.000000   \n",
       "mean        0.105315       0.014717       0.014004       0.060374   \n",
       "std         0.306959       0.120418       0.117505       0.238178   \n",
       "min         0.000000       0.000000       0.000000       0.000000   \n",
       "25%         0.000000       0.000000       0.000000       0.000000   \n",
       "50%         0.000000       0.000000       0.000000       0.000000   \n",
       "75%         0.000000       0.000000       0.000000       0.000000   \n",
       "max         1.000000       1.000000       1.000000       1.000000   \n",
       "\n",
       "          airline_NK     airline_OO     airline_UA     airline_US  \\\n",
       "count  458311.000000  458311.000000  458311.000000  458311.000000   \n",
       "mean        0.018867       0.102433       0.081722       0.071026   \n",
       "std         0.136056       0.303217       0.273941       0.256869   \n",
       "min         0.000000       0.000000       0.000000       0.000000   \n",
       "25%         0.000000       0.000000       0.000000       0.000000   \n",
       "50%         0.000000       0.000000       0.000000       0.000000   \n",
       "75%         0.000000       0.000000       0.000000       0.000000   \n",
       "max         1.000000       1.000000       1.000000       1.000000   \n",
       "\n",
       "          airline_VX     airline_WN  \n",
       "count  458311.000000  458311.000000  \n",
       "mean        0.010148       0.214498  \n",
       "std         0.100226       0.410474  \n",
       "min         0.000000       0.000000  \n",
       "25%         0.000000       0.000000  \n",
       "50%         0.000000       0.000000  \n",
       "75%         0.000000       0.000000  \n",
       "max         1.000000       1.000000  \n",
       "\n",
       "[8 rows x 37 columns]"
      ]
     },
     "execution_count": 66,
     "metadata": {},
     "output_type": "execute_result"
    }
   ],
   "source": [
    "df.describe()"
   ]
  },
  {
   "cell_type": "code",
   "execution_count": null,
   "metadata": {
    "collapsed": true
   },
   "outputs": [],
   "source": []
  },
  {
   "cell_type": "code",
   "execution_count": null,
   "metadata": {
    "collapsed": true
   },
   "outputs": [],
   "source": []
  },
  {
   "cell_type": "code",
   "execution_count": null,
   "metadata": {
    "collapsed": true
   },
   "outputs": [],
   "source": []
  },
  {
   "cell_type": "code",
   "execution_count": null,
   "metadata": {
    "collapsed": true
   },
   "outputs": [],
   "source": []
  },
  {
   "cell_type": "code",
   "execution_count": null,
   "metadata": {
    "collapsed": true
   },
   "outputs": [],
   "source": []
  },
  {
   "cell_type": "code",
   "execution_count": 69,
   "metadata": {
    "collapsed": true
   },
   "outputs": [],
   "source": [
    "X= df[features]\n",
    "y= df['DEP_DEL15']"
   ]
  },
  {
   "cell_type": "code",
   "execution_count": null,
   "metadata": {
    "collapsed": true
   },
   "outputs": [],
   "source": []
  },
  {
   "cell_type": "code",
   "execution_count": 70,
   "metadata": {
    "collapsed": false
   },
   "outputs": [],
   "source": [
    "logistic = lm.LogisticRegression().fit(X,y)\n"
   ]
  },
  {
   "cell_type": "code",
   "execution_count": 71,
   "metadata": {
    "collapsed": false
   },
   "outputs": [
    {
     "data": {
      "text/plain": [
       "array([[ 0.39570205,  1.22264523, -1.92113131, -0.86124504],\n",
       "       [ 0.17747535, -1.13962587,  0.55584066, -1.01414571],\n",
       "       [-1.28412187, -0.99433252,  1.79696868,  1.88141256]])"
      ]
     },
     "execution_count": 71,
     "metadata": {},
     "output_type": "execute_result"
    }
   ],
   "source": [
    "logit.coef_"
   ]
  },
  {
   "cell_type": "code",
   "execution_count": null,
   "metadata": {
    "collapsed": true
   },
   "outputs": [],
   "source": [
    " "
   ]
  },
  {
   "cell_type": "code",
   "execution_count": null,
   "metadata": {
    "collapsed": true
   },
   "outputs": [],
   "source": []
  },
  {
   "cell_type": "code",
   "execution_count": null,
   "metadata": {
    "collapsed": true
   },
   "outputs": [],
   "source": []
  },
  {
   "cell_type": "code",
   "execution_count": null,
   "metadata": {
    "collapsed": true
   },
   "outputs": [],
   "source": []
  },
  {
   "cell_type": "code",
   "execution_count": null,
   "metadata": {
    "collapsed": true
   },
   "outputs": [],
   "source": []
  },
  {
   "cell_type": "code",
   "execution_count": null,
   "metadata": {
    "collapsed": true
   },
   "outputs": [],
   "source": []
  },
  {
   "cell_type": "markdown",
   "metadata": {},
   "source": [
    "# TOPIC REVIEW\n",
    "\n",
    "What do precision and recall mean? How are they similar and different to True Positive Rate and False Positive Rate?\n",
    "\n",
    "How does cost benefit analysis play a role in building models?\n",
    "\n",
    "What are at least two very important details to consider when creating visuals for a project's stakeholders?\n",
    "\n",
    "Why would an AUC plot work well for a data science audience but not for a business audience? What would be a more effective visualization for that group?\n",
    "\n"
   ]
  },
  {
   "cell_type": "markdown",
   "metadata": {},
   "source": [
    "# BEFORE NEXT CLASS\n",
    "UPCOMING\n",
    "\n",
    "Project:  Unit Project 4 DUE Monday\n",
    "https://github.com/ga-students/DS-DC-14/tree/master/projects/unit-projects/project-4\n",
    "\n"
   ]
  },
  {
   "cell_type": "markdown",
   "metadata": {},
   "source": [
    "# LESSON: COMMUNICATING RESULTS\n",
    "EXIT TICKET \n",
    "\n",
    "DON’T FORGET TO FILL OUT YOUR EXIT TICKET\n",
    "\n",
    "http://goo.gl/forms/gG5qAw9QljgkHC2q1"
   ]
  }
 ],
 "metadata": {
  "kernelspec": {
   "display_name": "Python [Root]",
   "language": "python",
   "name": "Python [Root]"
  },
  "language_info": {
   "codemirror_mode": {
    "name": "ipython",
    "version": 2
   },
   "file_extension": ".py",
   "mimetype": "text/x-python",
   "name": "python",
   "nbconvert_exporter": "python",
   "pygments_lexer": "ipython2",
   "version": "2.7.12"
  }
 },
 "nbformat": 4,
 "nbformat_minor": 0
}
