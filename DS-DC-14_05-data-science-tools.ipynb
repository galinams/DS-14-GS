{
 "cells": [
  {
   "cell_type": "markdown",
   "metadata": {},
   "source": [
    "# Flex lesson: Data Science Tools"
   ]
  },
  {
   "cell_type": "markdown",
   "metadata": {},
   "source": [
    "# WHEN YOU COME TO CLASS\n",
    "- Open Jupyter Notebook\n",
    "- Download and open DS-DC-14_05-data-science-tools\n",
    "  - Located in lesson 05\n",
    "  - If you have git working feel free to use git pull\n",
    "- Go to `File > Make a copy` and save a new copy of the notebook with your initials in the name"
   ]
  },
  {
   "cell_type": "markdown",
   "metadata": {},
   "source": [
    "## LEARNING OBJECTIVES\n",
    "- Identify the data science toolkit\n",
    "- Navigate Git and the Command Line\n",
    "- Get your own GitHub repo\n",
    "- Learn a simple framework for choosing visualization types"
   ]
  },
  {
   "cell_type": "markdown",
   "metadata": {},
   "source": [
    "## STUDENT PRE-WORK\n",
    "Before this lesson, you should already be able to:\n",
    "\n",
    "- Explain the difference between variance and bias\n",
    "- Use descriptive stats to understand your data"
   ]
  },
  {
   "cell_type": "markdown",
   "metadata": {},
   "source": [
    "### Intro: Tools of the Trade\n",
    "\n",
    "Today, we are going to review some of the tools we use in data science and see how they fit into the wider programming environment."
   ]
  },
  {
   "cell_type": "markdown",
   "metadata": {
    "collapsed": true
   },
   "source": [
    "## The Data Processing Pipeline\n",
    "Objective: Summarize how data is processed, who does the processing, and what tools they frequently use\n",
    "1. Collection and Archiving\n",
    "  - Get data sources and make lasting back-ups\n",
    "2. Data Profiling\n",
    "  - Look at summary statistics to identify major errors in the source data\n",
    "3. Data Staging and Conformance (Extract, Transform, Load)\n",
    "  - Combine datasets, check compatiblity, prepare them for useful storage\n",
    "4. Data Storage/Data Warehousing/a pile of spreadsheets\n",
    "  - Make sure data is stored in a manner to is easy to access for decision makers and analytical teams\n",
    "5. History and Auditing\n",
    "  - Track the history of the database and double check that information is accurate\n",
    "6. Data Marts and Services\n",
    "  - If need be, create easy data access tools/layers. This can be an API, a Data Access Layer to use with a programming language, a simplified table in a database, or a spreadsheet that collects useful information\n",
    "7. Analysis and Modeling\n",
    "  - Summarize the data as a working model or analytical piece\n",
    "8. Presentation\n",
    "  - Summarize results to decision makers and clients"
   ]
  },
  {
   "cell_type": "markdown",
   "metadata": {},
   "source": [
    "#### Who does what?\n",
    "1. Collection and Archiving \n",
    "  - System Administrators\n",
    "2. Data Profiling \n",
    "  - Data Engineer, ETL team, individual researcher\n",
    "3. Data Staging and Conformance/Extract, Transform, Load \n",
    "  - Data Engineer, ETL team, individual researcher\n",
    "4. Data Storage/Data Warehousing/a pile of spreadsheets \n",
    "  - Database Administrator, Data Engineer individual researcher, or anyone who deals with spreadsheets\n",
    "5. History and Auditing \n",
    "  - Database administrator, individual researcher\n",
    "6. Data Marts and Services \n",
    "  - Database Administrator, Back-end programmer, individual researcher\n",
    "7. Analysis and Modeling \n",
    "  - Data Analyst, Back-end programmer, individual researcher, many office workers\n",
    "8. Presentation \n",
    "  - Front-end developer, Data Analyst, individual researcher, many office workers"
   ]
  },
  {
   "cell_type": "markdown",
   "metadata": {},
   "source": [
    "#### Tools of the trade?\n",
    "1. Collection and Archiving \n",
    "  - Unix scripts and utilities, Perl, Python, specialized software\n",
    "2. Data Profiling \n",
    "  - Unix scripts and utilities, Perl, Python, specialized data profiling software\n",
    "3. Data Staging and Conformance/Extract, Transform, Load \n",
    "  - Unix scripts and utilities, Perl, Python, SQL specialized ETL software, Big Data\n",
    "4. Data Storage/Data Warehousing/a pile of spreadsheets \n",
    "  - SQL, Perl, Python, Java, Excel, Big Data\n",
    "5. History and Auditing \n",
    "  - SQL, specialized software\n",
    "6. Data Marts and Services \n",
    "  - SQL and just about any programming language (C/C++, C#/Java, Python, R, MatLab, Ruby, PHP, Go ...), Excel\n",
    "7. Analysis and Modeling \n",
    "  - Visualization tools (Excel, tableau), specialized modeling tools, programming languages (C/C++, Java, Python, Clojure, F#, R, MatLab, Scala)\n",
    "8. Presentation \n",
    "  - Microsoft Suite, HTML/Javascrpt, Python, R, MatLab, Visualization tools (Excel, tableau)"
   ]
  },
  {
   "cell_type": "markdown",
   "metadata": {},
   "source": [
    "#### KNOWLEDGE CHECK: PAIR AND SHARE (5 min)\n",
    "- Think about your own projects and how this data process fits in this workflow\n",
    "- Turn to someone at your table and briefly explain the workflow\n",
    "\n",
    "\n",
    "- Do you think the pipeline is missing some steps?\n",
    "- Who did what section of the project\n",
    "- Are there any specialized tools that you think are common, but we didn't mention?\n"
   ]
  },
  {
   "cell_type": "markdown",
   "metadata": {},
   "source": [
    "#### What do data scientists use?\n",
    "- SQL\n",
    " - Essentially a universal vocabulary for data access\n",
    "- Modeling friendly language such as Python, R, MatLab, Scala, Java, Clojure, or F#\n",
    "  - Depends on industry\n",
    "  - Access to data, modeling tools, and automating grunt work\n",
    "- Some kind of version control Git, SVN, Mercurial\n",
    "  - Organize your own work\n",
    "  - Make your work easy to share on various teams\n",
    "  - Provides a subtle excuse to talk to the programmers while they fix your merge conflicts\n",
    "- Command line/Terminal\n",
    "  - Better control of your computer, automating grunt work\n",
    "- Text editor or Integrated Development Environment\n",
    "  - So you can edit code\n",
    "- Additional helper software for visualization, machine learning, industry specific modeling, or something that helps bridge the communication gap with another team that works with the data.\n",
    "  - This is a very long list, the most common requests tend to be industry specific libraries, databases (Postgresql, MySQL, Cassandra, Spark, Hadoop), data extraction and summarization tools such as Splunk\n",
    "- Most importantly: Your knowledge and intuition of everything that will go wrong that your teammates haven't even considered"
   ]
  },
  {
   "cell_type": "markdown",
   "metadata": {},
   "source": [
    "#### KNOWLEDGE CHECK (1 min)\n",
    "\n",
    "Think to yourself\n",
    "\n",
    "How do these tools fit with the idea that data science is the intersection of programming, traditional research, domain knowledge?"
   ]
  },
  {
   "cell_type": "markdown",
   "metadata": {
    "collapsed": true
   },
   "source": [
    "### Local machine\n",
    "\n",
    "On your local machine you have a variety of tools at your disposal, including:\n",
    "\n",
    "    Text editor\n",
    "    Programs/Packages/Tools\n",
    "    Your files\n",
    "\n",
    "All of these can be accessed through terminal and many can also be accessed through a GUI, or Graphical User Interface."
   ]
  },
  {
   "cell_type": "markdown",
   "metadata": {
    "collapsed": true
   },
   "source": [
    "### Command line\n",
    "Objective: Become comfortable with navigating through file directories using a Command Line Interface\n",
    "\n",
    "This is your portal to your computer and the outside world."
   ]
  },
  {
   "cell_type": "markdown",
   "metadata": {},
   "source": [
    "#### What is a command?\n",
    "They are small programs, a lot like the Python functions we have been using. \n",
    "\n",
    "They have a name followed by arguments that we can use to tell the program what we want\n",
    "\n",
    "![command anatomy](assets/images/cmd-anatomy.jpg)\n",
    "\n",
    "Demo a few commands:\n",
    "\n",
    "    pwd - present working directory\n",
    "    cd - change directroy\n",
    "    ls - list files\n",
    "\n",
    "Identifiers:\n",
    "\n",
    "    ./ - refers to the current directory\n",
    "    ../ - refers to the directory above\n",
    "\n",
    "Getting help:\n",
    "\n",
    "    --help as an option for any command will give you a help file\n",
    "   "
   ]
  },
  {
   "cell_type": "markdown",
   "metadata": {},
   "source": [
    "#### KNOWLEDGE CHECK\n",
    "\n",
    "I use pwd and see that I'm in /home/alex/DC-DC-14/\n",
    "1. How do I see what files are listed?\n",
    "2. How do I move to /home/alex?"
   ]
  },
  {
   "cell_type": "markdown",
   "metadata": {
    "collapsed": true
   },
   "source": [
    "As we mentioned, we can access many tools with terminal. Let's walk through a few that are important for data science.\n",
    "\n",
    "So far we've been using iPython notebook in place of a text editor. However, there are lots of other options available, including: Emacs, Vim, Sublime."
   ]
  },
  {
   "cell_type": "markdown",
   "metadata": {
    "collapsed": true
   },
   "source": [
    "Text Editor - Sublime\n",
    "However, there are many options available\n",
    "\n",
    "- eMacs\n",
    "- Vim\n",
    "- Sublime Text\n",
    "- Atom\n",
    "- Pycharm"
   ]
  },
  {
   "cell_type": "markdown",
   "metadata": {},
   "source": [
    "#### iPython Notebook\n",
    "\n",
    "##### Where does IPython Notebook fit in?\n",
    "\n",
    "**From the iPython Notebook docs:**\n",
    "\n",
    "    \"The notebook extends the console-based approach to interactive computing in a qualitatively new direction, providing a web-based application suitable for capturing the whole computation process: developing, documenting, and executing code, as well as communicating the results.\"\n",
    "\n",
    "**iPython notebooks combine two components:**\n",
    "\n",
    "- A web application: a browser-based tool for interactive authoring of documents which combine explanatory text, mathematics, computations and their rich media output.\n",
    "\n",
    "- Notebook documents: a representation of all content visible in the web application, including inputs and outputs of the computations, explanatory text, mathematics, images, and rich media representations of objects.\""
   ]
  },
  {
   "cell_type": "markdown",
   "metadata": {
    "collapsed": true
   },
   "source": [
    "#### Outside World\n",
    "\n",
    "The CL can connect us to the outside world. In data this is particularly important.\n",
    "\n",
    "Let's say we have HIPAA protected data (note: HIPAA is a policy that protects health data for people. It requires extra security so you can't leave data around on your local computer.) Often times it will be the data we'll leave on an external computer that we need to communicate with. We can do this through the CL.\n",
    "\n",
    "In a simpler case, command line can provide an easy to install libraries and software.\n",
    "\n",
    "When we do this with Python we often use a tool called pip or in the case of the anaconda distribution we use conda."
   ]
  },
  {
   "cell_type": "markdown",
   "metadata": {},
   "source": [
    "#### KNOWLEDGE CHECK: SHARE OUTLOUD\n",
    "\n",
    "Does anyone want to share their experience with command line tools or tools that resemble command line from their day to day work?"
   ]
  },
  {
   "cell_type": "markdown",
   "metadata": {
    "collapsed": true
   },
   "source": [
    "#### Let's conda install a library\n",
    "\n",
    "Here we will checkout a popular Python library for parsing HTML/XML called Beautiful Soup:\n",
    "\n",
    "conda install beautifulsoup4"
   ]
  },
  {
   "cell_type": "markdown",
   "metadata": {
    "collapsed": true
   },
   "source": [
    "#### PYTHON PACKAGES\n",
    "\n",
    "Python has a very rich set of libraries and community support, which is related to its reputation as a glue language, meaning that it is great at glueing several pieces of software together, and as having B+ performance across the board. \n",
    "\n",
    "Some of the most well known:\n",
    "\n",
    "- Requests\n",
    "- Scrapy\n",
    "- wxPython\n",
    "- Pillow\n",
    "- SQLAlchemy\n",
    "- BeautifulSoup\n",
    "- Twisted\n",
    "- NumPy\n",
    "- SciPy\n",
    "- matplotlib"
   ]
  },
  {
   "cell_type": "markdown",
   "metadata": {},
   "source": [
    "#### REAL WORLD APPLICATION: HOW DO WE PICK A LIBRARY?\n",
    "\n",
    "This questions doesn't have a simple answer, but we can list out some factors to look for:\n",
    "\n",
    "##### How do I find a library that I need?\n",
    "- Look at PyPi or another source that lists libraries and their uses\n",
    "- Look on stackoverflow for the issue you are trying to solve and see what libraries are used in solutions\n",
    "- Ask a friend\n",
    "\n",
    "##### How do I choose an appropriate library?\n",
    "- Decide whether you need the library in the first place\n",
    "    - If you only use a small portion of the library the instability of library upgrades may far out weigh the work of writing some code yourself\n",
    "- Does the library do what I need?\n",
    "  - Seriously, read the documentation first, a first impression isn't enough\n",
    "- Is there community support?\n",
    "  - See how many questions are asked about the library on stackoverflow\n",
    "  - When was the last update made?\n",
    "  - Libraries can die without community support, not a good thing to rely on\n",
    "- What common issues do people complain about?\n",
    "  - Do those issues affect my project?"
   ]
  },
  {
   "cell_type": "markdown",
   "metadata": {},
   "source": [
    "## BREAK"
   ]
  },
  {
   "cell_type": "markdown",
   "metadata": {},
   "source": [
    "#### Re-Intro to Git\n",
    "Objective: Get enough comfort with git to use it for class and create a GitHub repo\n",
    "- Git is a way of tracking changes we've made to our programs and go back in time to fix errors. \n",
    "- It is also a powerful tool for collaborating with colleagues allowing you to work on different aspects of the project simultaneously and merge all the changes together seamlessly. \n",
    "- There are lots of ways to use git one common tool is Github."
   ]
  },
  {
   "cell_type": "markdown",
   "metadata": {},
   "source": [
    "#### Let's learn how to get copies of our repository\n",
    "(No need to follow along if you've already done this and get it. Help out your classmates!)\n",
    "\n",
    "Our repo is stored at https://github.com/ga-students/DS-DC-14\n",
    "\n",
    "- We need to get a link from that website that tells us how to access the repo\n",
    "  - https://github.com/ga-students/DS-DC-14.git\n",
    "- Navigate to a directory where you want the DS-DC-14 folder to be copied, the default directory in terminal is probably home or my documents\n",
    "- run the program git with the argument clone followed by the repo\n",
    "  - git clone https://github.com/ga-students/DS-DC-14.git\n",
    "- Enter username and password (the password is invisible when you type, its ok if you type and nothing shows up)\n",
    "- You should now have a copy of of DS-DC-14/ in the working directory you started in\n",
    "\n",
    "Note:\n",
    "- Clone set up up a lot of options for you in the background, such as telling git where to find updates in the future"
   ]
  },
  {
   "cell_type": "markdown",
   "metadata": {},
   "source": [
    "#### How do we update the repository?\n",
    "\n",
    "At the start of every class, run ```git pull``` in the DS-DC-14 directory.\n",
    "\n",
    "We've already configured all the correct options for the pull, so it's simple."
   ]
  },
  {
   "cell_type": "markdown",
   "metadata": {},
   "source": [
    "#### Troubleshooting\n",
    "\n",
    "You may end up with what is called a merge conflict (git will tell you). This happens when your local copy of a file has been updated and the remote (GitHub) copy has also been updated. Which copy should git use? How would it know?\n",
    "\n",
    "To avoid this: \n",
    "- Don't edit files within the DS-DC-14 repo unless you know what you're doing. \n",
    "- This is also why I have you make a copy of every notebook with your initials; no conflicts if it's a new file. \n",
    "- Alternatively, if you don't have any work to lose, play around as much as you want. If the repo is in a bad state, you can just delete it and clone it again."
   ]
  },
  {
   "cell_type": "markdown",
   "metadata": {},
   "source": [
    "##### EXERCISE\n",
    "1. I will make an update to the course repo in lesson-05 (this serves as a demo)\n",
    "2. Once I announce that the update is ready, do a git pull"
   ]
  },
  {
   "cell_type": "markdown",
   "metadata": {},
   "source": [
    "#### Let's also make our own repos for homework and final project submissions\n",
    "We will do this together on GitHub\n",
    "\n",
    "1. Go to GitHub (make sure you are signed in)\n",
    "2. Click on the plus sign in the upper right-hand corner and select new repository\n",
    "3. Fill out the repository name (something like DS-DC-14 coursework or DS14)\n",
    "4. Check the box that says \"Initialize this repository with a README\"\n",
    "5. Click \"Create repository\"\n",
    "6. Clone your new repository\n",
    "\n",
    "Note: Do not clone this into the DS-DC-14 directory, it's confusing and doesn't work well."
   ]
  },
  {
   "cell_type": "markdown",
   "metadata": {
    "collapsed": true
   },
   "source": [
    "#### Let's get our own file onto GitHub\n",
    "\n",
    "1. In your new repo directory on your local machine run the command:\n",
    "  - ```touch newfile.md```\n",
    "  - This will create a new markdown file called newfile\n",
    "2. Use git with the argument status\n",
    "  - ```git status```\n",
    "  - This will show you some summary information about new and changed files in your repo\n",
    "2. Use git with the argument add followed by the filename.\n",
    "  - ```git add newfile.md```\n",
    "  - This tells get to put newfile on the index and keep track of it\n",
    "3. Use git with the argument commit, the option -m, followed by a string as an argument\n",
    "  - ```git commit -m \"Add newfile\"```\n",
    "  - This commits your changes to history\n",
    "4. View your commit history using\n",
    "  - ```git log```\n",
    "5. Finally, to update GitHub you need to send a copy of your history to GitHub:\n",
    "  - ```git push```\n",
    "  - This will require a username and password\n",
    "  - This copies your local log to the remote log\n",
    "  - git will automatically diagnose potential issues such as multiple conflicting changes from multiple users"
   ]
  },
  {
   "cell_type": "markdown",
   "metadata": {},
   "source": [
    "#### KNOWLEDGE CHECK\n",
    "##### What are the big advantages of using CL?\n",
    "\n",
    "##### What's a GUI?\n",
    "\n",
    "##### Will I destroy my computer if I use terminal?"
   ]
  },
  {
   "cell_type": "markdown",
   "metadata": {},
   "source": [
    "## BREAK"
   ]
  },
  {
   "cell_type": "markdown",
   "metadata": {},
   "source": [
    "# DATA VISUALIZATION\n",
    "\n",
    "- Important for data science\n",
    "- Exploratory data analysis\n",
    "- Visualization inspires new questions\n",
    "- Communication of findings\n",
    "- Fundamental principle: communicate information to your audience\n",
    "- Don’t just choose a chart at random, take into account the purpose and the perceptive differences and the type of information you are trying to convey\n",
    "- There is no perfect answer, so don’t stress\n"
   ]
  },
  {
   "cell_type": "markdown",
   "metadata": {},
   "source": [
    "##### What visual features can viewers percieve? (in order from easiest to most difficult)\n",
    "\n",
    "- Position along a common scale e.g. scatter plot\n",
    "- Position on identical but nonaligned scales e.g. multiple scatter plots\n",
    "- Length e.g. bar chart\n",
    "- Angle & Slope (tie) e.g. pie chart\n",
    "- Area e.g. bubbles\n",
    "- Volume, density, and color saturation (tie) e.g. heatmap\n",
    "- Color hue e.g. newsmap\n",
    "\n",
    "Graphical Perception: Theory, Experimentation, and Application to the Development of Graphical Methods\n",
    "https://www.cs.ubc.ca/~tmm/courses/cpsc533c-04-spr/readings/cleveland.pdf"
   ]
  },
  {
   "cell_type": "markdown",
   "metadata": {},
   "source": [
    "#### Can you rank order A-E from largest share to smallest share?\n",
    "![pie](assets/images/pie_chart.jpg)"
   ]
  },
  {
   "cell_type": "markdown",
   "metadata": {
    "collapsed": true
   },
   "source": [
    "#### What about now?\n",
    "![bar](assets/images/bar_plot.jpg)"
   ]
  },
  {
   "cell_type": "markdown",
   "metadata": {
    "collapsed": true
   },
   "source": [
    "![Visualization Flow Chart](assets/images/visualization_flow_chart.jpg)"
   ]
  },
  {
   "cell_type": "markdown",
   "metadata": {},
   "source": [
    "#### Composition: What is X made up of?\n",
    "![composition](assets/images/composition1.jpg)"
   ]
  },
  {
   "cell_type": "markdown",
   "metadata": {},
   "source": [
    "#### KNOWLEDGE CHECK\n",
    "I am following three different countries during the Olympics, I want to see how many gold medals each country has won everyday. Which chart should I use?"
   ]
  },
  {
   "cell_type": "markdown",
   "metadata": {},
   "source": [
    "#### Distribution: How is my data distributed?\n",
    "![distribution](assets/images/distribution.jpg)"
   ]
  },
  {
   "cell_type": "markdown",
   "metadata": {},
   "source": [
    "#### KNOWLEDGE CHECK\n",
    "I want to see where each Starbucks in DC is located. What kind of chart should I use?"
   ]
  },
  {
   "cell_type": "markdown",
   "metadata": {},
   "source": [
    "#### Relationship: How does y (and z) depend on x?\n",
    "![relationship](assets/images/relationship1.jpg)"
   ]
  },
  {
   "cell_type": "markdown",
   "metadata": {},
   "source": [
    "#### KNOWLEDGE CHECK\n",
    "My mobile application tracks user location. I want to see the travel history of a particular user, which chart should I use?"
   ]
  },
  {
   "cell_type": "markdown",
   "metadata": {},
   "source": [
    "#### Comparison: Greater or less than? Order? Difference of distribution?\n",
    "![comparison](assets/images/comparison.jpg)"
   ]
  },
  {
   "cell_type": "markdown",
   "metadata": {},
   "source": [
    "#### KNOWLEDGE CHECK\n",
    "I have sampled two groups randomly out of a population. I need to compare their demographic characteristics, psychographic characteristic, responses to questionnaires, and various other data. What kind of chart can I use to get a sense of how similar the two groups are? "
   ]
  },
  {
   "cell_type": "markdown",
   "metadata": {},
   "source": [
    "#### Wall of shame\n",
    "http://flowingdata.com/category/visualization/ugly-visualization/"
   ]
  },
  {
   "cell_type": "markdown",
   "metadata": {
    "collapsed": true
   },
   "source": [
    "# Seaborn\n",
    "Python package\n",
    "Nice plots by default\n",
    "Understands the pandas DataFrame\n",
    "\n",
    "Have to install: \n",
    "conda install seaborn\n",
    "from the terminal\n",
    "\n",
    "Seaborn calls matplotlib - so in theory I think you could do anything there that seaborn does\n",
    "But we have plenty of other work to be getting on with\n"
   ]
  },
  {
   "cell_type": "markdown",
   "metadata": {},
   "source": [
    "## This is an intro to seaborn in python\n",
    "You must have already installed seaborn:  \n",
    "`conda install seaborn`  \n",
    "should work if you are using anaconda  \n",
    "\n",
    "Many ideas for this came from http://twiecki.github.io/blog/2014/11/18/python-for-data-science/ and https://stanford.edu/~mwaskom/software/seaborn/tutorial.html\n"
   ]
  },
  {
   "cell_type": "code",
   "execution_count": null,
   "metadata": {
    "collapsed": true
   },
   "outputs": [],
   "source": [
    "%matplotlib inline \n",
    "# IPython to create plots within cells"
   ]
  },
  {
   "cell_type": "code",
   "execution_count": null,
   "metadata": {
    "collapsed": false
   },
   "outputs": [],
   "source": [
    "import seaborn as sns\n",
    "# sns is the accepted short name for seaborn (don't ask me why)\n",
    "\n",
    "import matplotlib.pyplot as plt\n",
    "import matplotlib as mpl\n",
    "import pandas as pd\n",
    "# get pandas (of course) and matplotlib for comparisons"
   ]
  },
  {
   "cell_type": "code",
   "execution_count": null,
   "metadata": {
    "collapsed": true
   },
   "outputs": [],
   "source": [
    "# Load the tips data set that comes with seaborn\n",
    "tips = sns.load_dataset(\"tips\")"
   ]
  },
  {
   "cell_type": "code",
   "execution_count": null,
   "metadata": {
    "collapsed": false
   },
   "outputs": [],
   "source": [
    "tips.describe()"
   ]
  },
  {
   "cell_type": "code",
   "execution_count": null,
   "metadata": {
    "collapsed": false
   },
   "outputs": [],
   "source": [
    "tips.head()\n",
    "# data includes bill, tip size, gender, smoker, day of the week, time, and party size"
   ]
  },
  {
   "cell_type": "code",
   "execution_count": null,
   "metadata": {
    "collapsed": false
   },
   "outputs": [],
   "source": [
    "plt.scatter(tips.total_bill,tips.tip)\n",
    "# we can do a scatter plot in matplotlib"
   ]
  },
  {
   "cell_type": "code",
   "execution_count": null,
   "metadata": {
    "collapsed": false
   },
   "outputs": [],
   "source": [
    "sns.jointplot(\"total_bill\", \"tip\", tips, kind='reg');\n",
    "# or, in one line, we could get this! Thanks, seaborn\n",
    "# jointplot shows an linear model plot (lm plot) as wel as histrograms\n",
    "# note that it also adds a bit of transparency so you can see overlap as multiple points better"
   ]
  },
  {
   "cell_type": "code",
   "execution_count": null,
   "metadata": {
    "collapsed": false
   },
   "outputs": [],
   "source": [
    "sns.lmplot(\"total_bill\", \"tip\", tips, col=\"time\");\n",
    "# in seaborn, a single command will suffice\n",
    "# do people tip differently at lunch vs. dinner?"
   ]
  },
  {
   "cell_type": "code",
   "execution_count": null,
   "metadata": {
    "collapsed": false
   },
   "outputs": [],
   "source": [
    "sns.lmplot(x=\"total_bill\", y=\"tip\", hue=\"smoker\", data=tips);\n",
    "# or we can plot on one plot, separating by color\n",
    "# let's compare smokers and non-smokers"
   ]
  },
  {
   "cell_type": "code",
   "execution_count": null,
   "metadata": {
    "collapsed": false
   },
   "outputs": [],
   "source": [
    "sns.lmplot(\"total_bill\", \"tip\", tips, col=\"day\");\n",
    "# how about different days of the week?"
   ]
  },
  {
   "cell_type": "code",
   "execution_count": null,
   "metadata": {
    "collapsed": false
   },
   "outputs": [],
   "source": [
    "sns.pairplot(tips)\n",
    "# pairplot compares multiple variables\n",
    "# the diagonal is the distribution of each\n",
    "# the other plots are scatters comparing the two\n",
    "# note this ignores the categorical variables"
   ]
  },
  {
   "cell_type": "code",
   "execution_count": null,
   "metadata": {
    "collapsed": false
   },
   "outputs": [],
   "source": [
    "sns.boxplot(x=\"day\", y=\"total_bill\", hue=\"time\", data=tips);\n",
    "# but boxplots can be split by categoricals in lots of fun ways"
   ]
  },
  {
   "cell_type": "markdown",
   "metadata": {},
   "source": [
    "For more information:  \n",
    "A tutorial by the authors: https://stanford.edu/~mwaskom/software/seaborn/tutorial.html \n",
    "Tons of color and display options and many other plots not shown here\n",
    "and a very cool example gallery: https://stanford.edu/~mwaskom/software/seaborn/examples/index.html"
   ]
  },
  {
   "cell_type": "markdown",
   "metadata": {
    "collapsed": true
   },
   "source": [
    "# TOPIC REVIEW\n",
    "Today we looked at:\n",
    "- The datascience toolkit\n",
    "  - Why are there so many programming related tools?\n",
    "- Navigate Git and the Command Line\n",
    "  - When you come to class what command should you run?\n",
    "  - How would you upload a file to YOUR GitHub repository\n",
    "- Learn a simple framework to choose visualization types\n",
    "\n",
    "**Any further questions?**"
   ]
  },
  {
   "cell_type": "markdown",
   "metadata": {
    "collapsed": true
   },
   "source": [
    "# FURTHER READING\n",
    "- [Automate the Boring stuff with Python](https://automatetheboringstuff.com/#toc)\n",
    "- [Data Science at the Command Line](http://shop.oreilly.com/product/0636920032823.do)"
   ]
  },
  {
   "cell_type": "markdown",
   "metadata": {
    "collapsed": true
   },
   "source": [
    "## Pre-work for next class\n",
    "- Keep thinking about project questions and datasets, we will be sharing ideas next week\n",
    "- Next class is on linear regression if you want a headstart (Pick, choose, and skim):\n",
    "  - https://www.khanacademy.org/math/probability/regression\n",
    "  - http://scikit-learn.org/stable/modules/generated/sklearn.linear_model.LinearRegression.html#sklearn.linear_model.LinearRegression\n",
    "  - A very gentle introduction to machine learning: https://www.youtube.com/watch?v=elojMnjn4kk\n",
    "  - For the more advanced who are interested in machine learning variations:\n",
    "  http://scikit-learn.org/stable/modules/linear_model.html"
   ]
  },
  {
   "cell_type": "markdown",
   "metadata": {
    "collapsed": true
   },
   "source": [
    "# EXIT TICKETS\n",
    "http://goo.gl/forms/gG5qAw9QljgkHC2q1"
   ]
  }
 ],
 "metadata": {
  "kernelspec": {
   "display_name": "Python [Root]",
   "language": "python",
   "name": "Python [Root]"
  },
  "language_info": {
   "codemirror_mode": {
    "name": "ipython",
    "version": 2
   },
   "file_extension": ".py",
   "mimetype": "text/x-python",
   "name": "python",
   "nbconvert_exporter": "python",
   "pygments_lexer": "ipython2",
   "version": "2.7.12"
  }
 },
 "nbformat": 4,
 "nbformat_minor": 0
}
