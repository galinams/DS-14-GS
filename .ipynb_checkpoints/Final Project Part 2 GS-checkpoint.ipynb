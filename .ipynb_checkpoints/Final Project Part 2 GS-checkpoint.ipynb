{
 "cells": [
  {
   "cell_type": "markdown",
   "metadata": {},
   "source": [
    "## Final Project : Deliverable 2"
   ]
  },
  {
   "cell_type": "markdown",
   "metadata": {},
   "source": [
    "### Galina Solovyeva"
   ]
  },
  {
   "cell_type": "markdown",
   "metadata": {},
   "source": [
    "### Project problem and Hypothesis\n",
    "* The project focuses on the customer behavior dataset provided by Expedia. Within this project, I will look how likely Expedia customers are to book based on how they access the website (mobile app versus desktop). Furthermore, out of the customers accessing Expedia mobile app, which hotel cluster are they going to book.\n",
    "* The training dataset consists of over 37M records. The size of the dataset and the nature of the project reqire application of machine learning. The project will be predicting a binary outcome (is booking/is not booking) and a categorical variable which is presented as a number (hotel cluster).\n",
    "*  Customer behavior predictions are valuable for various aspects of Expedia operations from forecasting to marketing decisions. Potential uses are Expedia hotel recommendations based on the hotel cluster searched, consumer response optimization, website layout for repeat customers, and leveraging hotel relationships. \n"
   ]
  },
  {
   "cell_type": "markdown",
   "metadata": {},
   "source": [
    "### Dataset\n",
    "\n",
    "#### Description of the datset is available at the field level. Please see below dictionary:\n",
    "\n",
    "\n",
    "|Column name|\tDescription                  |\tData type  |\n",
    "|:---------:|:------------------------------:|:------------|\n",
    "|date time\t| Timestamp\t                     | string      | \n",
    "|site_name\t|ID of the Expedia point of sale (i.e. Expedia.com, Expedia.co.uk, Expedia.co.jp, ...)|\tint|\n",
    "|posa_continent|\tID of continent associated with site_name|\tint|\n",
    "|user_location_country|\tThe ID of the country the customer is located|\tint|\n",
    "|user_location_region|\tThe ID of the region the customer is located|\tint|\n",
    "|user_location_city|\tThe ID of the city the customer is located|\tint|\n",
    "|orig_destination_distance|\tPhysical distance between a hotel and a customer at the time of search. A null means the distance could not be calculated|\tdouble|\n",
    "|user_id|\tID of user|\tint|\n",
    "|is_mobile|\t1 when a user connected from a mobile device, 0 otherwise|\ttinyint|\n",
    "|is_package|\t1 if the click/booking was generated as a part of a package (i.e. combined with a flight), 0 otherwise|\tint|\n",
    "|channel|\tID of a marketing channel|\tint|\n",
    "|srch_ci|\tCheckin date|\tstring|\n",
    "|srch_co|\tCheckout date|\tstring|\n",
    "|srch_adults_cnt|\tThe number of adults specified in the hotel room|\tint|\n",
    "|srch_children_cnt|\tThe number of (extra occupancy) children specified in the hotel room|\tint|\n",
    "|srch_rm_cnt|\tThe number of hotel rooms specified in the search|\tint|\n",
    "|srch_destination_id|\tID of the destination where the hotel search was performed|\tint|\n",
    "|srch_destination_type_id|\tType of destination|\tint|\n",
    "|hotel_continent|\tHotel continent|\tint|\n",
    "|hotel_country|\tHotel country|\tint|\n",
    "|hotel_market|\tHotel market|\tint|\n",
    "|is_booking|\t1 if a booking, 0 if a click|\ttinyint|\n",
    "|cnt|\tNumer of similar events in the context of the same user session|\tbigint|\n",
    "|hotel_cluster|\tID of a hotel cluster|\tint|\n"
   ]
  },
  {
   "cell_type": "markdown",
   "metadata": {},
   "source": [
    "#### Domain knowledge\n",
    "* I have work background in the adjacent field.\n",
    "* My background should held me make educated guesses about the potantial importance of different variables. \n",
    "* On top of multitude of consumer behavior studies, this particular dataset is a part of Kaggle competition. The competition forum has discussions of approches other people have taken. For example, one of the competitors found that \"grouping by month, orig_destination_distance, srch_destination_id was the most exact predictor, it had a specific score of 0.9044 in the validation set\".\n"
   ]
  },
  {
   "cell_type": "markdown",
   "metadata": {},
   "source": [
    "### Project Concerns\n",
    "* I am concerned about the dataset size. Also, the outcome variable (hotel cluster) is assigned a number, and there is no description which hotels constitute a cluster. I also have general question: how to decide which model to fit. I am not sure how to work with date and time variables ('date time','srch_ci','srch_co') and how to make transformations.\n",
    "* The original comptetition also has an additional dataset with destination characteristcs, which I decided not to use. It was mentioned on the competition forum that many contestants had problems with data \"leakage\" from the destination dataset.\n",
    "* I wish I had a description of the hotel clusters. Even if I come up with a predition, I will not be able to explain what kind of hotels are booked under the conditions. \n",
    "* Comptetion description states that the \"data in this competition is a random selection from Expedia and is not representative of the overall statistics\".\n",
    "* I chose the Kaggle dataset for my final project over work-related problem so that there is no implications if my model is wrong. Additionaly, the Kaggle competition is over so that there is no additional factors influencing my desicion. The benefit of my model being right is the knowledge that I will acquire in the process. Additional benefit is that the project is in the hospitality field.\n",
    "* 'orig_destination_distance' variable is physical distance between the customer and the hotel, however, there are null values if the distance could not be calculated. I think that the distance is an important variable in predicting both where or not a booking was made and the hotel cluster. Depending on how many null values there are, it may have impact on the predictions. \n"
   ]
  }
 ],
 "metadata": {
  "anaconda-cloud": {},
  "kernelspec": {
   "display_name": "Python [Root]",
   "language": "python",
   "name": "Python [Root]"
  },
  "language_info": {
   "codemirror_mode": {
    "name": "ipython",
    "version": 2
   },
   "file_extension": ".py",
   "mimetype": "text/x-python",
   "name": "python",
   "nbconvert_exporter": "python",
   "pygments_lexer": "ipython2",
   "version": "2.7.12"
  }
 },
 "nbformat": 4,
 "nbformat_minor": 0
}
