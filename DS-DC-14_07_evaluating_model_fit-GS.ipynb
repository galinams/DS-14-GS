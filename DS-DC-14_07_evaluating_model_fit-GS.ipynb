{
 "cells": [
  {
   "cell_type": "markdown",
   "metadata": {},
   "source": [
    "# Evaluating Model Fit"
   ]
  },
  {
   "cell_type": "markdown",
   "metadata": {},
   "source": [
    "# DO WORK\n",
    "- Bring up the lesson 7 notebook (git pull)\n",
    "- Review the bias-variance article if you have time\n",
    "http://scott.fortmann-roe.com/docs/BiasVariance.html"
   ]
  },
  {
   "cell_type": "markdown",
   "metadata": {},
   "source": [
    "# LEARNING OBJECTIVES\n",
    "\n",
    "After this lesson, you will be able to:\n",
    "\n",
    "- Define Loss Functions and describe Mean Squared Error\n",
    "- Define Cross Validation and describe K-Folds\n",
    "- Use Regularization to prevent Overfitting\n",
    "- Perform Grid Search for Hyperparameter Tuning\n",
    "- Understand the Stochastic Gradient Descent Algorithm"
   ]
  },
  {
   "cell_type": "markdown",
   "metadata": {},
   "source": [
    "# STUDENT PRE-WORK\n",
    "\n",
    "Before this lesson, you should already be able to:\n",
    "\n",
    "- Have a sense of goodness of fit (r-squared)\n",
    "- Measure statistical significance of features\n",
    "- Recall what a residual is\n",
    "- Implement an sklearn estimator to predict a target variable"
   ]
  },
  {
   "cell_type": "markdown",
   "metadata": {},
   "source": [
    "# MODEL EVALUATION\n",
    "Objective: Get an overview of how we can check whether our model will work in the real world\n",
    "\n",
    "Our goal in Machine Learning is to create models that generalize well or have low **generalization error**. That means we can make models that make correct predictions on new future data.\n",
    "\n",
    "**Overfitting**\n",
    "- It's possible to make a model that explains our sampled data very well, but if we get new data the model might fail.\n",
    "- We've explained the idiosyncracies or noise in our data very well\n",
    "  - Unfortunately, they are just that, idiosyncracies, and won't appear again since they do not reflect a true relationship\n",
    "  \n",
    "**Underfitting**\n",
    "- We don't explain our current data very well and we don't explain our future data very well either.\n",
    "\n",
    "**How can we test for either issue?**\n",
    "\n",
    "**Train Test Split**\n",
    "\n",
    "We Take our sample data and split it into two parts\n",
    "- **Training data** that we can fit model coefficients on\n",
    "- **Testing data** that we can use to check our predictions\n",
    "\n",
    "This simulates new data by training our model on only a portion of our sampled data and leaving a portion for testing\n",
    "- If our performance on our training data is better than our testing data, we know we've overfit.\n",
    "- If the performance is the same, we may be underfitting."
   ]
  },
  {
   "cell_type": "markdown",
   "metadata": {},
   "source": [
    "### BIAS\n",
    "A closely related concept is bias, roughly, how on target our model is or how well it fits our training data\n",
    "- 0 bias means we predict every point perfectly, we call this low bias\n",
    "- There is no upper limit on how large bias can be"
   ]
  },
  {
   "cell_type": "markdown",
   "metadata": {},
   "source": [
    "### KNOWLEDGE CHECK\n",
    "We made a model that works well on our data and explains the relationships that we see perfectly. We send it out to the production team. Several weeks later, people are complaining about the prediction algorithm and say that it is clearly wrong and is annoying customers.\n",
    "\n",
    "- Are we likely overfitting or underfitting?\n",
    "- Is the model likely high bias or low bias?\n",
    "\n",
    "<!-- Answer: Overfitting. It's likely a low bias model because it fits our training data very well. -->"
   ]
  },
  {
   "cell_type": "markdown",
   "metadata": {},
   "source": [
    "## EXAMPLE: UNDERFITTING AND OVERFITTING\n",
    "Objective: Demonstrate what underfitting and overfitting look like"
   ]
  },
  {
   "cell_type": "code",
   "execution_count": 1,
   "metadata": {
    "collapsed": true
   },
   "outputs": [],
   "source": [
    "import pandas as pd\n",
    "import numpy as np\n",
    "import seaborn as sns\n",
    "%matplotlib inline"
   ]
  },
  {
   "cell_type": "code",
   "execution_count": null,
   "metadata": {
    "collapsed": true
   },
   "outputs": [],
   "source": []
  },
  {
   "cell_type": "code",
   "execution_count": 2,
   "metadata": {
    "collapsed": false
   },
   "outputs": [
    {
     "data": {
      "text/html": [
       "<div>\n",
       "<table border=\"1\" class=\"dataframe\">\n",
       "  <thead>\n",
       "    <tr style=\"text-align: right;\">\n",
       "      <th></th>\n",
       "      <th>brainwt</th>\n",
       "      <th>bodywt</th>\n",
       "    </tr>\n",
       "  </thead>\n",
       "  <tbody>\n",
       "    <tr>\n",
       "      <th>count</th>\n",
       "      <td>56.000000</td>\n",
       "      <td>56.000000</td>\n",
       "    </tr>\n",
       "    <tr>\n",
       "      <th>mean</th>\n",
       "      <td>0.281581</td>\n",
       "      <td>202.981768</td>\n",
       "    </tr>\n",
       "    <tr>\n",
       "      <th>std</th>\n",
       "      <td>0.976414</td>\n",
       "      <td>945.856609</td>\n",
       "    </tr>\n",
       "    <tr>\n",
       "      <th>min</th>\n",
       "      <td>0.000140</td>\n",
       "      <td>0.005000</td>\n",
       "    </tr>\n",
       "    <tr>\n",
       "      <th>25%</th>\n",
       "      <td>0.002900</td>\n",
       "      <td>0.290000</td>\n",
       "    </tr>\n",
       "    <tr>\n",
       "      <th>50%</th>\n",
       "      <td>0.012400</td>\n",
       "      <td>2.250000</td>\n",
       "    </tr>\n",
       "    <tr>\n",
       "      <th>75%</th>\n",
       "      <td>0.125500</td>\n",
       "      <td>27.301250</td>\n",
       "    </tr>\n",
       "    <tr>\n",
       "      <th>max</th>\n",
       "      <td>5.712000</td>\n",
       "      <td>6654.000000</td>\n",
       "    </tr>\n",
       "  </tbody>\n",
       "</table>\n",
       "</div>"
      ],
      "text/plain": [
       "         brainwt       bodywt\n",
       "count  56.000000    56.000000\n",
       "mean    0.281581   202.981768\n",
       "std     0.976414   945.856609\n",
       "min     0.000140     0.005000\n",
       "25%     0.002900     0.290000\n",
       "50%     0.012400     2.250000\n",
       "75%     0.125500    27.301250\n",
       "max     5.712000  6654.000000"
      ]
     },
     "execution_count": 2,
     "metadata": {},
     "output_type": "execute_result"
    }
   ],
   "source": [
    "mammals = pd.read_csv('assets/dataset/msleep/msleep.csv')\n",
    "mammals.dropna(subset=['brainwt', 'bodywt'], inplace=True)\n",
    "mammals = mammals[['brainwt', 'bodywt']].copy()\n",
    "mammals.shape\n",
    "mammals.describe()"
   ]
  },
  {
   "cell_type": "code",
   "execution_count": null,
   "metadata": {
    "collapsed": true
   },
   "outputs": [],
   "source": []
  },
  {
   "cell_type": "markdown",
   "metadata": {},
   "source": [
    "## CONSIDER UNDERFITTING"
   ]
  },
  {
   "cell_type": "code",
   "execution_count": 3,
   "metadata": {
    "collapsed": false
   },
   "outputs": [
    {
     "data": {
      "image/png": "[encoded data removed]",
      "text/plain": [
       "<matplotlib.figure.Figure at 0xa9e6748>"
      ]
     },
     "metadata": {},
     "output_type": "display_data"
    }
   ],
   "source": [
    "for i in range(1):\n",
    "    sns.regplot('bodywt', 'brainwt', mammals.sample(20), order=1, ci=None)"
   ]
  },
  {
   "cell_type": "markdown",
   "metadata": {},
   "source": [
    "## CONSIDER OVERFITTING"
   ]
  },
  {
   "cell_type": "code",
   "execution_count": 5,
   "metadata": {
    "collapsed": false
   },
   "outputs": [
    {
     "data": {
      "image/png": "[encoded data removed]",
      "text/plain": [
       "<matplotlib.figure.Figure at 0xae69048>"
      ]
     },
     "metadata": {},
     "output_type": "display_data"
    }
   ],
   "source": [
    "for i in range(1):\n",
    "    sns.regplot('bodywt', 'brainwt', mammals.sample(20), order=2, ci=None)"
   ]
  },
  {
   "cell_type": "code",
   "execution_count": 7,
   "metadata": {
    "collapsed": false
   },
   "outputs": [
    {
     "data": {
      "image/png": "[encoded data removed]",
      "text/plain": [
       "<matplotlib.figure.Figure at 0xbc5a208>"
      ]
     },
     "metadata": {},
     "output_type": "display_data"
    }
   ],
   "source": [
    "for i in range(1):\n",
    "    sns.regplot('bodywt', 'brainwt', mammals.sample(20), order=3, ci=None)"
   ]
  },
  {
   "cell_type": "code",
   "execution_count": null,
   "metadata": {
    "collapsed": true
   },
   "outputs": [],
   "source": []
  },
  {
   "cell_type": "markdown",
   "metadata": {},
   "source": [
    "### KNOWLEDGE CHECK\n",
    "\n",
    "- What makes the chart above an overfit?\n",
    "<!-- Answer: At this point we are just making things up, there's no evidence that bodywt and brainwt have a polynomial relationship (note, the chart changes) -->"
   ]
  },
  {
   "cell_type": "markdown",
   "metadata": {},
   "source": [
    "# LINEAR MODELS AND ERROR\n",
    "Objective: Learn a set of tools for measuring the performance of a model to later use with the general model evaluation procedure"
   ]
  },
  {
   "cell_type": "markdown",
   "metadata": {},
   "source": [
    "### How do we actually measure the performance of a model?"
   ]
  },
  {
   "cell_type": "markdown",
   "metadata": {},
   "source": [
    "### RECALL:  WHAT’S RESIDUAL ERROR?\n",
    "![residuals](assets/images/residuals.png)\n",
    "\n",
    "The distance between our predictions and the actual values in the data.\n",
    "\n",
    "More formally:\n",
    "$$residual_i = y_i - \\hat{y}_i$$\n",
    "\n",
    "$$\\epsilon_i = y_i - f(x_i)$$"
   ]
  },
  {
   "cell_type": "code",
   "execution_count": 8,
   "metadata": {
    "collapsed": false,
    "scrolled": true
   },
   "outputs": [
    {
     "data": {
      "text/plain": [
       "<seaborn.axisgrid.FacetGrid at 0xc31d5f8>"
      ]
     },
     "execution_count": 8,
     "metadata": {},
     "output_type": "execute_result"
    },
    {
     "data": {
      "image/png": "[encoded data removed]",
      "text/plain": [
       "<matplotlib.figure.Figure at 0xc31d080>"
      ]
     },
     "metadata": {},
     "output_type": "display_data"
    }
   ],
   "source": [
    "# Here is the familar mammals linear regression\n",
    "sns.lmplot('bodywt', 'brainwt', mammals)"
   ]
  },
  {
   "cell_type": "code",
   "execution_count": null,
   "metadata": {
    "collapsed": true
   },
   "outputs": [],
   "source": []
  },
  {
   "cell_type": "code",
   "execution_count": 9,
   "metadata": {
    "collapsed": false
   },
   "outputs": [
    {
     "data": {
      "text/plain": [
       "<matplotlib.axes._subplots.AxesSubplot at 0xc31dac8>"
      ]
     },
     "execution_count": 9,
     "metadata": {},
     "output_type": "execute_result"
    },
    {
     "data": {
      "image/png": "[encoded data removed]",
      "text/plain": [
       "<matplotlib.figure.Figure at 0xbc6dd30>"
      ]
     },
     "metadata": {},
     "output_type": "display_data"
    }
   ],
   "source": [
    "# Here are the residuals\n",
    "sns.residplot('bodywt', 'brainwt', mammals)"
   ]
  },
  {
   "cell_type": "markdown",
   "metadata": {},
   "source": [
    "## EXERCISE: CALCULATE RESIDUAL ERROR"
   ]
  },
  {
   "cell_type": "code",
   "execution_count": 10,
   "metadata": {
    "collapsed": false
   },
   "outputs": [],
   "source": [
    "import pandas as pd\n",
    "import numpy as np\n",
    "from sklearn import linear_model\n",
    "import matplotlib.pyplot as plt\n",
    "%matplotlib inline\n",
    "\n",
    "mammals = pd.read_csv('assets/dataset/msleep/msleep.csv')\n",
    "mammals.dropna(subset=['brainwt', 'bodywt'], inplace=True)\n",
    "mammals = mammals[['brainwt', 'bodywt']].copy()"
   ]
  },
  {
   "cell_type": "code",
   "execution_count": 27,
   "metadata": {
    "collapsed": false
   },
   "outputs": [],
   "source": [
    "lm = linear_model.LinearRegression()\n",
    "X =  mammals[['bodywt']]\n",
    "y = mammals['brainwt']# fill in brainwt outcome variable here\n",
    "lm.fit(X, y) #What do we pass to the fit method?\n",
    "y_pred = lm.predict(X) # How do we compute predictions on X\n",
    "residuals = y - y_pred # use the residual formula to compute residuals\n",
    "# Check your work by making sure the charts below match the ones above"
   ]
  },
  {
   "cell_type": "code",
   "execution_count": null,
   "metadata": {
    "collapsed": true
   },
   "outputs": [],
   "source": []
  },
  {
   "cell_type": "code",
   "execution_count": 13,
   "metadata": {
    "collapsed": false
   },
   "outputs": [
    {
     "data": {
      "text/html": [
       "<div>\n",
       "<table border=\"1\" class=\"dataframe\">\n",
       "  <thead>\n",
       "    <tr style=\"text-align: right;\">\n",
       "      <th></th>\n",
       "      <th>bodywt</th>\n",
       "    </tr>\n",
       "  </thead>\n",
       "  <tbody>\n",
       "    <tr>\n",
       "      <th>1</th>\n",
       "      <td>0.480</td>\n",
       "    </tr>\n",
       "    <tr>\n",
       "      <th>3</th>\n",
       "      <td>0.019</td>\n",
       "    </tr>\n",
       "    <tr>\n",
       "      <th>4</th>\n",
       "      <td>600.000</td>\n",
       "    </tr>\n",
       "    <tr>\n",
       "      <th>8</th>\n",
       "      <td>14.000</td>\n",
       "    </tr>\n",
       "    <tr>\n",
       "      <th>9</th>\n",
       "      <td>14.800</td>\n",
       "    </tr>\n",
       "  </tbody>\n",
       "</table>\n",
       "</div>"
      ],
      "text/plain": [
       "    bodywt\n",
       "1    0.480\n",
       "3    0.019\n",
       "4  600.000\n",
       "8   14.000\n",
       "9   14.800"
      ]
     },
     "execution_count": 13,
     "metadata": {},
     "output_type": "execute_result"
    }
   ],
   "source": [
    "X.head()"
   ]
  },
  {
   "cell_type": "code",
   "execution_count": 21,
   "metadata": {
    "collapsed": false
   },
   "outputs": [
    {
     "data": {
      "text/html": [
       "<div>\n",
       "<table border=\"1\" class=\"dataframe\">\n",
       "  <thead>\n",
       "    <tr style=\"text-align: right;\">\n",
       "      <th></th>\n",
       "      <th>brainwt</th>\n",
       "    </tr>\n",
       "  </thead>\n",
       "  <tbody>\n",
       "    <tr>\n",
       "      <th>1</th>\n",
       "      <td>0.01550</td>\n",
       "    </tr>\n",
       "    <tr>\n",
       "      <th>3</th>\n",
       "      <td>0.00029</td>\n",
       "    </tr>\n",
       "    <tr>\n",
       "      <th>4</th>\n",
       "      <td>0.42300</td>\n",
       "    </tr>\n",
       "    <tr>\n",
       "      <th>8</th>\n",
       "      <td>0.07000</td>\n",
       "    </tr>\n",
       "    <tr>\n",
       "      <th>9</th>\n",
       "      <td>0.09820</td>\n",
       "    </tr>\n",
       "  </tbody>\n",
       "</table>\n",
       "</div>"
      ],
      "text/plain": [
       "   brainwt\n",
       "1  0.01550\n",
       "3  0.00029\n",
       "4  0.42300\n",
       "8  0.07000\n",
       "9  0.09820"
      ]
     },
     "execution_count": 21,
     "metadata": {},
     "output_type": "execute_result"
    }
   ],
   "source": [
    "y.head()"
   ]
  },
  {
   "cell_type": "code",
   "execution_count": 20,
   "metadata": {
    "collapsed": false
   },
   "outputs": [
    {
     "data": {
      "text/plain": [
       "pandas.core.frame.DataFrame"
      ]
     },
     "execution_count": 20,
     "metadata": {},
     "output_type": "execute_result"
    }
   ],
   "source": [
    "type(X)"
   ]
  },
  {
   "cell_type": "code",
   "execution_count": 19,
   "metadata": {
    "collapsed": false
   },
   "outputs": [
    {
     "data": {
      "text/plain": [
       "pandas.core.frame.DataFrame"
      ]
     },
     "execution_count": 19,
     "metadata": {},
     "output_type": "execute_result"
    }
   ],
   "source": [
    "type(y)"
   ]
  },
  {
   "cell_type": "code",
   "execution_count": 28,
   "metadata": {
    "collapsed": false
   },
   "outputs": [
    {
     "data": {
      "text/plain": [
       "<matplotlib.text.Text at 0xd3ffa20>"
      ]
     },
     "execution_count": 28,
     "metadata": {},
     "output_type": "execute_result"
    },
    {
     "data": {
      "image/png": "[encoded data removed]",
      "text/plain": [
       "<matplotlib.figure.Figure at 0xd428c50>"
      ]
     },
     "metadata": {},
     "output_type": "display_data"
    }
   ],
   "source": [
    "# This will plot your predictions in red against our data\n",
    "plt.figure()\n",
    "plt.scatter(X, y)\n",
    "plt.scatter(X, y_pred, c='red')\n",
    "plt.ylabel('brainwt')\n",
    "plt.xlabel('bodywt')"
   ]
  },
  {
   "cell_type": "code",
   "execution_count": null,
   "metadata": {
    "collapsed": true
   },
   "outputs": [],
   "source": []
  },
  {
   "cell_type": "code",
   "execution_count": null,
   "metadata": {
    "collapsed": true
   },
   "outputs": [],
   "source": []
  },
  {
   "cell_type": "code",
   "execution_count": 29,
   "metadata": {
    "collapsed": false
   },
   "outputs": [
    {
     "data": {
      "text/plain": [
       "<matplotlib.text.Text at 0xd6080f0>"
      ]
     },
     "execution_count": 29,
     "metadata": {},
     "output_type": "execute_result"
    },
    {
     "data": {
      "image/png": "[encoded data removed]",
      "text/plain": [
       "<matplotlib.figure.Figure at 0xd8e7828>"
      ]
     },
     "metadata": {},
     "output_type": "display_data"
    }
   ],
   "source": [
    "# This will inspect the relationship between our residuals and outcome\n",
    "plt.figure()\n",
    "plt.scatter(y, residuals)\n",
    "plt.ylabel('Residuals')\n",
    "plt.xlabel('brainwt')"
   ]
  },
  {
   "cell_type": "code",
   "execution_count": null,
   "metadata": {
    "collapsed": true
   },
   "outputs": [],
   "source": []
  },
  {
   "cell_type": "code",
   "execution_count": null,
   "metadata": {
    "collapsed": true
   },
   "outputs": [],
   "source": []
  },
  {
   "cell_type": "code",
   "execution_count": 30,
   "metadata": {
    "collapsed": false
   },
   "outputs": [
    {
     "data": {
      "text/plain": [
       "<matplotlib.text.Text at 0xd5e21d0>"
      ]
     },
     "execution_count": 30,
     "metadata": {},
     "output_type": "execute_result"
    },
    {
     "data": {
      "image/png": "[encoded data removed]",
      "text/plain": [
       "<matplotlib.figure.Figure at 0xd9c2668>"
      ]
     },
     "metadata": {},
     "output_type": "display_data"
    }
   ],
   "source": [
    "# This is a histogram that shows the distribution of the residuals\n",
    "# Notice that they center on zero, this is important for the linear regression to be correct\n",
    "plt.figure()\n",
    "plt.hist(residuals, bins=30)\n",
    "plt.xlabel('Residuals')"
   ]
  },
  {
   "cell_type": "code",
   "execution_count": null,
   "metadata": {
    "collapsed": true
   },
   "outputs": [],
   "source": []
  },
  {
   "cell_type": "markdown",
   "metadata": {},
   "source": [
    "### **KNOWLEDGE CHECK**\n",
    "\n",
    "Why should we inspect our residuals when building models?\n",
    "\n",
    "<!-- \n",
    "- In linear models, residual error must be normal with a mean and median close to zero to get correct coefficients\n",
    "- For all models you want your residuals to center on zero since it just means you are making good predictions\n",
    "- Individual residuals are useful to see the error of specific points and can show trends that we are missing in our model\n",
    "-->"
   ]
  },
  {
   "cell_type": "markdown",
   "metadata": {},
   "source": [
    "## MEAN SQUARED ERROR (MSE)\n",
    "\n",
    "Residuals tell us about individual points, but it doesn’t provide an overall picture to help us optimize the model.\n",
    "\n",
    "**We need a metric to summarize the error in our model into one value.**\n",
    "\n",
    "To calculate MSE:\n",
    "\n",
    "1. Calculate the residual (difference between each target y and the model’s predicted value, y-hat).\n",
    "\n",
    "2. Square each residual.\n",
    "\n",
    "3. Take the mean of the squared residual errors.\n",
    "\n",
    "$$MSE = \\frac{1}{n}\\sum_{i=1}^n(y_i - \\hat{y}_i)^2$$\n",
    "$$MSE = E[(y_i - \\hat{y}_i)^2]$$\n",
    "\n",
    "sklearn’s metrics module includes a mean_squared_error function.\n",
    "For example, two arrays of the same values would have an MSE of 0."
   ]
  },
  {
   "cell_type": "code",
   "execution_count": 31,
   "metadata": {
    "collapsed": false
   },
   "outputs": [
    {
     "name": "stdout",
     "output_type": "stream",
     "text": [
      "MSE: 0.0\n",
      "MSE: 0.0\n"
     ]
    }
   ],
   "source": [
    "from sklearn import metrics\n",
    "y = np.array([1, 2, 3, 4, 5])\n",
    "y_pred = np.array([1, 2, 3, 4, 5])\n",
    "\n",
    "print 'MSE:', np.mean((y-y_pred)**2)\n",
    "print 'MSE:', metrics.mean_squared_error(y, y_pred)"
   ]
  },
  {
   "cell_type": "code",
   "execution_count": 32,
   "metadata": {
    "collapsed": false
   },
   "outputs": [
    {
     "name": "stdout",
     "output_type": "stream",
     "text": [
      "MSE: 8.0\n",
      "MSE: 8.0\n"
     ]
    }
   ],
   "source": [
    "from sklearn import metrics\n",
    "y = np.array([1, 2, 3, 4, 5])\n",
    "y_pred = np.array([5, 4, 3, 2, 1])\n",
    "print 'MSE:', np.mean((y-y_pred)**2)\n",
    "print 'MSE:', metrics.mean_squared_error(y, y_pred)"
   ]
  },
  {
   "cell_type": "markdown",
   "metadata": {},
   "source": [
    "### KNOWLEDGE CHECK\n",
    "\n",
    "- What are the possible values for MSE?\n",
    "- Do we want MSE to be 0 or very large?\n",
    "\n",
    "<!--\n",
    "Answer:\n",
    "- MSE ranges from 0 to Infinity\n",
    "- Ideally we want MSE to be closer to 0\n",
    "  - In practice and MSE of 0 means you made a mistake because it's too good to be true\n",
    "-->"
   ]
  },
  {
   "cell_type": "markdown",
   "metadata": {},
   "source": [
    "# BREAK"
   ]
  },
  {
   "cell_type": "markdown",
   "metadata": {},
   "source": [
    "# DEMO: CROSS VALIDATION \n",
    "Objective: Learn how to write the code for evaluating a model"
   ]
  },
  {
   "cell_type": "markdown",
   "metadata": {},
   "source": [
    "We've covered the general idea of model evaluation:\n",
    "\n",
    "Train our model on some of our data and test it on the rest of the data.\n",
    "\n",
    "**How do we do this in practice?**\n",
    "\n",
    "The general idea is to:\n",
    "- Generate several models of the same type on different sections of the data\n",
    "- Measure the performance of each\n",
    "- Take the mean performance\n",
    "\n",
    "This technique helps us swaps bias error for generalized error, describing previous trends accurately enough to extend to future trends.\n",
    "\n",
    "In other words, we trade off performance on our current dataset so we can generalize to future data that is collected in a similar manner."
   ]
  },
  {
   "cell_type": "markdown",
   "metadata": {},
   "source": [
    "![Cross Validation](assets/images/crossval.png)"
   ]
  },
  {
   "cell_type": "markdown",
   "metadata": {},
   "source": [
    "### KNOWLEDGE CHECK\n",
    "- Is there any row of data that we have not used for testing during cross-validation?\n",
    "\n",
    "<!--\n",
    "Answer: We eventually use all the rows for testing, but we never test and train on the same row at the same time.\n",
    "-->"
   ]
  },
  {
   "cell_type": "markdown",
   "metadata": {},
   "source": [
    "We will:\n",
    "- Use k-fold cross validation\n",
    "- Split the data into k group\n",
    "- Train the model on all segments except one\n",
    "- Test model performance on the remaining set\n",
    "\n",
    "If k = 5, split the data into five segments and generate five models"
   ]
  },
  {
   "cell_type": "code",
   "execution_count": 33,
   "metadata": {
    "collapsed": false
   },
   "outputs": [],
   "source": [
    "from sklearn import cross_validation, metrics\n",
    "bikeshare = pd.read_csv('assets/dataset/bikeshare/bikeshare.csv')\n",
    "# Make dummy variables for weather situation\n",
    "weather = pd.get_dummies(bikeshare['weathersit'], prefix='weather')\n",
    "modeldata = bikeshare.join(weather[['weather_1', 'weather_2', 'weather_3']])"
   ]
  },
  {
   "cell_type": "code",
   "execution_count": null,
   "metadata": {
    "collapsed": true
   },
   "outputs": [],
   "source": []
  },
  {
   "cell_type": "code",
   "execution_count": 72,
   "metadata": {
    "collapsed": false
   },
   "outputs": [
    {
     "name": "stdout",
     "output_type": "stream",
     "text": [
      "In Sample MSE: 1915.88814454\n",
      "Out of Sample MSE: 2030.84899304\n",
      "[ 119.74103146   -1.14510938]\n"
     ]
    }
   ],
   "source": [
    "X = modeldata[['temp','season']]\n",
    "y = bikeshare.casual\n",
    "lm = linear_model.LinearRegression().fit(X, y)\n",
    "y_pred = lm.predict(X)\n",
    "scores = cross_validation.cross_val_score(lm, X, y, cv = 5, scoring='mean_squared_error')\n",
    "# We use the negative of scores because sklearn uses negative mean_squared_error for its own reasons\n",
    "\n",
    "print 'In Sample MSE:', metrics.mean_squared_error(y, y_pred)\n",
    "print 'Out of Sample MSE:', np.mean(-scores)\n",
    "print lm.coef_"
   ]
  },
  {
   "cell_type": "code",
   "execution_count": 73,
   "metadata": {
    "collapsed": false
   },
   "outputs": [
    {
     "data": {
      "text/plain": [
       "array([  788.11265971,  2189.32333628,   603.76751981,  3822.76911331,\n",
       "        2750.27233607])"
      ]
     },
     "execution_count": 73,
     "metadata": {},
     "output_type": "execute_result"
    }
   ],
   "source": [
    "-scores"
   ]
  },
  {
   "cell_type": "code",
   "execution_count": null,
   "metadata": {
    "collapsed": true
   },
   "outputs": [],
   "source": []
  },
  {
   "cell_type": "code",
   "execution_count": 39,
   "metadata": {
    "collapsed": false
   },
   "outputs": [
    {
     "data": {
      "text/plain": [
       "array([ 112.31510989,  -80.74394487,   11.8600641 ])"
      ]
     },
     "execution_count": 39,
     "metadata": {},
     "output_type": "execute_result"
    }
   ],
   "source": [
    "lm.coef_"
   ]
  },
  {
   "cell_type": "code",
   "execution_count": 35,
   "metadata": {
    "collapsed": false
   },
   "outputs": [
    {
     "data": {
      "text/html": [
       "<div>\n",
       "<table border=\"1\" class=\"dataframe\">\n",
       "  <thead>\n",
       "    <tr style=\"text-align: right;\">\n",
       "      <th></th>\n",
       "      <th>instant</th>\n",
       "      <th>dteday</th>\n",
       "      <th>season</th>\n",
       "      <th>yr</th>\n",
       "      <th>mnth</th>\n",
       "      <th>hr</th>\n",
       "      <th>holiday</th>\n",
       "      <th>weekday</th>\n",
       "      <th>workingday</th>\n",
       "      <th>weathersit</th>\n",
       "      <th>temp</th>\n",
       "      <th>atemp</th>\n",
       "      <th>hum</th>\n",
       "      <th>windspeed</th>\n",
       "      <th>casual</th>\n",
       "      <th>registered</th>\n",
       "      <th>cnt</th>\n",
       "    </tr>\n",
       "  </thead>\n",
       "  <tbody>\n",
       "    <tr>\n",
       "      <th>0</th>\n",
       "      <td>1</td>\n",
       "      <td>2011-01-01</td>\n",
       "      <td>1</td>\n",
       "      <td>0</td>\n",
       "      <td>1</td>\n",
       "      <td>0</td>\n",
       "      <td>0</td>\n",
       "      <td>6</td>\n",
       "      <td>0</td>\n",
       "      <td>1</td>\n",
       "      <td>0.24</td>\n",
       "      <td>0.2879</td>\n",
       "      <td>0.81</td>\n",
       "      <td>0.0</td>\n",
       "      <td>3</td>\n",
       "      <td>13</td>\n",
       "      <td>16</td>\n",
       "    </tr>\n",
       "    <tr>\n",
       "      <th>1</th>\n",
       "      <td>2</td>\n",
       "      <td>2011-01-01</td>\n",
       "      <td>1</td>\n",
       "      <td>0</td>\n",
       "      <td>1</td>\n",
       "      <td>1</td>\n",
       "      <td>0</td>\n",
       "      <td>6</td>\n",
       "      <td>0</td>\n",
       "      <td>1</td>\n",
       "      <td>0.22</td>\n",
       "      <td>0.2727</td>\n",
       "      <td>0.80</td>\n",
       "      <td>0.0</td>\n",
       "      <td>8</td>\n",
       "      <td>32</td>\n",
       "      <td>40</td>\n",
       "    </tr>\n",
       "    <tr>\n",
       "      <th>2</th>\n",
       "      <td>3</td>\n",
       "      <td>2011-01-01</td>\n",
       "      <td>1</td>\n",
       "      <td>0</td>\n",
       "      <td>1</td>\n",
       "      <td>2</td>\n",
       "      <td>0</td>\n",
       "      <td>6</td>\n",
       "      <td>0</td>\n",
       "      <td>1</td>\n",
       "      <td>0.22</td>\n",
       "      <td>0.2727</td>\n",
       "      <td>0.80</td>\n",
       "      <td>0.0</td>\n",
       "      <td>5</td>\n",
       "      <td>27</td>\n",
       "      <td>32</td>\n",
       "    </tr>\n",
       "    <tr>\n",
       "      <th>3</th>\n",
       "      <td>4</td>\n",
       "      <td>2011-01-01</td>\n",
       "      <td>1</td>\n",
       "      <td>0</td>\n",
       "      <td>1</td>\n",
       "      <td>3</td>\n",
       "      <td>0</td>\n",
       "      <td>6</td>\n",
       "      <td>0</td>\n",
       "      <td>1</td>\n",
       "      <td>0.24</td>\n",
       "      <td>0.2879</td>\n",
       "      <td>0.75</td>\n",
       "      <td>0.0</td>\n",
       "      <td>3</td>\n",
       "      <td>10</td>\n",
       "      <td>13</td>\n",
       "    </tr>\n",
       "    <tr>\n",
       "      <th>4</th>\n",
       "      <td>5</td>\n",
       "      <td>2011-01-01</td>\n",
       "      <td>1</td>\n",
       "      <td>0</td>\n",
       "      <td>1</td>\n",
       "      <td>4</td>\n",
       "      <td>0</td>\n",
       "      <td>6</td>\n",
       "      <td>0</td>\n",
       "      <td>1</td>\n",
       "      <td>0.24</td>\n",
       "      <td>0.2879</td>\n",
       "      <td>0.75</td>\n",
       "      <td>0.0</td>\n",
       "      <td>0</td>\n",
       "      <td>1</td>\n",
       "      <td>1</td>\n",
       "    </tr>\n",
       "  </tbody>\n",
       "</table>\n",
       "</div>"
      ],
      "text/plain": [
       "   instant      dteday  season  yr  mnth  hr  holiday  weekday  workingday  \\\n",
       "0        1  2011-01-01       1   0     1   0        0        6           0   \n",
       "1        2  2011-01-01       1   0     1   1        0        6           0   \n",
       "2        3  2011-01-01       1   0     1   2        0        6           0   \n",
       "3        4  2011-01-01       1   0     1   3        0        6           0   \n",
       "4        5  2011-01-01       1   0     1   4        0        6           0   \n",
       "\n",
       "   weathersit  temp   atemp   hum  windspeed  casual  registered  cnt  \n",
       "0           1  0.24  0.2879  0.81        0.0       3          13   16  \n",
       "1           1  0.22  0.2727  0.80        0.0       8          32   40  \n",
       "2           1  0.22  0.2727  0.80        0.0       5          27   32  \n",
       "3           1  0.24  0.2879  0.75        0.0       3          10   13  \n",
       "4           1  0.24  0.2879  0.75        0.0       0           1    1  "
      ]
     },
     "execution_count": 35,
     "metadata": {},
     "output_type": "execute_result"
    }
   ],
   "source": [
    "bikeshare.head()"
   ]
  },
  {
   "cell_type": "code",
   "execution_count": null,
   "metadata": {
    "collapsed": true
   },
   "outputs": [],
   "source": []
  },
  {
   "cell_type": "markdown",
   "metadata": {},
   "source": [
    "### EXERCISE: TEST FOR OVERFITTING\n",
    "Use the above code to see if you can add a variable to X that makes the in-sample MSE better, but the out-of-sample MSE worse\n",
    "\n",
    "HINT: Think about something that's improperly coded for linear regression"
   ]
  },
  {
   "cell_type": "code",
   "execution_count": null,
   "metadata": {
    "collapsed": true
   },
   "outputs": [],
   "source": [
    "# Write some code here for the exercise \n",
    "# Feel free to copy the above example\n",
    "# Try not to copy and paste too much"
   ]
  },
  {
   "cell_type": "markdown",
   "metadata": {},
   "source": [
    "### CROSS VALIDATION THE HARD WAY"
   ]
  },
  {
   "cell_type": "code",
   "execution_count": null,
   "metadata": {
    "collapsed": false
   },
   "outputs": [],
   "source": [
    "# As always there's a harder way to do this that gives more flexibility\n",
    "kf = cross_validation.KFold(len(modeldata), n_folds=5, shuffle=False)\n",
    "scores = []\n",
    "for train_index, test_index in kf:\n",
    "    lm = linear_model.LinearRegression().fit(X.iloc[train_index], y.iloc[train_index])\n",
    "    scores.append(metrics.mean_squared_error(y.iloc[test_index], lm.predict(X.iloc[test_index])))\n",
    "\n",
    "print np.mean(scores)"
   ]
  },
  {
   "cell_type": "markdown",
   "metadata": {},
   "source": [
    "### NOTE\n",
    "\n",
    "If you are familiar with AIC and BIC, you should appreciate that selecting a model that minimizes its cross-val score is the same as selecting a model that minimizes its BIC. There is another similar procedure called Leave-One-Out Cross-Validation that is the same as minimizing the AIC."
   ]
  },
  {
   "cell_type": "markdown",
   "metadata": {},
   "source": [
    "# BIAS-VARIANCE TRADEOFF"
   ]
  },
  {
   "cell_type": "markdown",
   "metadata": {},
   "source": [
    "We've noted that by allowing the bias on our training data to increase we can improve the reliability of our model on future data\n",
    "\n",
    "This leads to a more general notion of the Bias-Variance Tradeoff\n",
    "\n",
    "This is a conceptual topic that isn't immediately practical\n",
    "\n",
    "It isn't immediately possible to measure bias and variance, but it's crucial to understand their relationship."
   ]
  },
  {
   "cell_type": "markdown",
   "metadata": {},
   "source": [
    "### THE SETUP\n",
    "\n",
    "Consider a true relationship in the world, not the data we collect about it, but the real thing that we can't fully measure.\n",
    "\n",
    "The are true values for the outcome, there are true predictors of that outcome, and there is a true relationship.\n",
    "$$Y = f(X) + \\epsilon$$\n",
    "\n",
    "$Y$ is the outcome, $X$ shows predictors, and $\\epsilon$ is noise that can't be explained\n",
    "\n",
    "Unfortunately, we can only guess at what that relationship is\n",
    "$$Y = \\hat{f}(X) + \\epsilon$$\n",
    "$\\hat{f}$ is our version of the model\n",
    "\n",
    "The expected squared prediction error should look familiar, it's just the MSE, but we give it a fancy name for this context:\n",
    "$$Err(X) = E[(Y-\\hat{f}(x))^2]$$\n",
    "\n",
    "This error can be composed into 3 components:\n",
    "- **Bias** - How similar is our model to the true model\n",
    "- **Variance** - How much does our model vary when it's retrain on new data\n",
    "- **Irreducible Error** - Unexplainable noise in the relationship\n",
    "\n",
    "$$Err(X) = Bias^2 + Variance + Irreducible Error$$\n",
    "$$Err(x) = (E[\\hat{f}(X)]-f(X))^2 + E[(\\hat{f}(x) - E[\\hat{f}(X)])^2] + \\sigma_e^2$$"
   ]
  },
  {
   "cell_type": "markdown",
   "metadata": {},
   "source": [
    "### KNOWLEDGE CHECK\n",
    "- What should the bias be for a perfect model?\n",
    "- What should the variance be for a perfect model?\n",
    "\n",
    "<!--\n",
    "Answer: Ideally you have no prediction error and your bias would be 0 and you variance would be 0. Maybe there is some irreducible error that can't be accounted for.\n",
    "-->"
   ]
  },
  {
   "cell_type": "markdown",
   "metadata": {},
   "source": [
    "### CONSIDER BIAS AND VARIANCE\n",
    "Objective: Discuss the bias variance tradeoff and how it relates to cross-validation"
   ]
  },
  {
   "cell_type": "markdown",
   "metadata": {},
   "source": [
    "Bias and Variance decomposition only makes sense with a batch of models, so let's simulate that."
   ]
  },
  {
   "cell_type": "markdown",
   "metadata": {},
   "source": [
    "A simple linear regression can't explain relationships very precisely, but it doesn't change much on new data"
   ]
  },
  {
   "cell_type": "code",
   "execution_count": 76,
   "metadata": {
    "collapsed": false
   },
   "outputs": [
    {
     "data": {
      "image/png": "[encoded data removed]",
      "text/plain": [
       "<matplotlib.figure.Figure at 0xde45b38>"
      ]
     },
     "metadata": {},
     "output_type": "display_data"
    }
   ],
   "source": [
    "for i in range(10):\n",
    "    sns.regplot('bodywt', 'brainwt', mammals.sample(20), order=1, ci=None)"
   ]
  },
  {
   "cell_type": "code",
   "execution_count": null,
   "metadata": {
    "collapsed": true
   },
   "outputs": [],
   "source": []
  },
  {
   "cell_type": "code",
   "execution_count": null,
   "metadata": {
    "collapsed": true
   },
   "outputs": [],
   "source": []
  },
  {
   "cell_type": "code",
   "execution_count": null,
   "metadata": {
    "collapsed": true
   },
   "outputs": [],
   "source": []
  },
  {
   "cell_type": "markdown",
   "metadata": {},
   "source": [
    "### KNOWLEDGE CHECK\n",
    "Are linear models generally low bias models?\n",
    "\n",
    "<!--\n",
    "Answer: No, they are generally high bias because it's hard to accurately explain the world using only lines. They do tend to have low variance relative to other models as well.\n",
    "-->"
   ]
  },
  {
   "cell_type": "markdown",
   "metadata": {},
   "source": [
    "We can try a more complex model, polynomial regression. As we've seen before, this can fit more arbitrary curves. However, when we run several iterations the results vary quite widely."
   ]
  },
  {
   "cell_type": "code",
   "execution_count": 79,
   "metadata": {
    "collapsed": false
   },
   "outputs": [
    {
     "data": {
      "image/png": "[encoded data removed]",
      "text/plain": [
       "<matplotlib.figure.Figure at 0xbf02be0>"
      ]
     },
     "metadata": {},
     "output_type": "display_data"
    }
   ],
   "source": [
    "for i in range(10):\n",
    "    sns.regplot('bodywt', 'brainwt', mammals.sample(20), order=3, ci=None)"
   ]
  },
  {
   "cell_type": "code",
   "execution_count": null,
   "metadata": {
    "collapsed": true
   },
   "outputs": [],
   "source": []
  },
  {
   "cell_type": "code",
   "execution_count": null,
   "metadata": {
    "collapsed": true
   },
   "outputs": [],
   "source": []
  },
  {
   "cell_type": "code",
   "execution_count": null,
   "metadata": {
    "collapsed": true
   },
   "outputs": [],
   "source": []
  },
  {
   "cell_type": "markdown",
   "metadata": {},
   "source": [
    "We can purposely increase or decrease the complexity of a model to increase of decrease its bias. This also inversely changes the variance of the model. In other words, we can trade bias for variance and vice versa"
   ]
  },
  {
   "cell_type": "markdown",
   "metadata": {},
   "source": [
    "![bias-variance](assets/images/bias-variance.jpg)"
   ]
  },
  {
   "cell_type": "markdown",
   "metadata": {},
   "source": [
    "![The Bias Variance Trade-off](assets/images/bias-variance-tradeoff.png)"
   ]
  },
  {
   "cell_type": "markdown",
   "metadata": {},
   "source": [
    "**So, what do we mean by model complexity?**\n",
    "\n",
    "That's actually a tricky question. Roughly, how arbitrary of a relationship can the model fit? This will usually relate to how many paramters a model has to tune or how many data points it uses in determining a prediction. "
   ]
  },
  {
   "cell_type": "markdown",
   "metadata": {},
   "source": [
    "##### Another, partial, way to think about it is overfitting and underfitting"
   ]
  },
  {
   "cell_type": "markdown",
   "metadata": {},
   "source": [
    "![low-middle-high](assets/images/low-middle-high.png)"
   ]
  },
  {
   "cell_type": "markdown",
   "metadata": {},
   "source": [
    "## KNOWLEDGE CHECK\n",
    "\n",
    "Which of the following scenarios would be better for a weatherman?\n",
    "Knowing that I can very accurately \"predict\" the temperature outside from previous days perfectly, but be 20-30 degrees off for future days\n",
    "Knowing that I can accurately predict the general trend of the temperate outside from previous days, and therefore am at most only 10 degrees off on future days\n",
    "\n",
    "<!--\n",
    "Answer: We want to be more accurate on future days, not much value in predicting the past\n",
    "-->"
   ]
  },
  {
   "cell_type": "markdown",
   "metadata": {},
   "source": [
    "# BREAK"
   ]
  },
  {
   "cell_type": "markdown",
   "metadata": {},
   "source": [
    "# REGULARIZATION\n",
    "Objective: Learn how to deal with a large number of predictors in regression models"
   ]
  },
  {
   "cell_type": "markdown",
   "metadata": {},
   "source": [
    "**Problem** \n",
    "\n",
    "We have too many variables in a linear regression and it is overfitting.\n",
    "\n",
    "**Solution**\n",
    "\n",
    "Take out the irrelevant variables and you'll get a better fit.\n",
    "\n",
    "**Complication**\n",
    "\n",
    "ARE YOU KIDDING!? I have 5,000 variables, that will take forever."
   ]
  },
  {
   "cell_type": "markdown",
   "metadata": {},
   "source": [
    "**Regularization** is a way to adjust the complexity of your models and protect your models against overfitting (being potentially biased and overconfident, not generalizing well).\n",
    "\n",
    "Regularization becomes an additional weight to coefficients, *shrinking them closer to zero*.\n",
    "\n",
    "L1 (Lasso Regression) adds the extra weight to coefficients, this will often bring the coefficient to zero.\n",
    "\n",
    "L2 (Ridge Regression) adds the square of the extra weight to coefficients, this will bring coefficients to near zero, but will rarely get rid of them.\n",
    "\n",
    "Use Lasso when you think many of your predictors are completely irrelevant and just take up space. In other words, use Lasso when you are betting on sparsity.\n",
    "\n",
    "Use Ridge when you think you have a lot of redundancy. Meaning that you can linearly recombine your predictors into fewer variables. This is a lot like compression or dimensionality reduction."
   ]
  },
  {
   "cell_type": "markdown",
   "metadata": {},
   "source": [
    "#### INTERESTING MATH NOTE\n",
    "\n",
    "In fact, it's exactly like compression and dimensionality reduction.\n",
    "\n",
    "L1 regularization is equivalent to Bayesian Linear Regression with a mean zero Laplace prior for each coefficient. Which is also extremely similar to incremental forward-stepwise procedures for variable selection\n",
    "\n",
    "L2 regularization is equivalent to Bayesian Linear Regression with a mean zero Gaussian prior for each coefficient. Which is also extremely similar to running PCA follow by regression.\n",
    "\n",
    "For more information look at the Linear Regression and Dimensionality Reduction chapters of Elements of Statistical Learning"
   ]
  },
  {
   "cell_type": "markdown",
   "metadata": {},
   "source": [
    "### KNOWLEDGE CHECK\n",
    "\n",
    "We are working with the bikeshare data to predict riders over hours/days with a several features.\n",
    "\n",
    "Should we use a ridge regression or a lasso regression?\n",
    "\n",
    "Why?\n",
    "\n",
    "<!--\n",
    "It happens to be the case that most of our features are related to ridership so we don't want to get rid of any. Using Ridge may make the regression better by adjusting for multicollinearity and allow us to find an ideal level of bias\n",
    "-->"
   ]
  },
  {
   "cell_type": "markdown",
   "metadata": {},
   "source": [
    "## AN EXTREME EXAMPLE\n",
    "What happens if I include a bunch of variables and accidently include the outcome (or an extremely similar variable) in the set of predictors?"
   ]
  },
  {
   "cell_type": "code",
   "execution_count": 80,
   "metadata": {
    "collapsed": false
   },
   "outputs": [],
   "source": [
    "from sklearn import cross_validation, metrics\n",
    "bikeshare = pd.read_csv('assets/dataset/bikeshare/bikeshare.csv')\n",
    "# Make dummy variables for weather situation\n",
    "weather = pd.get_dummies(bikeshare['weathersit'], prefix='weather')\n",
    "modeldata = bikeshare.join(weather[['weather_1', 'weather_2', 'weather_3']])\n",
    "X = modeldata.drop(labels=['dteday'], axis=1)\n",
    "y = modeldata.casual"
   ]
  },
  {
   "cell_type": "code",
   "execution_count": null,
   "metadata": {
    "collapsed": true
   },
   "outputs": [],
   "source": []
  },
  {
   "cell_type": "code",
   "execution_count": 81,
   "metadata": {
    "collapsed": false
   },
   "outputs": [
    {
     "data": {
      "text/plain": [
       "Index([u'instant', u'season', u'yr', u'mnth', u'hr', u'holiday', u'weekday',\n",
       "       u'workingday', u'weathersit', u'temp', u'atemp', u'hum', u'windspeed',\n",
       "       u'casual', u'registered', u'cnt', u'weather_1', u'weather_2',\n",
       "       u'weather_3'],\n",
       "      dtype='object')"
      ]
     },
     "execution_count": 81,
     "metadata": {},
     "output_type": "execute_result"
    }
   ],
   "source": [
    "X.columns"
   ]
  },
  {
   "cell_type": "code",
   "execution_count": null,
   "metadata": {
    "collapsed": true
   },
   "outputs": [],
   "source": []
  },
  {
   "cell_type": "code",
   "execution_count": 82,
   "metadata": {
    "collapsed": false
   },
   "outputs": [
    {
     "name": "stdout",
     "output_type": "stream",
     "text": [
      "1.04291700433e-25\n"
     ]
    }
   ],
   "source": [
    "lm = linear_model.LinearRegression().fit(X, y)\n",
    "print metrics.mean_squared_error(y, lm.predict(X))"
   ]
  },
  {
   "cell_type": "code",
   "execution_count": null,
   "metadata": {
    "collapsed": true
   },
   "outputs": [],
   "source": []
  },
  {
   "cell_type": "code",
   "execution_count": 83,
   "metadata": {
    "collapsed": false
   },
   "outputs": [
    {
     "data": {
      "text/plain": [
       "[('instant', 8.6291367697765302e-17),\n",
       " ('season', -3.5110803153770576e-15),\n",
       " ('yr', -2.0677903833643541e-13),\n",
       " ('mnth', -1.4988010832439613e-14),\n",
       " ('hr', -3.039235529911366e-15),\n",
       " ('holiday', -2.0602009681569555e-14),\n",
       " ('weekday', -3.2482697087665713e-16),\n",
       " ('workingday', -1.5077023830800673e-14),\n",
       " ('weathersit', 7.3053542382073289e-15),\n",
       " ('temp', 8.7876754484295105e-15),\n",
       " ('atemp', 8.6305095015060118e-14),\n",
       " ('hum', -2.8975845160761349e-14),\n",
       " ('windspeed', 4.0215769082918573e-15),\n",
       " ('casual', 0.6666666666666663),\n",
       " ('registered', -0.3333333333333337),\n",
       " ('cnt', 0.33333333333333376),\n",
       " ('weather_1', -3.8472914090648125e-15),\n",
       " ('weather_2', 5.0653925498522767e-16),\n",
       " ('weather_3', 3.2206767634768152e-15)]"
      ]
     },
     "execution_count": 83,
     "metadata": {},
     "output_type": "execute_result"
    }
   ],
   "source": [
    "# Pair together column names and regression coefficients\n",
    "zip(X.columns, lm.coef_)"
   ]
  },
  {
   "cell_type": "code",
   "execution_count": null,
   "metadata": {
    "collapsed": true
   },
   "outputs": [],
   "source": []
  },
  {
   "cell_type": "code",
   "execution_count": 84,
   "metadata": {
    "collapsed": false
   },
   "outputs": [
    {
     "name": "stdout",
     "output_type": "stream",
     "text": [
      "1.04291700433e-25\n"
     ]
    }
   ],
   "source": [
    "lassom = linear_model.Lasso(alpha=10).fit(X, y)\n",
    "print metrics.mean_squared_error(y, lm.predict(X))"
   ]
  },
  {
   "cell_type": "code",
   "execution_count": null,
   "metadata": {
    "collapsed": true
   },
   "outputs": [],
   "source": []
  },
  {
   "cell_type": "code",
   "execution_count": 85,
   "metadata": {
    "collapsed": false
   },
   "outputs": [
    {
     "data": {
      "text/plain": [
       "[('instant', 5.4659454466419177e-07),\n",
       " ('season', 0.0),\n",
       " ('yr', 0.0),\n",
       " ('mnth', 0.0),\n",
       " ('hr', 0.0),\n",
       " ('holiday', 0.0),\n",
       " ('weekday', 0.0),\n",
       " ('workingday', -0.0),\n",
       " ('weathersit', -0.0),\n",
       " ('temp', 0.0),\n",
       " ('atemp', 0.0),\n",
       " ('hum', -0.0),\n",
       " ('windspeed', 0.0),\n",
       " ('casual', 0.99363736908841538),\n",
       " ('registered', 0.0),\n",
       " ('cnt', 0.00089308404267609534),\n",
       " ('weather_1', 0.0),\n",
       " ('weather_2', -0.0),\n",
       " ('weather_3', -0.0)]"
      ]
     },
     "execution_count": 85,
     "metadata": {},
     "output_type": "execute_result"
    }
   ],
   "source": [
    "zip(X.columns, lassom.coef_)"
   ]
  },
  {
   "cell_type": "code",
   "execution_count": null,
   "metadata": {
    "collapsed": true
   },
   "outputs": [],
   "source": []
  },
  {
   "cell_type": "markdown",
   "metadata": {},
   "source": [
    "### KNOWLEDGE CHECK\n",
    "\n",
    "Once you get over the shock of how amazing that is.\n",
    "\n",
    "- You might notice that the coefficient on casual ridership is .66 in the linear model, what would you expect that coefficient to be?\n",
    "- Why is the linear regression answer different from the ideal answer?\n",
    "- Does Lasso give a more reasonable result?\n",
    "\n",
    "<!--\n",
    "Answer: Well, you would hope that the relationship between casual and casual is one to one. \n",
    "\n",
    "That coefficient should be 1, but we lose the effect due to multicollinearity with all the other variables.\n",
    "\n",
    "Lasso does way better because it effectively gets rid of the multicollinearity for us. It's usually not this simple\n",
    "-->"
   ]
  },
  {
   "cell_type": "markdown",
   "metadata": {},
   "source": [
    "### **It's not that simple**\n",
    "- Need to find a good alpha parameter\n",
    " - Large alpha means heavier regularization forcing more coefficients to zero\n",
    "- predictors/features need to be scaled so they have similar magnitudes for regularization to work properly\n",
    "- You should scale within train-test split or cross-validation\n",
    "  - If you scale on your whole dataset, you have unfair information about means and standard deviations of your testing data"
   ]
  },
  {
   "cell_type": "markdown",
   "metadata": {},
   "source": [
    "## WHERE REGULARIZATION MAKES SENSE\n",
    "Objective: Get a better sense of what actually happens during regularization"
   ]
  },
  {
   "cell_type": "markdown",
   "metadata": {},
   "source": [
    "### UNDERSTANDING REGULARIZATION EFFECTS\n",
    "\n",
    "\n",
    "Let’s test a variety of alpha weights for Ridge Regression on the bikeshare data."
   ]
  },
  {
   "cell_type": "code",
   "execution_count": 86,
   "metadata": {
    "collapsed": false
   },
   "outputs": [],
   "source": [
    "from sklearn import cross_validation, metrics\n",
    "bikeshare = pd.read_csv('assets/dataset/bikeshare/bikeshare.csv')\n",
    "# Make dummy variables for weather situation\n",
    "weather = pd.get_dummies(bikeshare['weathersit'], prefix='weather')\n",
    "modeldata = bikeshare.join(weather[['weather_1', 'weather_2', 'weather_3']])\n",
    "X = modeldata[['temp', 'hum']]\n",
    "y = modeldata.casual"
   ]
  },
  {
   "cell_type": "code",
   "execution_count": null,
   "metadata": {
    "collapsed": true
   },
   "outputs": [],
   "source": []
  },
  {
   "cell_type": "code",
   "execution_count": 87,
   "metadata": {
    "collapsed": false
   },
   "outputs": [
    {
     "name": "stdout",
     "output_type": "stream",
     "text": [
      "Alpha: 1e-10\n",
      "Coefficients:  [ 112.02457031  -80.87301833]\n",
      "MSE:  1675.09316612\n",
      "Alpha: 1e-09\n",
      "Coefficients:  [ 112.02457031  -80.87301833]\n",
      "MSE:  1675.09316612\n",
      "Alpha: 1e-08\n",
      "Coefficients:  [ 112.02457031  -80.87301833]\n",
      "MSE:  1675.09316612\n",
      "Alpha: 1e-07\n",
      "Coefficients:  [ 112.02457029  -80.87301832]\n",
      "MSE:  1675.09316612\n",
      "Alpha: 1e-06\n",
      "Coefficients:  [ 112.02457014  -80.87301821]\n",
      "MSE:  1675.09316612\n",
      "Alpha: 1e-05\n",
      "Coefficients:  [ 112.02456865  -80.87301719]\n",
      "MSE:  1675.09316612\n",
      "Alpha: 0.0001\n",
      "Coefficients:  [ 112.02455372  -80.87300698]\n",
      "MSE:  1675.09316612\n",
      "Alpha: 0.001\n",
      "Coefficients:  [ 112.02440439  -80.87290487]\n",
      "MSE:  1675.09316612\n",
      "Alpha: 0.01\n",
      "Coefficients:  [ 112.02291118  -80.87188379]\n",
      "MSE:  1675.09316628\n",
      "Alpha: 0.1\n",
      "Coefficients:  [ 112.00798119  -80.86167437]\n",
      "MSE:  1675.09318209\n",
      "Alpha: 1.0\n",
      "Coefficients:  [ 111.85890051  -80.75972093]\n",
      "MSE:  1675.09475893\n",
      "Alpha: 10.0\n",
      "Coefficients:  [ 110.38969207  -79.75406957]\n",
      "MSE:  1675.24836171\n",
      "Alpha: 100.0\n",
      "Coefficients:  [ 97.57779825 -70.91705081]\n",
      "MSE:  1687.26723864\n",
      "Alpha: 1000.0\n",
      "Coefficients:  [ 45.19426729 -33.59588803]\n",
      "MSE:  1940.27895089\n",
      "Alpha: 10000.0\n",
      "Coefficients:  [ 7.10129979 -5.35799136]\n",
      "MSE:  2336.63897468\n",
      "Alpha: 100000.0\n",
      "Coefficients:  [ 0.75319356 -0.56963618]\n",
      "MSE:  2420.54800393\n",
      "Alpha: 1000000.0\n",
      "Coefficients:  [ 0.07577895 -0.05732556]\n",
      "MSE:  2429.80675087\n",
      "Alpha: 10000000.0\n",
      "Coefficients:  [ 0.00758252 -0.0057362 ]\n",
      "MSE:  2430.74210518\n",
      "Alpha: 100000000.0\n",
      "Coefficients:  [ 0.0007583  -0.00057366]\n",
      "MSE:  2430.83573628\n",
      "Alpha: 1000000000.0\n",
      "Coefficients:  [  7.58303153e-05  -5.73660228e-05]\n",
      "MSE:  2430.84510034\n",
      "Alpha: 10000000000.0\n",
      "Coefficients:  [  7.58303617e-06  -5.73660593e-06]\n",
      "MSE:  2430.84603676\n"
     ]
    }
   ],
   "source": [
    "alphas = np.logspace(-10, 10, 21)\n",
    "for a in alphas:\n",
    "    print 'Alpha:', a\n",
    "    lm = linear_model.Ridge(alpha=a)\n",
    "    lm.fit(X, y)\n",
    "    print \"Coefficients: \", lm.coef_\n",
    "    print \"MSE: \", metrics.mean_squared_error(y, lm.predict(X))\n",
    "    \n",
    "# What happens to the weights of the coefficients as alpha increases?  \n",
    "# What happens to the error as alpha increases?"
   ]
  },
  {
   "cell_type": "code",
   "execution_count": null,
   "metadata": {
    "collapsed": true
   },
   "outputs": [],
   "source": []
  },
  {
   "cell_type": "markdown",
   "metadata": {},
   "source": [
    "## KNOWLEDGE CHECK\n",
    "\n",
    "1. Why is regularization important? \n",
    "2. What does it protect against and how?\n",
    "3. What is the regularization hyperparameter called?\n"
   ]
  },
  {
   "cell_type": "markdown",
   "metadata": {},
   "source": [
    "## PAIR PROGRAMMING: GRID SEARCH CV, SOLVING FOR ALPHA\n",
    "Objective: Learn how to automate hyperparameter searches"
   ]
  },
  {
   "cell_type": "code",
   "execution_count": null,
   "metadata": {
    "collapsed": true
   },
   "outputs": [],
   "source": [
    "Explore the code below, I'll give you a tour first, and find a lower MSE than 2535"
   ]
  },
  {
   "cell_type": "code",
   "execution_count": 88,
   "metadata": {
    "collapsed": true
   },
   "outputs": [],
   "source": [
    "# WE CAN MAKE TUNING ALPHA EASIER WITH GRID SEARCH!\n",
    "# Grid search exhaustively searches through all given options to find the best solution.  Grid search will try all combos given in param_grid.\n",
    "\n",
    "param_grid = {\n",
    "    'intercept': [True, False],\n",
    "    'alpha': [1, 2, 3],\n",
    "}"
   ]
  },
  {
   "cell_type": "code",
   "execution_count": null,
   "metadata": {
    "collapsed": true
   },
   "outputs": [],
   "source": []
  },
  {
   "cell_type": "markdown",
   "metadata": {},
   "source": [
    "This param grid has six different options:\n",
    "- intercept = True, alpha = 1\n",
    "- intercept = True, alpha = 2\n",
    "- intercept = True, alpha = 3\n",
    "- intercept = False, alpha = 1\n",
    "- intercept = False, alpha = 2\n",
    "- intercept = False, alpha = 3"
   ]
  },
  {
   "cell_type": "code",
   "execution_count": 89,
   "metadata": {
    "collapsed": false
   },
   "outputs": [],
   "source": [
    "from sklearn import grid_search\n",
    "\n",
    "alphas = np.logspace(5, 10, 4)\n",
    "gs = grid_search.GridSearchCV(\n",
    "    estimator=linear_model.Ridge(),\n",
    "    param_grid={'alpha': alphas},\n",
    "    scoring='mean_squared_error')"
   ]
  },
  {
   "cell_type": "code",
   "execution_count": null,
   "metadata": {
    "collapsed": true
   },
   "outputs": [],
   "source": []
  },
  {
   "cell_type": "code",
   "execution_count": 90,
   "metadata": {
    "collapsed": false
   },
   "outputs": [
    {
     "data": {
      "text/plain": [
       "GridSearchCV(cv=None, error_score='raise',\n",
       "       estimator=Ridge(alpha=1.0, copy_X=True, fit_intercept=True, max_iter=None,\n",
       "   normalize=False, random_state=None, solver='auto', tol=0.001),\n",
       "       fit_params={}, iid=True, n_jobs=1,\n",
       "       param_grid={'alpha': array([  1.00000e+05,   4.64159e+06,   2.15443e+08,   1.00000e+10])},\n",
       "       pre_dispatch='2*n_jobs', refit=True, scoring='mean_squared_error',\n",
       "       verbose=0)"
      ]
     },
     "execution_count": 90,
     "metadata": {},
     "output_type": "execute_result"
    }
   ],
   "source": [
    "gs.fit(X, y)"
   ]
  },
  {
   "cell_type": "code",
   "execution_count": null,
   "metadata": {
    "collapsed": true
   },
   "outputs": [],
   "source": []
  },
  {
   "cell_type": "code",
   "execution_count": 91,
   "metadata": {
    "collapsed": false
   },
   "outputs": [
    {
     "name": "stdout",
     "output_type": "stream",
     "text": [
      "2535.35853444\n"
     ]
    }
   ],
   "source": [
    "print -gs.best_score_ # mean squared error here comes in negative, so let's make it positive."
   ]
  },
  {
   "cell_type": "code",
   "execution_count": null,
   "metadata": {
    "collapsed": true
   },
   "outputs": [],
   "source": []
  },
  {
   "cell_type": "code",
   "execution_count": 92,
   "metadata": {
    "collapsed": false
   },
   "outputs": [
    {
     "name": "stdout",
     "output_type": "stream",
     "text": [
      "Ridge(alpha=100000.0, copy_X=True, fit_intercept=True, max_iter=None,\n",
      "   normalize=False, random_state=None, solver='auto', tol=0.001)\n"
     ]
    }
   ],
   "source": [
    "print gs.best_estimator_ # explains which grid_search setup worked best"
   ]
  },
  {
   "cell_type": "code",
   "execution_count": null,
   "metadata": {
    "collapsed": true
   },
   "outputs": [],
   "source": []
  },
  {
   "cell_type": "code",
   "execution_count": 93,
   "metadata": {
    "collapsed": false
   },
   "outputs": [
    {
     "name": "stdout",
     "output_type": "stream",
     "text": [
      "[mean: -2535.35853, std: 963.21173, params: {'alpha': 100000.0}, mean: -2542.28002, std: 964.09507, params: {'alpha': 4641588.8336127819}, mean: -2542.43017, std: 964.11410, params: {'alpha': 215443469.00318867}, mean: -2542.43340, std: 964.11451, params: {'alpha': 10000000000.0}]\n"
     ]
    }
   ],
   "source": [
    "print gs.grid_scores_ # shows all the grid pairings and their performances."
   ]
  },
  {
   "cell_type": "code",
   "execution_count": null,
   "metadata": {
    "collapsed": true
   },
   "outputs": [],
   "source": []
  },
  {
   "cell_type": "markdown",
   "metadata": {},
   "source": [
    "# HOW DO WE ACTUALLY SOLVE A MODEL?\n",
    "Objective: Introduce how model optimization works and how our code solves for parameters. Use this to lead into SGDRegressor that will serve as a very powerful tool in student's tookit"
   ]
  },
  {
   "cell_type": "markdown",
   "metadata": {},
   "source": [
    "### How do we minimize error?\n",
    "\n",
    "The regression method we’ve used is called “Ordinary Least Squares”.\n",
    "\n",
    "This means that given a matrix X, solve for the least amount of square error for y.\n",
    "\n",
    "How do we find the actual numbers for the coefficients though?"
   ]
  },
  {
   "cell_type": "markdown",
   "metadata": {},
   "source": [
    "### Numerical Optimization\n",
    "- We use optimization techniques that minimize a cost function that tells us how well our model is doing. Again, the cost function is basically MSE.\n",
    "- We could possibly do this with a grid search, trying several evenly spaced values, this is a fundamental optimization technique\n",
    "- More typically we use a gradient method\n",
    " - You might remember newton's method from calculus class\n",
    " - These are much faster for finding the optimal parameters\n",
    " - There are many approaches, but we will discuss only two"
   ]
  },
  {
   "cell_type": "markdown",
   "metadata": {},
   "source": [
    "### Gradient Descent"
   ]
  },
  {
   "cell_type": "markdown",
   "metadata": {},
   "source": [
    "Gradient Descent is a particular gradient optimization method that can help us minimize error.\n",
    "\n",
    "How Gradient Descent works:\n",
    "- A random linear solution is provided as a starting point\n",
    "- The solver attempts to find a next “step”: By looking for a new set of points to evaluate\n",
    "- If the solver finds a better solution (i.e. lower MSE), this is the new starting point.\n",
    "- Repeat these steps until the performance is optimized and no “next steps” perform better.  The size of steps will shrink over time.\n"
   ]
  },
  {
   "cell_type": "markdown",
   "metadata": {},
   "source": [
    "**Hypothesis** - This is our model, in this case linear regression:\n",
    "$$h_{\\theta}(x) = \\theta_0 + \\theta_1\\bar{x}$$\n",
    "**Parameters** - What are we solving for ... regression coefficients!:\n",
    "$$\\theta_0, \\theta_1$$\n",
    "**Cost Function** - How should we measure distance?:\n",
    "$$J(\\theta_0, \\theta_1) = \\frac{1}{2m}\\sum_{i=1}^m(h_\\theta(x^{(i)})-y^{(i)})^2$$\n",
    "**Goal**\n",
    "$$\\min_{\\theta_0, \\theta_1} J(\\theta_0, \\theta_1)$$\n",
    "\n",
    "What does this actually mean? Minimize the residuals or the distance between our predictions and actual data\n",
    "$$\\sum(\\hat{y} - y)^2$$"
   ]
  },
  {
   "cell_type": "markdown",
   "metadata": {},
   "source": [
    "![Minimization](assets/images/minimization.png)"
   ]
  },
  {
   "cell_type": "markdown",
   "metadata": {},
   "source": [
    "Gradient Descent could solve for a local minimum instead of a global minimum.\n",
    "\n",
    "This is because gradient methods use the hill-climbing heuristic, if you start on the wrong hill, you'll never find the tallest hill. (Ok, valley finding in this case)\n",
    "\n",
    "A local minimum is confined to a very specific subset of solutions.  The global minimum considers all solutions.  These could be equal, but that’s not always true."
   ]
  },
  {
   "cell_type": "markdown",
   "metadata": {},
   "source": [
    "![local vs global](assets/images/local-global.png)"
   ]
  },
  {
   "cell_type": "markdown",
   "metadata": {},
   "source": [
    "### Why should I ever care?\n",
    "- If you create custom models that don't rely on a package you need to know how to solve them\n",
    "  - I have been forced to do this at times because packages were not available in the given production environment\n",
    "- Certain methods are good for dealing with large amounts of data\n",
    "  - We will see an example\n",
    "- Neural networks are finicky in terms of optimization because they have a lot of parameters\n",
    "  - Can only find local optimum, although they are all equally good\n",
    "  - You need a sense of how gradient methods work to feel comfortable with neural nets"
   ]
  },
  {
   "cell_type": "markdown",
   "metadata": {},
   "source": [
    "## APPLICATION OF GRADIENT DESCENT\n",
    "\n",
    "Typically when you solve a Linear or Logistic regression your statistics software uses a optimization method called L-BFGS which works a lot like Gradient Descent\n",
    "\n",
    "The problem with both of these methods is that they can be slow because they read ALL of your data on every iteration\n",
    "\n",
    "It turns out that you can get pretty good answers just reading one row at a time or a few samples to approximate your MSE and find a next step\n",
    "\n",
    "We call this Stochastic Gradient Descent or sometimes Mini-Batch Gradient Descent if we sample multiple rows"
   ]
  },
  {
   "cell_type": "markdown",
   "metadata": {},
   "source": [
    "## Stochastic Gradient Descent\n",
    "\n",
    "Stochastic Gradient Descent works best when:\n",
    "\n",
    "- We are working with a large dataset.  Smaller datasets are more prone to error.\n",
    "- Data is cleaned up and normalized\n",
    "  - Normalized meaning scaled and centered.\n",
    "  - Substract the mean and divide by standard deviation\n",
    "  - This holds true for any gradient based method, including regressions in your statistics software"
   ]
  },
  {
   "cell_type": "markdown",
   "metadata": {},
   "source": [
    "## Stochastic Gradient Descent in Sklearn"
   ]
  },
  {
   "cell_type": "code",
   "execution_count": null,
   "metadata": {
    "collapsed": false
   },
   "outputs": [],
   "source": [
    "lm = linear_model.LinearRegression()\n",
    "lm.fit(X, y)\n",
    "print lm.score(X, y)\n",
    "print metrics.mean_squared_error(y, lm.predict(X))"
   ]
  },
  {
   "cell_type": "code",
   "execution_count": null,
   "metadata": {
    "collapsed": false
   },
   "outputs": [],
   "source": [
    "lm = linear_model.SGDRegressor()\n",
    "lm.fit(X, y)\n",
    "print lm.score(X, y) # R-squared\n",
    "print metrics.mean_squared_error(y, lm.predict(X))"
   ]
  },
  {
   "cell_type": "markdown",
   "metadata": {},
   "source": [
    "### EXERCISE (If there's time)\n",
    "Play around with some of the parameters to SGDRegressor to see how MSE change\n",
    "\n",
    "Feel free to view the coefficients and residuals to get better feedback\n",
    "\n",
    "If you want, the bikeshare data is still loaded in so you can try to predict casual ridership based on other factors, how low of an MSE you can get? Start small with one variable and improve from there."
   ]
  },
  {
   "cell_type": "markdown",
   "metadata": {},
   "source": [
    "Stochastic Gradient Descent can be tuned with \n",
    "\n",
    "**the learning rate**:  how aggressively we solve the problem\n",
    "\n",
    "**epsilon**:  at what point do we say the error margin is acceptable\n",
    "\n",
    "**iterations**:  when should be we stop no matter what\n"
   ]
  },
  {
   "cell_type": "markdown",
   "metadata": {},
   "source": [
    "You will also notice that you can modify the loss functions and regularization parameters\n",
    "- This can be very useful for dealing with outliers if you choose a loss function like Huber of LAD which are not as sensitive to outliers\n",
    "\n",
    "There is a classifer version as well. We will talk about classification next class.\n",
    "\n",
    "[Check the docs!](http://scikit-learn.org/stable/modules/sgd.html)"
   ]
  },
  {
   "cell_type": "markdown",
   "metadata": {},
   "source": [
    "# TOPIC REVIEW\n",
    "\n",
    "- What's the (typical) range of r-squared?\n",
    "- What's the range of mean squared error?\n",
    "- How would changing the scale or interpretation of y (your target variable) effect mean squared error?\n",
    "- What's cross validation, and why do we use it in machine learning?\n",
    "- What is error due to bias? What is error due to variance? Which is better for a model to have, if it had to have one?\n",
    "- How does gradient descent try a different approach to minimizing error?"
   ]
  },
  {
   "cell_type": "markdown",
   "metadata": {},
   "source": [
    "# ADDITIONAL RESOURCES\n",
    "- Seriously, the sklearn documentation is incredible\n",
    "  - Go through their User Guide at least once at some point\n",
    "  - For now these may be interesting\n",
    "  - http://scikit-learn.org/stable/modules/sgd.html\n",
    "  - http://scikit-learn.org/stable/modules/linear_model.html\n",
    "  - http://scikit-learn.org/stable/modules/feature_selection.html\n",
    "- Check out the cross-validated FAQs\n",
    " - Regularization: http://stats.stackexchange.com/questions/tagged/regularization?sort=frequent&pageSize=15\n",
    " - Multicollinearity:  http://stats.stackexchange.com/questions/tagged/multicollinearity?sort=frequent&pageSize=15\n",
    " - Log Transforms: http://stats.stackexchange.com/questions/tagged/distributions?sort=frequent&pageSize=15\n",
    " - Regression: http://stats.stackexchange.com/questions/tagged/multiple-regression?sort=frequent&pageSize=15\n",
    " - Speaking of which, I need to go back and refresh my memory on some of those\n",
    "- Big Data in your future? Check out Vowpal Wabbit and relate it back to SGDRegressor and SGDClassifer\n",
    "  - Computationally better than sklearn and works with huge datasets, but not even remotely as friendly\n",
    "  - It's OK, the concepts will transfer and the syntax can be figured out\n",
    "  - https://en.wikipedia.org/wiki/Vowpal_Wabbit\n",
    "  - Even if not, check out the wikipedia article and realize that you half know what it is talking about and have access to new resources\n",
    "- Data can't fit into RAM and Vowpal Wabbit looks too painful?\n",
    "  - SGD can help\n",
    "  - http://scikit-learn.org/stable/auto_examples/applications/plot_out_of_core_classification.html\n",
    "  \n",
    "Again, you can slack whatever questions you want, even if you want help deciphering an FAQ post from cross-validated. If you have a topic you are interested in from this notebook, John and I can add to handy-resources. We've been exposed to a lot out of necessity and listing all related resources would take some space."
   ]
  },
  {
   "cell_type": "markdown",
   "metadata": {},
   "source": [
    "# BEFORE NEXT CLASS\n",
    "\n",
    "- Homework: Project: Final Project, Deliverable 1 DUE next class\n",
    "  - 2-3 minute presentation on 3 potential project questions and related datasets\n",
    "  - slack slides or put them up on your GitHub and send me a link\n",
    "- If dummy variables still confuse you, try going through this notebook\n",
    "  - https://github.com/ga-students/DS-DC-14/blob/master/lessons/lesson-07/code/starter-code/pre-work-dummy-vars.ipynb\n",
    "\n"
   ]
  },
  {
   "cell_type": "markdown",
   "metadata": {},
   "source": [
    "# EXIT TICKET: Evaluating Model Fit\n",
    "http://goo.gl/forms/gG5qAw9QljgkHC2q1"
   ]
  }
 ],
 "metadata": {
  "kernelspec": {
   "display_name": "Python [Root]",
   "language": "python",
   "name": "Python [Root]"
  },
  "language_info": {
   "codemirror_mode": {
    "name": "ipython",
    "version": 2
   },
   "file_extension": ".py",
   "mimetype": "text/x-python",
   "name": "python",
   "nbconvert_exporter": "python",
   "pygments_lexer": "ipython2",
   "version": "2.7.12"
  }
 },
 "nbformat": 4,
 "nbformat_minor": 0
}
